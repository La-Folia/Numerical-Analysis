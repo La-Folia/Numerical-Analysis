{
 "cells": [
  {
   "cell_type": "code",
   "execution_count": 1,
   "id": "e6289a71",
   "metadata": {},
   "outputs": [],
   "source": [
    "import numpy as np\n",
    "import matplotlib.pyplot as plt\n",
    "plt.rcParams.update({'font.size': 15})\n",
    "#%config InlineBackend.figure_format='retina'"
   ]
  },
  {
   "cell_type": "markdown",
   "id": "9047db4c",
   "metadata": {},
   "source": [
    "## Muller's Method\n",
    "이는 Quadratic interpolation (이차 보간 방법)을 사용한 secant method이다."
   ]
  },
  {
   "cell_type": "markdown",
   "id": "afcab49f",
   "metadata": {},
   "source": [
    "[출처](https://qt3b1s62da6s.tistory.com/414)\n",
    "\n",
    "선형 보간법이나 이거나 다 Lagrange family 라그랑지 패밀리 안에 포함된다. 무슨 말이냐.\n",
    "\n",
    "선분을 그으려면 점 두 개가 필요하다. 2차 함수를 그으려면? 점 세 개가 필요하다. 3차 함수는? 점 네 개가 필요하다.\n",
    "\n",
    "분명 1차 함수를 쓰는 것 보다는 2차 함수를 쓰는 것이 좀 더 해가 좋을 것이다. 그리고 3차 함수를 쓰는 것이 해가 2차 함수를 쓰는 것 보다 좋을 것이라 예상할 수 있다. 그러니까 interpolating function의 차수를 하나씩 늘려가면 interpolation의 질을 더 좋게 할 수 있다. 이런 식으로 interpolating 하는 것을 Lagrange 아저씨가 제일 먼저 한 모양이다. 그래서 이런 식의 interpolation function을 Lagrange family 라고 부른다.\n",
    "\n",
    "만약에 0.9와 1.2와 1.5에서의 함수값을 알 때 1.4에서의 함수값을 계산하고 싶다. \n",
    "그러면 이차 방정식 꼴을 유도하여, (블로그 참조)\n",
    "\n",
    "a$x^2$ + b$x$ + c = $y$\n",
    "에서 a, b, c에 대한 값을 각각의 값을 넣어 구하고, 이를 대입하여, $y$에 대한 식을 구한다\n",
    "이후, 1.4 값을 대입하면, $y$ = 0,9850 이 나오는데, 만약 정해(실제로 함수의 꼴이 sin함수라면) $y$ = 0.9854로 2차 함수를 쓸 때, 1차 함수일 때 보다 더 interpolation의 질이 좋아졌다고 한다. 이렇게 구한 것이 linear interpolation이라고 함.\n",
    "\n",
    "아래는 1차, 2차, 정해를 비교해 놓은 그림이다.\n",
    "녹색 점선이 정해, 검은색 x표시가 quadratic interploation이다. 빨간 x표시보다 정해에 더 가깝다는 것을 알 수 있다.\n",
    "\n",
    "<center><figure>\n",
    "<img src = \"https://t1.daumcdn.net/cfile/tistory/275D2A4D5331EFB509?original\">\n"
   ]
  },
  {
   "cell_type": "markdown",
   "id": "1e8c3ca8",
   "metadata": {},
   "source": [
    "Muller's Formula"
   ]
  },
  {
   "cell_type": "markdown",
   "id": "e3673be2",
   "metadata": {},
   "source": [
    "<center><figure>\n",
    "  <img src=\"https://media.geeksforgeeks.org/wp-content/uploads/Muller-Method.png\" width=\"400\">\n",
    "  <figcaption>Image from https://www.geeksforgeeks.org/program-muller-method/</figcaption>\n",
    "</figure></center>"
   ]
  },
  {
   "cell_type": "markdown",
   "id": "819bb542",
   "metadata": {},
   "source": [
    "$$\n",
    "Q(t) = At^2 + Bt + C\n",
    "$$\n",
    "\n",
    "$Q(t) = 0 $ 은 복잡한 근을 찾을 수 있게 한다.\n",
    "\n",
    "$$\n",
    "t = \\frac{-B \\pm \\sqrt{B^2 - 4AC}}{2A}\n",
    "=\n",
    "-\\frac{2C}{B \\pm \\sqrt{B^2 - 4AC}}\n",
    "$$\n",
    "\n",
    "본론으로 들어와서, 0에 가까운 루트를 선택해야하는데,\n",
    "첫 번째 형태의 가장 작은 분자 또는 두 번째 형태의 가장 큰 분모를 선택하는 기호를 선택해야한다. \n",
    "(그러나 수치 계산에서는 두 번째 형태는 같은 숫자의 뺄셈으로 인한 반올림 오류를 피하기 위해 바람직하다.\n",
    "\n",
    "# ???이차방정식 해 저렇게 바뀌나\n",
    "\n"
   ]
  },
  {
   "cell_type": "markdown",
   "id": "4a08c342",
   "metadata": {},
   "source": [
    "A function $y = f(x)$ goes through the three points, $(x_0, y_0)$, $(x_1, y_1)$, and $(x_2, y_2)$.\n",
    "We would like to find a root of $f(x) = 0$ closer to $x_2$.\n",
    "By making change of variable $t = x - x_2$, the problem becomes finding a root $t$ closer to $0$.\n",
    "\n",
    "Demanding $Q(0) = y_2$, $Q(t_1) = y_1$, and $Q(t_0) = y_0$ with $t_1 = x_1 - x_2$ and $t_0 = x_0 - x_2$, a parabola that goes through the three points is constructed with the coefficients\n",
    "\n",
    "$$\n",
    "\\begin{aligned}\n",
    "A &= \\frac{1}{t_0 - t_1} \\left(\\frac{y_0 - y_2}{t_0} - \\frac{y_1 - y_2}{t_1}\\right) \\\\\n",
    "B &= -\\frac{1}{t_0 - t_1} \\left(t_1\\frac{y_0 - y_2}{t_0} - t_0\\frac{y_1 - y_2}{t_1}\\right) \\\\\n",
    "C &= y_2 \\\\\n",
    "\\end{aligned}\n",
    "$$\n",
    "\n",
    "The next approximation $x_3$ is produced by the following formulas,\n",
    "\n",
    "$$\n",
    "x_3 = x_2 - \\frac{2C}{B \\pm \\sqrt{B^2 - 4AC}}\n",
    "$$\n",
    "\n",
    "where the sign in the denominator is chosen such that $\\left|B \\pm \\sqrt{B^2 - 4AC}\\right|$ is maximized."
   ]
  },
  {
   "cell_type": "markdown",
   "id": "5457ca4c",
   "metadata": {},
   "source": [
    "## Algorithm\n",
    "\n",
    "1. Starting from the three initial values ${x_0, x_1, x_2}$, find the next approximation $x_3$ according to Muller's formula:\n",
    "\n",
    "    $$\n",
    "    x_3 = x_2 - \\frac{2C_2}{B_2 \\pm \\sqrt{B_2^2 - 4A_2C_2}}\n",
    "    $$\n",
    "    \n",
    "2. We then use this new value $x_3$ and repeat the process, using ${x_3, x_2, x_1}$ as the initial values, solving for $x_4$, $x_5$, etc.:\n",
    "\n",
    "    $$\n",
    "    \\begin{aligned}\n",
    "    x_4 &= x_3 - \\frac{2C_3}{B_3 \\pm \\sqrt{B_3^2 - 4A_3C_3}}, \\\\\n",
    "    x_5 &= x_4 - \\frac{2C_4}{B_4 \\pm \\sqrt{B_4^2 - 4A_4C_4}}, \\\\\n",
    "    &\\ \\vdots \\\\\n",
    "    x_n &= x_{n - 1} - \\frac{2C_{n - 1}}{B_{n - 1} \\pm \\sqrt{B_{n - 1}^2 - 4A_{n - 1}C_{n - 1}}}, \\\\\n",
    "    \\end{aligned}\n",
    "    $$\n",
    "    \n",
    "3. The iteration stops when we reach a sufficiently high level of precision (a sufficiently small difference between $x_n$ and $x_{n - 1}$).\n",
    "\n",
    "*Note* that $x_n$ can be complex."
   ]
  },
  {
   "cell_type": "markdown",
   "id": "f98c5614",
   "metadata": {},
   "source": [
    "# Implementation"
   ]
  },
  {
   "cell_type": "code",
   "execution_count": 2,
   "id": "48144f60",
   "metadata": {},
   "outputs": [],
   "source": [
    "import cmath\n",
    "\n",
    "def muller_while(f, x0x1x2, predicate):\n",
    "    \"\"\"Muller 방식으로 root값 구하는 함수\n",
    "    \n",
    "    :param f:\n",
    "        f(x)\n",
    "    :param x0x1x2:\n",
    "        Three initial guesses\n",
    "    :param predicate:\n",
    "        A callable that accepts three arguments:\n",
    "        A predicate function which takes three arguments\n",
    "            - i : the iteration count 즉, 횟수\n",
    "            - xy : a pair of the midpoint and the function value in the current iteration :현재 반복에서 중간점과 함수 값의 쌍\n",
    "            - dx : the change of the x value :x값의 변화 정도\n",
    "        and returns boolean: #불 연산자를 return 함\n",
    "            - If True, the search continues.   True면 조사가 연속적이다\n",
    "            - If False, the search terminates. False면 조사가 한계가 있다.\n",
    "            \n",
    "    이것과 비교하여 이해\n",
    "    supergolden = muller_while(lambda x: x ** 3 - x ** 2 - 1, (1, 2, 3), \n",
    "                           lambda i, xy, dx: abs(xy[1]) > 1e-10) #dx값을 while을 이용하여\n",
    "    \"\"\"\n",
    "    x0, x1, x2 = map(complex, x0x1x2)\n",
    "    #Map함수에 int, complex를 넣고 만들면, 마치 변수 하나에 세개를 압축하듯, 자유자재로 정수나 복소수를 하나의 변수에 저장할 수 있다.\n",
    "    \n",
    "    f0, f1, f2 = f(x0), f(x1), f(x2) \n",
    "    i, x3, f3 = 0, float(\"nan\"), float(\"nan\")\n",
    "    #일단 튜플로 나타내지만, 각각의 값은 변할 수 있음. 그리고 그걸 이용해서 계속하여 함수를 반복시킬 거다.\n",
    "    \n",
    "    def muller_root():\n",
    "        nonlocal i, x3, f3\n",
    "        \n",
    "        t0   , t1,   =  x0 - x2     , x1 - x2\n",
    "        term0, term1 = (f0 - f2)/t0, (f1 - f2)/t1\n",
    "        denom = t0 - t1\n",
    "        \n",
    "        A = (term0 - term1) / denom\n",
    "        B = (t0*term1 - t1*term0) / denom\n",
    "        C = f2    \n",
    "        #각각의 계수를 구하는 위의 공식에 똑같이 대입한 것, 어렵지 않다.\n",
    "        \n",
    "        sqrt_discriminant = cmath.sqrt(B**2 - 4*A*C)\n",
    "        dx = -2*C / max(B + sqrt_discriminant, B - sqrt_discriminant, key = abs) \n",
    "        x3 = x2 + dx #x3을 구하는 근의 공식 완성\n",
    "        f3 = f(x3) #x3을 넣었을 때 함수 값.\n",
    "        i += 1 #횟수 증가\n",
    "        return i, (x3, f3), dx #xy[1] = f3을 뜻함, 즉 함수 값이 원하는 만큼 작아지면, 그만큼 횟수가 증가하며 정확도가 증가하겠지.\n",
    "    \n",
    "    while predicate(*muller_root()):\n",
    "        x0, x1, x2 = x1, x2, x3 #계산하여 나온 x1, x2, x3을 초기값으로 돌림\n",
    "        f0, f1, f2 = f1, f2, f3 #계산하여 나온 f1, f2, f3값을 다시 초기값으로 돌림 \n",
    "    #그리고 lambda의 조건문을 달성시킬 때 까지 다시 반복시킴\n",
    "    return x3"
   ]
  },
  {
   "cell_type": "code",
   "execution_count": 3,
   "id": "a50d9552",
   "metadata": {},
   "outputs": [
    {
     "name": "stdout",
     "output_type": "stream",
     "text": [
      "1 2 3\n"
     ]
    }
   ],
   "source": [
    "#Map함수에 int, complex를 넣고 만들면, 마치 변수 하나에 세개를 압축하듯, 자유자재로 정수나 복소수를 하나의 변수에 저장할 수 있다.\n",
    "a0a1a2 = 1, 2, 3\n",
    "a0, a1, a2 = map(int, a0a1a2)\n",
    "print(a0, a1, a2)"
   ]
  },
  {
   "cell_type": "code",
   "execution_count": 4,
   "id": "ff21b5d5",
   "metadata": {},
   "outputs": [
    {
     "data": {
      "text/plain": [
       "(1.4655712318916674+0j)"
      ]
     },
     "execution_count": 4,
     "metadata": {},
     "output_type": "execute_result"
    }
   ],
   "source": [
    "supergolden = muller_while(lambda x: x ** 3 - x ** 2 - 1, (1, 2, 3), \n",
    "                           lambda i, xy, dx: abs(xy[1]) > 1e-10)\n",
    "supergolden"
   ]
  },
  {
   "cell_type": "markdown",
   "id": "e57c355d",
   "metadata": {},
   "source": [
    "## Notice the result can be complex."
   ]
  },
  {
   "cell_type": "markdown",
   "id": "32ac3376",
   "metadata": {},
   "source": [
    "# Complex Logarithm(복소 대수)"
   ]
  },
  {
   "cell_type": "code",
   "execution_count": 5,
   "id": "1435d7b5",
   "metadata": {},
   "outputs": [
    {
     "name": "stdout",
     "output_type": "stream",
     "text": [
      "real(z) = 1.0508778904275348e-16, imag(z) = 1.0\n"
     ]
    }
   ],
   "source": [
    "z0z1z2 = (1 + .1j, 1 + .5j, 1 + .9j)\n",
    "\n",
    "z_approx = muller_while(lambda z: 1j * cmath.log(z) + cmath.pi/2, z0z1z2,\n",
    "                        lambda i, zf, dz: abs(zf[1]) > 1e-10)\n",
    "\n",
    "print(f\"real(z) = {z_approx.real}, imag(z) = {z_approx.imag}\")"
   ]
  },
  {
   "cell_type": "markdown",
   "id": "e36b146d",
   "metadata": {},
   "source": [
    "# Two-Stream Instability"
   ]
  },
  {
   "cell_type": "markdown",
   "id": "6d8fd632",
   "metadata": {},
   "source": [
    "two-stream instability = 흔한 플라즈마 물리의 불안정성.\n",
    "그것은 플라즈마안에 주입되는 전기입자들의 흐름으로 발생, 아니면 다른 종(이온이나 전자)가 다른 drift Velocities를 가질 수 있도록 플라즈마를 따라 전류를 설정하면서 발생.\n",
    "입자의 에너지는 플라즈마파의 excitation으로 발생할 수 있다.\n",
    "\n",
    "cold, uniform(같은 형태의), 자성이 없는 플라즈마를 고려해보자. 이온은 고정되어 있고 전자들은 $v_0$의 속도를 가질때, dispersion relation(분산관계)는\n",
    "\n",
    "\n",
    "$$\n",
    "(1)　　　\\omega_p^2 \\left[\\frac{m_e/m_i}{\\omega^2} + \\frac{1}{(\\omega - k v_0)^2}\\right] \n",
    "$$\n",
    "\n",
    "이때, where $\\omega$ is the wave frequency, $k$ the wave number, $m_e/m_i$ the ratio of electron-to-ion mass, and $\\omega_p$ is the electron plasma frequency.\n",
    "\n",
    "그리고\n",
    "\n",
    "For $k \\rightarrow \\infty$, we find\n",
    "\n",
    "$$\n",
    "(2)　　　　　f_k(\\omega) \\approx \\omega_p^2 \\frac{m_e/m_i}{\\omega^2} - 1\n",
    "$$\n",
    "\n",
    "Therefore, the solution of $f_k(\\omega) = 0$ for large $k$ should approach\n",
    "\n",
    "$$\n",
    "(3)　　　　　\\omega(k \\rightarrow \\infty) = \\sqrt{\\frac{m_e}{m_i}} \\omega_p\n",
    "$$\n",
    "\n",
    "Assuming, $v_0 = \\omega_p = 43$ and $m_e/m_i = 1/43^2$,\n",
    "we search for roots of $f_k(\\omega) = 0$ starting from a large value of $k$ and moving to small values:"
   ]
  },
  {
   "cell_type": "code",
   "execution_count": 6,
   "id": "53f08527",
   "metadata": {},
   "outputs": [
    {
     "data": {
      "image/png": "[encoded data removed]",
      "text/plain": [
       "<Figure size 640x480 with 1 Axes>"
      ]
     },
     "metadata": {},
     "output_type": "display_data"
    }
   ],
   "source": [
    "# f_k(w)를 정의\n",
    "def dispersion_relation(k, w):\n",
    "    v0, wp, me_mi = 43, 43, 1 / 43**2\n",
    "    return 1 - wp**2 * (me_mi/w**2 + 1/(w - k*v0)**2)\n",
    "# 어려운 것 없이 1번 식에 대입.\n",
    "\n",
    "# k가 주어지면 관계를 푸는 함수를 정의\n",
    "def single_step(k, winit):\n",
    "    max_w = max(winit, key = abs)\n",
    "    # key에 함수를 값으로 넣는다. 여기엔 lambda도 이용할 수 있다. key= function을 기준으로 최대, 최솟값을 찾는다.\n",
    "    # 즉, max_w는 winit 요소 중에서 절댓값으로 최대인 것을 뽑아낸다.\n",
    "    \n",
    "    return muller_while(lambda w: dispersion_relation(k, w), winit,\n",
    "                       lambda i, xy, dw: abs(dw) > 1e-7*abs(max_w) )\n",
    "    #winit은 복소수의 꼴을 받기 때문에, 크기의 한도를 정할때 abs를 통해서 그 한도를 정해야 한다. 이것이 위에 것과의 차이임.\n",
    "    \n",
    "\n",
    "# define the k space\n",
    "ks = np.linspace(2, .03, 1000)\n",
    "\n",
    "# fist three gusses of omega \n",
    "# k가 커지면 $w_p / (m_e/m_i) = 1$\n",
    "ws = [1 + .1j, 1, 1. - .1j]\n",
    "\n",
    "#k 값을 넘어 solution을 찾자\n",
    "for k in ks:\n",
    "    ws.append(single_step(k, ws[-3:]))\n",
    "    \n",
    "# 처음 three guesses를 지우자.\n",
    "ws = ws[3:]\n",
    "\n",
    "plt.figure()\n",
    "plt.plot(ks, [w.real for w in ws], \"-b\", linewidth = 1, label = \"$\\\\Re(\\\\omega)$\")\n",
    "plt.plot(ks, [w.imag for w in ws], \"-r\", linewidth = 1, label = \"$\\\\Im(\\\\omega)$\")\n",
    "plt.xlabel(\"$k$\")\n",
    "plt.ylabel(\"$\\\\omega$\")\n",
    "plt.legend()\n",
    "plt.grid()\n",
    "plt.show()"
   ]
  },
  {
   "cell_type": "code",
   "execution_count": 7,
   "id": "53c524e0",
   "metadata": {},
   "outputs": [
    {
     "ename": "TypeError",
     "evalue": "'>' not supported between instances of 'complex' and 'complex'",
     "output_type": "error",
     "traceback": [
      "\u001b[0;31m---------------------------------------------------------------------------\u001b[0m",
      "\u001b[0;31mTypeError\u001b[0m                                 Traceback (most recent call last)",
      "\u001b[0;32m/var/folders/kk/2pj93ygs67nbx9_42r_c6_3c0000gn/T/ipykernel_58750/980189370.py\u001b[0m in \u001b[0;36m<module>\u001b[0;34m\u001b[0m\n\u001b[1;32m     26\u001b[0m \u001b[0;31m#k 값을 넘어 solution을 찾자\u001b[0m\u001b[0;34m\u001b[0m\u001b[0;34m\u001b[0m\u001b[0m\n\u001b[1;32m     27\u001b[0m \u001b[0;32mfor\u001b[0m \u001b[0mk\u001b[0m \u001b[0;32min\u001b[0m \u001b[0mks\u001b[0m\u001b[0;34m:\u001b[0m\u001b[0;34m\u001b[0m\u001b[0;34m\u001b[0m\u001b[0m\n\u001b[0;32m---> 28\u001b[0;31m     \u001b[0mws\u001b[0m\u001b[0;34m.\u001b[0m\u001b[0mappend\u001b[0m\u001b[0;34m(\u001b[0m\u001b[0msingle_step\u001b[0m\u001b[0;34m(\u001b[0m\u001b[0mk\u001b[0m\u001b[0;34m,\u001b[0m \u001b[0mws\u001b[0m\u001b[0;34m[\u001b[0m\u001b[0;34m-\u001b[0m\u001b[0;36m3\u001b[0m\u001b[0;34m:\u001b[0m\u001b[0;34m]\u001b[0m\u001b[0;34m)\u001b[0m\u001b[0;34m)\u001b[0m\u001b[0;34m\u001b[0m\u001b[0;34m\u001b[0m\u001b[0m\n\u001b[0m\u001b[1;32m     29\u001b[0m \u001b[0;34m\u001b[0m\u001b[0m\n\u001b[1;32m     30\u001b[0m \u001b[0;31m# 처음 three guesses를 지우자.\u001b[0m\u001b[0;34m\u001b[0m\u001b[0;34m\u001b[0m\u001b[0m\n",
      "\u001b[0;32m/var/folders/kk/2pj93ygs67nbx9_42r_c6_3c0000gn/T/ipykernel_58750/980189370.py\u001b[0m in \u001b[0;36msingle_step\u001b[0;34m(k, winit)\u001b[0m\n\u001b[1;32m     11\u001b[0m     \u001b[0;31m# 즉, max_w는 winit 요소 중에서 절댓값으로 최대인 것을 뽑아낸다.\u001b[0m\u001b[0;34m\u001b[0m\u001b[0;34m\u001b[0m\u001b[0m\n\u001b[1;32m     12\u001b[0m \u001b[0;34m\u001b[0m\u001b[0m\n\u001b[0;32m---> 13\u001b[0;31m     return muller_while(lambda w: dispersion_relation(k, w), winit,\n\u001b[0m\u001b[1;32m     14\u001b[0m                        lambda i, xy, dw: dw > 1e-7*max_w)\n\u001b[1;32m     15\u001b[0m     \u001b[0;31m# winit은 복소수의 꼴을 받기 때문에, 크기의 한도를 정할때 abs를 통해서 그 한도를 정해야 한다. 이것이 위에 것과의 차이임.\u001b[0m\u001b[0;34m\u001b[0m\u001b[0;34m\u001b[0m\u001b[0m\n",
      "\u001b[0;32m/var/folders/kk/2pj93ygs67nbx9_42r_c6_3c0000gn/T/ipykernel_58750/4160338594.py\u001b[0m in \u001b[0;36mmuller_while\u001b[0;34m(f, x0x1x2, predicate)\u001b[0m\n\u001b[1;32m     48\u001b[0m         \u001b[0;32mreturn\u001b[0m \u001b[0mi\u001b[0m\u001b[0;34m,\u001b[0m \u001b[0;34m(\u001b[0m\u001b[0mx3\u001b[0m\u001b[0;34m,\u001b[0m \u001b[0mf3\u001b[0m\u001b[0;34m)\u001b[0m\u001b[0;34m,\u001b[0m \u001b[0mdx\u001b[0m \u001b[0;31m#xy[1] = f3을 뜻함, 즉 함수 값이 원하는 만큼 작아지면, 그만큼 횟수가 증가하며 정확도가 증가하겠지.\u001b[0m\u001b[0;34m\u001b[0m\u001b[0;34m\u001b[0m\u001b[0m\n\u001b[1;32m     49\u001b[0m \u001b[0;34m\u001b[0m\u001b[0m\n\u001b[0;32m---> 50\u001b[0;31m     \u001b[0;32mwhile\u001b[0m \u001b[0mpredicate\u001b[0m\u001b[0;34m(\u001b[0m\u001b[0;34m*\u001b[0m\u001b[0mmuller_root\u001b[0m\u001b[0;34m(\u001b[0m\u001b[0;34m)\u001b[0m\u001b[0;34m)\u001b[0m\u001b[0;34m:\u001b[0m\u001b[0;34m\u001b[0m\u001b[0;34m\u001b[0m\u001b[0m\n\u001b[0m\u001b[1;32m     51\u001b[0m         \u001b[0mx0\u001b[0m\u001b[0;34m,\u001b[0m \u001b[0mx1\u001b[0m\u001b[0;34m,\u001b[0m \u001b[0mx2\u001b[0m \u001b[0;34m=\u001b[0m \u001b[0mx1\u001b[0m\u001b[0;34m,\u001b[0m \u001b[0mx2\u001b[0m\u001b[0;34m,\u001b[0m \u001b[0mx3\u001b[0m \u001b[0;31m#계산하여 나온 x1, x2, x3을 초기값으로 돌림\u001b[0m\u001b[0;34m\u001b[0m\u001b[0;34m\u001b[0m\u001b[0m\n\u001b[1;32m     52\u001b[0m         \u001b[0mf0\u001b[0m\u001b[0;34m,\u001b[0m \u001b[0mf1\u001b[0m\u001b[0;34m,\u001b[0m \u001b[0mf2\u001b[0m \u001b[0;34m=\u001b[0m \u001b[0mf1\u001b[0m\u001b[0;34m,\u001b[0m \u001b[0mf2\u001b[0m\u001b[0;34m,\u001b[0m \u001b[0mf3\u001b[0m \u001b[0;31m#계산하여 나온 f1, f2, f3값을 다시 초기값으로 돌림\u001b[0m\u001b[0;34m\u001b[0m\u001b[0;34m\u001b[0m\u001b[0m\n",
      "\u001b[0;32m/var/folders/kk/2pj93ygs67nbx9_42r_c6_3c0000gn/T/ipykernel_58750/980189370.py\u001b[0m in \u001b[0;36m<lambda>\u001b[0;34m(i, xy, dw)\u001b[0m\n\u001b[1;32m     12\u001b[0m \u001b[0;34m\u001b[0m\u001b[0m\n\u001b[1;32m     13\u001b[0m     return muller_while(lambda w: dispersion_relation(k, w), winit,\n\u001b[0;32m---> 14\u001b[0;31m                        lambda i, xy, dw: dw > 1e-7*max_w)\n\u001b[0m\u001b[1;32m     15\u001b[0m     \u001b[0;31m# winit은 복소수의 꼴을 받기 때문에, 크기의 한도를 정할때 abs를 통해서 그 한도를 정해야 한다. 이것이 위에 것과의 차이임.\u001b[0m\u001b[0;34m\u001b[0m\u001b[0;34m\u001b[0m\u001b[0m\n\u001b[1;32m     16\u001b[0m     \u001b[0;31m# 아래 보면 알 수 있듯이, complex와 complex(int든 float든 다)는 비교가 불가능, 연산하려면 complex는 반드시 abs 꼴이여야 함.\u001b[0m\u001b[0;34m\u001b[0m\u001b[0;34m\u001b[0m\u001b[0m\n",
      "\u001b[0;31mTypeError\u001b[0m: '>' not supported between instances of 'complex' and 'complex'"
     ]
    }
   ],
   "source": [
    "# f_k(w)를 정의\n",
    "def dispersion_relation(k, w):\n",
    "    v0, wp, me_mi = 43, 43, 1 / 43**2\n",
    "    return 1 - wp**2 * (me_mi/w**2 + 1/(w - k*v0)**2)\n",
    "# 어려운 것 없이 1번 식에 대입.\n",
    "\n",
    "# k가 주어지면 관계를 푸는 함수를 정의\n",
    "def single_step(k, winit):\n",
    "    max_w = max(winit, key = abs)\n",
    "    # key에 함수를 값으로 넣는다. 여기엔 lambda도 이용할 수 있다. key= function을 기준으로 최대, 최솟값을 찾는다.\n",
    "    # 즉, max_w는 winit 요소 중에서 절댓값으로 최대인 것을 뽑아낸다.\n",
    "    \n",
    "    return muller_while(lambda w: dispersion_relation(k, w), winit,\n",
    "                       lambda i, xy, dw: dw > 1e-7*max_w)\n",
    "    # winit은 복소수의 꼴을 받기 때문에, 크기의 한도를 정할때 abs를 통해서 그 한도를 정해야 한다. 이것이 위에 것과의 차이임.\n",
    "    # 아래 보면 알 수 있듯이, complex와 complex(int든 float든 다)는 비교가 불가능, 연산하려면 complex는 반드시 abs 꼴이여야 함.\n",
    "    \n",
    "\n",
    "# define the k space\n",
    "ks = np.linspace(2, .03, 1000)\n",
    "\n",
    "# fist three gusses of omega \n",
    "# k가 커지면 $w_p / (m_e/m_i) = 1$\n",
    "ws = [1 + .1j, 1, 1. - .1j]\n",
    "\n",
    "#k 값을 넘어 solution을 찾자\n",
    "for k in ks:\n",
    "    ws.append(single_step(k, ws[-3:]))\n",
    "    \n",
    "# 처음 three guesses를 지우자.\n",
    "ws = ws[3:]\n",
    "\n",
    "plt.figure()\n",
    "plt.plot(ks, [w.real for w in ws], \"-b\", linewidth = 1, label = \"$\\\\Re(\\\\omega)$\")\n",
    "plt.plot(ks, [w.imag for w in ws], \"-r\", linewidth = 1, label = \"$\\\\Im(\\\\omega)$\")\n",
    "plt.xlabel(\"$k$\")\n",
    "plt.ylabel(\"$\\\\omega$\")\n",
    "plt.legend()\n",
    "plt.grid()\n",
    "plt.show()"
   ]
  },
  {
   "cell_type": "code",
   "execution_count": 9,
   "id": "e9fee9f3",
   "metadata": {},
   "outputs": [
    {
     "data": {
      "image/png": "[encoded data removed]",
      "text/plain": [
       "<Figure size 640x480 with 1 Axes>"
      ]
     },
     "metadata": {},
     "output_type": "display_data"
    }
   ],
   "source": [
    "# f_k(w)를 정의\n",
    "def dispersion_relation(k, w):\n",
    "    v0, wp, me_mi = 43, 43, 1 / 43**2\n",
    "    return 1 - wp**2 * (me_mi/w**2 + 1/(w - k*v0)**2)\n",
    "# 어려운 것 없이 1번 식에 대입.\n",
    "\n",
    "# k가 주어지면 관계를 푸는 함수를 정의\n",
    "def single_step(k, winit):\n",
    "    max_w = max(winit, key = abs)\n",
    "    # key에 함수를 값으로 넣는다. 여기엔 lambda도 이용할 수 있다. key= function을 기준으로 최대, 최솟값을 찾는다.\n",
    "    # 즉, max_w는 winit 요소 중에서 절댓값으로 최대인 것을 뽑아낸다.\n",
    "    \n",
    "    return muller_while(lambda w: dispersion_relation(k, w), winit,\n",
    "                       lambda i, xy, dw: abs(dw) > 1e-7 )\n",
    "    #winit은 복소수의 꼴을 받기 때문에, 크기의 한도를 정할때 abs를 통해서 그 한도를 정해야 한다. 이것이 위에 것과의 차이임.\n",
    "    # 이렇게 되면 위와 달리 그래프가 반대로 뒤집혀짐. 이는 절댓값을 안취하면 dispersion_relation에 의하여 음수 값이 나오고, 음수값은 항상 1e-7보다 작기때문에\n",
    "    # 모든 x 값에 대하여 muller_while이 진행되고 그로 인해 나오는 결과값이 그래프에 그려짐에 따라 음수값이 그려지게 되는 것.\n",
    "\n",
    "# define the k space\n",
    "ks = np.linspace(2, .03, 1000)\n",
    "\n",
    "# fist three gusses of omega \n",
    "# k가 커지면 $w_p / (m_e/m_i) = 1$\n",
    "ws = [1 + .1j, 1, 1. - .1j]\n",
    "\n",
    "#k 값을 넘어 solution을 찾자\n",
    "for k in ks:\n",
    "    ws.append(single_step(k, ws[-3:]))\n",
    "\n",
    "# 처음 three guesses를 지우자.\n",
    "ws = ws[3:]\n",
    "\n",
    "plt.figure()\n",
    "plt.plot(ks, [w.real for w in ws], \"-b\", linewidth = 1, label = \"$\\\\Re(\\\\omega)$\")\n",
    "plt.plot(ks, [w.imag for w in ws], \"-r\", linewidth = 1, label = \"$\\\\Im(\\\\omega)$\")\n",
    "plt.xlabel(\"$k$\")\n",
    "plt.ylabel(\"$\\\\omega$\")\n",
    "plt.legend()\n",
    "plt.grid()\n",
    "plt.show()"
   ]
  },
  {
   "cell_type": "code",
   "execution_count": null,
   "id": "c24b71a7",
   "metadata": {},
   "outputs": [],
   "source": []
  },
  {
   "cell_type": "code",
   "execution_count": null,
   "id": "cb89eeb7",
   "metadata": {},
   "outputs": [],
   "source": [
    "winit = [-4, -3, -2]\n",
    "max_w = max(winit)\n",
    "max_s = max(winit, key = abs)\n",
    "print(f\" 정수로 봤을 때 가장 큰 수{max_w}, 절댓값으로 봤을 때 가장 큰 수: {max_s}\")"
   ]
  },
  {
   "cell_type": "markdown",
   "id": "58db0e0e",
   "metadata": {},
   "source": [
    "우리는 파동의 빈도(작은 k에 대해서 복소수의 꼴을 가지는)를 볼 수 있고, 그 지역에서 파동의 상승과 댐핑을 가리킨다."
   ]
  }
 ],
 "metadata": {
  "kernelspec": {
   "display_name": "Python 3 (ipykernel)",
   "language": "python",
   "name": "python3"
  },
  "language_info": {
   "codemirror_mode": {
    "name": "ipython",
    "version": 3
   },
   "file_extension": ".py",
   "mimetype": "text/x-python",
   "name": "python",
   "nbconvert_exporter": "python",
   "pygments_lexer": "ipython3",
   "version": "3.9.13"
  }
 },
 "nbformat": 4,
 "nbformat_minor": 5
}
