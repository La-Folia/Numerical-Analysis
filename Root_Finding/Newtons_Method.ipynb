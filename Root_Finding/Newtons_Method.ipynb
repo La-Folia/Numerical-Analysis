{
 "cells": [
  {
   "cell_type": "markdown",
   "id": "bcc34645",
   "metadata": {},
   "source": [
    "1차원 root-finding 루틴으로 가장 유명한 것은 Newton's Method이다.\n",
    "--\n",
    "이는 Newton-Raphson method라고도 불림.\n",
    "이 방법은 전의 방법과 달리, f(x)와 x에서 derivative f'(x) \n",
    " [*Newton's method*](https://en.wikipedia.org/wiki/Newton%27s_method)\n",
    " \n",
    "# $ \"I  love  Jaehee\" $\n",
    "- Code is very beautiful.\n",
    "- This Font, I like it!\n",
    "- I love you, Jaehee.\n",
    "- Please love me all day for me.\n",
    "- Every time, Every day, Every Month, year\n",
    "- I always think about you, only jaehee.\n",
    "- The World that I believe is Just you and me.\n",
    "\n",
    "\n"
   ]
  }
 ],
 "metadata": {
  "kernelspec": {
   "display_name": "Python 3 (ipykernel)",
   "language": "python",
   "name": "python3"
  },
  "language_info": {
   "codemirror_mode": {
    "name": "ipython",
    "version": 3
   },
   "file_extension": ".py",
   "mimetype": "text/x-python",
   "name": "python",
   "nbconvert_exporter": "python",
   "pygments_lexer": "ipython3",
   "version": "3.9.13"
  }
 },
 "nbformat": 4,
 "nbformat_minor": 5
}
