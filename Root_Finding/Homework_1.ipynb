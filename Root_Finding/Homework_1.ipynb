{
 "cells": [
  {
   "cell_type": "markdown",
   "id": "3dc97b08",
   "metadata": {},
   "source": [
    "# 1. scipy.optimize.root_scalar Practice"
   ]
  },
  {
   "cell_type": "markdown",
   "id": "2d034567",
   "metadata": {},
   "source": [
    "scipy.optimize.root_scalar(f, args=(), method=None, bracket=None, fprime=None, fprime2=None, x0=None, x1=None, xtol=None, rtol=None, maxiter=None, options=None)"
   ]
  },
  {
   "cell_type": "code",
   "execution_count": 1,
   "id": "ee0ccd09",
   "metadata": {},
   "outputs": [],
   "source": [
    "import numpy as np\n",
    "import matplotlib.pyplot as plt\n",
    "import scipy\n",
    "plt.rcParams.update({'font.size': 15})"
   ]
  },
  {
   "cell_type": "code",
   "execution_count": 6,
   "id": "faeb2e4e",
   "metadata": {},
   "outputs": [
    {
     "data": {
      "text/plain": [
       "\"\\nfrom scipy import optimize\\ndef f(x):\\n    return (x**3 - 2)\\n\\ndef df(x):\\n    return 3*x**2\\n\\nsol = optimize.root_scalar(f, x0 = 1, fprime = df,\\n                         method = 'newton')\\n\\nsol.root, sol.iterations, sol.function_calls\\n\""
      ]
     },
     "execution_count": 6,
     "metadata": {},
     "output_type": "execute_result"
    }
   ],
   "source": [
    "\n",
    "from scipy import optimize\n",
    "def f(x):\n",
    "    return (x**3 - 2)\n",
    "\n",
    "def df(x):\n",
    "    return 3*x**2\n",
    "\n",
    "sol = optimize.root_scalar(f, x0 = 1, fprime = df,\n",
    "                         method = 'newton')\n",
    "\n",
    "sol.root, sol.iterations, sol.function_calls\n"
   ]
  },
  {
   "cell_type": "code",
   "execution_count": 3,
   "id": "f35cfd98",
   "metadata": {},
   "outputs": [
    {
     "data": {
      "text/plain": [
       "6"
      ]
     },
     "execution_count": 3,
     "metadata": {},
     "output_type": "execute_result"
    }
   ],
   "source": [
    "f(2)"
   ]
  },
  {
   "cell_type": "code",
   "execution_count": 7,
   "id": "1000c864",
   "metadata": {},
   "outputs": [
    {
     "data": {
      "image/png": "[encoded data removed]",
      "text/plain": [
       "<Figure size 640x480 with 1 Axes>"
      ]
     },
     "metadata": {},
     "output_type": "display_data"
    }
   ],
   "source": [
    "ks = np.linspace(0.01, 10, 40)\n",
    "ws = [ks[0]]\n",
    "\n",
    "def f(x): \n",
    "    c, wp, wc = 5, 5, 1\n",
    "    f = c**2 * k**2 - x**2 + wp**2/(1 - wc/x)\n",
    "    return f\n",
    "\n",
    "def df(x) :\n",
    "    c, wp, wc = 5, 5, 1\n",
    "    df = -2*x - wp**2 * wc/(x - wc)**2\n",
    "    return df\n",
    "\n",
    "\n",
    "for k in ks:\n",
    "    sol = optimize.root_scalar(f, x0 = 2, fprime= df, \n",
    "                         method = 'newton')\n",
    "    ws.append(sol.root)\n",
    "    \n",
    "ws = ws[1:]\n",
    "\n",
    "w_exact = np.linspace(1e-10, 0.99, 400)\n",
    "k_exact = 1/5 * np.sqrt(w_exact**2 - 5**2/(1 - 1/w_exact))\n",
    "\n",
    "plt.figure()\n",
    "plt.plot(k_exact, w_exact, \"-k\", label = \"$\\\\omega$ exact\")\n",
    "plt.plot(ks, ws, \".:r\", linewidth = 1, label = \"$\\\\omega$ approx\")\n",
    "plt.xlabel(\"$k$\")\n",
    "plt.ylabel(\"$\\\\omega$\")\n",
    "plt.legend()\n",
    "plt.show()"
   ]
  },
  {
   "cell_type": "code",
   "execution_count": 5,
   "id": "169629a5",
   "metadata": {},
   "outputs": [
    {
     "data": {
      "text/plain": [
       "\"\\ndef f(x): \\n    c, wp, wc = 5, 5, 1\\n    f = c**2 * k**2 - x**2 + wp**2/(1 - wc/x)\\n    return f\\n\\n\\ndef df(x) :\\n    c, wp, wc = 5, 5, 1\\n    df = -2*x - wp**2 * wc/(x - wc)**2\\n    return df\\n\\n\\nsol = optimize.root_scalar(lambda w: f(x), x0 = 1.00000000e-05, fprime = lambda w: df(x), \\n                         method = 'newton')\\n\\nsol.root, sol.iterations, sol.function_calls\\n\""
      ]
     },
     "execution_count": 5,
     "metadata": {},
     "output_type": "execute_result"
    }
   ],
   "source": [
    "'''\n",
    "def f(x): \n",
    "    c, wp, wc = 5, 5, 1\n",
    "    f = c**2 * k**2 - x**2 + wp**2/(1 - wc/x)\n",
    "    return f\n",
    "\n",
    "\n",
    "def df(x) :\n",
    "    c, wp, wc = 5, 5, 1\n",
    "    df = -2*x - wp**2 * wc/(x - wc)**2\n",
    "    return df\n",
    "\n",
    "\n",
    "sol = optimize.root_scalar(lambda w: f(x), x0 = 1.00000000e-05, fprime = lambda w: df(x), \n",
    "                         method = 'newton')\n",
    "\n",
    "sol.root, sol.iterations, sol.function_calls\n",
    "'''"
   ]
  },
  {
   "cell_type": "code",
   "execution_count": null,
   "id": "41d3a317",
   "metadata": {},
   "outputs": [],
   "source": []
  },
  {
   "cell_type": "markdown",
   "id": "e0ffbe25",
   "metadata": {},
   "source": [
    "\n",
    "\n"
   ]
  }
 ],
 "metadata": {
  "kernelspec": {
   "display_name": "Python 3 (ipykernel)",
   "language": "python",
   "name": "python3"
  },
  "language_info": {
   "codemirror_mode": {
    "name": "ipython",
    "version": 3
   },
   "file_extension": ".py",
   "mimetype": "text/x-python",
   "name": "python",
   "nbconvert_exporter": "python",
   "pygments_lexer": "ipython3",
   "version": "3.9.13"
  }
 },
 "nbformat": 4,
 "nbformat_minor": 5
}
