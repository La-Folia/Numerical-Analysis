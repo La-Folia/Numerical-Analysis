{
 "cells": [
  {
   "cell_type": "code",
   "execution_count": null,
   "id": "ec44ec02",
   "metadata": {},
   "outputs": [],
   "source": [
    "import numpy as np\n",
    "import matplotlib.pyplot as plt\n",
    "plt.rcParams.update({'font.size': 15})\n",
    "#%config InlineBackend.figure_format='retina'"
   ]
  },
  {
   "cell_type": "markdown",
   "id": "e8261e22",
   "metadata": {},
   "source": [
    "# Newton's Method\n",
    "\n",
    "Perhaps the most celebrated of all one-dimensional root-finding routines is [*Newton's method*](https://en.wikipedia.org/wiki/Newton%27s_method), also called the *Newton-Raphson method*.\n",
    "This method is distinguished from the previous methods by the fact that it requires the evaluation of both the function $f(x)$ *and* the derivative $f'(x)$, at arbitrary points $x$.\n",
    "\n",
    "<center><figure>\n",
    "    <img src=https://upload.wikimedia.org/wikipedia/commons/thumb/8/8c/Newton_iteration.svg/300px-Newton_iteration.svg.png>\n",
    "    <figcaption>From Wikipedia (https://en.wikipedia.org/wiki/Newton%27s_method)</figcaption>\n",
    "</figure></center>\n",
    "\n",
    "The Newton-Raphson formula consists geometrically of extending the tangent line at a current point $x_n$ until it crosses zero, then setting the next guess $x_{n + 1}$ to the abscissa of that zero crossing:\n",
    "\n",
    "$$\n",
    "x_{n + 1} = x_n - \\frac{f(x_n)}{f'(x_n)}\n",
    "$$\n",
    "\n",
    "Algebraically, the method derives from the familiar Taylor series expansion of a function in the neighborhood of a point\n",
    "\n",
    "$$\n",
    "f(x + \\delta) \\approx\n",
    "f(x) + f'(x)\\delta + \\frac{f''(x)}{2} \\delta^2 + \\cdots\n",
    "$$\n",
    "\n",
    "For small enough values of $\\delta$, and for well-behaved functions, the terms beyond linear are unimportant, hence $f(x + \\delta) = 0$ implies\n",
    "\n",
    "$$\n",
    "\\delta = -\\frac{f(x)}{f'(x)}\n",
    "$$\n",
    "\n",
    "The Newton-Rapshon method is not restricted to one dimension; the method readily generalizes to multiple dimensions."
   ]
  },
  {
   "cell_type": "markdown",
   "id": "d48f34aa",
   "metadata": {},
   "source": [
    "## Pros and Cons\n",
    "\n",
    "When it converges, Newton's method usually converges very quickly and this is its main advantage.\n",
    "However, Newton's method is not guaranteed to converge and this is obviously a big disadvantage especially compared to the bisection method which is guaranteed to converge to a solution (provided they start with an interval containing a root).\n",
    "For example, if a trial guess is near a local extremum so that the first derivative $f'(x)$ nearly vanishes, then Newton's method sends the next guess far off from the actual root.\n",
    "\n",
    "Newton's method also requires computing values of the derivative of the function in question.\n",
    "This is potentially a disadvantage if the derivative is difficult to compute."
   ]
  },
  {
   "cell_type": "markdown",
   "id": "b4b1be53",
   "metadata": {},
   "source": [
    "## Implementation"
   ]
  },
  {
   "cell_type": "code",
   "execution_count": null,
   "id": "3abdb6ab",
   "metadata": {},
   "outputs": [],
   "source": [
    "def newton_while(f_and_df, xinit, predicate):\n",
    "    \"\"\"Return the root calculated using Newton's method.\n",
    "    \n",
    "    :param f_and_df:\n",
    "        A function that returns a pair of numbers containing f(x) and f'(x)\n",
    "    :param xinit:\n",
    "        A trial guess\n",
    "    :param predicate:\n",
    "        A predicate function which takes three arguments\n",
    "            - i : the iteration count\n",
    "            - xy : a pair of the midpoint and the function value in the current iteration\n",
    "            - dx : the change of the x value\n",
    "        and returns boolean:\n",
    "            - If True, the search continues.\n",
    "            - If False, the search terminates.\n",
    "    \"\"\"\n",
    "    \n",
    "    x = xinit\n",
    "    i = 0\n",
    "\n",
    "    def netwon_root():\n",
    "        nonlocal i, x\n",
    "        f, df = f_and_df(x)\n",
    "        dx = -f / df\n",
    "        x_old = x\n",
    "        x += dx\n",
    "        i += 1\n",
    "        return i, (x_old, f), dx\n",
    "    \n",
    "    while predicate(*netwon_root()):\n",
    "        pass\n",
    "        \n",
    "    return x"
   ]
  },
  {
   "cell_type": "markdown",
   "id": "37b85c8a",
   "metadata": {},
   "source": [
    "Let's calculate the supergolden ratio."
   ]
  },
  {
   "cell_type": "code",
   "execution_count": null,
   "id": "3ef4d24d",
   "metadata": {},
   "outputs": [],
   "source": [
    "def predicate(i, xy, dx):\n",
    "    print(\"i = {:1d}, x = {:.12f}, y = {:+.12e}, dx = {:+.12e}\".format(i, *xy, dx))\n",
    "    return abs(dx) > 1e-10 and i < 20\n",
    "\n",
    "newton_while(lambda x: (x**3 - x**2 - 1, 3*x**2 - 2*x), 1, predicate)"
   ]
  },
  {
   "cell_type": "markdown",
   "id": "53452a07",
   "metadata": {},
   "source": [
    "It found the solution after 7 iterations.\n",
    "Test how many iterations it would take for the bisection method starting with the interval $[1, 2]$."
   ]
  },
  {
   "cell_type": "markdown",
   "id": "db221b07",
   "metadata": {},
   "source": [
    "### Divergent Example\n",
    "\n",
    "As alerted earlier, Newton's method diverges in certain cases,\n",
    "for example, if the tangent line at the root is vertical as in $f(x) = x^{1/3}$."
   ]
  },
  {
   "cell_type": "code",
   "execution_count": null,
   "id": "9440b256",
   "metadata": {},
   "outputs": [],
   "source": [
    "iterations = -1\n",
    "def predicate(i, xy, dx):\n",
    "    global iterations\n",
    "    iterations = i\n",
    "    print(\"\\ti = {}, xy = {}, dx = {}\".format(i, xy, dx))\n",
    "    return abs(dx) > 1e-10 and i < 20\n",
    "\n",
    "solution = newton_while(lambda x: (x**(1/3), (1/3) * x**(-2/3)), 0.1, predicate)\n",
    "\n",
    "if iterations >= 20:\n",
    "    print(f\"\\n!! Exceeded maximum iterations (={20}) before convergence !!\")\n",
    "\n",
    "print(solution)"
   ]
  },
  {
   "cell_type": "markdown",
   "id": "0b45a594",
   "metadata": {},
   "source": [
    "## Exercises"
   ]
  },
  {
   "cell_type": "markdown",
   "id": "75d21fc1",
   "metadata": {},
   "source": [
    "### CubeRoot\n",
    "\n",
    "Approximate $\\sqrt[3]{2}$ by solving\n",
    "\n",
    "$$\n",
    "x^3 - 2 = 0\n",
    "$$"
   ]
  },
  {
   "cell_type": "code",
   "execution_count": null,
   "id": "d60f3f89",
   "metadata": {},
   "outputs": [],
   "source": [
    "cuberoot2_approx = newton_while(lambda x: (x**3 - 2, 3*x*x), 1,\n",
    "                                lambda i, xy, dx: abs(dx) > 1e-10)\n",
    "cuberoot2_approx, abs(2**(1/3) - cuberoot2_approx)"
   ]
  },
  {
   "cell_type": "markdown",
   "id": "ca927926",
   "metadata": {},
   "source": [
    "### Whistler Dispersion Relation\n",
    "\n",
    "Calculate the whistler dispersion relation we did previously, now using Newton's method.\n",
    "\n",
    "We have defined\n",
    "\n",
    "$$\n",
    "f_k(\\omega) = \n",
    "c^2 k^2 - \\omega^2 + \\frac{\\omega_p^2}{1 - \\omega_c/\\omega}\n",
    "$$\n",
    "\n",
    "Its derivative is\n",
    "\n",
    "$$\n",
    "f_k'(\\omega) = \n",
    "-2\\omega - \\omega_p^2\\frac{\\omega_c}{(\\omega - \\omega_c)^2}\n",
    "$$"
   ]
  },
  {
   "cell_type": "code",
   "execution_count": null,
   "id": "daa2f125",
   "metadata": {},
   "outputs": [],
   "source": [
    "# define f_k(w) and f_k'(w)\n",
    "def f_and_df(k, w):\n",
    "    c, wp, wc = 5, 5, 1\n",
    "    f  = c**2 * k**2 - w**2 + wp**2/(1 - wc/w)\n",
    "    df = -2*w - wp**2 * wc/(w - wc)**2\n",
    "    return f, df\n",
    "\n",
    "# define a function that solves the relation for a given k\n",
    "def single_step(k, winit):\n",
    "    return newton_while(lambda w: f_and_df(k, w), winit,\n",
    "                        lambda i, wf, dw: abs(dw) > 1e-7 * abs(max(wf[0], winit, key=abs)))\n",
    "\n",
    "# define the k space\n",
    "ks = np.linspace(0.01, 10, 40)\n",
    "\n",
    "# initial trial guess of omega\n",
    "ws = [ks[0]]\n",
    "\n",
    "# walk over k values and find solutions\n",
    "for k in ks:\n",
    "    ws.append(single_step(k, ws[-1]))\n",
    "\n",
    "# remove the first guess\n",
    "ws = ws[1:]\n",
    "\n",
    "w_exact = np.linspace(1e-10, 0.99, 400)\n",
    "k_exact = 1/5 * np.sqrt(w_exact**2 - 5**2/(1 - 1/w_exact))\n",
    "\n",
    "plt.figure()\n",
    "plt.plot(k_exact, w_exact, \"-k\", label=\"$\\\\omega$ exact\")\n",
    "plt.plot(ks, ws, \".:r\", linewidth=1, label=\"$\\\\omega$ approx\")\n",
    "plt.xlabel(\"$k$\")\n",
    "plt.ylabel(\"$\\\\omega$\")\n",
    "plt.legend()\n",
    "plt.show()"
   ]
  },
  {
   "cell_type": "markdown",
   "id": "3f2e2266",
   "metadata": {},
   "source": [
    "### Fractals\n",
    "\n",
    "In mathematics, [fractal](https://en.wikipedia.org/wiki/Fractal) is a term used to describe geometric shapes containing detailed structure at arbitrarily small scales.\n",
    "\n",
    "Newton's method can be applied to complex-valued functions and solutions.\n",
    "The solution of the equation\n",
    "\n",
    "$$\n",
    "z^3 - 1 = 0\n",
    "$$\n",
    "\n",
    "has a single real root $z = 1$.\n",
    "\n",
    "Choose an array of trial guesses from a complex domain spanning $[-2, 2]$ in real and imaginary axes.\n",
    "Paint the region where the trial guesses led to the real root in black; otherwise in white."
   ]
  },
  {
   "cell_type": "code",
   "execution_count": null,
   "id": "e7b83ce0",
   "metadata": {},
   "outputs": [],
   "source": [
    "def found_real_root(zinit: complex) -> int:\n",
    "    root = newton_while(lambda z: (z**3 - 1, 3*z**2), zinit,\n",
    "                        lambda i, xy, dx: abs(dx) > 1e-10 and i < 20)\n",
    "    x, y = root.real, root.imag\n",
    "    if abs(y) > 1e-10 or abs(x - 1) > 1e-10:\n",
    "        return 0\n",
    "    return 1\n",
    "\n",
    "xs = np.linspace(-2, 2, 700)\n",
    "ys = xs\n",
    "mask = [[found_real_root(complex(x, y)) for x in xs] for y in ys]\n",
    "\n",
    "plt.figure(figsize=(11, 11))\n",
    "plt.imshow(mask, interpolation='none', origin='lower', cmap='Greys',\n",
    "            extent=np.hstack((xs[[0, -1]], ys[[0, -1]])))\n",
    "plt.xlabel('$\\\\Re(z)$')\n",
    "plt.ylabel('$\\\\Im(z)$')\n",
    "plt.show()"
   ]
  },
  {
   "cell_type": "markdown",
   "id": "37bcc25d",
   "metadata": {},
   "source": [
    "Let's zoom in the region $\\Re(z) \\in [-0.5, 0.5]$ and $\\Im(z) \\in [-0.5, 0.5]$."
   ]
  },
  {
   "cell_type": "code",
   "execution_count": null,
   "id": "168da100",
   "metadata": {},
   "outputs": [],
   "source": [
    "def found_real_root(zinit: complex) -> int:\n",
    "    root = newton_while(lambda z: (z**3 - 1, 3*z**2), zinit,\n",
    "                        lambda i, xy, dx: abs(dx) > 1e-10 and i < 20)\n",
    "    x, y = root.real, root.imag\n",
    "    if abs(y) > 1e-10 or abs(x - 1) > 1e-10:\n",
    "        return 0\n",
    "    return 1\n",
    "\n",
    "xs = np.linspace(-.5, .5, 700)\n",
    "ys = xs\n",
    "mask = [[found_real_root(complex(x, y)) for x in xs] for y in ys]\n",
    "\n",
    "plt.figure(figsize=(11, 11))\n",
    "plt.imshow(mask, interpolation='none', origin='lower', cmap='Greys',\n",
    "            extent=np.hstack((xs[[0, -1]], ys[[0, -1]])))\n",
    "plt.xlabel('$\\\\Re(z)$')\n",
    "plt.ylabel('$\\\\Im(z)$')\n",
    "plt.show()"
   ]
  }
 ],
 "metadata": {
  "kernelspec": {
   "display_name": "Python 3 (ipykernel)",
   "language": "python",
   "name": "python3"
  },
  "language_info": {
   "codemirror_mode": {
    "name": "ipython",
    "version": 3
   },
   "file_extension": ".py",
   "mimetype": "text/x-python",
   "name": "python",
   "nbconvert_exporter": "python",
   "pygments_lexer": "ipython3",
   "version": "3.9.13"
  }
 },
 "nbformat": 4,
 "nbformat_minor": 5
}
