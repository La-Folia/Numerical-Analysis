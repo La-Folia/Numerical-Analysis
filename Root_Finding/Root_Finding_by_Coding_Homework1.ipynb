{
 "cells": [
  {
   "cell_type": "code",
   "execution_count": 1,
   "id": "8a98ae39",
   "metadata": {},
   "outputs": [],
   "source": [
    "def f_1(x):\n",
    "    return (np.sin(x) - x - 1)\n",
    "\n",
    "def f_2(x):\n",
    "    return x * (1 - np.cos(x))\n",
    "\n",
    "def f_3(x):\n",
    "    return (exp(x) - x**2 + 3 * x - 2)\n",
    "\n",
    "#[-2, 1]"
   ]
  }
 ],
 "metadata": {
  "kernelspec": {
   "display_name": "Python 3 (ipykernel)",
   "language": "python",
   "name": "python3"
  },
  "language_info": {
   "codemirror_mode": {
    "name": "ipython",
    "version": 3
   },
   "file_extension": ".py",
   "mimetype": "text/x-python",
   "name": "python",
   "nbconvert_exporter": "python",
   "pygments_lexer": "ipython3",
   "version": "3.9.13"
  }
 },
 "nbformat": 4,
 "nbformat_minor": 5
}
