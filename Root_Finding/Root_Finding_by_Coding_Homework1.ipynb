{
 "cells": [
  {
   "cell_type": "code",
   "execution_count": 8,
   "id": "8ecde174",
   "metadata": {},
   "outputs": [],
   "source": [
    "import numpy as np\n",
    "import matplotlib.pyplot as plt\n",
    "plt.rcParams.update({'font.size': 15})\n",
    "from scipy import optimize\n",
    "import cmath"
   ]
  },
  {
   "cell_type": "code",
   "execution_count": 13,
   "id": "78b7c8ea",
   "metadata": {},
   "outputs": [],
   "source": [
    "def f_1(x):\n",
    "    return (np.sin(x) - x - 1)\n",
    "\n",
    "def f_2(x):\n",
    "    return x * (1 - np.cos(x))\n",
    "\n",
    "def f_3(x):\n",
    "    return (exp(x) - x**2 + 3 * x - 2)\n",
    "\n",
    "#[-2, 1] , 10e-6 의 오차, 횟수는 500 이하\n",
    "\n",
    "#뉴턴의 방법은 시작 값은 x0 = 1\n",
    "#secant 방법도 x0 = 1, x1 = 0.9\n",
    "#Muller method x0 = 1, x1 = 0.9, x2 = 0.95\n",
    "#알고리즘이 수렴하지 않을 경우를 대비하여 다른 초기 추측을 시도해 보세요\n",
    "#\"False Position\"을 \"Muller's Method\"로 바꾸세요"
   ]
  },
  {
   "cell_type": "markdown",
   "id": "eac55071",
   "metadata": {},
   "source": [
    "Bisection Mehod"
   ]
  },
  {
   "cell_type": "code",
   "execution_count": null,
   "id": "ed0a6ba2",
   "metadata": {},
   "outputs": [],
   "source": []
  }
 ],
 "metadata": {
  "kernelspec": {
   "display_name": "Python 3 (ipykernel)",
   "language": "python",
   "name": "python3"
  },
  "language_info": {
   "codemirror_mode": {
    "name": "ipython",
    "version": 3
   },
   "file_extension": ".py",
   "mimetype": "text/x-python",
   "name": "python",
   "nbconvert_exporter": "python",
   "pygments_lexer": "ipython3",
   "version": "3.9.13"
  }
 },
 "nbformat": 4,
 "nbformat_minor": 5
}
