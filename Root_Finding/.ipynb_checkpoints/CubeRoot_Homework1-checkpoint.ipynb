{
 "cells": [
  {
   "cell_type": "code",
   "execution_count": 4,
   "id": "651e161a",
   "metadata": {},
   "outputs": [],
   "source": [
    "import numpy as np\n",
    "import matplotlib.pyplot as plt\n",
    "import scipy\n",
    "plt.rcParams.update({'font.size': 15})"
   ]
  },
  {
   "cell_type": "code",
   "execution_count": 5,
   "id": "784060a2",
   "metadata": {},
   "outputs": [
    {
     "data": {
      "text/plain": [
       "(1.2599210498948732, 5, 10)"
      ]
     },
     "execution_count": 5,
     "metadata": {},
     "output_type": "execute_result"
    }
   ],
   "source": [
    "from scipy import optimize\n",
    "def f(x):\n",
    "    return (x**3 - 2)\n",
    "\n",
    "def df(x):\n",
    "    return 3*x**2\n",
    "\n",
    "sol = optimize.root_scalar(f, x0 = 1, fprime = df,\n",
    "                         method = 'newton')\n",
    "\n",
    "sol.root, sol.iterations"
   ]
  }
 ],
 "metadata": {
  "kernelspec": {
   "display_name": "Python 3 (ipykernel)",
   "language": "python",
   "name": "python3"
  },
  "language_info": {
   "codemirror_mode": {
    "name": "ipython",
    "version": 3
   },
   "file_extension": ".py",
   "mimetype": "text/x-python",
   "name": "python",
   "nbconvert_exporter": "python",
   "pygments_lexer": "ipython3",
   "version": "3.9.13"
  }
 },
 "nbformat": 4,
 "nbformat_minor": 5
}
