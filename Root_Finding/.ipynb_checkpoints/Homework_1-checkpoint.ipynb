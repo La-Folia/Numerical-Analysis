{
 "cells": [
  {
   "cell_type": "markdown",
   "id": "3dc97b08",
   "metadata": {},
   "source": [
    "# 1. scipy.optimize.root_scalar Practice"
   ]
  },
  {
   "cell_type": "markdown",
   "id": "2d034567",
   "metadata": {},
   "source": [
    "scipy.optimize.root_scalar(f, args=(), method=None, bracket=None, fprime=None, fprime2=None, x0=None, x1=None, xtol=None, rtol=None, maxiter=None, options=None)"
   ]
  },
  {
   "cell_type": "code",
   "execution_count": 44,
   "id": "ee0ccd09",
   "metadata": {},
   "outputs": [],
   "source": [
    "import numpy as np\n",
    "import matplotlib.pyplot as plt\n",
    "import scipy\n",
    "plt.rcParams.update({'font.size': 15})"
   ]
  },
  {
   "cell_type": "code",
   "execution_count": 125,
   "id": "faeb2e4e",
   "metadata": {},
   "outputs": [
    {
     "data": {
      "text/plain": [
       "(1.2599210498948732, 5, 10)"
      ]
     },
     "execution_count": 125,
     "metadata": {},
     "output_type": "execute_result"
    }
   ],
   "source": [
    "from scipy import optimize\n",
    "def f(x):\n",
    "    return (x**3 - 2)\n",
    "\n",
    "def df(x):\n",
    "    return 3*x**2\n",
    "\n",
    "sol = optimize.root_scalar(f, x0 = 1, fprime = df,\n",
    "                         method = 'newton')\n",
    "\n",
    "sol.root, sol.iterations, sol.function_calls"
   ]
  },
  {
   "cell_type": "code",
   "execution_count": 126,
   "id": "5e5c3f41",
   "metadata": {},
   "outputs": [
    {
     "data": {
      "text/plain": [
       "6"
      ]
     },
     "execution_count": 126,
     "metadata": {},
     "output_type": "execute_result"
    }
   ],
   "source": [
    "f(2)"
   ]
  },
  {
   "cell_type": "code",
   "execution_count": 148,
   "id": "9820bedf",
   "metadata": {},
   "outputs": [
    {
     "data": {
      "image/png": "[encoded data removed]",
      "text/plain": [
       "<Figure size 640x480 with 1 Axes>"
      ]
     },
     "metadata": {},
     "output_type": "display_data"
    }
   ],
   "source": [
    "ks = np.linspace(0.01, 10, 40)\n",
    "ws = [ks[0]]\n",
    "\n",
    "def f(x): \n",
    "    c, wp, wc = 5, 5, 1\n",
    "    f = c**2 * k**2 - x**2 + wp**2/(1 - wc/x)\n",
    "    return f\n",
    "\n",
    "def df(x) :\n",
    "    c, wp, wc = 5, 5, 1\n",
    "    df = -2*x - wp**2 * wc/(x - wc)**2\n",
    "    return df\n",
    "\n",
    "\n",
    "for k in ks:\n",
    "    sol = optimize.root_scalar(f, x0 = 2, fprime= df, \n",
    "                         method = 'newton')\n",
    "    ws.append(sol.root)\n",
    "    \n",
    "ws = ws[1:]\n",
    "\n",
    "plt.figure()\n",
    "plt.plot(k_exact, w_exact, \"-k\", label = \"$\\\\omega$ exact\")\n",
    "plt.plot(ks, ws, \".:r\", linewidth = 1, label = \"$\\\\omega$ approx\")\n",
    "plt.xlabel(\"$k$\")\n",
    "plt.ylabel(\"$\\\\omega$\")\n",
    "plt.legend()\n",
    "plt.show()"
   ]
  },
  {
   "cell_type": "code",
   "execution_count": 141,
   "id": "3d9b9c7b",
   "metadata": {},
   "outputs": [
    {
     "data": {
      "text/plain": [
       "array([ 0.01      ,  0.26615385,  0.52230769,  0.77846154,  1.03461538,\n",
       "        1.29076923,  1.54692308,  1.80307692,  2.05923077,  2.31538462,\n",
       "        2.57153846,  2.82769231,  3.08384615,  3.34      ,  3.59615385,\n",
       "        3.85230769,  4.10846154,  4.36461538,  4.62076923,  4.87692308,\n",
       "        5.13307692,  5.38923077,  5.64538462,  5.90153846,  6.15769231,\n",
       "        6.41384615,  6.67      ,  6.92615385,  7.18230769,  7.43846154,\n",
       "        7.69461538,  7.95076923,  8.20692308,  8.46307692,  8.71923077,\n",
       "        8.97538462,  9.23153846,  9.48769231,  9.74384615, 10.        ])"
      ]
     },
     "execution_count": 141,
     "metadata": {},
     "output_type": "execute_result"
    }
   ],
   "source": [
    "ks"
   ]
  },
  {
   "cell_type": "code",
   "execution_count": 128,
   "id": "88c9207b",
   "metadata": {},
   "outputs": [
    {
     "data": {
      "text/plain": [
       "271.0"
      ]
     },
     "execution_count": 128,
     "metadata": {},
     "output_type": "execute_result"
    }
   ],
   "source": [
    "f(2)"
   ]
  },
  {
   "cell_type": "code",
   "execution_count": 99,
   "id": "f8a88cb7",
   "metadata": {},
   "outputs": [
    {
     "data": {
      "text/plain": [
       "(5947.699989976919, 50, 100)"
      ]
     },
     "execution_count": 99,
     "metadata": {},
     "output_type": "execute_result"
    }
   ],
   "source": [
    "def f(x): \n",
    "    c, wp, wc = 5, 5, 1\n",
    "    f = c**2 * k**2 - x**2 + wp**2/(1 - wc/x)\n",
    "    return f\n",
    "\n",
    "\n",
    "def df(x) :\n",
    "    c, wp, wc = 5, 5, 1\n",
    "    df = -2*x - wp**2 * wc/(x - wc)**2\n",
    "    return df\n",
    "\n",
    "\n",
    "sol = optimize.root_scalar(lambda w: f(x), x0 = 1.00000000e-05, fprime = lambda w: df(x), \n",
    "                         method = 'newton')\n",
    "\n",
    "sol.root, sol.iterations, sol.function_calls"
   ]
  },
  {
   "cell_type": "code",
   "execution_count": 75,
   "id": "aee13ba3",
   "metadata": {},
   "outputs": [],
   "source": [
    "w_exact = np.linspace(1e-10, 0.99, 400)\n",
    "k_exact = 1/5 * np.sqrt(w_exact**2 - 5**2/(1 - 1/w_exact))"
   ]
  },
  {
   "cell_type": "code",
   "execution_count": 79,
   "id": "20ee7974",
   "metadata": {},
   "outputs": [
    {
     "data": {
      "text/plain": [
       "array([1.00000000e-05, 4.98760568e-02, 7.06267614e-02, 8.66120561e-02,\n",
       "       1.00141108e-01, 1.12107155e-01, 1.22967727e-01, 1.32994292e-01,\n",
       "       1.42363518e-01, 1.51197981e-01, 1.59586830e-01, 1.67597292e-01,\n",
       "       1.75281544e-01, 1.82681035e-01, 1.89829344e-01, 1.96754116e-01,\n",
       "       2.03478435e-01, 2.10021811e-01, 2.16400910e-01, 2.22630098e-01,\n",
       "       2.28721866e-01, 2.34687153e-01, 2.40535605e-01, 2.46275777e-01,\n",
       "       2.51915300e-01, 2.57461014e-01, 2.62919080e-01, 2.68295068e-01,\n",
       "       2.73594037e-01, 2.78820597e-01, 2.83978961e-01, 2.89072995e-01,\n",
       "       2.94106256e-01, 2.99082023e-01, 3.04003332e-01, 3.08872994e-01,\n",
       "       3.13693625e-01, 3.18467659e-01, 3.23197367e-01, 3.27884876e-01,\n",
       "       3.32532175e-01, 3.37141132e-01, 3.41713504e-01, 3.46250944e-01,\n",
       "       3.50755012e-01, 3.55227182e-01, 3.59668847e-01, 3.64081326e-01,\n",
       "       3.68465871e-01, 3.72823670e-01, 3.77155854e-01, 3.81463498e-01,\n",
       "       3.85747627e-01, 3.90009220e-01, 3.94249209e-01, 3.98468489e-01,\n",
       "       4.02667913e-01, 4.06848300e-01, 4.11010435e-01, 4.15155072e-01,\n",
       "       4.19282933e-01, 4.23394715e-01, 4.27491087e-01, 4.31572693e-01,\n",
       "       4.35640156e-01, 4.39694074e-01, 4.43735027e-01, 4.47763573e-01,\n",
       "       4.51780253e-01, 4.55785590e-01, 4.59780090e-01, 4.63764244e-01,\n",
       "       4.67738528e-01, 4.71703404e-01, 4.75659319e-01, 4.79606710e-01,\n",
       "       4.83546000e-01, 4.87477600e-01, 4.91401911e-01, 4.95319325e-01,\n",
       "       4.99230222e-01, 5.03134973e-01, 5.07033941e-01, 5.10927479e-01,\n",
       "       5.14815934e-01, 5.18699643e-01, 5.22578936e-01, 5.26454137e-01,\n",
       "       5.30325564e-01, 5.34193526e-01, 5.38058328e-01, 5.41920268e-01,\n",
       "       5.45779639e-01, 5.49636730e-01, 5.53491822e-01, 5.57345193e-01,\n",
       "       5.61197117e-01, 5.65047862e-01, 5.68897693e-01, 5.72746872e-01,\n",
       "       5.76595653e-01, 5.80444292e-01, 5.84293038e-01, 5.88142137e-01,\n",
       "       5.91991833e-01, 5.95842367e-01, 5.99693975e-01, 6.03546894e-01,\n",
       "       6.07401356e-01, 6.11257591e-01, 6.15115826e-01, 6.18976288e-01,\n",
       "       6.22839200e-01, 6.26704785e-01, 6.30573261e-01, 6.34444847e-01,\n",
       "       6.38319761e-01, 6.42198217e-01, 6.46080429e-01, 6.49966610e-01,\n",
       "       6.53856970e-01, 6.57751722e-01, 6.61651072e-01, 6.65555231e-01,\n",
       "       6.69464405e-01, 6.73378802e-01, 6.77298627e-01, 6.81224086e-01,\n",
       "       6.85155383e-01, 6.89092724e-01, 6.93036312e-01, 6.96986352e-01,\n",
       "       7.00943046e-01, 7.04906599e-01, 7.08877214e-01, 7.12855094e-01,\n",
       "       7.16840443e-01, 7.20833464e-01, 7.24834361e-01, 7.28843338e-01,\n",
       "       7.32860599e-01, 7.36886349e-01, 7.40920794e-01, 7.44964139e-01,\n",
       "       7.49016590e-01, 7.53078354e-01, 7.57149638e-01, 7.61230652e-01,\n",
       "       7.65321604e-01, 7.69422704e-01, 7.73534164e-01, 7.77656195e-01,\n",
       "       7.81789010e-01, 7.85932824e-01, 7.90087852e-01, 7.94254311e-01,\n",
       "       7.98432419e-01, 8.02622394e-01, 8.06824459e-01, 8.11038835e-01,\n",
       "       8.15265746e-01, 8.19505417e-01, 8.23758077e-01, 8.28023953e-01,\n",
       "       8.32303277e-01, 8.36596281e-01, 8.40903200e-01, 8.45224271e-01,\n",
       "       8.49559732e-01, 8.53909824e-01, 8.58274791e-01, 8.62654879e-01,\n",
       "       8.67050334e-01, 8.71461407e-01, 8.75888351e-01, 8.80331422e-01,\n",
       "       8.84790877e-01, 8.89266977e-01, 8.93759987e-01, 8.98270172e-01,\n",
       "       9.02797802e-01, 9.07343150e-01, 9.11906491e-01, 9.16488105e-01,\n",
       "       9.21088274e-01, 9.25707284e-01, 9.30345423e-01, 9.35002986e-01,\n",
       "       9.39680268e-01, 9.44377569e-01, 9.49095194e-01, 9.53833452e-01,\n",
       "       9.58592654e-01, 9.63373117e-01, 9.68175162e-01, 9.72999113e-01,\n",
       "       9.77845301e-01, 9.82714061e-01, 9.87605730e-01, 9.92520654e-01,\n",
       "       9.97459180e-01, 1.00242166e+00, 1.00740846e+00, 1.01241995e+00,\n",
       "       1.01745648e+00, 1.02251844e+00, 1.02760621e+00, 1.03272017e+00,\n",
       "       1.03786073e+00, 1.04302828e+00, 1.04822322e+00, 1.05344597e+00,\n",
       "       1.05869696e+00, 1.06397660e+00, 1.06928532e+00, 1.07462358e+00,\n",
       "       1.07999182e+00, 1.08539049e+00, 1.09082006e+00, 1.09628100e+00,\n",
       "       1.10177379e+00, 1.10729892e+00, 1.11285688e+00, 1.11844819e+00,\n",
       "       1.12407336e+00, 1.12973290e+00, 1.13542737e+00, 1.14115729e+00,\n",
       "       1.14692323e+00, 1.15272574e+00, 1.15856541e+00, 1.16444282e+00,\n",
       "       1.17035857e+00, 1.17631326e+00, 1.18230752e+00, 1.18834199e+00,\n",
       "       1.19441730e+00, 1.20053411e+00, 1.20669310e+00, 1.21289495e+00,\n",
       "       1.21914037e+00, 1.22543006e+00, 1.23176475e+00, 1.23814519e+00,\n",
       "       1.24457214e+00, 1.25104637e+00, 1.25756867e+00, 1.26413986e+00,\n",
       "       1.27076076e+00, 1.27743221e+00, 1.28415509e+00, 1.29093026e+00,\n",
       "       1.29775864e+00, 1.30464114e+00, 1.31157872e+00, 1.31857233e+00,\n",
       "       1.32562296e+00, 1.33273162e+00, 1.33989935e+00, 1.34712721e+00,\n",
       "       1.35441627e+00, 1.36176765e+00, 1.36918249e+00, 1.37666194e+00,\n",
       "       1.38420720e+00, 1.39181950e+00, 1.39950008e+00, 1.40725023e+00,\n",
       "       1.41507126e+00, 1.42296453e+00, 1.43093142e+00, 1.43897335e+00,\n",
       "       1.44709177e+00, 1.45528819e+00, 1.46356414e+00, 1.47192120e+00,\n",
       "       1.48036098e+00, 1.48888515e+00, 1.49749542e+00, 1.50619355e+00,\n",
       "       1.51498133e+00, 1.52386064e+00, 1.53283337e+00, 1.54190150e+00,\n",
       "       1.55106704e+00, 1.56033208e+00, 1.56969874e+00, 1.57916925e+00,\n",
       "       1.58874587e+00, 1.59843094e+00, 1.60822687e+00, 1.61813615e+00,\n",
       "       1.62816133e+00, 1.63830507e+00, 1.64857009e+00, 1.65895919e+00,\n",
       "       1.66947530e+00, 1.68012140e+00, 1.69090059e+00, 1.70181608e+00,\n",
       "       1.71287117e+00, 1.72406928e+00, 1.73541395e+00, 1.74690884e+00,\n",
       "       1.75855774e+00, 1.77036456e+00, 1.78233338e+00, 1.79446839e+00,\n",
       "       1.80677396e+00, 1.81925461e+00, 1.83191502e+00, 1.84476007e+00,\n",
       "       1.85779480e+00, 1.87102446e+00, 1.88445450e+00, 1.89809059e+00,\n",
       "       1.91193861e+00, 1.92600468e+00, 1.94029520e+00, 1.95481679e+00,\n",
       "       1.96957637e+00, 1.98458116e+00, 1.99983866e+00, 2.01535673e+00,\n",
       "       2.03114354e+00, 2.04720766e+00, 2.06355801e+00, 2.08020395e+00,\n",
       "       2.09715524e+00, 2.11442213e+00, 2.13201532e+00, 2.14994607e+00,\n",
       "       2.16822614e+00, 2.18686792e+00, 2.20588440e+00, 2.22528922e+00,\n",
       "       2.24509675e+00, 2.26532210e+00, 2.28598119e+00, 2.30709082e+00,\n",
       "       2.32866868e+00, 2.35073348e+00, 2.37330498e+00, 2.39640409e+00,\n",
       "       2.42005293e+00, 2.44427498e+00, 2.46909511e+00, 2.49453976e+00,\n",
       "       2.52063702e+00, 2.54741678e+00, 2.57491091e+00, 2.60315339e+00,\n",
       "       2.63218050e+00, 2.66203106e+00, 2.69274662e+00, 2.72437175e+00,\n",
       "       2.75695429e+00, 2.79054570e+00, 2.82520139e+00, 2.86098115e+00,\n",
       "       2.89794959e+00, 2.93617664e+00, 2.97573816e+00, 3.01671658e+00,\n",
       "       3.05920165e+00, 3.10329129e+00, 3.14909262e+00, 3.19672305e+00,\n",
       "       3.24631162e+00, 3.29800049e+00, 3.35194677e+00, 3.40832455e+00,\n",
       "       3.46732735e+00, 3.52917104e+00, 3.59409723e+00, 3.66237736e+00,\n",
       "       3.73431766e+00, 3.81026506e+00, 3.89061445e+00, 3.97581754e+00,\n",
       "       4.06639388e+00, 4.16294451e+00, 4.26616920e+00, 4.37688835e+00,\n",
       "       4.49607114e+00, 4.62487214e+00, 4.76467957e+00, 4.91717991e+00,\n",
       "       5.08444572e+00, 5.26905736e+00, 5.47427510e+00, 5.70428848e+00,\n",
       "       5.96458733e+00, 6.26253165e+00, 6.60825999e+00, 7.01620276e+00,\n",
       "       7.50774286e+00, 8.11621727e+00, 8.89716189e+00, 9.95184425e+00])"
      ]
     },
     "execution_count": 79,
     "metadata": {},
     "output_type": "execute_result"
    }
   ],
   "source": [
    "k_exact"
   ]
  },
  {
   "cell_type": "code",
   "execution_count": 80,
   "id": "9be07a0b",
   "metadata": {},
   "outputs": [
    {
     "data": {
      "text/plain": [
       "array([1.00000000e-10, 2.48120311e-03, 4.96240611e-03, 7.44360912e-03,\n",
       "       9.92481213e-03, 1.24060151e-02, 1.48872181e-02, 1.73684212e-02,\n",
       "       1.98496242e-02, 2.23308272e-02, 2.48120302e-02, 2.72932332e-02,\n",
       "       2.97744362e-02, 3.22556392e-02, 3.47368422e-02, 3.72180452e-02,\n",
       "       3.96992482e-02, 4.21804512e-02, 4.46616542e-02, 4.71428572e-02,\n",
       "       4.96240602e-02, 5.21052633e-02, 5.45864663e-02, 5.70676693e-02,\n",
       "       5.95488723e-02, 6.20300753e-02, 6.45112783e-02, 6.69924813e-02,\n",
       "       6.94736843e-02, 7.19548873e-02, 7.44360903e-02, 7.69172933e-02,\n",
       "       7.93984963e-02, 8.18796993e-02, 8.43609023e-02, 8.68421054e-02,\n",
       "       8.93233084e-02, 9.18045114e-02, 9.42857144e-02, 9.67669174e-02,\n",
       "       9.92481204e-02, 1.01729323e-01, 1.04210526e-01, 1.06691729e-01,\n",
       "       1.09172932e-01, 1.11654135e-01, 1.14135338e-01, 1.16616541e-01,\n",
       "       1.19097744e-01, 1.21578947e-01, 1.24060150e-01, 1.26541353e-01,\n",
       "       1.29022556e-01, 1.31503759e-01, 1.33984962e-01, 1.36466165e-01,\n",
       "       1.38947369e-01, 1.41428572e-01, 1.43909775e-01, 1.46390978e-01,\n",
       "       1.48872181e-01, 1.51353384e-01, 1.53834587e-01, 1.56315790e-01,\n",
       "       1.58796993e-01, 1.61278196e-01, 1.63759399e-01, 1.66240602e-01,\n",
       "       1.68721805e-01, 1.71203008e-01, 1.73684211e-01, 1.76165414e-01,\n",
       "       1.78646617e-01, 1.81127820e-01, 1.83609023e-01, 1.86090226e-01,\n",
       "       1.88571429e-01, 1.91052632e-01, 1.93533835e-01, 1.96015038e-01,\n",
       "       1.98496241e-01, 2.00977444e-01, 2.03458647e-01, 2.05939850e-01,\n",
       "       2.08421053e-01, 2.10902256e-01, 2.13383459e-01, 2.15864662e-01,\n",
       "       2.18345865e-01, 2.20827068e-01, 2.23308271e-01, 2.25789474e-01,\n",
       "       2.28270677e-01, 2.30751880e-01, 2.33233083e-01, 2.35714286e-01,\n",
       "       2.38195489e-01, 2.40676692e-01, 2.43157895e-01, 2.45639098e-01,\n",
       "       2.48120301e-01, 2.50601504e-01, 2.53082707e-01, 2.55563910e-01,\n",
       "       2.58045113e-01, 2.60526316e-01, 2.63007519e-01, 2.65488722e-01,\n",
       "       2.67969925e-01, 2.70451128e-01, 2.72932331e-01, 2.75413534e-01,\n",
       "       2.77894737e-01, 2.80375940e-01, 2.82857143e-01, 2.85338346e-01,\n",
       "       2.87819549e-01, 2.90300752e-01, 2.92781955e-01, 2.95263158e-01,\n",
       "       2.97744361e-01, 3.00225564e-01, 3.02706767e-01, 3.05187970e-01,\n",
       "       3.07669173e-01, 3.10150376e-01, 3.12631579e-01, 3.15112782e-01,\n",
       "       3.17593985e-01, 3.20075188e-01, 3.22556391e-01, 3.25037594e-01,\n",
       "       3.27518797e-01, 3.30000000e-01, 3.32481203e-01, 3.34962406e-01,\n",
       "       3.37443609e-01, 3.39924812e-01, 3.42406015e-01, 3.44887218e-01,\n",
       "       3.47368421e-01, 3.49849624e-01, 3.52330827e-01, 3.54812030e-01,\n",
       "       3.57293233e-01, 3.59774436e-01, 3.62255639e-01, 3.64736842e-01,\n",
       "       3.67218045e-01, 3.69699248e-01, 3.72180451e-01, 3.74661654e-01,\n",
       "       3.77142857e-01, 3.79624060e-01, 3.82105263e-01, 3.84586466e-01,\n",
       "       3.87067669e-01, 3.89548872e-01, 3.92030075e-01, 3.94511278e-01,\n",
       "       3.96992481e-01, 3.99473684e-01, 4.01954887e-01, 4.04436090e-01,\n",
       "       4.06917293e-01, 4.09398496e-01, 4.11879699e-01, 4.14360902e-01,\n",
       "       4.16842105e-01, 4.19323308e-01, 4.21804511e-01, 4.24285714e-01,\n",
       "       4.26766917e-01, 4.29248120e-01, 4.31729323e-01, 4.34210526e-01,\n",
       "       4.36691729e-01, 4.39172932e-01, 4.41654135e-01, 4.44135338e-01,\n",
       "       4.46616541e-01, 4.49097744e-01, 4.51578947e-01, 4.54060150e-01,\n",
       "       4.56541353e-01, 4.59022556e-01, 4.61503759e-01, 4.63984962e-01,\n",
       "       4.66466165e-01, 4.68947368e-01, 4.71428571e-01, 4.73909774e-01,\n",
       "       4.76390977e-01, 4.78872181e-01, 4.81353384e-01, 4.83834587e-01,\n",
       "       4.86315790e-01, 4.88796993e-01, 4.91278196e-01, 4.93759399e-01,\n",
       "       4.96240602e-01, 4.98721805e-01, 5.01203008e-01, 5.03684211e-01,\n",
       "       5.06165414e-01, 5.08646617e-01, 5.11127820e-01, 5.13609023e-01,\n",
       "       5.16090226e-01, 5.18571429e-01, 5.21052632e-01, 5.23533835e-01,\n",
       "       5.26015038e-01, 5.28496241e-01, 5.30977444e-01, 5.33458647e-01,\n",
       "       5.35939850e-01, 5.38421053e-01, 5.40902256e-01, 5.43383459e-01,\n",
       "       5.45864662e-01, 5.48345865e-01, 5.50827068e-01, 5.53308271e-01,\n",
       "       5.55789474e-01, 5.58270677e-01, 5.60751880e-01, 5.63233083e-01,\n",
       "       5.65714286e-01, 5.68195489e-01, 5.70676692e-01, 5.73157895e-01,\n",
       "       5.75639098e-01, 5.78120301e-01, 5.80601504e-01, 5.83082707e-01,\n",
       "       5.85563910e-01, 5.88045113e-01, 5.90526316e-01, 5.93007519e-01,\n",
       "       5.95488722e-01, 5.97969925e-01, 6.00451128e-01, 6.02932331e-01,\n",
       "       6.05413534e-01, 6.07894737e-01, 6.10375940e-01, 6.12857143e-01,\n",
       "       6.15338346e-01, 6.17819549e-01, 6.20300752e-01, 6.22781955e-01,\n",
       "       6.25263158e-01, 6.27744361e-01, 6.30225564e-01, 6.32706767e-01,\n",
       "       6.35187970e-01, 6.37669173e-01, 6.40150376e-01, 6.42631579e-01,\n",
       "       6.45112782e-01, 6.47593985e-01, 6.50075188e-01, 6.52556391e-01,\n",
       "       6.55037594e-01, 6.57518797e-01, 6.60000000e-01, 6.62481203e-01,\n",
       "       6.64962406e-01, 6.67443609e-01, 6.69924812e-01, 6.72406015e-01,\n",
       "       6.74887218e-01, 6.77368421e-01, 6.79849624e-01, 6.82330827e-01,\n",
       "       6.84812030e-01, 6.87293233e-01, 6.89774436e-01, 6.92255639e-01,\n",
       "       6.94736842e-01, 6.97218045e-01, 6.99699248e-01, 7.02180451e-01,\n",
       "       7.04661654e-01, 7.07142857e-01, 7.09624060e-01, 7.12105263e-01,\n",
       "       7.14586466e-01, 7.17067669e-01, 7.19548872e-01, 7.22030075e-01,\n",
       "       7.24511278e-01, 7.26992481e-01, 7.29473684e-01, 7.31954887e-01,\n",
       "       7.34436090e-01, 7.36917293e-01, 7.39398496e-01, 7.41879699e-01,\n",
       "       7.44360902e-01, 7.46842105e-01, 7.49323308e-01, 7.51804511e-01,\n",
       "       7.54285714e-01, 7.56766917e-01, 7.59248120e-01, 7.61729323e-01,\n",
       "       7.64210526e-01, 7.66691729e-01, 7.69172932e-01, 7.71654135e-01,\n",
       "       7.74135338e-01, 7.76616541e-01, 7.79097744e-01, 7.81578947e-01,\n",
       "       7.84060150e-01, 7.86541353e-01, 7.89022556e-01, 7.91503759e-01,\n",
       "       7.93984962e-01, 7.96466165e-01, 7.98947368e-01, 8.01428571e-01,\n",
       "       8.03909774e-01, 8.06390977e-01, 8.08872180e-01, 8.11353383e-01,\n",
       "       8.13834586e-01, 8.16315789e-01, 8.18796992e-01, 8.21278196e-01,\n",
       "       8.23759399e-01, 8.26240602e-01, 8.28721805e-01, 8.31203008e-01,\n",
       "       8.33684211e-01, 8.36165414e-01, 8.38646617e-01, 8.41127820e-01,\n",
       "       8.43609023e-01, 8.46090226e-01, 8.48571429e-01, 8.51052632e-01,\n",
       "       8.53533835e-01, 8.56015038e-01, 8.58496241e-01, 8.60977444e-01,\n",
       "       8.63458647e-01, 8.65939850e-01, 8.68421053e-01, 8.70902256e-01,\n",
       "       8.73383459e-01, 8.75864662e-01, 8.78345865e-01, 8.80827068e-01,\n",
       "       8.83308271e-01, 8.85789474e-01, 8.88270677e-01, 8.90751880e-01,\n",
       "       8.93233083e-01, 8.95714286e-01, 8.98195489e-01, 9.00676692e-01,\n",
       "       9.03157895e-01, 9.05639098e-01, 9.08120301e-01, 9.10601504e-01,\n",
       "       9.13082707e-01, 9.15563910e-01, 9.18045113e-01, 9.20526316e-01,\n",
       "       9.23007519e-01, 9.25488722e-01, 9.27969925e-01, 9.30451128e-01,\n",
       "       9.32932331e-01, 9.35413534e-01, 9.37894737e-01, 9.40375940e-01,\n",
       "       9.42857143e-01, 9.45338346e-01, 9.47819549e-01, 9.50300752e-01,\n",
       "       9.52781955e-01, 9.55263158e-01, 9.57744361e-01, 9.60225564e-01,\n",
       "       9.62706767e-01, 9.65187970e-01, 9.67669173e-01, 9.70150376e-01,\n",
       "       9.72631579e-01, 9.75112782e-01, 9.77593985e-01, 9.80075188e-01,\n",
       "       9.82556391e-01, 9.85037594e-01, 9.87518797e-01, 9.90000000e-01])"
      ]
     },
     "execution_count": 80,
     "metadata": {},
     "output_type": "execute_result"
    }
   ],
   "source": [
    "w_exact"
   ]
  },
  {
   "cell_type": "markdown",
   "id": "e0ffbe25",
   "metadata": {},
   "source": [
    "\n",
    "\n"
   ]
  }
 ],
 "metadata": {
  "kernelspec": {
   "display_name": "Python 3 (ipykernel)",
   "language": "python",
   "name": "python3"
  },
  "language_info": {
   "codemirror_mode": {
    "name": "ipython",
    "version": 3
   },
   "file_extension": ".py",
   "mimetype": "text/x-python",
   "name": "python",
   "nbconvert_exporter": "python",
   "pygments_lexer": "ipython3",
   "version": "3.9.13"
  }
 },
 "nbformat": 4,
 "nbformat_minor": 5
}
