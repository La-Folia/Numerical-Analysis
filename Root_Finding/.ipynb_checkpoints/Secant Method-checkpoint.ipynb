{
 "cells": [
  {
   "cell_type": "code",
   "execution_count": 5,
   "id": "1dd685f1",
   "metadata": {},
   "outputs": [],
   "source": [
    "import numpy as np\n",
    "import matplotlib.pyplot as plt\n",
    "plt.rcParams.update({'font.size': 15})"
   ]
  },
  {
   "cell_type": "markdown",
   "id": "3a225f54",
   "metadata": {},
   "source": [
    "Secant Method"
   ]
  },
  {
   "cell_type": "markdown",
   "id": "e2c403a0",
   "metadata": {},
   "source": [
    "- 해의 근처에서 매끄러운 함수의 경우, 할선법으로 알려진 방법이 이분법보다 빠르게 해가 구해진다.\n",
    "- 이 방법에서 함수는 주어진 영역에서 선형이라고 가정하고, 근의 다음 개선은 근사선이 축을 가로지르는 점으로 간주한다. 각 반복 후 가장 오래된 경계점은 루트의 최신 추정치를 위해 삭제됩니다.\n",
    "- 시퀀트 방법은 충분히 연속적인 함수의 해 근처에서 더 빠르게 수렴한다. 그러나 해가 반드시 괄호로 묶인 채로 남아 있지는 않다는 단점이 있다."
   ]
  },
  {
   "cell_type": "markdown",
   "id": "b768da43",
   "metadata": {},
   "source": [
    "<center><figure>\n",
    "  <img src=\"https://upload.wikimedia.org/wikipedia/commons/thumb/9/92/Secant_method.svg/300px-Secant_method.svg.png\">\n",
    "  <figcaption>From Wikipedia (https://en.wikipedia.org/wiki/Secant_method)</figcaption>\n",
    "</figure></center>"
   ]
  },
  {
   "cell_type": "markdown",
   "id": "2a80cf3c",
   "metadata": {},
   "source": [
    "일부 지역에서 축을 통과하는 연속적이고 부드러운 함수 $f(x)$를 생각해보자.\n",
    "$[x_0, x_1]$ 구간이 주어지면 위 그림과 같이 $(x_0, f(x_0))$와 $(x_1, f(x_1))$ 지점을 통과하는 선을 구성할 수 있다.\n",
    "*상수선*이라고 불리는 이 선의 방정식은 다음과 같다."
   ]
  },
  {
   "cell_type": "markdown",
   "id": "db2d1d3c",
   "metadata": {},
   "source": [
    "\n",
    "$$\n",
    "y = \\frac{f(x_1) - f(x_0}{x_1 - x_0}(x - x_1) + f(x_1)\n",
    "$$\n",
    "\n",
    "$y = 0$일 때, 해는 다음과 같다.\n",
    "#### 단순히 x에 대하여 정리하면 됨.\n",
    "$$\n",
    "x = x_1 - f(x_1) \\frac{x_1 - x_0}{f(x_1) - f(x_0}\n",
    "$$\n"
   ]
  },
  {
   "cell_type": "markdown",
   "id": "bac8af25",
   "metadata": {},
   "source": [
    "## 알고리즘\n",
    "\n",
    "1. 초기값 $x_0$ 및 $x_1$로 시작하여, 시퀀트 선이 축과 교차하는 점을 구합니다.\n",
    "\n",
    "    $$\n",
    "    x = x_1 - f(x_1) \\frac{x_1 - x_0}{f(x_1) - f(x_0}\n",
    "    $$\n",
    "    \n",
    "2. 그런 다음 $x$의 새로운 값을 $x_2$로 사용하고 $x_0$와 $x_1$ 대신 $x_1$와 $x_2$를 사용하여 $x_3$, $x_4$ 등을 해결한다.\n",
    "\n",
    "   $$\n",
    "    \\begin{aligned}\n",
    "    x_3 &= x_2 - f(x_2) \\frac{x_2 - x_1}{f(x_2) - f(x_1)}, \\\\\n",
    "    x_4 &= x_3 - f(x_3) \\frac{x_3 - x_2}{f(x_3) - f(x_2)}, \\\\\n",
    "    &\\ \\vdots \\\\\n",
    "    x_n &= x_{n - 1} - f(x_{n - 1}) \\frac{x_{n - 1} - x_{n - 2}}{f(x_{n - 1}) - f(x_{n - 2})}. \\\\\n",
    "    \\end{aligned}\n",
    "    $$\n",
    "3. 충분히 높은 정밀도($x_n$와 $x_{n-1}$ 사이의 충분히 작은 차이)에 도달하면 반복이 중지된다."
   ]
  },
  {
   "cell_type": "markdown",
   "id": "dcfe57ff",
   "metadata": {},
   "source": [
    "# Inplementaion : 구현"
   ]
  },
  {
   "cell_type": "code",
   "execution_count": 4,
   "id": "c6143265",
   "metadata": {},
   "outputs": [],
   "source": [
    "def secant_by(f, a, b, n):\n",
    "    \"\"\"Return the root calculated using the secant method.\n",
    "\n",
    "    :param f:\n",
    "        A function to solve.\n",
    "    :param a:\n",
    "        First initial location.\n",
    "    :param b:\n",
    "        Second initial location.\n",
    "    :param n:\n",
    "        The number of iterations : 반복되는 횟수\n",
    "    \"\"\"\n",
    "\n",
    "    x0, x1 = a, b\n",
    "    f0, f1 = f(x0), f(x1)\n",
    "    iterations = n \n",
    "    x2 = None\n",
    "    \n",
    "    for i in range(iterations): #횟수를 지정할 때 까지, 계속해서 반복\n",
    "        x2 = x1 - f1 * (x1 - x0) / float(f1 - f0)\n",
    "        x0, x1 = x1, x2\n",
    "        f0, f1 = f1, f(x1)\n",
    "        \n",
    "    return x2"
   ]
  },
  {
   "cell_type": "markdown",
   "id": "19833b49",
   "metadata": {},
   "source": [
    "이전과 마찬가지로 반복 횟수 대신 predicate를 취하는 secant_while라는 함수도 작성한다."
   ]
  },
  {
   "cell_type": "code",
   "execution_count": 27,
   "id": "f1e61d20",
   "metadata": {},
   "outputs": [],
   "source": [
    "def secant_while(f, xinit, predicate):\n",
    "    \"\"\"Return the root calculated using the secant method.\n",
    "\n",
    "    :param f:\n",
    "        A function to solve.\n",
    "    :param xinit:\n",
    "        A pair of initial values for x.\n",
    "    :param predicate:\n",
    "        A callable that takes three arguments\n",
    "            - i : the iteration count\n",
    "            - xy : a pair of the midpoint and the function value in the current iteration\n",
    "            - dx : the change of the x value\n",
    "        and returns boolean:\n",
    "            - If True, the search continues.\n",
    "            - If False, the search terminates.\n",
    "    \"\"\"\n",
    "\n",
    "    x0, x1 = map(float, xinit)\n",
    "    f0, f1 = f(x0), f(x1)\n",
    "    i, x2, f2 = 0, float(\"nan\"), float(\"nan\")\n",
    "    \n",
    "    def secant_root():\n",
    "        nonlocal i, x2, f2\n",
    "        x2 = x1 - f1 * (x1 - x0) / (f1 - f0)\n",
    "        f2 = f(x2)\n",
    "        i += 1\n",
    "        return i, (x2, f2), x2 - x1\n",
    "\n",
    "    while predicate(*secant_root()):\n",
    "        x0, x1 = x1, x2\n",
    "        f0, f1 = f1, f2\n",
    "        print(*secant_root())\n",
    "        \n",
    "    return x2"
   ]
  },
  {
   "cell_type": "markdown",
   "id": "574e044d",
   "metadata": {},
   "source": [
    "nonlocal의 이해"
   ]
  },
  {
   "cell_type": "markdown",
   "id": "5b46f340",
   "metadata": {},
   "source": [
    "https://www.daleseo.com/python-global-nonlocal/"
   ]
  },
  {
   "cell_type": "markdown",
   "id": "1441c94d",
   "metadata": {},
   "source": [
    "nonlocal 키워드도 global 키워드와 같이 동일한 이름의 새로운 변수가 생성되는 것을 방지하기 위해서 사용됩니다. 이 두 키워드의 차이점은 global 키워드는 일반 함수 내에서 전역(global/module) 변수를 대상으로 사용하는 반면에 nonlocal 키워드는 중첩 함수 내에서 비지역(nonlocal/closing) 변수를 대상으로 사용한다는 것입니다."
   ]
  },
  {
   "cell_type": "markdown",
   "id": "3744ac13",
   "metadata": {},
   "source": [
    "float('nan') 의 이해"
   ]
  },
  {
   "cell_type": "code",
   "execution_count": 19,
   "id": "1fc7ed5d",
   "metadata": {},
   "outputs": [
    {
     "name": "stdout",
     "output_type": "stream",
     "text": [
      "False\n"
     ]
    }
   ],
   "source": [
    "import math\n",
    "pp=float(3)\n",
    "print(math.isnan(pp))"
   ]
  },
  {
   "cell_type": "code",
   "execution_count": 21,
   "id": "98e16382",
   "metadata": {},
   "outputs": [
    {
     "name": "stdout",
     "output_type": "stream",
     "text": [
      "True\n"
     ]
    }
   ],
   "source": [
    "ppp = float('nan')\n",
    "print(math.isnan(ppp))"
   ]
  },
  {
   "cell_type": "markdown",
   "id": "70b1b2b6",
   "metadata": {},
   "source": [
    "map함수의 이해"
   ]
  },
  {
   "cell_type": "code",
   "execution_count": 13,
   "id": "e345f696",
   "metadata": {},
   "outputs": [
    {
     "data": {
      "text/plain": [
       "[1, 2, 3, 4]"
      ]
     },
     "execution_count": 13,
     "metadata": {},
     "output_type": "execute_result"
    }
   ],
   "source": [
    "# 실수로 저장된 모든 요소를 정수로 변환\n",
    "a = [1.2, 2.5, 3.7, 4.6]\n",
    "a = list(map(int, a))\n",
    "a"
   ]
  },
  {
   "cell_type": "code",
   "execution_count": 15,
   "id": "a817a22b",
   "metadata": {},
   "outputs": [
    {
     "data": {
      "text/plain": [
       "[101, 102, 103, 104]"
      ]
     },
     "execution_count": 15,
     "metadata": {},
     "output_type": "execute_result"
    }
   ],
   "source": [
    "# 모든 요소에 100을 더해서 반환\n",
    "a = [1, 2, 3, 4]\n",
    "\n",
    "def plus100(n):\n",
    "    return n + 100\n",
    "\n",
    "list(map(plus100, a))\n"
   ]
  },
  {
   "cell_type": "markdown",
   "id": "40fc9288",
   "metadata": {},
   "source": [
    "# 연습"
   ]
  },
  {
   "cell_type": "markdown",
   "id": "9bcd0092",
   "metadata": {},
   "source": [
    "CubeRoot"
   ]
  },
  {
   "cell_type": "markdown",
   "id": "69a93626",
   "metadata": {},
   "source": [
    "Approximate $\\sqrt[3]{2}$ by solving\n",
    "\n",
    "$$\n",
    "x^3 - 2 = 0\n",
    "$$"
   ]
  },
  {
   "cell_type": "code",
   "execution_count": 42,
   "id": "69ce244c",
   "metadata": {},
   "outputs": [
    {
     "name": "stdout",
     "output_type": "stream",
     "text": [
      "2 (1.2096774193548387, -0.22985549326977917) 0.06682027649769595\n",
      "4 (1.265038533785313, 0.02446961881488008) 0.0553611144304742\n",
      "6 (1.25971202333506, -0.0009952618061428442) -0.005326510450252897\n",
      "8 (1.2599202030822991, -4.0326908019583385e-06) 0.00020817974723907895\n",
      "10 (1.2599210500353788, 6.691163179084469e-10) 8.469530796695324e-07\n",
      "12 (1.2599210498948732, 0.0) -1.4050560714906624e-10\n",
      "14 (1.2599210498948732, 0.0) 0.0\n"
     ]
    },
    {
     "data": {
      "text/plain": [
       "(1.2599210498948732, 0.0)"
      ]
     },
     "execution_count": 42,
     "metadata": {},
     "output_type": "execute_result"
    }
   ],
   "source": [
    "cuberoot2_approx = secant_while(lambda x: x*x*x - 2, (1, 2),\n",
    "                                lambda i, xy, dx: abs(dx) > 1e-10)\n",
    "(cuberoot2_approx, abs(2**(1/3) - cuberoot2_approx))"
   ]
  }
 ],
 "metadata": {
  "kernelspec": {
   "display_name": "Python 3 (ipykernel)",
   "language": "python",
   "name": "python3"
  },
  "language_info": {
   "codemirror_mode": {
    "name": "ipython",
    "version": 3
   },
   "file_extension": ".py",
   "mimetype": "text/x-python",
   "name": "python",
   "nbconvert_exporter": "python",
   "pygments_lexer": "ipython3",
   "version": "3.9.13"
  }
 },
 "nbformat": 4,
 "nbformat_minor": 5
}
