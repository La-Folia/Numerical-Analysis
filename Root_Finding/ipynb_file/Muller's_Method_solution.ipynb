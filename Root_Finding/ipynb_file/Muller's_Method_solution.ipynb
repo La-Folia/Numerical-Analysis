{
 "cells": [
  {
   "cell_type": "code",
   "execution_count": 3,
   "id": "fbbc5906",
   "metadata": {},
   "outputs": [],
   "source": [
    "import numpy as np\n",
    "import matplotlib.pyplot as plt\n",
    "plt.rcParams.update({'font.size': 15})\n",
    "#%config InlineBackend.figure_format='retina'"
   ]
  },
  {
   "cell_type": "markdown",
   "id": "0d8e2c41",
   "metadata": {},
   "source": [
    "# Muller's Method\n",
    "\n",
    "[Muller's method](https://en.wikipedia.org/wiki/Muller%27s_method) generalizes the secant method but uses *quadratic* interpolation\n",
    "\n",
    "$$\n",
    "Q(t) = At^2 + Bt + C\n",
    "$$\n",
    "\n",
    "among *three* points intead of linear interpolation between two.\n",
    "Solving for the zeros of the quadratic $Q(t) = 0$ allows the method to find complex pairs of roots:\n",
    "\n",
    "$$\n",
    "t = \\frac{-B \\pm \\sqrt{B^2 - 4AC}}{2A}\n",
    "=\n",
    "-\\frac{2C}{B \\pm \\sqrt{B^2 - 4AC}}\n",
    "$$\n",
    "\n",
    "As you will see below, we would like to choose the root closer to zero, which means that we need to choose the sign that results in the smallest numerator in the first form or the largest denominator in the second form.\n",
    "In numerical calculation, the second form is perferable to avoid round-off errors due to subtraction of nearby equal numbers."
   ]
  },
  {
   "cell_type": "code",
   "execution_count": null,
   "id": "0cbf7ae1",
   "metadata": {},
   "outputs": [],
   "source": []
  },
  {
   "cell_type": "markdown",
   "id": "f358b0a0",
   "metadata": {},
   "source": [
    "## Muller's Formula\n",
    "\n",
    "<center><figure>\n",
    "  <img src=\"https://media.geeksforgeeks.org/wp-content/uploads/Muller-Method.png\" width=\"400\">\n",
    "  <figcaption>Image from https://www.geeksforgeeks.org/program-muller-method/</figcaption>\n",
    "</figure></center>\n",
    "\n",
    "A function $y = f(x)$ goes through the three points, $(x_0, y_0)$, $(x_1, y_1)$, and $(x_2, y_2)$.\n",
    "We would like to find a root of $f(x) = 0$ closer to $x_2$.\n",
    "By making change of variable $t = x - x_2$, the problem becomes finding a root $t$ closer to $0$.\n",
    "Demanding $Q(0) = y_2$, $Q(t_1) = y_1$, and $Q(t_0) = y_0$ with $t_1 = x_1 - x_2$ and $t_0 = x_0 - x_2$, a parabola that goes through the three points is constructed with the coefficients\n",
    "\n",
    "$$\n",
    "\\begin{aligned}\n",
    "A &= \\frac{1}{t_0 - t_1} \\left(\\frac{y_0 - y_2}{t_0} - \\frac{y_1 - y_2}{t_1}\\right) \\\\\n",
    "B &= -\\frac{1}{t_0 - t_1} \\left(t_1\\frac{y_0 - y_2}{t_0} - t_0\\frac{y_1 - y_2}{t_1}\\right) \\\\\n",
    "C &= y_2 \\\\\n",
    "\\end{aligned}\n",
    "$$\n",
    "\n",
    "The next approximation $x_3$ is produced by the following formulas,\n",
    "\n",
    "$$\n",
    "x_3 = x_2 - \\frac{2C}{B \\pm \\sqrt{B^2 - 4AC}}\n",
    "$$\n",
    "\n",
    "where the sign in the denominator is chosen such that $\\left|B \\pm \\sqrt{B^2 - 4AC}\\right|$ is maximized."
   ]
  },
  {
   "cell_type": "markdown",
   "id": "38559fbd",
   "metadata": {},
   "source": [
    "## Algorithm\n",
    "\n",
    "1. Starting from the three initial values ${x_0, x_1, x_2}$, find the next approximation $x_3$ according to Muller's formula:\n",
    "\n",
    "    $$\n",
    "    x_3 = x_2 - \\frac{2C_2}{B_2 \\pm \\sqrt{B_2^2 - 4A_2C_2}}\n",
    "    $$\n",
    "    \n",
    "2. We then use this new value $x_3$ and repeat the process, using ${x_3, x_2, x_1}$ as the initial values, solving for $x_4$, $x_5$, etc.:\n",
    "\n",
    "    $$\n",
    "    \\begin{aligned}\n",
    "    x_4 &= x_3 - \\frac{2C_3}{B_3 \\pm \\sqrt{B_3^2 - 4A_3C_3}}, \\\\\n",
    "    x_5 &= x_4 - \\frac{2C_4}{B_4 \\pm \\sqrt{B_4^2 - 4A_4C_4}}, \\\\\n",
    "    &\\ \\vdots \\\\\n",
    "    x_n &= x_{n - 1} - \\frac{2C_{n - 1}}{B_{n - 1} \\pm \\sqrt{B_{n - 1}^2 - 4A_{n - 1}C_{n - 1}}}, \\\\\n",
    "    \\end{aligned}\n",
    "    $$\n",
    "    \n",
    "3. The iteration stops when we reach a sufficiently high level of precision (a sufficiently small difference between $x_n$ and $x_{n - 1}$).\n",
    "\n",
    "*Note* that $x_n$ can be complex."
   ]
  },
  {
   "cell_type": "markdown",
   "id": "52f07332",
   "metadata": {},
   "source": [
    "## Implementation"
   ]
  },
  {
   "cell_type": "code",
   "execution_count": null,
   "id": "22cb1946",
   "metadata": {},
   "outputs": [],
   "source": [
    "import cmath\n",
    "\n",
    "def muller_while(f, x0x1x2, predicate):\n",
    "    \"\"\"Return the root calculated using Muller's method.\n",
    "    \n",
    "    :param f:\n",
    "        A function f(x).\n",
    "    :param x0x1x2:\n",
    "        Three initial guesses.\n",
    "    :param predicate:\n",
    "        A callable that accepts three arguments:\n",
    "        A predicate function which takes three arguments\n",
    "            - i : the iteration count\n",
    "            - xy : a pair of the midpoint and the function value in the current iteration\n",
    "            - dx : the change of the x value\n",
    "        and returns boolean:\n",
    "            - If True, the search continues.\n",
    "            - If False, the search terminates.\n",
    "    \"\"\"\n",
    "    \n",
    "    x0, x1, x2 = map(complex, x0x1x2)\n",
    "    f0, f1, f2 = f(x0), f(x1), f(x2)\n",
    "    i, x3, f3 = 0, float(\"nan\"), float(\"nan\")\n",
    "    \n",
    "    def muller_root():\n",
    "        nonlocal i, x3, f3\n",
    "        #\n",
    "        t0   , t1    =  x0 - x2    ,  x1 - x2\n",
    "        term0, term1 = (f0 - f2)/t0, (f1 - f2)/t1\n",
    "        denom = t0 - t1\n",
    "        #\n",
    "        A = (   term0 -    term1) / denom\n",
    "        B = (t0*term1 - t1*term0) / denom\n",
    "        C = f2\n",
    "        #\n",
    "        sqrt_discriminant = cmath.sqrt(B**2 - 4*A*C)\n",
    "        dx = -2*C / max(B + sqrt_discriminant, B - sqrt_discriminant, key=abs)\n",
    "        x3 = x2 + dx\n",
    "        f3 = f(x3)\n",
    "        i += 1\n",
    "        return i, (x3, f3), dx\n",
    "    \n",
    "    while predicate(*muller_root()):\n",
    "        x0, x1, x2 = x1, x2, x3\n",
    "        f0, f1, f2 = f1, f2, f3\n",
    "        \n",
    "    return x3"
   ]
  },
  {
   "cell_type": "markdown",
   "id": "3287fc8e",
   "metadata": {},
   "source": [
    "Let's calculate the supergolden ratio."
   ]
  },
  {
   "cell_type": "code",
   "execution_count": null,
   "id": "af97c4eb",
   "metadata": {},
   "outputs": [],
   "source": [
    "supergolden = muller_while(lambda x: x ** 3 - x ** 2 - 1, (1, 2, 3), \n",
    "                           lambda i, xy, dx: abs(xy[1]) > 1e-10)\n",
    "supergolden"
   ]
  },
  {
   "cell_type": "markdown",
   "id": "a2c33f7d",
   "metadata": {},
   "source": [
    "*Notice* the result can be complex."
   ]
  },
  {
   "cell_type": "markdown",
   "id": "fa6ccc70",
   "metadata": {},
   "source": [
    "## Exercises"
   ]
  },
  {
   "cell_type": "markdown",
   "id": "f42d9324",
   "metadata": {},
   "source": [
    "### CubeRoot\n",
    "\n",
    "Approximate $\\sqrt[3]{2}$ by solving\n",
    "\n",
    "$$\n",
    "x^3 - 2 = 0\n",
    "$$"
   ]
  },
  {
   "cell_type": "code",
   "execution_count": null,
   "id": "10d5aacc",
   "metadata": {},
   "outputs": [],
   "source": [
    "cuberoot2_approx = muller_while(lambda x: x*x*x - 2, (1, 1.5, 2),\n",
    "                                lambda i, xy, dx: abs(dx) > 1e-10)\n",
    "(cuberoot2_approx, abs(2**(1/3) - cuberoot2_approx))"
   ]
  },
  {
   "cell_type": "markdown",
   "id": "b506b937",
   "metadata": {},
   "source": [
    "### Complex Logarithm\n",
    "\n",
    "Consider a function\n",
    "\n",
    "$$\n",
    "f(z) = i\\log z + \\frac{\\pi}{2}\n",
    "$$\n",
    "\n",
    "We know that a solution of $f(z) = 0$ is $z = i$.\n",
    "Find the solution of $f(z) = 0$ numerically."
   ]
  },
  {
   "cell_type": "code",
   "execution_count": 1,
   "id": "5b591b32",
   "metadata": {},
   "outputs": [
    {
     "ename": "NameError",
     "evalue": "name 'muller_while' is not defined",
     "output_type": "error",
     "traceback": [
      "\u001b[0;31m---------------------------------------------------------------------------\u001b[0m",
      "\u001b[0;31mNameError\u001b[0m                                 Traceback (most recent call last)",
      "\u001b[0;32m/var/folders/kk/2pj93ygs67nbx9_42r_c6_3c0000gn/T/ipykernel_85835/851212628.py\u001b[0m in \u001b[0;36m<module>\u001b[0;34m\u001b[0m\n\u001b[1;32m      1\u001b[0m \u001b[0mz0z1z2\u001b[0m \u001b[0;34m=\u001b[0m \u001b[0;34m(\u001b[0m\u001b[0;36m1\u001b[0m \u001b[0;34m+\u001b[0m \u001b[0;36m.1j\u001b[0m\u001b[0;34m,\u001b[0m \u001b[0;36m1\u001b[0m \u001b[0;34m+\u001b[0m \u001b[0;36m.5j\u001b[0m\u001b[0;34m,\u001b[0m \u001b[0;36m1\u001b[0m \u001b[0;34m+\u001b[0m \u001b[0;36m.9j\u001b[0m\u001b[0;34m)\u001b[0m\u001b[0;34m\u001b[0m\u001b[0;34m\u001b[0m\u001b[0m\n\u001b[1;32m      2\u001b[0m \u001b[0;34m\u001b[0m\u001b[0m\n\u001b[0;32m----> 3\u001b[0;31m z_approx = muller_while(lambda z: 1j * cmath.log(z) + cmath.pi/2, z0z1z2,\n\u001b[0m\u001b[1;32m      4\u001b[0m                         lambda i, zf, dz: abs(zf[1]) > 1e-10)\n\u001b[1;32m      5\u001b[0m \u001b[0;34m\u001b[0m\u001b[0m\n",
      "\u001b[0;31mNameError\u001b[0m: name 'muller_while' is not defined"
     ]
    }
   ],
   "source": [
    "z0z1z2 = (1 + .1j, 1 + .5j, 1 + .9j)\n",
    "\n",
    "z_approx = muller_while(lambda z: 1j * cmath.log(z) + cmath.pi/2, z0z1z2,\n",
    "                        lambda i, zf, dz: abs(zf[1]) > 1e-10)\n",
    "\n",
    "print(f\"real(z) = {z_approx.real}, imag(z) = {z_approx.imag}\")"
   ]
  },
  {
   "cell_type": "markdown",
   "id": "206f81db",
   "metadata": {},
   "source": [
    "### Two-stream Instability\n",
    "\n",
    "The [two-stream instability](https://en.wikipedia.org/wiki/Two-stream_instability) is a very common instability in plasma physics.\n",
    "It can be induced by an energetic particle stream injected in a plasma, or setting a current along the plasma so different species (ions and electrons) can have different drift velocities.\n",
    "The energy from the particles can lead to plasma wave excitation.\n",
    "\n",
    "Consider a cold, uniform, and unmagnetized plasma, where ions are stationary and the electrons have velocity $v_0$.\n",
    "The dispersion relation is\n",
    "\n",
    "$$\n",
    "1 = \\omega_p^2 \\left[\\frac{m_e/m_i}{\\omega^2} + \\frac{1}{(\\omega - k v_0)^2}\\right]\n",
    "$$\n",
    "\n",
    "where $\\omega$ is the wave frequency, $k$ the wave number, $m_e/m_i$ the ratio of electron-to-ion mass, and $\\omega_p$ is the electron plasma frequency.\n",
    "\n",
    "Let $f_k(\\omega)$\n",
    "\n",
    "$$\n",
    "f_k(\\omega) = \\omega_p^2 \\left[\\frac{m_e/m_i}{\\omega^2} + \\frac{1}{(\\omega - k v_0)^2}\\right] - 1\n",
    "$$\n",
    "\n",
    "For $k \\rightarrow \\infty$, we find\n",
    "\n",
    "$$\n",
    "f_k(\\omega) \\approx \\omega_p^2 \\frac{m_e/m_i}{\\omega^2} - 1\n",
    "$$\n",
    "\n",
    "Therefore, the solution of $f_k(\\omega) = 0$ for large $k$ should approach\n",
    "\n",
    "$$\n",
    "\\omega(k \\rightarrow \\infty) = \\sqrt{\\frac{m_e}{m_i}} \\omega_p\n",
    "$$\n",
    "\n",
    "Assuming, $v_0 = \\omega_p = 43$ and $m_e/m_i = 1/43^2$,\n",
    "we search for roots of $f_k(\\omega) = 0$ starting from a large value of $k$ and moving to small values:"
   ]
  },
  {
   "cell_type": "code",
   "execution_count": null,
   "id": "3243d6c6",
   "metadata": {},
   "outputs": [],
   "source": [
    "# define f_k(w)\n",
    "def dispersion_relation(k, w):\n",
    "    v0, wp, me_mi = 43, 43, 1 / 43**2\n",
    "    return 1 - wp**2 * (me_mi/w**2 + 1/(w - k*v0)**2)\n",
    "\n",
    "# define a function that solves the relation for a given k\n",
    "def single_step(k, winit):\n",
    "    max_w = max(winit, key=abs)\n",
    "    return muller_while(lambda w: dispersion_relation(k, w), winit,\n",
    "                        lambda i, xy, dw: abs(dw) > 1e-7 * abs(max_w))\n",
    "\n",
    "# define the k space\n",
    "ks = np.linspace(2, .03, 1000)\n",
    "\n",
    "# first three guesses of omega\n",
    "# we know for large k the frequency should approach wp/√(m_e/m_i) = 1\n",
    "ws = [1 + .1j, 1, 1. - .1j]\n",
    "\n",
    "# walk over the k values and find the solutions\n",
    "for k in ks:\n",
    "    ws.append(single_step(k, ws[-3:]))\n",
    "\n",
    "# remove the first three guesses\n",
    "ws = ws[3:]\n",
    "\n",
    "plt.figure()\n",
    "plt.plot(ks, [w.real for w in ws], \"-b\", linewidth=1, label=\"$\\\\Re(\\\\omega)$\")\n",
    "plt.plot(ks, [w.imag for w in ws], \"-r\", linewidth=1, label=\"$\\\\Im(\\\\omega)$\")\n",
    "plt.xlabel(\"$k$\")\n",
    "plt.ylabel(\"$\\\\omega$\")\n",
    "plt.legend()\n",
    "plt.grid()\n",
    "plt.show()"
   ]
  },
  {
   "cell_type": "markdown",
   "id": "c35f037b",
   "metadata": {},
   "source": [
    "We find that the wave frequency becomes complex-valued in the region of small $k$,\n",
    "indicating wave growth/damping in that region."
   ]
  }
 ],
 "metadata": {
  "kernelspec": {
   "display_name": "Python 3 (ipykernel)",
   "language": "python",
   "name": "python3"
  },
  "language_info": {
   "codemirror_mode": {
    "name": "ipython",
    "version": 3
   },
   "file_extension": ".py",
   "mimetype": "text/x-python",
   "name": "python",
   "nbconvert_exporter": "python",
   "pygments_lexer": "ipython3",
   "version": "3.9.13"
  }
 },
 "nbformat": 4,
 "nbformat_minor": 5
}
