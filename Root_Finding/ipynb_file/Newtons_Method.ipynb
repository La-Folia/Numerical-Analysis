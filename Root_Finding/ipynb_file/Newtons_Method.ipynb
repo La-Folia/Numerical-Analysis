{
 "cells": [
  {
   "cell_type": "code",
   "execution_count": 1,
   "id": "1a264ac7",
   "metadata": {},
   "outputs": [],
   "source": [
    "import numpy as np\n",
    "import matplotlib.pyplot as plt\n",
    "plt.rcParams.update({'font.size': 15})\n",
    "#%config InlineBackend.figure_format='retina'"
   ]
  },
  {
   "cell_type": "markdown",
   "id": "8f358c98",
   "metadata": {},
   "source": [
    "1차원 root-finding 루틴으로 가장 유명한 것은 Newton's Method이다.\n",
    "--\n",
    "이는 Newton-Raphson method라고도 불림.\n",
    "이 방법은 전의 방법과 달리, f(x)와 x에서 derivative f'(x) 가 존재해야 함.\n",
    " [*Newton's method*](https://en.wikipedia.org/wiki/Newton%27s_method)\n",
    " \n",
    "<center><figure>\n",
    "    <img src=https://upload.wikimedia.org/wikipedia/commons/thumb/8/8c/Newton_iteration.svg/300px-Newton_iteration.svg.png>\n",
    "    <figcaption>From Wikipedia (https://en.wikipedia.org/wiki/Newton%27s_method)</figcaption>\n",
    "</figure></center>\n",
    "\n",
    "Newton-Raphson 공식은 기하학적으로 $x_n$에서의 tangent line이 0을 지날때까지\n",
    "그리고 y가 0이 되는 곳을 $x_{n+1}$\n",
    "$$\n",
    "x_{n + 1} = x_n - \\frac{f(x_n)}{f'(x_n)}\n",
    "$$"
   ]
  },
  {
   "cell_type": "markdown",
   "id": "8340318c",
   "metadata": {},
   "source": [
    "대수적으로, 테일러 전개를 하면\n",
    "\n",
    "$$\n",
    "f(x + \\delta) \\approx\n",
    "f(x) + f'(x)\\delta + \\frac{f''(x)}{2} \\delta^2 + \\cdots\n",
    "$$"
   ]
  },
  {
   "cell_type": "markdown",
   "id": "27ef9f86",
   "metadata": {},
   "source": [
    "For small enough values of $\\delta$, and for well-behaved functions, 선형을 넘어선 값은 중요하지 않게 된다, \n",
    "\n",
    "hence $f(x + \\delta) = 0$ 함축한다 (이는 쉽게 $x + \\delta$ = $x_{n+1}$이니 $f(x_{n+1})$ = 0이여야 하므로)\n",
    "\n",
    "여기서 well-behaved 란?\n",
    "순수 및 응용 수학(예: 최적화, 수치 통합, 수학 물리학) 모두에서 well- behaved 는 논의 중인 분석을 성공적으로 적용하는 데 필요한 가정을 위반하지 않는다는 것을 의미합니다.\n",
    "\n",
    "관련 위키 https://en.wikipedia.org/wiki/Pathological_(mathematics)</figcaption>\n",
    "</figure></center>\n",
    "\n",
    "테일러 전개 관련 https://gosamy.tistory.com/111\n",
    "</figcaption>\n",
    "</figure></center>\n",
    "$$\n",
    "\\delta = -\\frac{f(x)}{f'(x)}\n",
    "$$\n",
    "\n",
    "The Newton-Rapshon method는 일차원에 국한하지만, 더 높은 차원으로 쉽게 일반화 된다."
   ]
  },
  {
   "cell_type": "markdown",
   "id": "acf4d653",
   "metadata": {},
   "source": [
    "# Pros and Cons\n",
    "수렴할 때, 뉴턴의 방법은 빠르게 수렴하는 것이 장점이다.\n",
    "그러나, 수렴이 꼭 보장되는 것은 아니며, 이분법과 달리(근을 포함 간격으로 시작하는 경우) 반드시 솔루션에 수렴되지 않는다.\n",
    "\n",
    "예를들어, 예를 들어, 시험 추측이 국소 극단 근처에 있어서 첫 번째 미분 $f'(x)$가 거의 사라진다면, 뉴턴의 방법은 다음 추측을 실제 루트에서 멀리 보낸다.\n",
    "\n",
    "뉴턴의 방법은 또한 function의 도함수 값을계산해야 하고, 이것은 도함수가 구하기가 힘들 경우 잠재적으로 단점이 된다.\n"
   ]
  },
  {
   "cell_type": "markdown",
   "id": "c062f4f8",
   "metadata": {},
   "source": [
    "Implementation"
   ]
  },
  {
   "cell_type": "code",
   "execution_count": 2,
   "id": "3a18344b",
   "metadata": {},
   "outputs": [],
   "source": [
    "def newton_while(f_and_df, xinit, predicate):\n",
    "    \"\"\"Return the root calculated using Newton's method.\n",
    "    :param f_and_df:\n",
    "    이는 f와 f'을 포함하는 숫자 쌍을 return 하는 함수\n",
    "    \n",
    "    :param xinit:\n",
    "        초기 추측 값\n",
    "    \n",
    "    :param prediate:\n",
    "        여기서 predicate function는 세가지 인수를 취한다\n",
    "        - i : 반복 횟수(iteration count)\n",
    "        - xy: 중간 값의 한쌍과 현재 인수의 함수 값\n",
    "        - dx: x값의 변화\n",
    "    \"\"\"\n",
    "    \n",
    "    x = xinit\n",
    "    i = 0\n",
    "    \n",
    "    def newton_root():\n",
    "        nonlocal i, x\n",
    "        f, df = f_and_df(x)\n",
    "        dx = -f / df #dx = 델타\n",
    "        x_old = x #기존의 x는 old 에 저장\n",
    "        x += dx #새로운 x에 저장 \n",
    "        i += 1\n",
    "        return i, (x_old, f) , dx\n",
    "    \n",
    "    while predicate(*newton_root()):\n",
    "        pass #pass와 continue의 차이는 아래 참조\n",
    "    \n",
    "    \n",
    "    return x"
   ]
  },
  {
   "cell_type": "code",
   "execution_count": 3,
   "id": "2b9a665c",
   "metadata": {},
   "outputs": [
    {
     "name": "stdout",
     "output_type": "stream",
     "text": [
      "1\n",
      "3\n",
      "5\n",
      "7\n",
      "9\n",
      "----------\n",
      "1\n",
      "3\n",
      "2\n",
      "3\n",
      "3\n",
      "4\n",
      "5\n",
      "3\n",
      "6\n",
      "7\n",
      "3\n",
      "8\n",
      "9\n",
      "3\n",
      "10\n"
     ]
    }
   ],
   "source": [
    "# continue\n",
    "i = 0\n",
    "while i < 10:\n",
    "    i += 1\n",
    "    if i % 2 == 0:\n",
    "        continue\n",
    "        print(3)\n",
    "    print(i)\n",
    "    \n",
    "print('-'*10)\n",
    "\n",
    "# pass \n",
    "i= 0\n",
    "while i < 10:\n",
    "    i += 1\n",
    "    if i % 2 == 0:\n",
    "        pass #pass는 이 줄만 지나가게 만드니, 그대로 1~10이 써진다.\n",
    "        print(3) #3이 줄만 지나가니, 3은 써진다.\n",
    "    print(i)\n",
    "#언듯 보면 위 아래 둘다 홀수만 잘 출력 할 듯 하지만 아래의 구문은 모든 숫자를 출력한다.\n",
    "#위에서 보았듯이 pass는 continue와 달리 해당 라인만 건너 지나가기 때문에 아래에 위치한 print 문이 매번 실행되기 때문이다."
   ]
  },
  {
   "cell_type": "code",
   "execution_count": 4,
   "id": "298a44cd",
   "metadata": {},
   "outputs": [
    {
     "name": "stdout",
     "output_type": "stream",
     "text": [
      "i = 1, x = 1.000000000000, y = -1.000000000000e+00, dx = +1.000000000000e+00\n",
      "i = 2, x = 2.000000000000, y = +3.000000000000e+00, dx = -3.750000000000e-01\n",
      "i = 3, x = 1.625000000000, y = +6.503906250000e-01, dx = -1.392140468227e-01\n",
      "i = 4, x = 1.485785953177, y = +7.240158956588e-02, dx = -1.983003344127e-02\n",
      "i = 5, x = 1.465955919736, y = +1.351739844904e-03, dx = -3.845448288974e-04\n",
      "i = 6, x = 1.465571374907, y = +5.024018974176e-07, dx = -1.430303039953e-07\n",
      "i = 7, x = 1.465571231877, y = +6.927791673661e-14, dx = -1.972294349002e-14\n"
     ]
    },
    {
     "data": {
      "text/plain": [
       "1.465571231876768"
      ]
     },
     "execution_count": 4,
     "metadata": {},
     "output_type": "execute_result"
    }
   ],
   "source": [
    "def predicate(i, xy, dx):\n",
    "    print(\"i = {:1d}, x = {:.12f}, y = {:+.12e}, dx = {:+.12e}\".format(i, *xy, dx))\n",
    "    return abs(dx) > 1e-10 and i < 20\n",
    "\n",
    "newton_while(lambda x: (x**3 - x**2 - 1, 3*x**2 - 2*x), 1, predicate)"
   ]
  },
  {
   "cell_type": "markdown",
   "id": "638f7e41",
   "metadata": {},
   "source": [
    "Let's calculate the supergolden ratio."
   ]
  },
  {
   "cell_type": "markdown",
   "id": "61577bad",
   "metadata": {},
   "source": [
    "### Divergent Example"
   ]
  },
  {
   "cell_type": "markdown",
   "id": "1cfa42aa",
   "metadata": {},
   "source": [
    "앞서 경고한 대로, 뉴턴의 방식은 특정 경우엔 다르다. 예를 들어, 만약 ### Divergent $f(x) = x^{1/3}$.의 근의 접선이 수직일 경우"
   ]
  },
  {
   "cell_type": "code",
   "execution_count": 5,
   "id": "b0ec2225",
   "metadata": {},
   "outputs": [
    {
     "name": "stdout",
     "output_type": "stream",
     "text": [
      "\ti = 1, xy = (0.1, 0.4641588833612779), dx = -0.30000000000000004\n",
      "\ti = 2, xy = (-0.20000000000000004, (0.2924017738212867+0.5064547284817317j)), dx = (0.6000000000000002-1.9729319640436202e-16j)\n",
      "\ti = 3, xy = ((0.40000000000000013-1.9729319640436202e-16j), (0.7368062997280774-1.2113905833685232e-16j)), dx = (-1.2000000000000006+5.918795892130862e-16j)\n",
      "\ti = 4, xy = ((-0.8000000000000005+3.945863928087242e-16j), (0.4641588833612783+0.8039467687661697j)), dx = (2.4000000000000017-2.610025437084443e-15j)\n",
      "\ti = 5, xy = ((1.6000000000000012-2.215439044275719e-15j), (1.1696070952851467-5.398319219492965e-16j)), dx = (-4.800000000000003+6.646317132827156e-15j)\n",
      "\ti = 6, xy = ((-3.200000000000002+4.430878088551437e-15j), (0.7368062997280782+1.2761859464658523j)), dx = (9.600000000000005-1.7538271941033372e-14j)\n",
      "\ti = 7, xy = ((6.400000000000003-1.3107393852481934e-14j), (1.8566355334451117-1.2674819363217689e-15j)), dx = (-19.200000000000006+3.9322181557445796e-14j)\n",
      "\ti = 8, xy = ((-12.800000000000004+2.6214787704963862e-14j), (1.169607095285148+2.025818913926926j)), dx = (38.400000000000006-9.154404313162405e-14j)\n",
      "\ti = 9, xy = ((25.6-6.532925542666018e-14j), (2.9472251989123093-2.5070316122347863e-15j)), dx = (-76.8+1.9598776627998054e-13j)\n",
      "\ti = 10, xy = ((-51.199999999999996+1.3065851085332036e-13j), (1.8566355334451148+3.215787075064677j)), dx = (153.59999999999997-4.772617942097268e-13j)\n",
      "\ti = 11, xy = ((102.39999999999998-3.4660328335640643e-13j), (4.678428381140585-5.278511190921628e-15j)), dx = (-307.1999999999999+1.0398098500692187e-12j)\n",
      "\ti = 12, xy = ((-204.7999999999999+6.932065667128123e-13j), (2.947225198912315+5.1047437858634055j)), dx = (614.3999999999996-2.2849862871746335e-12j)\n",
      "\ti = 13, xy = ((409.59999999999974-1.5917797204618211e-12j), (7.426542133780444-9.620295541753726e-15j)), dx = (-1228.799999999999+4.775339161385463e-12j)\n",
      "\ti = 14, xy = ((-819.1999999999994+3.183559440923642e-12j), (4.678428381140597+8.103275655707698j)), dx = (2457.5999999999976-1.090952458837561e-11j)\n",
      "\ti = 15, xy = ((1638.3999999999983-7.725965147451968e-12j), (11.788900795649232-1.853040296914771e-14j)), dx = (-4915.199999999993+2.3177895442355897e-11j)\n",
      "\ti = 16, xy = ((-3276.799999999995+1.545193029490393e-11j), (7.426542133780463+12.863148300258693j)), dx = (9830.399999999981-5.039884546854714e-11j)\n",
      "\ti = 17, xy = ((6553.599999999986-3.494691517364321e-11j), (18.713713524562326-3.326347651808374e-14j)), dx = (-19660.79999999995+1.0484074552092959e-10j)\n",
      "\ti = 18, xy = ((-13107.199999999963+6.989383034728638e-11j), (11.788900795649264+20.418975143453597j)), dx = (39321.599999999875-2.2577268016434252e-10j)\n",
      "\ti = 19, xy = ((26214.399999999914-1.5587884981705614e-10j), (29.706168535121748-5.888065826068136e-14j)), dx = (-78643.1999999997+4.676365494511681e-10j)\n",
      "\ti = 20, xy = ((-52428.79999999979+3.11757699634112e-10j), (18.713713524562387+32.41310262283074j)), dx = (157286.39999999932-1.0214547466449446e-09j)\n",
      "\n",
      "!! Exeeded maximum iterations (=20) befor convergence !!\n",
      "(104857.59999999954-7.096970470108325e-10j)\n"
     ]
    }
   ],
   "source": [
    "iterations = -1 \n",
    "# iterations 의 용도는 한계를 알려주는 용도, 그냥 i에다가 20이상이라 해버리면 \n",
    "# i는 변하고 있는 지역변수이기 때문에, 인식을 못함, 따라서 전역변수 취급한 다른 변수로\n",
    "# i 값을 대신하여 세어 줘야 한다. 근데 아무 숫자여도 상관 x, \n",
    "# 이는 i로 계속해서 i와 같은 숫자가 입력되고 있기 때문이다.\n",
    "\n",
    "def predicate(i, xy, dx):\n",
    "    global iterations\n",
    "    iterations = i\n",
    "    print(\"\\ti = {}, xy = {}, dx = {}\".format(i, xy, dx))\n",
    "    return abs(dx) > 1e-10 and i < 20\n",
    "\n",
    "solution = newton_while(lambda x : (x**(1/3), \n",
    "                                    (1/3) * x **(-2/3)), \n",
    "                        0.1, predicate)\n",
    "\n",
    "if iterations >= 20:\n",
    "    print(f\"\\n!! Exeeded maximum iterations (={20}) befor convergence !!\")\n",
    "    \n",
    "print(solution)"
   ]
  },
  {
   "cell_type": "code",
   "execution_count": 6,
   "id": "6c1e66e2",
   "metadata": {},
   "outputs": [
    {
     "name": "stdout",
     "output_type": "stream",
     "text": [
      "\ti = 1, xy = (0.1, 0.4641588833612779), dx = -0.30000000000000004\n",
      "\ti = 2, xy = (-0.20000000000000004, (0.2924017738212867+0.5064547284817317j)), dx = (0.6000000000000002-1.9729319640436202e-16j)\n",
      "\ti = 3, xy = ((0.40000000000000013-1.9729319640436202e-16j), (0.7368062997280774-1.2113905833685232e-16j)), dx = (-1.2000000000000006+5.918795892130862e-16j)\n",
      "\ti = 4, xy = ((-0.8000000000000005+3.945863928087242e-16j), (0.4641588833612783+0.8039467687661697j)), dx = (2.4000000000000017-2.610025437084443e-15j)\n",
      "\ti = 5, xy = ((1.6000000000000012-2.215439044275719e-15j), (1.1696070952851467-5.398319219492965e-16j)), dx = (-4.800000000000003+6.646317132827156e-15j)\n",
      "\ti = 6, xy = ((-3.200000000000002+4.430878088551437e-15j), (0.7368062997280782+1.2761859464658523j)), dx = (9.600000000000005-1.7538271941033372e-14j)\n",
      "\ti = 7, xy = ((6.400000000000003-1.3107393852481934e-14j), (1.8566355334451117-1.2674819363217689e-15j)), dx = (-19.200000000000006+3.9322181557445796e-14j)\n",
      "\ti = 8, xy = ((-12.800000000000004+2.6214787704963862e-14j), (1.169607095285148+2.025818913926926j)), dx = (38.400000000000006-9.154404313162405e-14j)\n",
      "\ti = 9, xy = ((25.6-6.532925542666018e-14j), (2.9472251989123093-2.5070316122347863e-15j)), dx = (-76.8+1.9598776627998054e-13j)\n",
      "\ti = 10, xy = ((-51.199999999999996+1.3065851085332036e-13j), (1.8566355334451148+3.215787075064677j)), dx = (153.59999999999997-4.772617942097268e-13j)\n",
      "\ti = 11, xy = ((102.39999999999998-3.4660328335640643e-13j), (4.678428381140585-5.278511190921628e-15j)), dx = (-307.1999999999999+1.0398098500692187e-12j)\n",
      "\ti = 12, xy = ((-204.7999999999999+6.932065667128123e-13j), (2.947225198912315+5.1047437858634055j)), dx = (614.3999999999996-2.2849862871746335e-12j)\n",
      "\ti = 13, xy = ((409.59999999999974-1.5917797204618211e-12j), (7.426542133780444-9.620295541753726e-15j)), dx = (-1228.799999999999+4.775339161385463e-12j)\n",
      "\ti = 14, xy = ((-819.1999999999994+3.183559440923642e-12j), (4.678428381140597+8.103275655707698j)), dx = (2457.5999999999976-1.090952458837561e-11j)\n",
      "\ti = 15, xy = ((1638.3999999999983-7.725965147451968e-12j), (11.788900795649232-1.853040296914771e-14j)), dx = (-4915.199999999993+2.3177895442355897e-11j)\n",
      "\ti = 16, xy = ((-3276.799999999995+1.545193029490393e-11j), (7.426542133780463+12.863148300258693j)), dx = (9830.399999999981-5.039884546854714e-11j)\n",
      "\ti = 17, xy = ((6553.599999999986-3.494691517364321e-11j), (18.713713524562326-3.326347651808374e-14j)), dx = (-19660.79999999995+1.0484074552092959e-10j)\n",
      "\ti = 18, xy = ((-13107.199999999963+6.989383034728638e-11j), (11.788900795649264+20.418975143453597j)), dx = (39321.599999999875-2.2577268016434252e-10j)\n",
      "\ti = 19, xy = ((26214.399999999914-1.5587884981705614e-10j), (29.706168535121748-5.888065826068136e-14j)), dx = (-78643.1999999997+4.676365494511681e-10j)\n",
      "\ti = 20, xy = ((-52428.79999999979+3.11757699634112e-10j), (18.713713524562387+32.41310262283074j)), dx = (157286.39999999932-1.0214547466449446e-09j)\n"
     ]
    },
    {
     "ename": "NameError",
     "evalue": "name 'iteration' is not defined",
     "output_type": "error",
     "traceback": [
      "\u001b[0;31m---------------------------------------------------------------------------\u001b[0m",
      "\u001b[0;31mNameError\u001b[0m                                 Traceback (most recent call last)",
      "\u001b[0;32m/var/folders/kk/2pj93ygs67nbx9_42r_c6_3c0000gn/T/ipykernel_65352/370818675.py\u001b[0m in \u001b[0;36m<module>\u001b[0;34m\u001b[0m\n\u001b[1;32m      7\u001b[0m                         0.1, predicate)\n\u001b[1;32m      8\u001b[0m \u001b[0;34m\u001b[0m\u001b[0m\n\u001b[0;32m----> 9\u001b[0;31m \u001b[0;32mif\u001b[0m \u001b[0miteration\u001b[0m \u001b[0;34m>=\u001b[0m \u001b[0;36m20\u001b[0m\u001b[0;34m:\u001b[0m\u001b[0;34m\u001b[0m\u001b[0;34m\u001b[0m\u001b[0m\n\u001b[0m\u001b[1;32m     10\u001b[0m     \u001b[0mprint\u001b[0m\u001b[0;34m(\u001b[0m\u001b[0;34mf\"\\n!! Exeeded maximum iterations (={20}) befor convergence !!\"\u001b[0m\u001b[0;34m)\u001b[0m\u001b[0;34m\u001b[0m\u001b[0;34m\u001b[0m\u001b[0m\n\u001b[1;32m     11\u001b[0m \u001b[0;34m\u001b[0m\u001b[0m\n",
      "\u001b[0;31mNameError\u001b[0m: name 'iteration' is not defined"
     ]
    }
   ],
   "source": [
    "def predicate(i, xy, dx):\n",
    "    print(\"\\ti = {}, xy = {}, dx = {}\".format(i, xy, dx))\n",
    "    return abs(dx) > 1e-10 and i < 20\n",
    "\n",
    "solution = newton_while(lambda x : (x**(1/3), \n",
    "                                    (1/3) * x **(-2/3)), \n",
    "                        0.1, predicate)\n",
    "\n",
    "if iteration >= 20:\n",
    "    print(f\"\\n!! Exeeded maximum iterations (={20}) befor convergence !!\")\n",
    "    \n",
    "print(solution) "
   ]
  },
  {
   "cell_type": "code",
   "execution_count": null,
   "id": "2c702291",
   "metadata": {},
   "outputs": [],
   "source": [
    "iterations = -1\n",
    "def predicate(i, xy, dx):\n",
    "    global iterations\n",
    "    iterations = i\n",
    "    print(\"\\ti = {}, xy = {}, dx = {}\".format(i, xy, dx))\n",
    "    return abs(dx) > 1e-10 and i < 1027 #i가 1028부턴 오류가 발생\n",
    "\n",
    "solution = newton_while(lambda x : (x**(1/3), \n",
    "                                    (1/3) * x **(-2/3)), \n",
    "                        0.1, predicate)\n",
    "\n",
    "if iterations >= 1027:\n",
    "    print(f\"\\n!! Exeeded maximum iterations (={1027}) befor convergence !!\")\n",
    "    \n",
    "print(solution) "
   ]
  },
  {
   "cell_type": "markdown",
   "id": "75fea4e3",
   "metadata": {},
   "source": [
    "기존의 방식이라면 이렇게 됨 #이래서 안되는 건가??"
   ]
  },
  {
   "cell_type": "code",
   "execution_count": null,
   "id": "9f9d9ce3",
   "metadata": {},
   "outputs": [],
   "source": [
    "def predicate(i, xy, dx):\n",
    "    print(\"\\ti = {}, xy = {}, dx = {}\".format(i, xy, dx))\n",
    "    return abs(dx) > 1e-10 and i < 1028\n",
    "\n",
    "solution = newton_while(lambda x : (x**(1/3), \n",
    "                                    (1/3) * x **(-2/3)), \n",
    "                        0.1, predicate)\n",
    "\n",
    "print(solution) \n"
   ]
  },
  {
   "cell_type": "markdown",
   "id": "dd04cdf3",
   "metadata": {},
   "source": [
    "### CubeRoot\n",
    "\n",
    "Approximate $\\sqrt[3]{2}$ by solving\n",
    "\n",
    "$$\n",
    "x^3 - 2 = 0\n",
    "$$"
   ]
  },
  {
   "cell_type": "code",
   "execution_count": null,
   "id": "d5070995",
   "metadata": {},
   "outputs": [],
   "source": [
    "cuberoot2_approx = newton_while(lambda x: (x**3 - 2, 3*x*x), 1, \n",
    "                               lambda i , xy, dx: abs(dx) > 1e-10)\n",
    "cuberoot2_approx, abs(2**(1/3) - cuberoot2_approx)"
   ]
  },
  {
   "cell_type": "markdown",
   "id": "59aef407",
   "metadata": {},
   "source": [
    "### Whistler Dispersion Relation\n",
    "\n",
    "Calculate the whistler dispersion relation we did previously, now using Newton's method.\n",
    "\n",
    "We have defined\n",
    "\n",
    "$$\n",
    "f_k(\\omega) = \n",
    "c^2 k^2 - \\omega^2 + \\frac{\\omega_p^2}{1 - \\omega_c/\\omega}\n",
    "$$\n",
    "\n",
    "Its derivative is\n",
    "\n",
    "$$\n",
    "f_k'(\\omega) = \n",
    "-2\\omega - \\omega_p^2\\frac{\\omega_c}{(\\omega - \\omega_c)^2}\n",
    "$$"
   ]
  },
  {
   "cell_type": "code",
   "execution_count": null,
   "id": "af8336fd",
   "metadata": {},
   "outputs": [],
   "source": [
    "# f_k(w) 와 f_k'k(w) 를 고정하자.\n",
    "def f_and_df(k,w):\n",
    "    c, wp, wc = 5, 5, 1\n",
    "    f = c**2 * k**2 - w**2 + wp**2 / (1 - wc/w)\n",
    "    df = -2*w - wp**2 * wc/(w-wc)**2\n",
    "    return f, df\n",
    "\n",
    "# k가 주어지면 관계를 풀 함수를 정의하자.\n",
    "def single_step(k,winit):\n",
    "    return newton_while(lambda w: f_and_df(k, w), winit,\n",
    "                       lambda i, wf, dw: abs(dw) > 1e-7 * abs(max(wf[0], winit, key = abs)))\n",
    "\n",
    "# k 구간을 결정하자.\n",
    "ks = np.linspace(0.01, 10, 40)\n",
    "\n",
    "# omega의 초기 trial guess\n",
    "ws = [ks[0]]\n",
    "\n",
    "# k를 따라서 solution을 찾아보자\n",
    "for k in ks:\n",
    "    ws.append(single_step(k, ws[-1]))\n",
    "    \n",
    "# 정해진 구간에서 구해진 첫 k_0 에 대한 k_1, k_2 .... 값을  ws에 추가한다\n",
    "\n",
    "# remove the first guess\n",
    "ws = ws[1:]\n",
    "\n",
    "\n",
    "w_exact = np.linspace(1e-10, 0.99, 400)\n",
    "k_exact = 1/5 * np.sqrt(w_exact**2 - 5**2/(1 - 1/w_exact))\n",
    "# 실제 해를 적어둔 것. 구간 내 w 값이 정해 졌을때, 그 값에 대한  k(w) 값을 구한 것.\n",
    "# 그림이 약간 헷갈릴 수 있다. 이는 pass때문에 그런 것인데, 최종적으로 해만 튀어나오게 만든 것이\n",
    "# newton's solution 함수이다. 그렇기에, 실제 해와 맞아 떨어진 것을 볼 수 있는데,\n",
    "# 이는 제약 조건이 매우 작기 때문에 그 값을 만족할 정도면 실제 값과 맞아 떨어짐을 볼 수 있다.\n",
    "\n",
    "\n",
    "plt.figure()\n",
    "plt.plot(k_exact, w_exact, \"-k\", label = \"$\\\\omega$ exact\")\n",
    "plt.plot(ks, ws, \".:r\", linewidth = 1, label = \"$\\\\omega$ approx\")\n",
    "plt.xlabel(\"$k$\")\n",
    "plt.ylabel(\"$\\\\omega$\")\n",
    "plt.legend()\n",
    "plt.show()\n"
   ]
  },
  {
   "cell_type": "code",
   "execution_count": null,
   "id": "9f8b7a91",
   "metadata": {},
   "outputs": [],
   "source": [
    "ws"
   ]
  },
  {
   "cell_type": "code",
   "execution_count": null,
   "id": "aadf10f4",
   "metadata": {},
   "outputs": [],
   "source": [
    "print(ks[0])"
   ]
  },
  {
   "cell_type": "markdown",
   "id": "f3522b26",
   "metadata": {},
   "source": [
    "# Fractals"
   ]
  },
  {
   "cell_type": "markdown",
   "id": "42e18308",
   "metadata": {},
   "source": [
    "In mathmatics, Fractal is a term used to describe geometric shapes containing detailed structure at arbitrarily small scales\n",
    ":뉴턴의 방법은 complex-valued fumctions and solutions 에도 사용된다. \n",
    "임의이 작은 규모의 구조를 상세히 포함하는 기하학적 모양을 묘사하는데 사용되는 용어이다.\n",
    "\n",
    "\n",
    "$$\n",
    "z^3 - 1 = 0\n",
    "$$\n",
    "\n",
    "real, imaginary 축으로 \n",
    "가설이 진짜 해로 이어진 지역을 검은색으로\n",
    "그렇지 않으면 흰색으로 \n",
    "\n"
   ]
  },
  {
   "cell_type": "code",
   "execution_count": 7,
   "id": "b39f5201",
   "metadata": {},
   "outputs": [
    {
     "data": {
      "image/png": "[encoded data removed]",
      "text/plain": [
       "<Figure size 1100x1100 with 1 Axes>"
      ]
     },
     "metadata": {},
     "output_type": "display_data"
    }
   ],
   "source": [
    "def found_real_root(zinit: complex) -> int:\n",
    "    root = newton_while(lambda z: (z**3 - 1, 3*z**2), zinit,\n",
    "                       lambda i, xy, dx: abs(dx) > 1e-10 and i < 20)\n",
    "    x, y = root.real, root.imag\n",
    "    if abs(y) > 1e-10 or abs(x - 1) > 1e-10:\n",
    "        return 0\n",
    "    # 이 부분이 해가 아닌 부분이라고 볼 수 있겠지.\n",
    "    return 1\n",
    "    # 이 부분이 해 라고 볼 수 있겠지.\n",
    "    \n",
    "xs = np.linspace(-2, 2, 700) # 충분한 범위\n",
    "ys = xs #변수를 일단 ys에 저장\n",
    "\n",
    "mask = [[found_real_root(complex(x, y)) for x in xs] for y in ys]\n",
    "# complex에서 범위에 따라 0 또는 1을 보내게 되는데 (이는 found_real_root 로)\n",
    "# 이때, 똑같은 값을 실수와 complex된 y로 보내어 대칭적인 그림을 만든다???\n",
    "# complex든 real이든 일단 범위는 넘어가면 색이 칠해지게 된다.  (found_real_root 함수로 인하여)\n",
    "# 그러면 일단은 대칭성을 가지겠지. 왜냐면 real이든 imaginary든 abs값은 결국 한계를 넘으면 검은색일테니까\n",
    "# 이때, \n",
    "\n",
    "\n",
    "plt.figure(figsize = (11, 11)) # 사이즈 정해주고\n",
    "\n",
    "plt.imshow(mask, interpolation = 'none', origin = 'lower',\n",
    "          cmap = 'Greys', extent = np.hstack((xs[[0, -1]], ys[[0, -1]])))\n",
    "plt.xlabel('$\\\\Re(z)$')\n",
    "plt.ylabel('$\\\\Im(z)$')\n",
    "plt.show()"
   ]
  },
  {
   "cell_type": "code",
   "execution_count": null,
   "id": "657c8e43",
   "metadata": {},
   "outputs": [],
   "source": [
    "print(mask)"
   ]
  },
  {
   "cell_type": "code",
   "execution_count": null,
   "id": "9f137238",
   "metadata": {},
   "outputs": [],
   "source": [
    "print(ys)"
   ]
  },
  {
   "cell_type": "code",
   "execution_count": null,
   "id": "9346e6f9",
   "metadata": {},
   "outputs": [],
   "source": []
  },
  {
   "cell_type": "code",
   "execution_count": null,
   "id": "bc312238",
   "metadata": {},
   "outputs": [],
   "source": [
    "def greeting(name: str) -> str:\n",
    "    return 'Hello ' + name"
   ]
  },
  {
   "cell_type": "code",
   "execution_count": null,
   "id": "0bf692db",
   "metadata": {},
   "outputs": [],
   "source": [
    "greeting('kang')"
   ]
  },
  {
   "cell_type": "code",
   "execution_count": null,
   "id": "26117c43",
   "metadata": {},
   "outputs": [],
   "source": [
    "def greeting(name: str) -> str:\n",
    "    s: str = 'Hello ' + name\n",
    "    return s"
   ]
  },
  {
   "cell_type": "code",
   "execution_count": null,
   "id": "66bd9e7f",
   "metadata": {},
   "outputs": [],
   "source": [
    "greeting('kang')"
   ]
  },
  {
   "cell_type": "markdown",
   "id": "5eec66a7",
   "metadata": {},
   "source": [
    " 인수의 타입 힌트를 붙이고, 괄호 뒤 콜론 전에 \"-> 타입\" 을 붙이는 형식으로 반환값에 대한 타입 힌트를 지정할 수 있다."
   ]
  },
  {
   "cell_type": "code",
   "execution_count": null,
   "id": "2cd20bc9",
   "metadata": {},
   "outputs": [],
   "source": [
    "def make_post(title: str, author_id: int=0) -> str:\n",
    "    num: int = 34  # int type\n",
    "    str: string = \"Hello types!\"  # str type\n",
    "    test: Test = Test(num)  # class \"Test\" type\n",
    "    #다양하게 변수에 대한 힌트를 이렇게 담을 수 있는 것을 보여주는 예시들이다."
   ]
  },
  {
   "cell_type": "markdown",
   "id": "f3d840d2",
   "metadata": {},
   "source": [
    "Let's zoom in the region $\\Re(z) \\in [-0.5, 0.5]$ and $\\Im(z) \\in [-0.5, 0.5]$."
   ]
  },
  {
   "cell_type": "code",
   "execution_count": null,
   "id": "f5770554",
   "metadata": {},
   "outputs": [],
   "source": [
    "xs = np.linspace(-.5, .5, 700)\n",
    "ys = xs\n",
    "mask = [[found_real_root(complex(x, y)) for x in xs] for y in ys]\n",
    "\n",
    "#위와 똑같이 그림을 그려준다.\n",
    "plt.figure(figsize=(11, 11))\n",
    "plt.imshow(mask, interpolation='none', origin='lower', cmap='Greys',\n",
    "            extent=np.hstack((xs[[0, -100]], ys[[0, -100]])))\n",
    "\n",
    "\n",
    "plt.xlabel('$\\\\Re(z)$')\n",
    "plt.ylabel('$\\\\Im(z)$')\n",
    "plt.show()"
   ]
  },
  {
   "cell_type": "markdown",
   "id": "028bbe9c",
   "metadata": {},
   "source": [
    "## interpolation : 보간법, 픽셀들의 축 위치 간격을 보정하여 이미지가 자연스러운\n",
    "모양으로 보일 수 있게 한다. imshow() 에는 16가지 보간법이 있고, 'nearest'는 갖아\n",
    "고해상도 보간법.\n",
    "\n",
    "## orgin :\n",
    "#### lower\n",
    "- [0, 0]은 (왼쪽, 아래)\n",
    "- [M', 0]은 (왼쪽, 상단)\n",
    "- [0, N']는 (오른쪽, 아래)\n",
    "- [M', N']은 (오른쪽, 상단)\n",
    "\n",
    "#### upper\n",
    "- [0, 0]은 (왼쪽, 상단)\n",
    "- [M', 0]은 (왼쪽, 아래)\n",
    "- [0, N']는 (오른쪽, 상단)\n",
    "- [M', N']은 (오른쪽, 아래)\n",
    "\n",
    "\n",
    "\n",
    "\n",
    "## cmap = '' -> 원하는 색깔, 칼라맵은 다음 참조\n",
    "https://matplotlib.org/tutorials/colors/colormaps.html\n",
    "</figcaption>\n",
    "</figure></center>\n",
    "\n",
    "## extent\n",
    "#### 전에 먼저 hstack\n",
    "numpy.hstack(tup, *, dtype=None, casting='same_kind')\n",
    "- 배열을 수평으로 배열을 배열로 쌓으세요 \n",
    "a = np.array((1,2,3))\n",
    ">>> b = np.array((4,5,6))\n",
    ">>> np.hstack((a,b))\n",
    "array([1, 2, 3, 4, 5, 6])\n",
    "\n",
    ">>> a = np.array([[1],[2],[3]])\n",
    ">>> b = np.array([[4],[5],[6]])\n",
    ">>> np.hstack((a,b))\n",
    "array([[1, 4],\n",
    "       [2, 5],\n",
    "       [3, 6]])\n",
    "       \n",
    "### extent\n",
    "현재 축의 좌표에서 이미지를 붙여넣을 직사각형의 모서리를 지정하십시오.\n",
    "\n",
    "범위는 왼쪽과 오른쪽 한계와 하단과 상단 한계를 정의한다. 다음과 같은 네 가지 값이 필요합니다: \n",
    ">>extent =[horizontal_min,horizontal_max,vertical_min,vertical_max].\n",
    "\n",
    "그러니 4가지 값이 필요하니까 extent=np.hstack((xs[[0, -100]], ys[[0, -100]]))) 이러면 4가지 값이지. \n",
    "\n",
    "\n"
   ]
  },
  {
   "cell_type": "code",
   "execution_count": null,
   "id": "6d0febf1",
   "metadata": {},
   "outputs": [],
   "source": [
    "extent=np.hstack((xs[[0, -1]], ys[[0, -1]]))\n",
    "extent\n",
    "\n",
    "#즉, grid의 한계를 정한다."
   ]
  }
 ],
 "metadata": {
  "kernelspec": {
   "display_name": "Python 3 (ipykernel)",
   "language": "python",
   "name": "python3"
  },
  "language_info": {
   "codemirror_mode": {
    "name": "ipython",
    "version": 3
   },
   "file_extension": ".py",
   "mimetype": "text/x-python",
   "name": "python",
   "nbconvert_exporter": "python",
   "pygments_lexer": "ipython3",
   "version": "3.9.13"
  }
 },
 "nbformat": 4,
 "nbformat_minor": 5
}
