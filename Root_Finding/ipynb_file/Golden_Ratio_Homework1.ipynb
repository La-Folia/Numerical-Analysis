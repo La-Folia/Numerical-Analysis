{
 "cells": [
  {
   "cell_type": "code",
   "execution_count": 16,
   "id": "f82449b8",
   "metadata": {},
   "outputs": [],
   "source": [
    "import numpy as np\n",
    "import matplotlib.pyplot as plt\n",
    "plt.rcParams.update({'font.size': 15})\n",
    "from scipy import optimize"
   ]
  },
  {
   "cell_type": "code",
   "execution_count": null,
   "id": "6f46a8bf",
   "metadata": {},
   "outputs": [],
   "source": []
  },
  {
   "cell_type": "code",
   "execution_count": 5,
   "id": "7d667c5e",
   "metadata": {},
   "outputs": [
    {
     "data": {
      "text/plain": [
       "      converged: True\n",
       "           flag: 'converged'\n",
       " function_calls: 41\n",
       "     iterations: 39\n",
       "           root: 1.6180339887487207"
      ]
     },
     "execution_count": 5,
     "metadata": {},
     "output_type": "execute_result"
    }
   ],
   "source": [
    "def f(x):\n",
    "    return (x**2 - x - 1)\n",
    "\n",
    "sol = optimize.root_scalar(f, bracket=[1, 2], method='bisect')\n",
    "sol"
   ]
  },
  {
   "cell_type": "code",
   "execution_count": 12,
   "id": "dd8da6d3",
   "metadata": {},
   "outputs": [
    {
     "data": {
      "text/plain": [
       "1.1741718708435656e-12"
      ]
     },
     "execution_count": 12,
     "metadata": {},
     "output_type": "execute_result"
    }
   ],
   "source": [
    "1.6180339887498948482 - 1.6180339887487207"
   ]
  },
  {
   "cell_type": "code",
   "execution_count": 14,
   "id": "9099c17d",
   "metadata": {},
   "outputs": [
    {
     "data": {
      "text/plain": [
       "0.0"
      ]
     },
     "execution_count": 14,
     "metadata": {},
     "output_type": "execute_result"
    }
   ],
   "source": [
    "1.6180339887498948482 - 1.618033988749895"
   ]
  },
  {
   "cell_type": "code",
   "execution_count": 15,
   "id": "13aba02a",
   "metadata": {},
   "outputs": [
    {
     "data": {
      "text/plain": [
       "      converged: True\n",
       "           flag: 'converged'\n",
       " function_calls: 12\n",
       "     iterations: 6\n",
       "           root: 1.618033988749895"
      ]
     },
     "execution_count": 15,
     "metadata": {},
     "output_type": "execute_result"
    }
   ],
   "source": [
    "def f(x):\n",
    "    return (x**2 - x - 1)\n",
    "\n",
    "sol = optimize.root_scalar(f, fprime =  lambda x: 2 * x - 1 , x0 = 1, method='Newton')\n",
    "sol"
   ]
  },
  {
   "cell_type": "code",
   "execution_count": 17,
   "id": "428b4301",
   "metadata": {},
   "outputs": [
    {
     "data": {
      "text/plain": [
       "0.0"
      ]
     },
     "execution_count": 17,
     "metadata": {},
     "output_type": "execute_result"
    }
   ],
   "source": [
    "2**(1/3)- 1.2599210498948732 "
   ]
  }
 ],
 "metadata": {
  "kernelspec": {
   "display_name": "Python 3 (ipykernel)",
   "language": "python",
   "name": "python3"
  },
  "language_info": {
   "codemirror_mode": {
    "name": "ipython",
    "version": 3
   },
   "file_extension": ".py",
   "mimetype": "text/x-python",
   "name": "python",
   "nbconvert_exporter": "python",
   "pygments_lexer": "ipython3",
   "version": "3.9.13"
  }
 },
 "nbformat": 4,
 "nbformat_minor": 5
}
