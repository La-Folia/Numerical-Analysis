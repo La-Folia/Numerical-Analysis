{
 "cells": [
  {
   "cell_type": "code",
   "execution_count": 2,
   "id": "1dd685f1",
   "metadata": {},
   "outputs": [],
   "source": [
    "import numpy as np\n",
    "import matplotlib.pyplot as plt\n",
    "plt.rcParams.update({'font.size': 15})"
   ]
  },
  {
   "cell_type": "markdown",
   "id": "3a225f54",
   "metadata": {},
   "source": [
    "Secant Method"
   ]
  },
  {
   "cell_type": "markdown",
   "id": "e2c403a0",
   "metadata": {},
   "source": [
    "- 해의 근처에서 매끄러운 함수의 경우, 할선법으로 알려진 방법이 이분법보다 빠르게 해가 구해진다.\n",
    "- 이 방법에서 함수는 주어진 영역에서 선형이라고 가정하고, 근의 다음 개선은 근사선이 축을 가로지르는 점으로 간주한다. 각 반복 후 가장 오래된 경계점은 루트의 최신 추정치를 위해 삭제됩니다.\n",
    "- 시퀀트 방법은 충분히 연속적인 함수의 해 근처에서 더 빠르게 수렴한다. 그러나 해가 반드시 괄호로 묶인 채로 남아 있지는 않다는 단점이 있다."
   ]
  },
  {
   "cell_type": "markdown",
   "id": "4bec76d2",
   "metadata": {},
   "source": [
    "<center><figure>\n",
    "  <img src=\"https://upload.wikimedia.org/wikipedia/commons/thumb/9/92/Secant_method.svg/300px-Secant_method.svg.png\">\n",
    "  <figcaption>From Wikipedia (https://en.wikipedia.org/wiki/Secant_method)</figcaption>\n",
    "</figure></center>"
   ]
  },
  {
   "cell_type": "markdown",
   "id": "cb9ae1c8",
   "metadata": {},
   "source": [
    "일부 지역에서 축을 통과하는 연속적이고 부드러운 함수 $f(x)$를 생각해보자.\n",
    "$[x_0, x_1]$ 구간이 주어지면 위 그림과 같이 $(x_0, f(x_0))$와 $(x_1, f(x_1))$ 지점을 통과하는 선을 구성할 수 있다.\n",
    "*상수선*이라고 불리는 이 선의 방정식은 다음과 같다."
   ]
  },
  {
   "cell_type": "markdown",
   "id": "213fa5e7",
   "metadata": {},
   "source": [
    "\n",
    "$$\n",
    "y = \\frac{f(x_1) - f(x_0}{x_1 - x_0}(x - x_1) + f(x_1)\n",
    "$$\n",
    "\n",
    "$y = 0$일 때, 해는 다음과 같다.\n",
    "#### 단순히 x에 대하여 정리하면 됨.\n",
    "$$\n",
    "x = x_1 - f(x_1) \\frac{x_1 - x_0}{f(x_1) - f(x_0}\n",
    "$$\n"
   ]
  },
  {
   "cell_type": "markdown",
   "id": "b9b3de3e",
   "metadata": {},
   "source": [
    "## 알고리즘\n",
    "\n",
    "1. 초기값 $x_0$ 및 $x_1$로 시작하여, 시퀀트 선이 축과 교차하는 점을 구합니다.\n",
    "\n",
    "    $$\n",
    "    x = x_1 - f(x_1) \\frac{x_1 - x_0}{f(x_1) - f(x_0}\n",
    "    $$\n",
    "    \n",
    "2. 그런 다음 $x$의 새로운 값을 $x_2$로 사용하고 $x_0$와 $x_1$ 대신 $x_1$와 $x_2$를 사용하여 $x_3$, $x_4$ 등을 해결한다.\n",
    "\n",
    "   $$\n",
    "    \\begin{aligned}\n",
    "    x_3 &= x_2 - f(x_2) \\frac{x_2 - x_1}{f(x_2) - f(x_1)}, \\\\\n",
    "    x_4 &= x_3 - f(x_3) \\frac{x_3 - x_2}{f(x_3) - f(x_2)}, \\\\\n",
    "    &\\ \\vdots \\\\\n",
    "    x_n &= x_{n - 1} - f(x_{n - 1}) \\frac{x_{n - 1} - x_{n - 2}}{f(x_{n - 1}) - f(x_{n - 2})}. \\\\\n",
    "    \\end{aligned}\n",
    "    $$\n",
    "3. 충분히 높은 정밀도($x_n$와 $x_{n-1}$ 사이의 충분히 작은 차이)에 도달하면 반복이 중지된다."
   ]
  },
  {
   "cell_type": "markdown",
   "id": "c06d7279",
   "metadata": {},
   "source": [
    "# Inplementaion : 구현"
   ]
  },
  {
   "cell_type": "code",
   "execution_count": 3,
   "id": "2dcb9e1a",
   "metadata": {},
   "outputs": [],
   "source": [
    "def secant_by(f, a, b, n):\n",
    "    \"\"\"Return the root calculated using the secant method.\n",
    "\n",
    "    :param f:\n",
    "        A function to solve.\n",
    "    :param a:\n",
    "        First initial location.\n",
    "    :param b:\n",
    "        Second initial location.\n",
    "    :param n:\n",
    "        The number of iterations : 반복되는 횟수\n",
    "    \"\"\"\n",
    "\n",
    "    x0, x1 = a, b\n",
    "    f0, f1 = f(x0), f(x1)\n",
    "    iterations = n \n",
    "    x2 = None\n",
    "    \n",
    "    for i in range(iterations): #횟수를 지정할 때 까지, 계속해서 반복\n",
    "        x2 = x1 - f1 * (x1 - x0) / float(f1 - f0)\n",
    "        x0, x1 = x1, x2\n",
    "        f0, f1 = f1, f(x1)\n",
    "        \n",
    "    return x2"
   ]
  },
  {
   "cell_type": "markdown",
   "id": "d4e621a9",
   "metadata": {},
   "source": [
    "이전과 마찬가지로 반복 횟수 대신 predicate를 취하는 secant_while라는 함수도 작성한다."
   ]
  },
  {
   "cell_type": "code",
   "execution_count": 4,
   "id": "b0b00656",
   "metadata": {},
   "outputs": [],
   "source": [
    "def secant_while(f, xinit, predicate):\n",
    "    \"\"\"Return the root calculated using the secant method.\n",
    "\n",
    "    :param f:\n",
    "        A function to solve.\n",
    "    :param xinit:\n",
    "        A pair of initial values for x.\n",
    "    :param predicate:\n",
    "        A callable that takes three arguments\n",
    "            - i : the iteration count\n",
    "            - xy : a pair of the midpoint and the function value in the current iteration\n",
    "            - dx : the change of the x value\n",
    "        and returns boolean:\n",
    "            - If True, the search continues.\n",
    "            - If False, the search terminates.\n",
    "    \"\"\"\n",
    "\n",
    "    x0, x1 = map(float, xinit)\n",
    "    f0, f1 = f(x0), f(x1)\n",
    "    i, x2, f2 = 0, float(\"nan\"), float(\"nan\")\n",
    "    \n",
    "    def secant_root():\n",
    "        nonlocal i, x2, f2\n",
    "        x2 = x1 - f1 * (x1 - x0) / (f1 - f0)\n",
    "        f2 = f(x2)\n",
    "        i += 1\n",
    "\n",
    "        return i, (x2, f2), x2 - x1\n",
    "\n",
    "    while predicate(*secant_root()):\n",
    "        x0, x1 = x1, x2\n",
    "        f0, f1 = f1, f2\n",
    "\n",
    "        \n",
    "    return x2"
   ]
  },
  {
   "cell_type": "markdown",
   "id": "a042e376",
   "metadata": {},
   "source": [
    "nonlocal의 이해"
   ]
  },
  {
   "cell_type": "markdown",
   "id": "ee50e73a",
   "metadata": {},
   "source": [
    "https://www.daleseo.com/python-global-nonlocal/"
   ]
  },
  {
   "cell_type": "markdown",
   "id": "f70a7b7c",
   "metadata": {},
   "source": [
    "nonlocal 키워드도 global 키워드와 같이 동일한 이름의 새로운 변수가 생성되는 것을 방지하기 위해서 사용됩니다. 이 두 키워드의 차이점은 global 키워드는 일반 함수 내에서 전역(global/module) 변수를 대상으로 사용하는 반면에 nonlocal 키워드는 중첩 함수 내에서 비지역(nonlocal/closing) 변수를 대상으로 사용한다는 것입니다."
   ]
  },
  {
   "cell_type": "markdown",
   "id": "89d2e5b3",
   "metadata": {},
   "source": [
    "float('nan') 의 이해"
   ]
  },
  {
   "cell_type": "code",
   "execution_count": 5,
   "id": "07b88cc6",
   "metadata": {},
   "outputs": [
    {
     "name": "stdout",
     "output_type": "stream",
     "text": [
      "False\n"
     ]
    }
   ],
   "source": [
    "import math\n",
    "pp=float(3)\n",
    "print(math.isnan(pp))"
   ]
  },
  {
   "cell_type": "code",
   "execution_count": 6,
   "id": "0f8a7689",
   "metadata": {},
   "outputs": [
    {
     "name": "stdout",
     "output_type": "stream",
     "text": [
      "True\n"
     ]
    }
   ],
   "source": [
    "ppp = float('nan')\n",
    "print(math.isnan(ppp))"
   ]
  },
  {
   "cell_type": "markdown",
   "id": "eaf1af61",
   "metadata": {},
   "source": [
    "map함수의 이해"
   ]
  },
  {
   "cell_type": "code",
   "execution_count": 7,
   "id": "a3968e89",
   "metadata": {},
   "outputs": [
    {
     "data": {
      "text/plain": [
       "[1, 2, 3, 4]"
      ]
     },
     "execution_count": 7,
     "metadata": {},
     "output_type": "execute_result"
    }
   ],
   "source": [
    "# 실수로 저장된 모든 요소를 정수로 변환\n",
    "a = [1.2, 2.5, 3.7, 4.6]\n",
    "a = list(map(int, a))\n",
    "a"
   ]
  },
  {
   "cell_type": "code",
   "execution_count": 8,
   "id": "c7b2b8b9",
   "metadata": {},
   "outputs": [
    {
     "data": {
      "text/plain": [
       "[101, 102, 103, 104]"
      ]
     },
     "execution_count": 8,
     "metadata": {},
     "output_type": "execute_result"
    }
   ],
   "source": [
    "# 모든 요소에 100을 더해서 반환\n",
    "a = [1, 2, 3, 4]\n",
    "\n",
    "def plus100(n):\n",
    "    return n + 100\n",
    "\n",
    "list(map(plus100, a))\n"
   ]
  },
  {
   "cell_type": "markdown",
   "id": "2fda3f08",
   "metadata": {},
   "source": [
    "# 연습"
   ]
  },
  {
   "cell_type": "markdown",
   "id": "9973e1cc",
   "metadata": {},
   "source": [
    "CubeRoot"
   ]
  },
  {
   "cell_type": "markdown",
   "id": "aea8de51",
   "metadata": {},
   "source": [
    "Approximate $\\sqrt[3]{2}$ by solving\n",
    "\n",
    "$$\n",
    "x^3 - 2 = 0\n",
    "$$"
   ]
  },
  {
   "cell_type": "code",
   "execution_count": 9,
   "id": "acbffa7d",
   "metadata": {},
   "outputs": [
    {
     "data": {
      "text/plain": [
       "(1.2599210498948732, 0.0)"
      ]
     },
     "execution_count": 9,
     "metadata": {},
     "output_type": "execute_result"
    }
   ],
   "source": [
    "cuberoot2_approx = secant_while(lambda x: x*x*x - 2, (1, 2),\n",
    "                                lambda i, xy, dx: abs(dx) > 1e-10)\n",
    "(cuberoot2_approx, abs(2**(1/3) - cuberoot2_approx))"
   ]
  },
  {
   "cell_type": "markdown",
   "id": "3f14d0d0",
   "metadata": {},
   "source": [
    "### Supergolden Ratio : 슈퍼 황금 비율\n",
    "\n",
    "Let's find an approximation of the [supergolden ratio](https://en.wikipedia.org/wiki/Supergolden_ratio),\n",
    "which is the only real root of the polynomial(다항식)\n",
    "\n",
    "$$\n",
    "f(x) = x^3 - x^2 - 1\n",
    "$$\n",
    "\n",
    "The exact value of the supergolden ratio is given by\n",
    "\n",
    "$$\n",
    "\\psi = \\frac{1 + \\sqrt[3]{\\frac{29 + 3\\sqrt{93}}{2}} + \\sqrt[3]{\\frac{29 - 3\\sqrt{93}}{2}}}{3}\n",
    "\\approx 1.4655712318767682\n",
    "$$\n",
    "\n",
    "Let's plot the polynomial first:\n"
   ]
  },
  {
   "cell_type": "code",
   "execution_count": 10,
   "id": "c76e8dcd",
   "metadata": {},
   "outputs": [
    {
     "data": {
      "image/png": "[encoded data removed]",
      "text/plain": [
       "<Figure size 640x480 with 1 Axes>"
      ]
     },
     "metadata": {},
     "output_type": "display_data"
    }
   ],
   "source": [
    "x = np.linspace(0, 2.5, 200)\n",
    "y = x**3 - x**2 - 1\n",
    "\n",
    "plt.figure()\n",
    "plt.plot(x, y, '-r', 1.4655712318767682, 0, \"ok\")\n",
    "plt.grid()\n",
    "plt.xlabel(\"$x$\")\n",
    "plt.ylabel(\"$f(x)$\")\n",
    "plt.show()"
   ]
  },
  {
   "cell_type": "markdown",
   "id": "b5e8d8c1",
   "metadata": {},
   "source": [
    "이 해를 구해보자"
   ]
  },
  {
   "cell_type": "code",
   "execution_count": 11,
   "id": "6b60392f",
   "metadata": {},
   "outputs": [
    {
     "data": {
      "text/plain": [
       "1.4655712318725789"
      ]
     },
     "execution_count": 11,
     "metadata": {},
     "output_type": "execute_result"
    }
   ],
   "source": [
    "approx_psi = secant_by(lambda x: x ** 3 - x ** 2 - 1, 1, 2, 7) #이때 7은 반복 횟수\n",
    "approx_psi"
   ]
  },
  {
   "cell_type": "markdown",
   "id": "bbfb09e5",
   "metadata": {},
   "source": [
    "정확한 해와 추정해를 비교해보자"
   ]
  },
  {
   "cell_type": "code",
   "execution_count": 12,
   "id": "1e4ac8e5",
   "metadata": {},
   "outputs": [
    {
     "data": {
      "text/plain": [
       "4.189315561120566e-12"
      ]
     },
     "execution_count": 12,
     "metadata": {},
     "output_type": "execute_result"
    }
   ],
   "source": [
    "supergolden = (1 + ((29 + 3 * 93 ** 0.5) / 2) ** (1 / 3) + ((29 - 3 * 93 ** 0.5) / 2) ** (1 / 3)) / 3\n",
    "abs_err = abs(supergolden - approx_psi)\n",
    "abs_err"
   ]
  },
  {
   "cell_type": "markdown",
   "id": "061531a2",
   "metadata": {},
   "source": [
    "근사치는 7번 반복에서 10^-10의 정확도로 솔루션이 수렴된다.\n",
    "이분법으로 했을 경우는 얼마나 많이 필요한지 확인해보자 -->즉 secant_shile이 근사치가 더 빨리 수렴된다는 걸 확인해보자"
   ]
  },
  {
   "cell_type": "code",
   "execution_count": 13,
   "id": "bed58b88",
   "metadata": {},
   "outputs": [
    {
     "name": "stdout",
     "output_type": "stream",
     "text": [
      "i = 1, x = 1.250000000000, y = -6.093750000000e-01, dx = -7.500000000000e-01\n",
      "i = 2, x = 1.376623376623, y = -2.862640816765e-01, dx = +1.266233766234e-01\n",
      "i = 3, x = 1.488806910426, y = +8.346301015951e-02, dx = +1.121835338030e-01\n",
      "i = 4, x = 1.463482351777, y = -7.322493320465e-03, dx = -2.532455864955e-02\n",
      "i = 5, x = 1.465524956647, y = -1.625369994076e-04, dx = +2.042604870237e-03\n",
      "i = 6, x = 1.465571325487, y = +3.288100440813e-07, dx = +4.636883965436e-05\n",
      "i = 7, x = 1.465571231873, y = -1.471445187917e-11, dx = -9.361412489639e-08\n"
     ]
    },
    {
     "data": {
      "text/plain": [
       "1.4655712318725789"
      ]
     },
     "execution_count": 13,
     "metadata": {},
     "output_type": "execute_result"
    }
   ],
   "source": [
    "result_tuples = []\n",
    "\n",
    "def predicate(i, xy, dx):\n",
    "    result_tuples.append([i, *xy, dx])\n",
    "    print(\"i = {:1d}, x = {:.12f}, y = {:+.12e}, dx = {:+.12e}\"\n",
    "          .format(i, *xy, dx))\n",
    "    return abs(xy[1]) > 1e-10\n",
    "\n",
    "secant_while(lambda x: x ** 3 - x ** 2 - 1, (1, 2), predicate)\n",
    "\n"
   ]
  },
  {
   "cell_type": "code",
   "execution_count": 14,
   "id": "a1912076",
   "metadata": {},
   "outputs": [
    {
     "data": {
      "image/png": "[encoded data removed]",
      "text/plain": [
       "<Figure size 900x400 with 2 Axes>"
      ]
     },
     "metadata": {},
     "output_type": "display_data"
    }
   ],
   "source": [
    "plt.figure(figsize=(9, 4))\n",
    "\n",
    "plt.subplot(1, 2, 1)\n",
    "plt.semilogy(\n",
    "    [    ixydx[0]  for ixydx in result_tuples], \n",
    "    [abs(ixydx[2]) for ixydx in result_tuples], \n",
    "    \"o:k\")\n",
    "plt.grid()\n",
    "plt.xlabel(\"iterations\")\n",
    "plt.title(\"$|f(x_n)|$\")\n",
    "\n",
    "plt.subplot(1, 2, 2)\n",
    "plt.semilogy(\n",
    "    [    ixydx[0]  for ixydx in result_tuples], \n",
    "    [abs(ixydx[3]) for ixydx in result_tuples], \n",
    "    \"o:k\")\n",
    "plt.grid()\n",
    "plt.xlabel(\"iterations\")\n",
    "plt.title(\"$|\\Delta x_n|$\")\n",
    "\n",
    "plt.tight_layout()\n",
    "plt.show()"
   ]
  },
  {
   "cell_type": "markdown",
   "id": "2990152e",
   "metadata": {},
   "source": [
    "마지막으로, 솔루션을 초기 간격으로 괄호로 묶을 필요가 없습니다. 예를 들어, [2,2.5]를 초기 간격으로 제공할 수 있습니다."
   ]
  },
  {
   "cell_type": "code",
   "execution_count": 15,
   "id": "a7478327",
   "metadata": {},
   "outputs": [
    {
     "data": {
      "text/plain": [
       "1.465571231892479"
      ]
     },
     "execution_count": 15,
     "metadata": {},
     "output_type": "execute_result"
    }
   ],
   "source": [
    "secant_while(lambda x: x ** 3 - x ** 2 - 1, (2, 2.5),\n",
    "             lambda i, xy, dx: abs(xy[1]) >= 1e-10)"
   ]
  },
  {
   "cell_type": "markdown",
   "id": "43101833",
   "metadata": {},
   "source": [
    "## Whistler Dispersion(분산) Relation"
   ]
  },
  {
   "cell_type": "markdown",
   "id": "cff26c30",
   "metadata": {},
   "source": [
    "플라즈마 파동은 상호 연결된 입자들과 장이고 이는 주기적으로 반복되는 방식으로 전파된다"
   ]
  },
  {
   "cell_type": "markdown",
   "id": "90c43966",
   "metadata": {},
   "source": [
    "플라즈마 파동 모드의 $\\omega$ 의 주파수 와  $k$ 의 파수 는 dispersion relation(분산 관계)라고 불리는 특정한 관계를 만족시킨다."
   ]
  },
  {
   "cell_type": "markdown",
   "id": "6b5b4b39",
   "metadata": {},
   "source": [
    "$$\n",
    "c^2 k^2 = \\omega^2 - \\frac{\\omega_p^2}{1 - \\omega_c/\\omega}\n",
    "$$"
   ]
  },
  {
   "cell_type": "markdown",
   "id": "4afb8ca5",
   "metadata": {},
   "source": [
    "$c$는 빛의 속도이고, $\\omega_p$ 는 전기 플라즈마 주파수[electron plasma frequency](https://en.wikipedia.org/wiki/Plasma_parameters) \n",
    "그리고 $\\omega_c$ 는 전기 자이로 주파수[electron gyrofrequency](https://en.wikipedia.org/wiki/Plasma_parameters) 이다.\n",
    "\n"
   ]
  },
  {
   "cell_type": "markdown",
   "id": "2bc87088",
   "metadata": {},
   "source": [
    "이것은 주파수 $\\omega$ 의 함수로써 파수  $k$ 를 쉽게 찾을 수 있다."
   ]
  },
  {
   "cell_type": "markdown",
   "id": "7b8d873c",
   "metadata": {},
   "source": [
    "$$\n",
    "k(\\omega) = \\pm \\frac{1}{c} \\sqrt{\\omega^2 - \\frac{\\omega_p^2}{1 - \\omega_c/\\omega}}\n",
    "$$"
   ]
  },
  {
   "cell_type": "markdown",
   "id": "b206d7a5",
   "metadata": {},
   "source": [
    "\n",
    "Let's assume\n",
    "\n",
    "- $c = 5$\n",
    "- $\\omega_p = 5$\n",
    "- $\\omega_c = 1$\n",
    "\n",
    "and find how $k$ and $\\omega$ is related:"
   ]
  },
  {
   "cell_type": "code",
   "execution_count": 16,
   "id": "68e9eb07",
   "metadata": {},
   "outputs": [
    {
     "data": {
      "image/png": "[encoded data removed]",
      "text/plain": [
       "<Figure size 640x480 with 1 Axes>"
      ]
     },
     "metadata": {},
     "output_type": "display_data"
    }
   ],
   "source": [
    "w = np.linspace(0.01, 0.99, 40) #40개로 쪼개고\n",
    "k = 1/5 * np.sqrt(w**2 - 5**2/(1 - 1/w)) # 식에 대입해서 나오는 k 구하고\n",
    "\n",
    "plt.figure()\n",
    "plt.plot(k, w, \".:k\", linewidth=1) #w값에 따른 k값의 변화를 그려보자\n",
    "# \".:k\" --> 점과 선으로 나타내진다. 그림이 더 깔끔하게 보여짐.\n",
    "plt.xlabel(\"$k$\")\n",
    "plt.ylabel(\"$\\\\omega$\")\n",
    "plt.show()"
   ]
  },
  {
   "cell_type": "markdown",
   "id": "d16ab26d",
   "metadata": {},
   "source": [
    "    하지만 만대로 때때로 k값이 주어졌을 때 $\\omega$ 유도해야 할 때가 있음. 그러나 k 함수에서 $\\omega$구하는게 쉽지 안힉에, 우리는 root finding algorithm을 통해서 바람직한 k값을 구해낼 수 있다.\n",
    "    \n"
   ]
  },
  {
   "cell_type": "markdown",
   "id": "6135068a",
   "metadata": {},
   "source": [
    "Let's define\n",
    "\n",
    "$$\n",
    "f_k(\\omega) = \n",
    "c^2 k^2 - \\omega^2 + \\frac{\\omega_p^2}{1 - \\omega_c/\\omega}\n",
    "$$"
   ]
  },
  {
   "cell_type": "markdown",
   "id": "8307ab0a",
   "metadata": {},
   "source": [
    "For a given $k$, the frequency $\\omega$ must satisfy $f_k(\\omega) = 0$.\n",
    "We will use the secant method to find solutions $\\omega$ for a range of $k$ values."
   ]
  },
  {
   "cell_type": "code",
   "execution_count": 17,
   "id": "3103ddd7",
   "metadata": {},
   "outputs": [
    {
     "data": {
      "image/png": "[encoded data removed]",
      "text/plain": [
       "<Figure size 640x480 with 1 Axes>"
      ]
     },
     "metadata": {},
     "output_type": "display_data"
    }
   ],
   "source": [
    "def dispersion_relation(k, w):\n",
    "    c, wp, wc = 5, 5, 1\n",
    "    return c**2 * k ** 2 - w**2 + wp**2 / (1 - wc/w)\n",
    "\n",
    "#a 함수를 정의한다. (k가 주어진 a 에서 관계를 푸는 함수를 정의하자.)\n",
    "def single_step(k, winit):\n",
    "    max_w = max(winit, key = abs)\n",
    "    return secant_while(lambda w: dispersion_relation(k, w), winit,\n",
    "                       lambda i, xy, dw: abs(dw) > abs(1e-7* max_w))\n",
    "\n",
    "ks = np.linspace(0.01, 10, 40)\n",
    "\n",
    "ws = [ks[0], ks[1]]\n",
    "\n",
    "for k in ks:\n",
    "    ws.append(single_step(k, ws[-2:]))\n",
    "    \n",
    "ws = ws[2:]\n",
    "\n",
    "w_exact = np.linspace(1e-10, 0.99, 400)\n",
    "k_exact = 1/5 * np.sqrt(w_exact**2 - 5**2/(1 - 1/w_exact))\n",
    "\n",
    "plt.figure()\n",
    "plt.plot(k_exact, w_exact, \"-k\", label= \"$\\\\omega$ exact\")\n",
    "plt.plot(ks, ws, \".:r\", linewidth = 1, label = \"$\\\\omega$ approx\")\n",
    "plt.xlabel(\"$k\")\n",
    "plt.ylabel(\"$\\\\omega$\")\n",
    "plt.legend()\n",
    "plt.show()"
   ]
  }
 ],
 "metadata": {
  "kernelspec": {
   "display_name": "Python 3 (ipykernel)",
   "language": "python",
   "name": "python3"
  },
  "language_info": {
   "codemirror_mode": {
    "name": "ipython",
    "version": 3
   },
   "file_extension": ".py",
   "mimetype": "text/x-python",
   "name": "python",
   "nbconvert_exporter": "python",
   "pygments_lexer": "ipython3",
   "version": "3.9.13"
  }
 },
 "nbformat": 4,
 "nbformat_minor": 5
}
