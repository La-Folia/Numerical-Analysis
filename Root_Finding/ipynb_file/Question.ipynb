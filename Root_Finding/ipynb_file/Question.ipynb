{
 "cells": [
  {
   "cell_type": "markdown",
   "id": "2ff13d10",
   "metadata": {},
   "source": [
    "# Homework 1\n",
    "\n",
    "**주의사항**\n",
    "\n",
    "- 제출한 과제는 적절한 실험 보고서 양식을 갖출 것 (커버 페이지 포함)\n",
    "- 손글씨는 읽을 수 있도록, 모든 그래프는 레이블 포함 (타이틀, $x$ 축, $y$ 축, 레전드 등)\n",
    "- 프로그램 코드는 직접 실행할 수 있도록 문제 당 한 파일에, 주석을 적당히 넣어 로직을 이해할 수 있도록 준비\n",
    "- 또한 과제 확인시간에 프로그램을 실행하여 보여줄 수 있도록 준비 (랩탑 준비 등)\n",
    "\n",
    "**다음 문제 중 세 문제를 선택**"
   ]
  },
  {
   "cell_type": "markdown",
   "id": "11450329",
   "metadata": {},
   "source": [
    "## 1. [scipy.optimize.root_scalar](https://docs.scipy.org/doc/scipy/reference/generated/scipy.optimize.root_scalar.html#scipy.optimize.root_scalar) 패키지\n",
    "\n",
    "SciPy의 `root_scalar` 함수의 사용법을 공부하고 이를 이용하여 예제문제들을 풀어보라.\n",
    "이 함수는 여기서 소개했던 방법을 포함한 다양한 방법을 이용할 수 있는 옵션을 제공한다.\n",
    "여러가지 방법으로 같은 문제를 풀어보라."
   ]
  },
  {
   "cell_type": "markdown",
   "id": "33b9b969",
   "metadata": {},
   "source": [
    "## 2. Root Finding by Hand\n",
    "\n",
    "Consider the function $f(x) = x^3 - 2$.\n",
    "\n",
    "1. Show that that $f(x)$ has a root $\\alpha$ in the interval $[1, 2]$.\n",
    "\n",
    "2. Compute an approximation to the root by taking 4 steps of the bisection method **by HAND**.\n",
    "\n",
    "3. Repeat, using Newton's method. Take $x_0 = 1.5$ for the starting value.\n",
    "\n",
    "For each method in (2) and (3), present the results in the form of a table:\n",
    "\n",
    "| $n$ (steps) | $x_n$ (approximation) | $f(x_n)$ (residual) | $\\alpha - x_n$ (error) |\n",
    "|:-----------:|:---------------------:|:-------------------:|:----------------------:|\n",
    "|  $\\vdots$   |  $\\vdots$             |  $\\vdots$           |  $\\vdots$              |\n",
    "\n"
   ]
  },
  {
   "cell_type": "markdown",
   "id": "1986a783",
   "metadata": {},
   "source": [
    "## 3. Root Finding by Coding\n",
    "\n",
    "Each of the functions\n",
    "\n",
    "$$\n",
    "\\begin{aligned}\n",
    "f_1(x) &= \\sin x - x - 1 \\\\\n",
    "\\\\\n",
    "f_2(x) &= x(1 - \\cos x) \\\\\n",
    "\\\\\n",
    "f_3(x) &= e^x - x^2 + 3x - 2 \\\\\n",
    "\\end{aligned}\n",
    "$$\n",
    "\n",
    "has a root in the interval $x \\in [-2, 1]$.\n",
    "Use all four of the root finding methods we have learned to approximate to within an absolute tolerance of $10^{-6}$ the root of each function.\n",
    "Limit the number of iterations to $500$.\n",
    "For Newton's method use the starting value $x_0 = 1$;\n",
    "for the secant method use $x_0 = 1$ and $x_1 = 0.9$, and for the Muller method $x_0 = 1$, $x_1 = 0.9$, and $x_2 = 0.95$.\n",
    "(Try other initial guesses in case any of the algorithms does not converge.)\n",
    "Summarize the results of your analyses in table form (replace \"False Position\" with \"Muller's Method\"):\n",
    "\n",
    "![Table Example](assets/table-form.png)\n",
    "\n",
    "Answer the following questions as well:\n",
    "\n",
    "1. Why did the bisection method require approximately the same number of iterations to converge to the approximate root for all three test problems?\n",
    "2. Newton's method should have experienced difficulty approximating the root of one of the test functions (when using $x_0 = 1$). Identify which function presented a problem and explain why the difficulty occurred.\n",
    "3. Above you used the bisection method to find the root of the function $f_1(x) = \\sin x − x − 1$. Consider the function $g_1(x) = (\\sin x − x − 1)^2$. Clearly $f_1(x)$ and $g_1(x)$ have the same root in $x \\in [−2, 1]$. Could the bisection method be used to numerically approximate the root of $g_1(x)$? Why or why not?"
   ]
  },
  {
   "cell_type": "markdown",
   "id": "1a1d5a61",
   "metadata": {},
   "source": [
    "## 4. Archimedes' Law\n",
    "\n",
    "According to Archimedes' law, when a solid of density $\\sigma$ is placed in a liquid of density $\\rho$, it will sink to a depth $h$ that displaces an amount of liquid whose weight equals the weight of the solid.\n",
    "For a sphere of radius $r$, Archimedes' law translates to\n",
    "\n",
    "$$\n",
    "\\frac{1}{3}\\pi (3rh^2 - h^3) \\rho = \\frac{4}{3}\\pi r^3\\sigma\n",
    "$$\n",
    "\n",
    "Given $r = 5$, $\\rho = 1$, and $\\sigma = 0.6$, determine $h$.\n",
    "\n",
    "You may use any one of the methods (including `root_scalar` of SciPy), but make clear in your writeup which one you are using, what initial guesses or intervals you are using, etc."
   ]
  }
 ],
 "metadata": {
  "kernelspec": {
   "display_name": "Python 3 (ipykernel)",
   "language": "python",
   "name": "python3"
  },
  "language_info": {
   "codemirror_mode": {
    "name": "ipython",
    "version": 3
   },
   "file_extension": ".py",
   "mimetype": "text/x-python",
   "name": "python",
   "nbconvert_exporter": "python",
   "pygments_lexer": "ipython3",
   "version": "3.9.13"
  }
 },
 "nbformat": 4,
 "nbformat_minor": 5
}
