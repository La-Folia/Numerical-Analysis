{
 "cells": [
  {
   "cell_type": "code",
   "execution_count": 4,
   "id": "a8bcc991",
   "metadata": {},
   "outputs": [],
   "source": [
    "import numpy as np\n",
    "import matplotlib.pyplot as plt\n",
    "plt.rcParams.update({'font.size': 15})\n",
    "from scipy import optimize\n",
    "import cmath"
   ]
  },
  {
   "cell_type": "code",
   "execution_count": 69,
   "id": "69edfcc4",
   "metadata": {},
   "outputs": [
    {
     "data": {
      "image/png": "[encoded data removed]",
      "text/plain": [
       "<Figure size 640x480 with 1 Axes>"
      ]
     },
     "metadata": {},
     "output_type": "display_data"
    }
   ],
   "source": [
    "# define f_k(w)\n",
    "def dispersion_relation(k, w):\n",
    "    v0, wp, me_mi = 43, 43, 1 / 43**2\n",
    "    return 1 - wp**2 * (me_mi/w**2 + 1/(w - k*v0)**2)\n",
    "\n",
    "# define the k space\n",
    "ks = np.linspace(5, .02, 10)\n",
    "\n",
    "# first three guesses of omega\n",
    "ws = [1 + .1j, 1, 1. - .1j]\n",
    "\n",
    "# walk over the k values and find the solutions\n",
    "for k in ks:\n",
    "    sol = optimize.root_scalar(lambda w : dispersion_relation(k, w), x0 = 1, x1 = 2, method='secant')\n",
    "    ws.append(sol.root)\n",
    "# remove the first three guesses\n",
    "ws = ws[3:]\n",
    "\n",
    "plt.figure()\n",
    "plt.plot(ks, [w.real for w in ws], \"-b\", linewidth=1, label=\"$\\\\Re(\\\\omega)$\")\n",
    "plt.plot(ks, [w.imag for w in ws], \"-r\", linewidth=1, label=\"$\\\\Im(\\\\omega)$\")\n",
    "plt.xlabel(\"$k$\")\n",
    "plt.ylabel(\"$\\\\omega$\")\n",
    "plt.legend()\n",
    "plt.grid()\n",
    "plt.show()"
   ]
  },
  {
   "cell_type": "code",
   "execution_count": 52,
   "id": "cc6b3a1f",
   "metadata": {},
   "outputs": [
    {
     "data": {
      "text/plain": [
       "1.1600361006716151"
      ]
     },
     "execution_count": 52,
     "metadata": {},
     "output_type": "execute_result"
    }
   ],
   "source": [
    "sol.root"
   ]
  },
  {
   "cell_type": "code",
   "execution_count": 36,
   "id": "73e1d2aa",
   "metadata": {},
   "outputs": [
    {
     "ename": "NameError",
     "evalue": "name 'muller_while' is not defined",
     "output_type": "error",
     "traceback": [
      "\u001b[0;31m---------------------------------------------------------------------------\u001b[0m",
      "\u001b[0;31mNameError\u001b[0m                                 Traceback (most recent call last)",
      "\u001b[0;32m/var/folders/kk/2pj93ygs67nbx9_42r_c6_3c0000gn/T/ipykernel_62738/1077075116.py\u001b[0m in \u001b[0;36m<module>\u001b[0;34m\u001b[0m\n\u001b[1;32m     25\u001b[0m \u001b[0;31m#k 값을 넘어 solution을 찾자\u001b[0m\u001b[0;34m\u001b[0m\u001b[0;34m\u001b[0m\u001b[0m\n\u001b[1;32m     26\u001b[0m \u001b[0;32mfor\u001b[0m \u001b[0mk\u001b[0m \u001b[0;32min\u001b[0m \u001b[0mks\u001b[0m\u001b[0;34m:\u001b[0m\u001b[0;34m\u001b[0m\u001b[0;34m\u001b[0m\u001b[0m\n\u001b[0;32m---> 27\u001b[0;31m     \u001b[0mws\u001b[0m\u001b[0;34m.\u001b[0m\u001b[0mappend\u001b[0m\u001b[0;34m(\u001b[0m\u001b[0msingle_step\u001b[0m\u001b[0;34m(\u001b[0m\u001b[0mk\u001b[0m\u001b[0;34m,\u001b[0m \u001b[0mws\u001b[0m\u001b[0;34m[\u001b[0m\u001b[0;34m-\u001b[0m\u001b[0;36m3\u001b[0m\u001b[0;34m:\u001b[0m\u001b[0;34m]\u001b[0m\u001b[0;34m)\u001b[0m\u001b[0;34m)\u001b[0m\u001b[0;34m\u001b[0m\u001b[0;34m\u001b[0m\u001b[0m\n\u001b[0m\u001b[1;32m     28\u001b[0m \u001b[0;34m\u001b[0m\u001b[0m\n\u001b[1;32m     29\u001b[0m \u001b[0;31m# 처음 three guesses를 지우자.\u001b[0m\u001b[0;34m\u001b[0m\u001b[0;34m\u001b[0m\u001b[0m\n",
      "\u001b[0;32m/var/folders/kk/2pj93ygs67nbx9_42r_c6_3c0000gn/T/ipykernel_62738/1077075116.py\u001b[0m in \u001b[0;36msingle_step\u001b[0;34m(k, winit)\u001b[0m\n\u001b[1;32m     11\u001b[0m     \u001b[0;31m# 즉, max_w는 winit 요소 중에서 절댓값으로 최대인 것을 뽑아낸다.\u001b[0m\u001b[0;34m\u001b[0m\u001b[0;34m\u001b[0m\u001b[0m\n\u001b[1;32m     12\u001b[0m \u001b[0;34m\u001b[0m\u001b[0m\n\u001b[0;32m---> 13\u001b[0;31m     return muller_while(lambda w: dispersion_relation(k, w), winit,\n\u001b[0m\u001b[1;32m     14\u001b[0m                        lambda i, xy, dw: abs(dw) > 1e-7*abs(max_w) )\n\u001b[1;32m     15\u001b[0m     \u001b[0;31m#winit은 복소수의 꼴을 받기 때문에, 크기의 한도를 정할때 abs를 통해서 그 한도를 정해야 한다. 이것이 위에 것과의 차이임.\u001b[0m\u001b[0;34m\u001b[0m\u001b[0;34m\u001b[0m\u001b[0m\n",
      "\u001b[0;31mNameError\u001b[0m: name 'muller_while' is not defined"
     ]
    }
   ],
   "source": [
    "# f_k(w)를 정의\n",
    "def dispersion_relation(k, w):\n",
    "    v0, wp, me_mi = 43, 43, 1 / 43**2\n",
    "    return 1 - wp**2 * (me_mi/w**2 + 1/(w - k*v0)**2)\n",
    "# 어려운 것 없이 1번 식에 대입.\n",
    "\n",
    "# k가 주어지면 관계를 푸는 함수를 정의\n",
    "def single_step(k, winit):\n",
    "    max_w = max(winit, key = abs)\n",
    "    # key에 함수를 값으로 넣는다. 여기엔 lambda도 이용할 수 있다. key= function을 기준으로 최대, 최솟값을 찾는다.\n",
    "    # 즉, max_w는 winit 요소 중에서 절댓값으로 최대인 것을 뽑아낸다.\n",
    "    \n",
    "    return muller_while(lambda w: dispersion_relation(k, w), winit,\n",
    "                       lambda i, xy, dw: abs(dw) > 1e-7*abs(max_w) )\n",
    "    #winit은 복소수의 꼴을 받기 때문에, 크기의 한도를 정할때 abs를 통해서 그 한도를 정해야 한다. 이것이 위에 것과의 차이임.\n",
    "    \n",
    "\n",
    "# define the k space\n",
    "ks = np.linspace(2, .03, 1000)\n",
    "\n",
    "# fist three gusses of omega \n",
    "# k가 커지면 $w_p / (m_e/m_i) = 1$\n",
    "ws = [1 + .1j, 1, 1. - .1j]\n",
    "\n",
    "#k 값을 넘어 solution을 찾자\n",
    "for k in ks:\n",
    "    ws.append(single_step(k, ws[-3:]))\n",
    "    \n",
    "# 처음 three guesses를 지우자.\n",
    "ws = ws[3:]\n",
    "\n",
    "plt.figure()\n",
    "plt.plot(ks, [w.real for w in ws], \"-b\", linewidth = 1, label = \"$\\\\Re(\\\\omega)$\")\n",
    "plt.plot(ks, [w.imag for w in ws], \"-r\", linewidth = 1, label = \"$\\\\Im(\\\\omega)$\")\n",
    "plt.xlabel(\"$k$\")\n",
    "plt.ylabel(\"$\\\\omega$\")\n",
    "plt.legend()\n",
    "plt.grid()\n",
    "plt.show()"
   ]
  },
  {
   "cell_type": "code",
   "execution_count": null,
   "id": "d5a96425",
   "metadata": {},
   "outputs": [],
   "source": []
  }
 ],
 "metadata": {
  "kernelspec": {
   "display_name": "Python 3 (ipykernel)",
   "language": "python",
   "name": "python3"
  },
  "language_info": {
   "codemirror_mode": {
    "name": "ipython",
    "version": 3
   },
   "file_extension": ".py",
   "mimetype": "text/x-python",
   "name": "python",
   "nbconvert_exporter": "python",
   "pygments_lexer": "ipython3",
   "version": "3.9.13"
  }
 },
 "nbformat": 4,
 "nbformat_minor": 5
}
