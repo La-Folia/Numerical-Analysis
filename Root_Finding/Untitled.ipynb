{
 "cells": [
  {
   "cell_type": "code",
   "execution_count": 5,
   "id": "7b2177fe",
   "metadata": {},
   "outputs": [],
   "source": [
    "import cmath\n",
    "\n",
    "def muller_while(f, x0x1x2, predicate):\n",
    "    \"\"\"Return the root calculated using Muller's method.\n",
    "    \n",
    "    :param f:\n",
    "        A function f(x).\n",
    "    :param x0x1x2:\n",
    "        Three initial guesses.\n",
    "    :param predicate:\n",
    "        A callable that accepts three arguments:\n",
    "        A predicate function which takes three arguments\n",
    "            - i : the iteration count\n",
    "            - xy : a pair of the midpoint and the function value in the current iteration\n",
    "            - dx : the change of the x value\n",
    "        and returns boolean:\n",
    "            - If True, the search continues.\n",
    "            - If False, the search terminates.\n",
    "    \"\"\"\n",
    "    \n",
    "    x0, x1, x2 = map(complex, x0x1x2)\n",
    "    f0, f1, f2 = f(x0), f(x1), f(x2)\n",
    "    i, x3, f3 = 0, float(\"nan\"), float(\"nan\")\n",
    "    \n",
    "    def muller_root():\n",
    "        nonlocal i, x3, f3\n",
    "        #\n",
    "        t0   , t1    =  x0 - x2    ,  x1 - x2\n",
    "        term0, term1 = (f0 - f2)/t0, (f1 - f2)/t1\n",
    "        denom = t0 - t1\n",
    "        #\n",
    "        A = (   term0 -    term1) / denom\n",
    "        B = (t0*term1 - t1*term0) / denom\n",
    "        C = f2\n",
    "        #\n",
    "        sqrt_discriminant = cmath.sqrt(B**2 - 4*A*C)\n",
    "        dx = -2*C / max(B + sqrt_discriminant, B - sqrt_discriminant, key=abs)\n",
    "        x3 = x2 + dx\n",
    "        f3 = f(x3)\n",
    "        i += 1\n",
    "        return i, (x3, f3), dx\n",
    "    \n",
    "    while predicate(*muller_root()):\n",
    "        x0, x1, x2 = x1, x2, x3\n",
    "        f0, f1, f2 = f1, f2, f3\n",
    "        \n",
    "    return x3"
   ]
  },
  {
   "cell_type": "code",
   "execution_count": 7,
   "id": "37fd00a9",
   "metadata": {},
   "outputs": [
    {
     "name": "stdout",
     "output_type": "stream",
     "text": [
      "real(z) = 1.0508778904275348e-16, imag(z) = 1.0\n"
     ]
    }
   ],
   "source": [
    "z0z1z2 = (1 + .1j, 1 + .5j, 1 + .9j)\n",
    "\n",
    "z_approx = muller_while(lambda z: 1j * cmath.log(z) + cmath.pi/2, z0z1z2,\n",
    "                        lambda i, zf, dz: abs(zf[1]) > 1e-10)\n",
    "\n",
    "print(f\"real(z) = {z_approx.real}, imag(z) = {z_approx.imag}\")"
   ]
  }
 ],
 "metadata": {
  "kernelspec": {
   "display_name": "Python 3 (ipykernel)",
   "language": "python",
   "name": "python3"
  },
  "language_info": {
   "codemirror_mode": {
    "name": "ipython",
    "version": 3
   },
   "file_extension": ".py",
   "mimetype": "text/x-python",
   "name": "python",
   "nbconvert_exporter": "python",
   "pygments_lexer": "ipython3",
   "version": "3.9.13"
  }
 },
 "nbformat": 4,
 "nbformat_minor": 5
}
