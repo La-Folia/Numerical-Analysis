{
 "cells": [
  {
   "cell_type": "code",
   "execution_count": 2,
   "id": "a8bcc991",
   "metadata": {},
   "outputs": [],
   "source": [
    "import numpy as np\n",
    "import matplotlib.pyplot as plt\n",
    "plt.rcParams.update({'font.size': 15})\n",
    "from scipy import optimize\n",
    "import cmath"
   ]
  },
  {
   "cell_type": "code",
   "execution_count": 8,
   "id": "2aa60629",
   "metadata": {},
   "outputs": [
    {
     "ename": "NameError",
     "evalue": "name 'w' is not defined",
     "output_type": "error",
     "traceback": [
      "\u001b[0;31m---------------------------------------------------------------------------\u001b[0m",
      "\u001b[0;31mNameError\u001b[0m                                 Traceback (most recent call last)",
      "\u001b[0;32m/var/folders/kk/2pj93ygs67nbx9_42r_c6_3c0000gn/T/ipykernel_25478/3066502403.py\u001b[0m in \u001b[0;36m<module>\u001b[0;34m\u001b[0m\n\u001b[1;32m     27\u001b[0m \u001b[0;31m# walk over the k values and find the solutions\u001b[0m\u001b[0;34m\u001b[0m\u001b[0;34m\u001b[0m\u001b[0m\n\u001b[1;32m     28\u001b[0m \u001b[0;32mfor\u001b[0m \u001b[0mk\u001b[0m \u001b[0;32min\u001b[0m \u001b[0mks\u001b[0m\u001b[0;34m:\u001b[0m\u001b[0;34m\u001b[0m\u001b[0;34m\u001b[0m\u001b[0m\n\u001b[0;32m---> 29\u001b[0;31m     \u001b[0msol\u001b[0m \u001b[0;34m=\u001b[0m \u001b[0moptimize\u001b[0m\u001b[0;34m.\u001b[0m\u001b[0mroot_scalar\u001b[0m\u001b[0;34m(\u001b[0m\u001b[0mdispersion_relation\u001b[0m\u001b[0;34m(\u001b[0m\u001b[0mk\u001b[0m\u001b[0;34m,\u001b[0m \u001b[0mw\u001b[0m\u001b[0;34m)\u001b[0m\u001b[0;34m,\u001b[0m \u001b[0mbracket\u001b[0m \u001b[0;34m=\u001b[0m \u001b[0;34m[\u001b[0m\u001b[0;36m2\u001b[0m\u001b[0;34m,\u001b[0m\u001b[0;36m.03\u001b[0m\u001b[0;34m]\u001b[0m \u001b[0;34m,\u001b[0m\u001b[0mmethod\u001b[0m\u001b[0;34m=\u001b[0m\u001b[0;34m'brentq'\u001b[0m\u001b[0;34m)\u001b[0m\u001b[0;34m\u001b[0m\u001b[0;34m\u001b[0m\u001b[0m\n\u001b[0m\u001b[1;32m     30\u001b[0m \u001b[0;34m\u001b[0m\u001b[0m\n\u001b[1;32m     31\u001b[0m \u001b[0;31m# remove the first three guesses\u001b[0m\u001b[0;34m\u001b[0m\u001b[0;34m\u001b[0m\u001b[0m\n",
      "\u001b[0;31mNameError\u001b[0m: name 'w' is not defined"
     ]
    }
   ],
   "source": [
    "# define f_k(w)\n",
    "'''\n",
    "def dispersion_relation(k, w):\n",
    "    v0, wp, me_mi = 43, 43, 1 / 43**2\n",
    "    return 1 - wp**2 * (me_mi/w**2 + 1/(w - k*v0)**2)\n",
    "\n",
    "# define a function that solves the relation for a given k\n",
    "def single_step(k, winit):\n",
    "    max_w = max(winit, key=abs)\n",
    "    return muller_while(lambda w: dispersion_relation(k, w), winit,\n",
    "                        lambda i, xy, dw: abs(dw) > 1e-7 * abs(max_w))\n",
    "'''\n",
    "\n",
    "# define the k space\n",
    "ks = np.linspace(2, .03, 1000)\n",
    "\n",
    "# first three guesses of omega\n",
    "# we know for large k the frequency should approach wp/√(m_e/m_i) = 1\n",
    "ws = [1 + .1j, 1, 1. - .1j]\n",
    "\n",
    "def dispersion_relation(k, w):\n",
    "    v0, wp, me_mi = 43, 43, 1 / 43**2\n",
    "    return 1 - wp**2 * (me_mi/w**2 + 1/(w - k*v0)**2)\n",
    "\n",
    "# walk over the k values and find the solutions\n",
    "for k in ks:\n",
    "    sol = optimize.root_scalar(dispersion_relation(k, w), bracket = [2,.03] ,method='brentq')\n",
    "\n",
    "# remove the first three guesses\n",
    "ws = ws[3:]\n",
    "\n",
    "plt.figure()\n",
    "plt.plot(ks, [w.real for w in ws], \"-b\", linewidth=1, label=\"$\\\\Re(\\\\omega)$\")\n",
    "plt.plot(ks, [w.imag for w in ws], \"-r\", linewidth=1, label=\"$\\\\Im(\\\\omega)$\")\n",
    "plt.xlabel(\"$k$\")\n",
    "plt.ylabel(\"$\\\\omega$\")\n",
    "plt.legend()\n",
    "plt.grid()\n",
    "plt.show()"
   ]
  },
  {
   "cell_type": "code",
   "execution_count": null,
   "id": "d5a96425",
   "metadata": {},
   "outputs": [],
   "source": []
  }
 ],
 "metadata": {
  "kernelspec": {
   "display_name": "Python 3 (ipykernel)",
   "language": "python",
   "name": "python3"
  },
  "language_info": {
   "codemirror_mode": {
    "name": "ipython",
    "version": 3
   },
   "file_extension": ".py",
   "mimetype": "text/x-python",
   "name": "python",
   "nbconvert_exporter": "python",
   "pygments_lexer": "ipython3",
   "version": "3.9.13"
  }
 },
 "nbformat": 4,
 "nbformat_minor": 5
}
