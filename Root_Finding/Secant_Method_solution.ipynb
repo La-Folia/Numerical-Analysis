{
 "cells": [
  {
   "cell_type": "code",
   "execution_count": 6,
   "id": "6aa0b892",
   "metadata": {},
   "outputs": [],
   "source": [
    "import numpy as np\n",
    "import matplotlib.pyplot as plt\n",
    "plt.rcParams.update({'font.size': 15})\n",
    "#%config InlineBackend.figure_format='retina'"
   ]
  },
  {
   "cell_type": "markdown",
   "id": "25b7aaa5",
   "metadata": {},
   "source": [
    "# Secant Method\n",
    "\n",
    "For functions that are smooth near a root, the method known as the [secant method](https://en.wikipedia.org/wiki/Secant_method) generally converges faster than the bisection method.\n",
    "In this method, the function is assumed to be approximately linear in the local region of interest,\n",
    "and the next improvement in the root is taken as the point where the approximating line crosses the axis.\n",
    "After each iteration, the oldest boundary point is discarded in favor of the latest estimate of the root.\n",
    "\n",
    "The secant method converges more rapidly near a root of a sufficiently continuous function.\n",
    "However, it has the disadvantage that the root does not necessarily remain bracketed."
   ]
  },
  {
   "cell_type": "markdown",
   "id": "cfd79bd1",
   "metadata": {
    "pycharm": {
     "name": "#%% md\n"
    }
   },
   "source": [
    "## Secant Line Formula\n",
    "\n",
    "<center><figure>\n",
    "  <img src=\"https://upload.wikimedia.org/wikipedia/commons/thumb/9/92/Secant_method.svg/300px-Secant_method.svg.png\">\n",
    "  <figcaption>From Wikipedia (https://en.wikipedia.org/wiki/Secant_method)</figcaption>\n",
    "</figure></center>\n",
    "\n",
    "Consider a continuous, smooth function $f(x)$ that passes through the axis in some local region.\n",
    "Given the interval $[x_0, x_1]$, we can construct a line through the points $(x_0, f(x_0))$ and $(x_1, f(x_1))$ as shown in the figure above.\n",
    "The equation of this line called the *secant line* is\n",
    "\n",
    "$$\n",
    "y = \\frac{f(x_1) - f(x_0)}{x_1 - x_0} (x - x_1) + f(x_1)\n",
    "$$\n",
    "\n",
    "The secant line crosses the axis when $y = 0$ whose solution is\n",
    "\n",
    "$$\n",
    "x = x_1 - f(x_1) \\frac{x_1 - x_0}{f(x_1) - f(x_0)}\n",
    "$$"
   ]
  },
  {
   "cell_type": "markdown",
   "id": "c518b653",
   "metadata": {
    "pycharm": {
     "name": "#%% md\n"
    }
   },
   "source": [
    "## Algorithm\n",
    "\n",
    "1. Starting with initial values $x_0$ and $x_1$, find the point where the secant line crosses the axis:\n",
    "\n",
    "    $$\n",
    "    x = x_1 - f(x_1) \\frac{x_1 - x_0}{f(x_1) - f(x_0)}\n",
    "    $$\n",
    "    \n",
    "2. We then use this new value of $x$ as $x_2$ and repeate the process, using $x_1$ and $x_2$ instead of $x_0$ and $x_1$, solving for $x_3$, $x_4$, etc.:\n",
    "\n",
    "    $$\n",
    "    \\begin{aligned}\n",
    "    x_3 &= x_2 - f(x_2) \\frac{x_2 - x_1}{f(x_2) - f(x_1)}, \\\\\n",
    "    x_4 &= x_3 - f(x_3) \\frac{x_3 - x_2}{f(x_3) - f(x_2)}, \\\\\n",
    "    &\\ \\vdots \\\\\n",
    "    x_n &= x_{n - 1} - f(x_{n - 1}) \\frac{x_{n - 1} - x_{n - 2}}{f(x_{n - 1}) - f(x_{n - 2})}. \\\\\n",
    "    \\end{aligned}\n",
    "    $$\n",
    "    \n",
    "3. The iteration stops when we reach a sufficiently high level of precision (a sufficiently small difference between $x_n$ and $x_{n - 1}$)."
   ]
  },
  {
   "cell_type": "markdown",
   "id": "1f31298e",
   "metadata": {
    "pycharm": {
     "name": "#%% md\n"
    }
   },
   "source": [
    "## Implementation\n",
    "\n",
    "Write a function called `secant_by` which takes four input parameters `f`, `a`, `b`, and `n` and returns the approximation of a solution of $f(x) = 0$ given by `n` iterations of the secant method."
   ]
  },
  {
   "cell_type": "code",
   "execution_count": 1,
   "id": "17591af4",
   "metadata": {
    "pycharm": {
     "name": "#%%\n"
    }
   },
   "outputs": [],
   "source": [
    "def secant_by(f, a, b, n):\n",
    "    \"\"\"Return the root calculated using the secant method.\n",
    "\n",
    "    :param f:\n",
    "        A function to solve.\n",
    "    :param a:\n",
    "        First initial location.\n",
    "    :param b:\n",
    "        Second initial location.\n",
    "    :param n:\n",
    "        The number of iterations\n",
    "    \"\"\"\n",
    "\n",
    "    x0, x1 = a, b\n",
    "    f0, f1 = f(x0), f(x1)\n",
    "    iterations = n\n",
    "    x2 = None\n",
    "    \n",
    "    for i in range(iterations):\n",
    "        x2 = x1 - f1 * (x1 - x0) / float(f1 - f0)\n",
    "        x0, x1 = x1, x2\n",
    "        f0, f1 = f1, f(x1)\n",
    "        \n",
    "    return x2"
   ]
  },
  {
   "cell_type": "markdown",
   "id": "a5de7410",
   "metadata": {
    "pycharm": {
     "name": "#%% md\n"
    }
   },
   "source": [
    "Like before, also write a function called `secant_while` which takes a `predicate` instead of the number of iterations:"
   ]
  },
  {
   "cell_type": "code",
   "execution_count": 2,
   "id": "aeb2e0bd",
   "metadata": {
    "pycharm": {
     "name": "#%%\n"
    }
   },
   "outputs": [],
   "source": [
    "def secant_while(f, xinit, predicate):\n",
    "    \"\"\"Return the root calculated using the secant method.\n",
    "\n",
    "    :param f:\n",
    "        A function to solve.\n",
    "    :param xinit:\n",
    "        A pair of initial values for x.\n",
    "    :param predicate:\n",
    "        A callable that takes three arguments\n",
    "            - i : the iteration count\n",
    "            - xy : a pair of the midpoint and the function value in the current iteration\n",
    "            - dx : the change of the x value\n",
    "        and returns boolean:\n",
    "            - If True, the search continues.\n",
    "            - If False, the search terminates.\n",
    "    \"\"\"\n",
    "\n",
    "    x0, x1 = map(float, xinit)\n",
    "    f0, f1 = f(x0), f(x1)\n",
    "    i, x2, f2 = 0, float(\"nan\"), float(\"nan\")\n",
    "    \n",
    "    def secant_root():\n",
    "        nonlocal i, x2, f2\n",
    "        x2 = x1 - f1 * (x1 - x0) / (f1 - f0)\n",
    "        f2 = f(x2)\n",
    "        i += 1\n",
    "        return i, (x2, f2), x2 - x1\n",
    "\n",
    "    while predicate(*secant_root()):\n",
    "        x0, x1 = x1, x2\n",
    "        f0, f1 = f1, f2\n",
    "        \n",
    "    return x2"
   ]
  },
  {
   "cell_type": "markdown",
   "id": "c3f4ffd4",
   "metadata": {
    "pycharm": {
     "name": "#%% md\n"
    }
   },
   "source": [
    "## Exercises"
   ]
  },
  {
   "cell_type": "markdown",
   "id": "596737e3",
   "metadata": {},
   "source": [
    "### CubeRoot\n",
    "\n",
    "Approximate $\\sqrt[3]{2}$ by solving\n",
    "\n",
    "$$\n",
    "x^3 - 2 = 0\n",
    "$$"
   ]
  },
  {
   "cell_type": "code",
   "execution_count": 3,
   "id": "e608dfe2",
   "metadata": {},
   "outputs": [
    {
     "data": {
      "text/plain": [
       "(1.2599210498948732, 0.0)"
      ]
     },
     "execution_count": 3,
     "metadata": {},
     "output_type": "execute_result"
    }
   ],
   "source": [
    "cuberoot2_approx = secant_while(lambda x: x*x*x - 2, (1, 2),\n",
    "                                lambda i, xy, dx: abs(dx) > 1e-10)\n",
    "(cuberoot2_approx, abs(2**(1/3) - cuberoot2_approx))"
   ]
  },
  {
   "cell_type": "markdown",
   "id": "ae963fe4",
   "metadata": {
    "pycharm": {
     "name": "#%% md\n"
    }
   },
   "source": [
    "### Supergolden Ratio\n",
    "\n",
    "Let's find an approximation of the [supergolden ratio](https://en.wikipedia.org/wiki/Supergolden_ratio),\n",
    "which is the only real root of the polynomial\n",
    "\n",
    "$$\n",
    "f(x) = x^3 - x^2 - 1\n",
    "$$\n",
    "\n",
    "The exact value of the supergolden ratio is given by\n",
    "\n",
    "$$\n",
    "\\psi = \\frac{1 + \\sqrt[3]{\\frac{29 + 3\\sqrt{93}}{2}} + \\sqrt[3]{\\frac{29 - 3\\sqrt{93}}{2}}}{3}\n",
    "\\approx 1.4655712318767682\n",
    "$$\n",
    "\n",
    "Let's plot the polynomial first:"
   ]
  },
  {
   "cell_type": "code",
   "execution_count": null,
   "id": "04048572",
   "metadata": {},
   "outputs": [],
   "source": [
    "x = np.linspace(0, 2.5, 200)\n",
    "y = x**3 - x**2 - 1\n",
    "\n",
    "plt.figure()\n",
    "plt.plot(x, y, '-r', 1.4655712318767682, 0, \"ok\")\n",
    "plt.grid()\n",
    "plt.xlabel(\"$x$\")\n",
    "plt.ylabel(\"$f(x)$\")\n",
    "plt.show()"
   ]
  },
  {
   "cell_type": "markdown",
   "id": "07bdf58e",
   "metadata": {},
   "source": [
    "We can find that the solution is within $[1, 2]$."
   ]
  },
  {
   "cell_type": "code",
   "execution_count": null,
   "id": "ad34c070",
   "metadata": {
    "pycharm": {
     "name": "#%%\n"
    }
   },
   "outputs": [],
   "source": [
    "approx_psi = secant_by(lambda x: x ** 3 - x ** 2 - 1, 1, 2, 7)\n",
    "approx_psi"
   ]
  },
  {
   "cell_type": "markdown",
   "id": "115fd9e2",
   "metadata": {
    "pycharm": {
     "name": "#%% md\n"
    }
   },
   "source": [
    "Compare our approximation with the exact solution:"
   ]
  },
  {
   "cell_type": "code",
   "execution_count": null,
   "id": "2a415716",
   "metadata": {
    "pycharm": {
     "name": "#%%\n"
    }
   },
   "outputs": [],
   "source": [
    "supergolden = (1 + ((29 + 3 * 93 ** 0.5) / 2) ** (1 / 3) + ((29 - 3 * 93 ** 0.5) / 2) ** (1 / 3)) / 3\n",
    "abs_err = abs(supergolden - approx_psi)\n",
    "abs_err"
   ]
  },
  {
   "cell_type": "markdown",
   "id": "388336a7",
   "metadata": {
    "pycharm": {
     "name": "#%% md\n"
    }
   },
   "source": [
    "The approximation converges to the solution with an accuracy of $10^{-10}$ just under 7 iterations.\n",
    "Check how many iterations the bisection method would need to achieve the same level of accuracy.\n",
    "\n",
    "Let's use `secant_while` to see how fast the approximation converges."
   ]
  },
  {
   "cell_type": "code",
   "execution_count": 4,
   "id": "2e0c2bc4",
   "metadata": {
    "pycharm": {
     "name": "#%%\n"
    }
   },
   "outputs": [
    {
     "name": "stdout",
     "output_type": "stream",
     "text": [
      "i = 1, x = 1.250000000000, y = -6.093750000000e-01, dx = -7.500000000000e-01\n",
      "i = 2, x = 1.376623376623, y = -2.862640816765e-01, dx = +1.266233766234e-01\n",
      "i = 3, x = 1.488806910426, y = +8.346301015951e-02, dx = +1.121835338030e-01\n",
      "i = 4, x = 1.463482351777, y = -7.322493320465e-03, dx = -2.532455864955e-02\n",
      "i = 5, x = 1.465524956647, y = -1.625369994076e-04, dx = +2.042604870237e-03\n",
      "i = 6, x = 1.465571325487, y = +3.288100440813e-07, dx = +4.636883965436e-05\n",
      "i = 7, x = 1.465571231873, y = -1.471445187917e-11, dx = -9.361412489639e-08\n"
     ]
    },
    {
     "data": {
      "text/plain": [
       "1.4655712318725789"
      ]
     },
     "execution_count": 4,
     "metadata": {},
     "output_type": "execute_result"
    }
   ],
   "source": [
    "result_tuples = []\n",
    "\n",
    "def predicate(i, xy, dx):\n",
    "    result_tuples.append([i, *xy, dx])\n",
    "    print(\"i = {:1d}, x = {:.12f}, y = {:+.12e}, dx = {:+.12e}\"\n",
    "          .format(i, *xy, dx))\n",
    "    return abs(xy[1]) > 1e-10\n",
    "\n",
    "secant_while(lambda x: x ** 3 - x ** 2 - 1, (1, 2), predicate)"
   ]
  },
  {
   "cell_type": "code",
   "execution_count": 9,
   "id": "dd9d4031",
   "metadata": {
    "pycharm": {
     "name": "#%%\n"
    }
   },
   "outputs": [
    {
     "ename": "SyntaxError",
     "evalue": "invalid character '“' (U+201C) (3321686658.py, line 12)",
     "output_type": "error",
     "traceback": [
      "\u001b[0;36m  File \u001b[0;32m\"/var/folders/kk/2pj93ygs67nbx9_42r_c6_3c0000gn/T/ipykernel_88536/3321686658.py\"\u001b[0;36m, line \u001b[0;32m12\u001b[0m\n\u001b[0;31m    plt.subplot(1, 2, 2)“\u001b[0m\n\u001b[0m                        ^\u001b[0m\n\u001b[0;31mSyntaxError\u001b[0m\u001b[0;31m:\u001b[0m invalid character '“' (U+201C)\n"
     ]
    }
   ],
   "source": [
    "plt.figure(figsize=(9, 4))\n",
    "\n",
    "plt.subplot(1, 2, 1)\n",
    "plt.semilogy(\n",
    "    [    ixydx[0]  for ixydx in result_tuples], \n",
    "    [abs(ixydx[2]) for ixydx in result_tuples], \n",
    "    \"o:k\")\n",
    "plt.grid()\n",
    "plt.xlabel(\"iterations\")\n",
    "plt.title(\"$|f(x_n)|$\")\n",
    "\n",
    "plt.subplot(1, 2, 2)“\n",
    "plt.semilogy(\n",
    "    [    ixydx[0]  for ixydx in result_tuples], \n",
    "    [abs(ixydx[3]) for ixydx in result_tuples], \n",
    "    \"o:k\")\n",
    "plt.grid()\n",
    "plt.xlabel(\"iterations\")\n",
    "plt.title(\"$|\\Delta x_n|$\")\n",
    "\n",
    "plt.tight_layout()\n",
    "plt.show()"
   ]
  },
  {
   "cell_type": "markdown",
   "id": "25c886eb",
   "metadata": {},
   "source": [
    "Finally, the solution needs not be bracketed by the initial interval.\n",
    "For example, we could have supplied $[2, 2.5]$ as the initial interval:"
   ]
  },
  {
   "cell_type": "code",
   "execution_count": null,
   "id": "c4746430",
   "metadata": {},
   "outputs": [],
   "source": [
    "secant_while(lambda x: x ** 3 - x ** 2 - 1, (2, 2.5),\n",
    "             lambda i, xy, dx: abs(xy[1]) >= 1e-10)"
   ]
  },
  {
   "cell_type": "markdown",
   "id": "17333abf",
   "metadata": {},
   "source": [
    "### Whistler Dispersion Relation\n",
    "\n",
    "[Waves in plasmas](https://en.wikipedia.org/wiki/Waves_in_plasmas) are an interconnected set of particles and fields which propagate in a periodically repeating fashion.\n",
    "The frequency $\\omega$ and wave number $k$ of a plasma wave mode satisfy a certain relationship called the *dispersion relation*.\n",
    "\n",
    "The dispersion relation of the parallel-propagating whistler mode is given by\n",
    "\n",
    "$$\n",
    "c^2 k^2 = \\omega^2 - \\frac{\\omega_p^2}{1 - \\omega_c/\\omega}\n",
    "$$\n",
    "\n",
    "where $c$ is the speed of light, $\\omega_p$ is the [electron plasma frequency](https://en.wikipedia.org/wiki/Plasma_parameters), and $\\omega_c$ is the [electron gyrofrequency](https://en.wikipedia.org/wiki/Plasma_parameters).\n",
    "\n",
    "It is easy to find the wave number $k$ as a function of the frequency $\\omega$:\n",
    "\n",
    "$$\n",
    "k(\\omega) = \\pm \\frac{1}{c} \\sqrt{\\omega^2 - \\frac{\\omega_p^2}{1 - \\omega_c/\\omega}}\n",
    "$$\n",
    "\n",
    "Let's assume\n",
    "\n",
    "- $c = 5$\n",
    "- $\\omega_p = 5$\n",
    "- $\\omega_c = 1$\n",
    "\n",
    "and find how $k$ and $\\omega$ is related:"
   ]
  },
  {
   "cell_type": "code",
   "execution_count": 8,
   "id": "d58bef20",
   "metadata": {},
   "outputs": [
    {
     "data": {
      "image/png": "[encoded data removed]",
      "text/plain": [
       "<Figure size 640x480 with 1 Axes>"
      ]
     },
     "metadata": {},
     "output_type": "display_data"
    }
   ],
   "source": [
    "w = np.linspace(0.01, 0.99, 40)\n",
    "k = 1/5 * np.sqrt(w**2 - 5**2/(1 - 1/w))\n",
    "\n",
    "plt.figure()\n",
    "plt.plot(k, w, \".:k\", linewidth=1)\n",
    "plt.xlabel(\"$k$\")\n",
    "plt.ylabel(\"$\\\\omega$\")\n",
    "plt.show()"
   ]
  },
  {
   "cell_type": "markdown",
   "id": "48a4a894",
   "metadata": {},
   "source": [
    "Sometimes it is desirable to have $\\omega$ at given $k$ values (i.e., $\\omega(k)$),\n",
    "but as you can see, it is not easy to find $\\omega$ as a function of $k$.\n",
    "We can use a root finding algorithm to get $\\omega$ at desired $k$ values.\n",
    "\n",
    "Let's define\n",
    "\n",
    "$$\n",
    "f_k(\\omega) = \n",
    "c^2 k^2 - \\omega^2 + \\frac{\\omega_p^2}{1 - \\omega_c/\\omega}\n",
    "$$\n",
    "\n",
    "For a given $k$, the frequency $\\omega$ must satisfy $f_k(\\omega) = 0$.\n",
    "We will use the secant method to find solutions $\\omega$ for a range of $k$ values."
   ]
  },
  {
   "cell_type": "code",
   "execution_count": 1,
   "id": "fb6a8a47",
   "metadata": {},
   "outputs": [
    {
     "ename": "NameError",
     "evalue": "name 'np' is not defined",
     "output_type": "error",
     "traceback": [
      "\u001b[0;31m---------------------------------------------------------------------------\u001b[0m",
      "\u001b[0;31mNameError\u001b[0m                                 Traceback (most recent call last)",
      "\u001b[0;32m/var/folders/kk/2pj93ygs67nbx9_42r_c6_3c0000gn/T/ipykernel_51117/1774424063.py\u001b[0m in \u001b[0;36m<module>\u001b[0;34m\u001b[0m\n\u001b[1;32m     11\u001b[0m \u001b[0;34m\u001b[0m\u001b[0m\n\u001b[1;32m     12\u001b[0m \u001b[0;31m# define the k space\u001b[0m\u001b[0;34m\u001b[0m\u001b[0;34m\u001b[0m\u001b[0m\n\u001b[0;32m---> 13\u001b[0;31m \u001b[0mks\u001b[0m \u001b[0;34m=\u001b[0m \u001b[0mnp\u001b[0m\u001b[0;34m.\u001b[0m\u001b[0mlinspace\u001b[0m\u001b[0;34m(\u001b[0m\u001b[0;36m0.01\u001b[0m\u001b[0;34m,\u001b[0m \u001b[0;36m10\u001b[0m\u001b[0;34m,\u001b[0m \u001b[0;36m40\u001b[0m\u001b[0;34m)\u001b[0m\u001b[0;34m\u001b[0m\u001b[0;34m\u001b[0m\u001b[0m\n\u001b[0m\u001b[1;32m     14\u001b[0m \u001b[0;34m\u001b[0m\u001b[0m\n\u001b[1;32m     15\u001b[0m \u001b[0;31m# first two guesses of omega\u001b[0m\u001b[0;34m\u001b[0m\u001b[0;34m\u001b[0m\u001b[0m\n",
      "\u001b[0;31mNameError\u001b[0m: name 'np' is not defined"
     ]
    }
   ],
   "source": [
    "# define f_k(w)\n",
    "def dispersion_relation(k, w):\n",
    "    c, wp, wc = 5, 5, 1\n",
    "    return c**2 * k**2 - w**2 + wp**2/(1 - wc/w)\n",
    "\n",
    "# define a function that solves the relation for a given k\n",
    "def single_step(k, winit):\n",
    "    max_w = max(winit, key=abs)\n",
    "    return secant_while(lambda w: dispersion_relation(k, w), winit,\n",
    "                        lambda i, xy, dw: abs(dw) > abs(1e-7 * max_w))\n",
    "\n",
    "# define the k space\n",
    "ks = np.linspace(0.01, 10, 40)\n",
    "\n",
    "# first two guesses of omega\n",
    "ws = [ks[0], ks[1]]\n",
    "\n",
    "# walk over k values and find solutions\n",
    "for k in ks:\n",
    "    ws.append(single_step(k, ws[-2:]))\n",
    "\n",
    "# remove the first two guesses\n",
    "ws = ws[2:]\n",
    "\n",
    "w_exact = np.linspace(1e-10, 0.99, 400)\n",
    "k_exact = 1/5 * np.sqrt(w_exact**2 - 5**2/(1 - 1/w_exact))\n",
    "\n",
    "plt.figure()\n",
    "plt.plot(k_exact, w_exact, \"-k\", label=\"$\\\\omega$ exact\")\n",
    "plt.plot(ks, ws, \".:r\", linewidth=1, label=\"$\\\\omega$ approx\")\n",
    "plt.xlabel(\"$k$\")\n",
    "plt.ylabel(\"$\\\\omega$\")\n",
    "plt.legend()\n",
    "plt.show()"
   ]
  },
  {
   "cell_type": "code",
   "execution_count": 27,
   "id": "b43ad6ef",
   "metadata": {},
   "outputs": [
    {
     "data": {
      "text/plain": [
       "2.384185791015625e-07"
      ]
     },
     "execution_count": 27,
     "metadata": {},
     "output_type": "execute_result"
    }
   ],
   "source": [
    "2**(-19) > 1e-6"
   ]
  },
  {
   "cell_type": "code",
   "execution_count": 28,
   "id": "fb1a081d",
   "metadata": {},
   "outputs": [
    {
     "data": {
      "text/plain": [
       "1e-06"
      ]
     },
     "execution_count": 28,
     "metadata": {},
     "output_type": "execute_result"
    }
   ],
   "source": [
    "1e-6"
   ]
  }
 ],
 "metadata": {
  "kernelspec": {
   "display_name": "Python 3 (ipykernel)",
   "language": "python",
   "name": "python3"
  },
  "language_info": {
   "codemirror_mode": {
    "name": "ipython",
    "version": 3
   },
   "file_extension": ".py",
   "mimetype": "text/x-python",
   "name": "python",
   "nbconvert_exporter": "python",
   "pygments_lexer": "ipython3",
   "version": "3.9.13"
  }
 },
 "nbformat": 4,
 "nbformat_minor": 5
}
