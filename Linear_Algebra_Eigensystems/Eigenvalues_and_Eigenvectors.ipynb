{
 "cells": [
  {
   "cell_type": "code",
   "execution_count": 2,
   "id": "891b30a2",
   "metadata": {},
   "outputs": [],
   "source": [
    "import numpy as np\n",
    "import numpy.linalg as la\n",
    "from matplotlib import pyplot as plt\n",
    "plt.rcParams.update({'font.size': 15})\n",
    "#%config InlineBackend.figure_format='retina'"
   ]
  },
  {
   "cell_type": "code",
   "execution_count": 5,
   "id": "a9a8be94",
   "metadata": {},
   "outputs": [],
   "source": [
    "def eig_max(A, x0, first_niterations_to_skip=5,\n",
    "            predicate=lambda k, lv, dl: k < 2**30 and abs(dl) > abs(lv[0]) * 1e-7):\n",
    "    \"\"\"Approximate the dominant eigenvalue of matrix A and the corresponding eigenvector, given the trial vector.\n",
    "    \n",
    "    :param A:\n",
    "        A square matrix whose dominant eigenvalue is sought.\n",
    "    :param x0:\n",
    "        A trial vector, i.e., x^(0).\n",
    "    :param first_niterations_to_skip=int:\n",
    "        The first n number of iterations to skip calling the predicate function.\n",
    "    :param predicate=callable:\n",
    "        A predicate function that accepts\n",
    "            - k: Current iteration count\n",
    "            - lv: A pair of lambda estimate and corresponding eigenvector at the current step\n",
    "            - dl: Difference of lambda in the current step from the one in the previous step\n",
    "        and must return either True (to keep searching) or False (to terminate).\n",
    "    \"\"\"\n",
    "    A  = np.array(A)\n",
    "    x0 = np.array(x0)\n",
    "\n",
    "    def single_step(x0):\n",
    "        x0 = x0 / np.sqrt(sum(x0 ** 2))                       # renormalization\n",
    "        x1 = A @ x0\n",
    "        maxi = max(enumerate(x0), key=lambda x: abs(x[1]))[0] # extract index of maximum element in x0\n",
    "        lam = x1[maxi] / x0[maxi]                             # approximate eigenvalue; x0 will be eigenvector\n",
    "        return lam, x0, x1\n",
    "\n",
    "    # iteration\n",
    "    lam, vec, x0 = single_step(x0)\n",
    "    k, delta = 1, lam\n",
    "    while k < first_niterations_to_skip or predicate(k, (lam, vec), delta):\n",
    "        prev = lam\n",
    "        lam, vec, x0 = single_step(x0)\n",
    "        delta = lam - prev\n",
    "        k += 1\n",
    "    \n",
    "    return lam, vec, k"
   ]
  },
  {
   "cell_type": "code",
   "execution_count": 32,
   "id": "916b176c",
   "metadata": {},
   "outputs": [
    {
     "name": "stdout",
     "output_type": "stream",
     "text": [
      "k =   1, lambda = 2.50000000000000, delta_lambda = 2.500000000e+00\n",
      "k =   2, lambda = 3.20000000000000, delta_lambda = 7.000000000e-01\n",
      "k =   3, lambda = 3.37500000000000, delta_lambda = 1.750000000e-01\n",
      "k =   4, lambda = 3.40740740740741, delta_lambda = 3.240740741e-02\n",
      "k =   5, lambda = 3.41304347826087, delta_lambda = 5.636070853e-03\n",
      "k =   6, lambda = 3.41401273885350, delta_lambda = 9.692605926e-04\n",
      "k =   7, lambda = 3.41417910447761, delta_lambda = 1.663656241e-04\n",
      "k =   8, lambda = 3.41420765027322, delta_lambda = 2.854579561e-05\n",
      "k =   9, lambda = 3.41421254801537, delta_lambda = 4.897742141e-06\n",
      "k =  10, lambda = 3.41421338833677, delta_lambda = 8.403214062e-07\n",
      "k =  11, lambda = 3.41421353251318, delta_lambda = 1.441764095e-07\n",
      "k =  12, lambda = 3.41421355724994, delta_lambda = 2.473676330e-08\n",
      "k =  13, lambda = 3.41421356149410, delta_lambda = 4.244157470e-09\n",
      "k =  14, lambda = 3.41421356222228, delta_lambda = 7.281824033e-10\n",
      "k =  15, lambda = 3.41421356234722, delta_lambda = 1.249360615e-10\n",
      "\n",
      "lambda = 3.41421356234722, eigvec = [0.26577653 0.71948543 0.64164129]\n",
      "\n"
     ]
    }
   ],
   "source": [
    "A = [\n",
    "    [ 1, 0, 1],\n",
    "    [-1, 2, 2],\n",
    "    [ 1, 0, 3]\n",
    "]\n",
    "x = [ 1, 2, 1] # initial guess\n",
    "\n",
    "lam_seq = []\n",
    "vec_seq = []\n",
    "def pred(k, lv, dl):\n",
    "    global lam_seq, vec_seq\n",
    "    lam_seq.append(lv[0])\n",
    "    vec_seq.append(lv[1])\n",
    "    print(f\"k = {k:3d}, lambda = {lv[0]:.14f}, delta_lambda = {dl:.9e}\")\n",
    "    return k < 100 and abs(dl) > abs(lv[0]) * 1e-10\n",
    "\n",
    "lam, vec, niterations = eig_max(A, x, predicate=pred, first_niterations_to_skip=1)\n",
    "\n",
    "print(f\"\"\"\n",
    "lambda = {lam}, eigvec = {vec}\n",
    "\"\"\")"
   ]
  },
  {
   "cell_type": "code",
   "execution_count": 33,
   "id": "4b9da0f7",
   "metadata": {},
   "outputs": [
    {
     "data": {
      "text/plain": [
       "array([-7.52242713e-12,  0.00000000e+00,  2.25668373e-11])"
      ]
     },
     "execution_count": 33,
     "metadata": {},
     "output_type": "execute_result"
    }
   ],
   "source": [
    "A @ vec - lam * vec"
   ]
  },
  {
   "cell_type": "code",
   "execution_count": 38,
   "id": "26bb04e6",
   "metadata": {},
   "outputs": [
    {
     "data": {
      "text/plain": [
       "[array([0.40824829, 0.81649658, 0.40824829]),\n",
       " array([0.2981424 , 0.74535599, 0.59628479]),\n",
       " array([0.27160724, 0.72428597, 0.63375022]),\n",
       " array([0.26678526, 0.72032021, 0.64028463]),\n",
       " array([0.26594984, 0.71962899, 0.64140845]),\n",
       " array([0.26580627, 0.71951007, 0.64160134]),\n",
       " array([0.26578163, 0.71948966, 0.64163444]),\n",
       " array([0.2657774 , 0.71948616, 0.64164012]),\n",
       " array([0.26577668, 0.71948556, 0.64164109]),\n",
       " array([0.26577655, 0.71948546, 0.64164126]),\n",
       " array([0.26577653, 0.71948544, 0.64164129]),\n",
       " array([0.26577653, 0.71948544, 0.64164129]),\n",
       " array([0.26577653, 0.71948543, 0.64164129]),\n",
       " array([0.26577653, 0.71948543, 0.64164129]),\n",
       " array([0.26577653, 0.71948543, 0.64164129])]"
      ]
     },
     "execution_count": 38,
     "metadata": {},
     "output_type": "execute_result"
    }
   ],
   "source": [
    "vec_seq[:]"
   ]
  },
  {
   "cell_type": "code",
   "execution_count": 41,
   "id": "77d86645",
   "metadata": {},
   "outputs": [
    {
     "name": "stdout",
     "output_type": "stream",
     "text": [
      "(0.4082482904638631, 0.8164965809277261, 0.4082482904638631) (0, 'k')\n",
      "(0.29814239699997197, 0.7453559924999298, 0.5962847939999439) (1, 'b')\n",
      "(0.2716072381275556, 0.7242859683401481, 0.6337502222976298) (2, 'r')\n",
      "(0.26678526425610405, 0.7203202134914809, 0.6402846342146498) (3, 'm')\n"
     ]
    },
    {
     "data": {
      "image/png": "[encoded data removed]",
      "text/plain": [
       "<Figure size 1200x400 with 1 Axes>"
      ]
     },
     "metadata": {},
     "output_type": "display_data"
    }
   ],
   "source": [
    "plt.figure(figsize=[12, 4])\n",
    "\n",
    "plt.subplot(1, 3, 1).set_aspect(\"equal\")\n",
    "for (vx, vy, vz), (k, c) in zip(vec_seq[:4], enumerate([\"k\", \"b\", \"r\", \"m\"])):\n",
    "    print((vx, vy, vz), (k, c))"
   ]
  },
  {
   "cell_type": "code",
   "execution_count": 43,
   "id": "e7743884",
   "metadata": {},
   "outputs": [
    {
     "data": {
      "image/png": "[encoded data removed]",
      "text/plain": [
       "<Figure size 1200x400 with 3 Axes>"
      ]
     },
     "metadata": {},
     "output_type": "display_data"
    }
   ],
   "source": [
    "plt.figure(figsize=[12, 4])\n",
    "\n",
    "plt.subplot(1, 3, 1).set_aspect(\"equal\")\n",
    "for (vx, vy, vz), (k, c) in zip(vec_seq[:4], enumerate([\"k\", \"b\", \"r\", \"m\"])):\n",
    "    plt.arrow(0, 0, vx, vy, color=c, label=f\"k = {k}\",\n",
    "              lw=1, length_includes_head=False, head_width=.05)\n",
    "plt.xlim([-1, 1])\n",
    "plt.ylim([-1, 1])\n",
    "plt.grid()\n",
    "plt.legend(fontsize=12)\n",
    "plt.title(\"x-y projection\")\n",
    "\n",
    "plt.subplot(1, 3, 2).set_aspect(\"equal\")\n",
    "for (vx, vy, vz), (k, c) in zip(vec_seq[:4], enumerate([\"k\", \"b\", \"r\", \"m\"])):\n",
    "    plt.arrow(0, 0, vx, vz, color=c, label=f\"k = {k}\",\n",
    "              lw=1, length_includes_head=False, head_width=.05)\n",
    "plt.xlim([-1, 1])\n",
    "plt.ylim([-1, 1])\n",
    "plt.grid()\n",
    "plt.legend(fontsize=12)\n",
    "plt.title(\"x-z projection\")\n",
    "\n",
    "plt.subplot(1, 3, 3).set_aspect(\"equal\")\n",
    "for (vx, vy, vz), (k, c) in zip(vec_seq[:4], enumerate([\"k\", \"b\", \"r\", \"m\"])):\n",
    "    plt.arrow(0, 0, vy, vz, color=c, label=f\"k = {k}\",\n",
    "              lw=1, length_includes_head=False, head_width=.05)\n",
    "plt.xlim([-1, 1])\n",
    "plt.ylim([-1, 1])\n",
    "plt.grid()\n",
    "plt.legend(fontsize=12)\n",
    "plt.title(\"y-z projection\")\n",
    "\n",
    "plt.tight_layout()\n",
    "plt.show()"
   ]
  },
  {
   "cell_type": "code",
   "execution_count": 10,
   "id": "51f5d751",
   "metadata": {},
   "outputs": [
    {
     "data": {
      "text/plain": [
       "[(3.414213562764359, array([-0.26577653, -0.71948543, -0.64164129]), 43),\n",
       " (3.414213562768962, array([-0.26577653, -0.71948543, -0.64164129]), 45),\n",
       " (3.414213562847638, array([0.26577653, 0.71948543, 0.64164129]), 41),\n",
       " (3.4142135626626007, array([0.26577653, 0.71948543, 0.64164129]), 44),\n",
       " (3.4142135628258017, array([-0.26577653, -0.71948543, -0.64164129]), 47),\n",
       " (3.4142135626906303, array([0.26577653, 0.71948543, 0.64164129]), 44),\n",
       " (3.414213561980477, array([-0.26577653, -0.71948543, -0.64164129]), 43),\n",
       " (3.414213562716602, array([-0.26577653, -0.71948543, -0.64164129]), 41),\n",
       " (3.4142135627204584, array([-0.26577653, -0.71948543, -0.64164129]), 43),\n",
       " (3.4142135620826712, array([-0.26577653, -0.71948543, -0.64164129]), 44),\n",
       " (3.414213562671063, array([-0.26577653, -0.71948543, -0.64164129]), 45),\n",
       " (3.4142135626828867, array([-0.26577653, -0.71948543, -0.64164129]), 43),\n",
       " (3.4142135626745156, array([-0.26577653, -0.71948543, -0.64164129]), 46),\n",
       " (3.4142135628046093, array([0.26577653, 0.71948543, 0.64164129]), 40),\n",
       " (3.414213561931822, array([0.26577653, 0.71948543, 0.64164129]), 43),\n",
       " (3.414213562742528, array([-0.26577653, -0.71948543, -0.64164129]), 43),\n",
       " (3.4142135627819377, array([0.26577653, 0.71948543, 0.64164129]), 42),\n",
       " (3.4142135627839374, array([0.26577653, 0.71948543, 0.64164129]), 39),\n",
       " (3.414213562745102, array([-0.26577653, -0.71948543, -0.64164129]), 43),\n",
       " (3.414213562759896, array([0.26577653, 0.71948543, 0.64164129]), 43)]"
      ]
     },
     "execution_count": 10,
     "metadata": {},
     "output_type": "execute_result"
    }
   ],
   "source": [
    "A = [\n",
    "    [ 1, 0, 1],\n",
    "    [-1, 2, 2],\n",
    "    [ 1, 0, 3]\n",
    "]\n",
    "\n",
    "[\n",
    "    eig_max(A, x, predicate=lambda k, lv, dl: k < 100 and abs(dl) > abs(lv[0]) * 1e-10)\n",
    "    for x in np.random.rand(20, 3)*2 - 1\n",
    "]"
   ]
  },
  {
   "cell_type": "code",
   "execution_count": 11,
   "id": "6f298a15",
   "metadata": {},
   "outputs": [],
   "source": [
    "def eig_min(A, x0, first_niterations_to_skip=5,\n",
    "            predicate=lambda k, lv, dl: k < 2**30 and abs(dl) > abs(lv[0]) * 1e-7):\n",
    "    \"\"\"Approximate the least dominant eigenvalue of matrix A and the corresponding eigenvector, given the trial vector.\n",
    "    \n",
    "    :param A:\n",
    "        A square matrix whose dominant eigenvalue is sought.\n",
    "    :param x0:\n",
    "        A trial vector, i.e., x^(0).\n",
    "    :param first_niterations_to_skip=int:\n",
    "        The first n number of iterations to skip calling the predicate function.\n",
    "    :param predicate=callable:\n",
    "        A predicate function that accepts\n",
    "            - k: Current iteration count\n",
    "            - lv: A pair of lambda estimate and corresponding eigenvector at the current step\n",
    "            - dl: Difference of lambda in the current step from the one in the previous step\n",
    "        and must return either True (to keep searching) or False (to terminate).\n",
    "    \"\"\"\n",
    "    A  = np.array(A)\n",
    "    x0 = np.array(x0)\n",
    "\n",
    "    def single_step(x0):\n",
    "        x0 = x0 / np.sqrt(sum(x0 ** 2))                       # renormalization\n",
    "        x1 = la.solve(A, x0)\n",
    "        maxi = max(enumerate(x1), key=lambda x: abs(x[1]))[0] # extract index of maximum element in x0\n",
    "        lam = x0[maxi] / x1[maxi]                             # approximate eigenvalue; x0 will be eigenvector\n",
    "        return lam, x0, x1\n",
    "\n",
    "    # iteration\n",
    "    lam, vec, x0 = single_step(x0)\n",
    "    k, delta = 1, lam\n",
    "    while k < first_niterations_to_skip or predicate(k, (lam, vec), delta):\n",
    "        prev = lam\n",
    "        lam, vec, x0 = single_step(x0)\n",
    "        delta = lam - prev\n",
    "        k += 1\n",
    "    \n",
    "    return lam, vec, k"
   ]
  },
  {
   "cell_type": "code",
   "execution_count": 12,
   "id": "1f41fb9e",
   "metadata": {},
   "outputs": [
    {
     "name": "stdout",
     "output_type": "stream",
     "text": [
      "k =   1, lambda = 1.33333333333333, delta_lambda = 1.333333333e+00\n",
      "k =   2, lambda = 0.75000000000000, delta_lambda = -5.833333333e-01\n",
      "k =   3, lambda = 0.61538461538462, delta_lambda = -1.346153846e-01\n",
      "k =   4, lambda = 0.59090909090909, delta_lambda = -2.447552448e-02\n",
      "k =   5, lambda = 0.58666666666667, delta_lambda = -4.242424242e-03\n",
      "k =   6, lambda = 0.58593750000000, delta_lambda = -7.291666667e-04\n",
      "k =   7, lambda = 0.58581235697940, delta_lambda = -1.251430206e-04\n",
      "k =   8, lambda = 0.58579088471850, delta_lambda = -2.147226091e-05\n",
      "k =   9, lambda = 0.58578720062819, delta_lambda = -3.684090309e-06\n",
      "k =  10, lambda = 0.58578656853726, delta_lambda = -6.320909314e-07\n",
      "k =  11, lambda = 0.58578646008757, delta_lambda = -1.084496870e-07\n",
      "k =  12, lambda = 0.58578644148055, delta_lambda = -1.860702559e-08\n",
      "k =  13, lambda = 0.58578643828809, delta_lambda = -3.192460851e-09\n",
      "k =  14, lambda = 0.58578643774035, delta_lambda = -5.477397425e-10\n",
      "k =  15, lambda = 0.58578643764637, delta_lambda = -9.397715939e-11\n",
      "k =  16, lambda = 0.58578643763024, delta_lambda = -1.612388001e-11\n",
      "\n",
      "lambda = 0.5857864376302444, eigvec = [ 0.59306246  0.76676644 -0.24565452], niterations = 16\n",
      "\n"
     ]
    }
   ],
   "source": [
    "A = [\n",
    "    [ 1, 0, 1],\n",
    "    [-1, 2, 2],\n",
    "    [ 1, 0, 3]\n",
    "]\n",
    "x = [ 1, 2, 1] # initial guess\n",
    "\n",
    "lam_seq = []\n",
    "vec_seq = []\n",
    "def pred(k, lv, dl):\n",
    "    global lam_seq, vec_seq\n",
    "    lam_seq.append(lv[0])\n",
    "    vec_seq.append(lv[1])\n",
    "    print(f\"k = {k:3d}, lambda = {lv[0]:.14f}, delta_lambda = {dl:.9e}\")\n",
    "    return k < 100 and abs(dl) > abs(lv[0]) * 1e-10\n",
    "\n",
    "lam, vec, niterations = eig_min(A, x, predicate=pred, first_niterations_to_skip=1)\n",
    "print(f\"\"\"\n",
    "lambda = {lam}, eigvec = {vec}, niterations = {niterations}\n",
    "\"\"\")"
   ]
  },
  {
   "cell_type": "code",
   "execution_count": 13,
   "id": "0f702ac7",
   "metadata": {},
   "outputs": [
    {
     "data": {
      "text/plain": [
       "array([3.53234109e-12, 1.23634991e-11, 1.41295309e-11])"
      ]
     },
     "execution_count": 13,
     "metadata": {},
     "output_type": "execute_result"
    }
   ],
   "source": [
    "A @ vec - lam * vec"
   ]
  },
  {
   "cell_type": "code",
   "execution_count": 14,
   "id": "b4791ad2",
   "metadata": {},
   "outputs": [],
   "source": [
    "def eig_int(A, x0, mu, first_niterations_to_skip=5,\n",
    "            predicate=lambda k, lv, dl: k < 2**30 and abs(dl) > abs(lv[0]) * 1e-7):\n",
    "    \"\"\"Approximate an eigenvalue of matrix A close to mu and the corresponding eigenvector, given the trial vector.\n",
    "    \n",
    "    :param A:\n",
    "        A square matrix whose dominant eigenvalue is sought.\n",
    "    :param x0:\n",
    "        A trial vector, i.e., x^(0).\n",
    "    :param mu:\n",
    "        A number between the maximum and minimum eigenvalues\n",
    "    :param first_niterations_to_skip=int:\n",
    "        The first n number of iterations to skip calling the predicate function.\n",
    "    :param predicate=callable:\n",
    "        A predicate function that accepts\n",
    "            - k: Current iteration count\n",
    "            - lv: A pair of lambda estimate and corresponding eigenvector at the current step\n",
    "            - dl: Difference of lambda in the current step from the one in the previous step\n",
    "        and must return either True (to keep searching) or False (to terminate).\n",
    "    \"\"\"\n",
    "    lam, vec, k = eig_min(A - mu*np.eye(len(x0)), x0, predicate=predicate,\n",
    "                          first_niterations_to_skip=first_niterations_to_skip)\n",
    "    \n",
    "    return lam + mu, vec, k"
   ]
  },
  {
   "cell_type": "code",
   "execution_count": 15,
   "id": "e85e1395",
   "metadata": {},
   "outputs": [
    {
     "name": "stdout",
     "output_type": "stream",
     "text": [
      "\n",
      "lam_int = 2.0, eigvec_int = [-0.00000000e+00  1.00000000e+00 -6.25492742e-28]\n",
      "\n"
     ]
    }
   ],
   "source": [
    "A = [\n",
    "    [ 1, 0, 1],\n",
    "    [-1, 2, 2],\n",
    "    [ 1, 0, 3]\n",
    "]\n",
    "x = [ 1, 2, 1]\n",
    "\n",
    "def pred(k, lv, dl):\n",
    "    assert k <= 100\n",
    "    return abs(dl) > abs(lv[0]) * 1e-10\n",
    "    \n",
    "lam_max, vec_max = eig_max(A, x, predicate=pred)[:2]\n",
    "lam_min, vec_min = eig_min(A, x, predicate=pred)[:2]\n",
    "lam_int, vec_int = eig_int(A, x, 0.5*(lam_max + lam_min), predicate=pred)[:2]\n",
    "\n",
    "print(f\"\"\"\n",
    "lam_int = {lam_int}, eigvec_int = {vec_int}\n",
    "\"\"\")"
   ]
  },
  {
   "cell_type": "code",
   "execution_count": 19,
   "id": "c26d0ae0",
   "metadata": {},
   "outputs": [
    {
     "data": {
      "text/plain": [
       "array([3.53234109e-12, 1.23634991e-11, 1.41295309e-11])"
      ]
     },
     "execution_count": 19,
     "metadata": {},
     "output_type": "execute_result"
    }
   ],
   "source": [
    "A @ vec - lam * vec"
   ]
  },
  {
   "cell_type": "code",
   "execution_count": 3,
   "id": "69bb5773",
   "metadata": {},
   "outputs": [
    {
     "name": "stdout",
     "output_type": "stream",
     "text": [
      "\n",
      "lambda_1 = 2.0, eigvec_1 = [0. 1. 0.]\n",
      "\n",
      "lambda_2 = 0.5857864376269051, eigvec_2 = [-0.59306246 -0.76676644  0.24565452]\n",
      "\n",
      "lambda_3 = 3.414213562373095, eigvec_3 = [-0.26577653 -0.71948543 -0.64164129]\n",
      "\n"
     ]
    }
   ],
   "source": [
    "A = [\n",
    "    [ 1, 0, 1],\n",
    "    [-1, 2, 2],\n",
    "    [ 1, 0, 3]\n",
    "]\n",
    "w, v = la.eig(A)\n",
    "v1, v2, v3 = v.T\n",
    "\n",
    "print(f\"\"\"\n",
    "lambda_1 = {w[0]}, eigvec_1 = {v1}\n",
    "\n",
    "lambda_2 = {w[1]}, eigvec_2 = {v2}\n",
    "\n",
    "lambda_3 = {w[2]}, eigvec_3 = {v3}\n",
    "\"\"\")"
   ]
  },
  {
   "cell_type": "code",
   "execution_count": 14,
   "id": "555470ee",
   "metadata": {},
   "outputs": [
    {
     "name": "stdout",
     "output_type": "stream",
     "text": [
      "[[ 0.         -0.59306246 -0.26577653]\n",
      " [ 1.         -0.76676644 -0.71948543]\n",
      " [ 0.          0.24565452 -0.64164129]]\n",
      "[[ 0.          1.          0.        ]\n",
      " [-0.59306246 -0.76676644  0.24565452]\n",
      " [-0.26577653 -0.71948543 -0.64164129]]\n"
     ]
    }
   ],
   "source": [
    "w, v = la.eig(A)\n",
    "w\n",
    "print(v)\n",
    "print(v.T)"
   ]
  },
  {
   "cell_type": "code",
   "execution_count": 22,
   "id": "655db144",
   "metadata": {},
   "outputs": [
    {
     "name": "stdout",
     "output_type": "stream",
     "text": [
      "\n",
      "lambda_1 = 2.999999999999999, eigvec_1 = [ 0.66666667 -0.33333333  0.66666667]\n",
      "\n",
      "lambda_2 = -1.0000000000000002, eigvec_2 = [-0.66666667 -0.33333333  0.66666667]\n",
      "\n",
      "lambda_3 = 2.999999999999999, eigvec_3 = [-0.66666667  0.33333333 -0.66666667]\n",
      "\n"
     ]
    }
   ],
   "source": [
    "A = [\n",
    "    [ 1, 2, 3],\n",
    "    [-1, 3, 1],\n",
    "    [ 2, 0, 1]\n",
    "]\n",
    "w, v = la.eig(A)\n",
    "v1, v2, v3 = v.T\n",
    "\n",
    "print(f\"\"\"\n",
    "lambda_1 = {w[0]}, eigvec_1 = {v1}\n",
    "\n",
    "lambda_2 = {w[1]}, eigvec_2 = {v2}\n",
    "\n",
    "lambda_3 = {w[2]}, eigvec_3 = {v3}\n",
    "\"\"\")"
   ]
  },
  {
   "cell_type": "code",
   "execution_count": 23,
   "id": "800bcb79",
   "metadata": {},
   "outputs": [
    {
     "name": "stdout",
     "output_type": "stream",
     "text": [
      "\n",
      "eigenvalues found so far:\n",
      "\n",
      "[2.0892058382353285, -0.9916962286969169, 0.7430313182808355, 0.18531178519516167, -0.0356727031936605]\n",
      "\n"
     ]
    }
   ],
   "source": [
    "A = [\n",
    "    [ 0.479477 ,  0.141124,  0.442694,  0.62435 ,  0.0314495, -0.501351],\n",
    "    [ 0.141124 , -0.419593,  0.157525, -0.262855, -0.805081 ,  0.6414  ],\n",
    "    [ 0.442694 ,  0.157525, -0.821693,  0.165851, -0.343515 ,  0.503022],\n",
    "    [ 0.62435  , -0.262855,  0.165851,  0.893587, -0.265796 , -0.791536],\n",
    "    [ 0.0314495, -0.805081, -0.343515, -0.265796, -0.442857 ,  0.442026],\n",
    "    [-0.501351 ,  0.6414  ,  0.503022, -0.791536,  0.442026 ,  0.554212],\n",
    "]\n",
    "x = np.random.rand(len(A))\n",
    "\n",
    "# max eigenvalue\n",
    "l_max, v_max, i_max = eig_max(A, x)\n",
    "\n",
    "# min eigenvalue\n",
    "l_min, v_min, i_min = eig_min(A, x)\n",
    "\n",
    "# intermediate eigenvalues\n",
    "mu = 0.5 * (l_max - l_min)\n",
    "l_int1, v_int1, i_int1 = eig_int(A, x, mu)\n",
    "\n",
    "mu = -0.5 * (l_max - l_int1)\n",
    "l_int2, v_int2, i_int2 = eig_int(A, x, mu)\n",
    "\n",
    "mu = 0.5 * (l_int1 - l_min)\n",
    "l_int3, v_int3, i_int3 = eig_int(A, x, mu)\n",
    "\n",
    "\n",
    "print(\"\"\"\n",
    "eigenvalues found so far:\n",
    "\n",
    "[{}, {}, {}, {}, {}]\n",
    "\"\"\".format(l_max, l_int2, l_int1, l_int3, l_min))"
   ]
  },
  {
   "cell_type": "code",
   "execution_count": 24,
   "id": "ee1c4176",
   "metadata": {},
   "outputs": [
    {
     "name": "stdout",
     "output_type": "stream",
     "text": [
      "D = \n",
      "[[3 0]\n",
      " [0 1]]\n",
      "\n",
      "M = \n",
      "[[2. 1.]\n",
      " [1. 2.]]\n",
      "\n"
     ]
    }
   ],
   "source": [
    "D = np.diagflat([3, 1])\n",
    "print(f\"\"\"D = \n",
    "{D}\n",
    "\"\"\")\n",
    "\n",
    "C = np.array([\n",
    "    [1,  1], # v1\n",
    "    [1, -1]  # v2\n",
    "]).T\n",
    "\n",
    "M = C @ D @ la.inv(C)\n",
    "print(f\"\"\"M = \n",
    "{M}\n",
    "\"\"\")"
   ]
  },
  {
   "cell_type": "code",
   "execution_count": 25,
   "id": "9da45574",
   "metadata": {},
   "outputs": [
    {
     "name": "stdout",
     "output_type": "stream",
     "text": [
      "\n",
      "eigenvalues of M = [3. 1.]\n",
      "\n"
     ]
    }
   ],
   "source": [
    "w, v = la.eig(M)\n",
    "print(f\"\"\"\n",
    "eigenvalues of M = {w}\n",
    "\"\"\")"
   ]
  },
  {
   "cell_type": "code",
   "execution_count": 26,
   "id": "079c1d06",
   "metadata": {},
   "outputs": [
    {
     "name": "stdout",
     "output_type": "stream",
     "text": [
      "\n",
      "Direct multiply:\n",
      "[[1.7433922e+09 1.7433922e+09]\n",
      " [1.7433922e+09 1.7433922e+09]]\n",
      "\n",
      "Through diag D :\n",
      "[[1.7433922e+09 1.7433922e+09]\n",
      " [1.7433922e+09 1.7433922e+09]]\n",
      "\n"
     ]
    }
   ],
   "source": [
    "M20_1 = la.matrix_power(M, 20)\n",
    "M20_2 = C @ (D**20) @ la.inv(C)\n",
    "\n",
    "print(f\"\"\"\n",
    "Direct multiply:\n",
    "{M20_1}\n",
    "\n",
    "Through diag D :\n",
    "{M20_2}\n",
    "\"\"\")"
   ]
  },
  {
   "cell_type": "code",
   "execution_count": 16,
   "id": "82e36ac4",
   "metadata": {},
   "outputs": [
    {
     "name": "stdout",
     "output_type": "stream",
     "text": [
      "\n",
      "alpha, beta = 6.0, 1.0\n",
      "\n",
      "C =\n",
      "[[ 0.89442719  0.4472136 ]\n",
      " [-0.4472136   0.89442719]]\n",
      "\n"
     ]
    }
   ],
   "source": [
    "M = np.array([\n",
    "    [5, -2],\n",
    "    [-2, 2]\n",
    "])\n",
    "\n",
    "w, v = la.eig(M)\n",
    "alpha, beta = w\n",
    "C = v\n",
    "\n",
    "print(f\"\"\"\n",
    "alpha, beta = {alpha}, {beta}\n",
    "\n",
    "C =\n",
    "{C}\n",
    "\"\"\")"
   ]
  },
  {
   "cell_type": "code",
   "execution_count": 72,
   "id": "450a69e8",
   "metadata": {},
   "outputs": [
    {
     "data": {
      "image/png": "[encoded data removed]",
      "text/plain": [
       "<Figure size 640x480 with 1 Axes>"
      ]
     },
     "metadata": {},
     "output_type": "display_data"
    }
   ],
   "source": [
    "theta = np.linspace(0, 2*np.pi, 101)\n",
    "x, y = C @ [\n",
    "    alpha * np.cos(theta),\n",
    "    beta * np.sin(theta)\n",
    "]\n",
    "\n",
    "plt.figure()\n",
    "plt.subplot().set_aspect(\"equal\")\n",
    "plt.plot(x, y, \"-b\")\n",
    "plt.arrow(0, 0, *(w[0]*v[:, 0]), color=\"r\", shape='full',\n",
    "          lw=1, length_includes_head=True, head_width=.2,\n",
    "          label=\"$\\\\mathbf{v}_1$\")\n",
    "plt.arrow(0, 0, *(w[1]*v[:, 1]), color=\"m\", shape='full',\n",
    "          lw=1, length_includes_head=True, head_width=.2,\n",
    "          label=\"$\\\\mathbf{v}_2$\")\n",
    "plt.grid()\n",
    "plt.xlabel(\"$x$\")\n",
    "plt.ylabel(\"$y$\")\n",
    "plt.legend()\n",
    "plt.show()\n",
    "\n"
   ]
  },
  {
   "cell_type": "code",
   "execution_count": 65,
   "id": "1a6071cf",
   "metadata": {},
   "outputs": [
    {
     "data": {
      "text/plain": [
       "array([6., 1.])"
      ]
     },
     "execution_count": 65,
     "metadata": {},
     "output_type": "execute_result"
    }
   ],
   "source": [
    "C\n",
    "w\n"
   ]
  },
  {
   "cell_type": "code",
   "execution_count": 66,
   "id": "22caaf4e",
   "metadata": {},
   "outputs": [
    {
     "name": "stdout",
     "output_type": "stream",
     "text": [
      "[[ 0.89442719  0.4472136 ]\n",
      " [-0.4472136   0.89442719]]\n",
      "[0.4472136  0.89442719]\n",
      "[ 0.89442719 -0.4472136 ]\n"
     ]
    }
   ],
   "source": [
    "print(v)\n",
    "print(v[:,1])\n",
    "print(v[:,0])"
   ]
  },
  {
   "cell_type": "code",
   "execution_count": 69,
   "id": "5cd8298d",
   "metadata": {},
   "outputs": [
    {
     "data": {
      "text/plain": [
       "array([[0.00000000e+00, 1.66533454e-16],\n",
       "       [0.00000000e+00, 0.00000000e+00]])"
      ]
     },
     "execution_count": 69,
     "metadata": {},
     "output_type": "execute_result"
    }
   ],
   "source": [
    "M @ C - C @ [[6 , 0], [0, 1]]"
   ]
  }
 ],
 "metadata": {
  "kernelspec": {
   "display_name": "Python 3 (ipykernel)",
   "language": "python",
   "name": "python3"
  },
  "language_info": {
   "codemirror_mode": {
    "name": "ipython",
    "version": 3
   },
   "file_extension": ".py",
   "mimetype": "text/x-python",
   "name": "python",
   "nbconvert_exporter": "python",
   "pygments_lexer": "ipython3",
   "version": "3.9.13"
  }
 },
 "nbformat": 4,
 "nbformat_minor": 5
}
