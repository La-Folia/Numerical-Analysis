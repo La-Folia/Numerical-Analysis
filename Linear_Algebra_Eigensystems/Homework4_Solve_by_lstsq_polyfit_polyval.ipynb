{
 "cells": [
  {
   "cell_type": "markdown",
   "id": "b5bf4b82",
   "metadata": {},
   "source": [
    "## 오차 등 확실하게 우리가 알고 싶은 것을 얻으려면 어떻게 해야되는지를 파악하기!"
   ]
  },
  {
   "cell_type": "code",
   "execution_count": 4,
   "id": "a35d7b34",
   "metadata": {},
   "outputs": [],
   "source": [
    "import numpy as np\n",
    "from matplotlib import pyplot as plt\n",
    "plt.rcParams.update({'font.size': 15})\n",
    "#%config InlineBackend.figure_format='retina'"
   ]
  },
  {
   "cell_type": "markdown",
   "id": "0f26fb49",
   "metadata": {},
   "source": [
    "## Numpy.linalg.lstsq(a, b, rcond = 'warn')"
   ]
  },
  {
   "cell_type": "markdown",
   "id": "cccb11c6",
   "metadata": {},
   "source": [
    "방정식 $a @ x = b$를 근사적으로 푸는 벡터 x를 계산합니다. 방정식은 과소, 양호 또는 과잉 결정될 수 있다(즉, a의 선형 독립 행의 수가 선형 독립 열의 수보다 적거나 같거나 클 수 있다). a가 제곱이고 전체 순위이면 x(반올림 오차의 경우)가 방정식의 \"정확한\" 해입니다. 그렇지 않으면, x는 유클리드  $L_{2}$을 최소화한다. 만약 여러 최소화 솔루션이 있다면, 가장 작은  $L_{2}$을 가진 솔루션이 있다 반환됩니다."
   ]
  },
  {
   "cell_type": "markdown",
   "id": "b12eb02e",
   "metadata": {},
   "source": [
    "Norm에 대해서 간단히 설명하자면, $L_{1}$은 벡터의 크기로, 벡터의 모든 성분의 절대값을 더한 것을 의미하고, $L_{2}$ norm은 출발점에서 도착점까지의 거리를 직선 거리로 측정한 것이다. "
   ]
  },
  {
   "cell_type": "markdown",
   "id": "3ccfe924",
   "metadata": {},
   "source": [
    "### Parameters"
   ]
  },
  {
   "cell_type": "markdown",
   "id": "b9bc1f78",
   "metadata": {},
   "source": [
    "a: (M, N) 계수 행렬이다. Coeffcient matrix.\n",
    "\n",
    "b: {(M,), (M, K)} 순서 또는 \"종속 변수\" 값입니다. b가 2차원이면 b의 K 열 각각에 대해 최소 제곱해가 계산됩니다.\n",
    "\n",
    "rcond: float, optional a의 작은 단수 값에 대한 컷오프 비율. 순위 결정을 위해, 단수 값이 a의 가장 큰 단수 값에 r초보다 작으면 0으로 처리됩니다.\n"
   ]
  },
  {
   "cell_type": "markdown",
   "id": "2202ec78",
   "metadata": {},
   "source": [
    "### Returns\n",
    "X = {(N), (N, k)} 최소 제곱 솔루션 :  b가 2차원이면 해는 x의 K 열에 있다.\n",
    "\n",
    "residuals = {(1,), (K,), (0,)} 잔차 제곱합: b - a @ x의 각 열에 대한 유클리드 2-노름 제곱. a의 순위가 < N 또는 M < = N이면 빈 배열입니다. 만약 b가 1차원이라면, 이것은 (1,) 모양 배열이다. 그렇지 않으면 모양은 (K,)입니다.\n",
    "\n",
    "rank = int : matrix a 의 Rank이다.\n",
    "\n",
    "s = (min(M, N),) : A의 단수 값, Singular values\n",
    "\n",
    "#### Raises\n",
    "LinAlgErrorr : 계산이 수렴되지 않으면 뜸"
   ]
  },
  {
   "cell_type": "markdown",
   "id": "21985d04",
   "metadata": {},
   "source": [
    "몇가시 예"
   ]
  },
  {
   "cell_type": "code",
   "execution_count": 26,
   "id": "840283df",
   "metadata": {},
   "outputs": [
    {
     "name": "stdout",
     "output_type": "stream",
     "text": [
      "[[0. 1.]\n",
      " [1. 1.]\n",
      " [2. 1.]\n",
      " [3. 1.]]\n"
     ]
    },
    {
     "data": {
      "image/png": "[encoded data removed]",
      "text/plain": [
       "<Figure size 640x480 with 1 Axes>"
      ]
     },
     "metadata": {},
     "output_type": "display_data"
    }
   ],
   "source": [
    "x = np.array([0, 1, 2, 3])\n",
    "y = np.array([-1, 0.2, 0.9, 2.1])\n",
    "A = np.vstack([x, np.ones(len(x))]).T\n",
    "print(A)\n",
    "m, c = np.linalg.lstsq(A, y, rcond=None)[0]\n",
    "_ = plt.plot(x, y, 'o', label='Original data', markersize=10)\n",
    "_ = plt.plot(x, m*x + c, 'r', label='Fitted line')\n",
    "_ = plt.legend()\n",
    "plt.show()"
   ]
  },
  {
   "cell_type": "markdown",
   "id": "a752b165",
   "metadata": {},
   "source": [
    "실제 문제에 적용해 보면서 모듈을 익혀보자."
   ]
  },
  {
   "cell_type": "code",
   "execution_count": 13,
   "id": "9a5b887b",
   "metadata": {},
   "outputs": [],
   "source": [
    "import numpy as np\n",
    "import numpy.linalg as la\n",
    "from matplotlib import pyplot as plt\n",
    "plt.rcParams.update({'font.size': 15})\n",
    "#%config InlineBackend.figure_format='retina'"
   ]
  },
  {
   "cell_type": "markdown",
   "id": "70ba7aa5",
   "metadata": {},
   "source": [
    "## Numpy.linalg.polyfit(x, y, deg, rcond = 'warn', full = False, w = None, cov = False)"
   ]
  },
  {
   "cell_type": "markdown",
   "id": "4b820ce9",
   "metadata": {},
   "source": [
    "Least squares polynomial fit.-최소 제곱 다항식 적합치입니다."
   ]
  },
  {
   "cell_type": "markdown",
   "id": "c73026db",
   "metadata": {},
   "source": [
    "### Paramters"
   ]
  },
  {
   "cell_type": "markdown",
   "id": "8280157f",
   "metadata": {},
   "source": [
    "x: shape(M,) x-coordinates of the M sample points (x[i], y[i]).\n",
    "y: shape (M,) or (M, K)\n",
    "deg: Degree of the fitting polynomial\n",
    "recond: float\n"
   ]
  },
  {
   "cell_type": "code",
   "execution_count": 15,
   "id": "05e5bee7",
   "metadata": {},
   "outputs": [
    {
     "data": {
      "text/plain": [
       "array([[0., 0., 0.],\n",
       "       [0., 0., 0.],\n",
       "       [0., 0., 0.]])"
      ]
     },
     "execution_count": 15,
     "metadata": {},
     "output_type": "execute_result"
    }
   ],
   "source": [
    "A = np.array([\n",
    "    [3, 1, -2],\n",
    "    [-7, 3, 0],\n",
    "    [5, -3, 2]\n",
    "])\n",
    "I = np.eye(A.shape[0])\n",
    "\n",
    "invA = la.solve(A, I)\n",
    "\n",
    "invA - la.inv(A)"
   ]
  },
  {
   "cell_type": "code",
   "execution_count": 17,
   "id": "12b18f9d",
   "metadata": {},
   "outputs": [],
   "source": [
    "N = 1000\n",
    "A = np.random.rand(N, N)\n",
    "b = np.random.rand(N, 1)"
   ]
  },
  {
   "cell_type": "code",
   "execution_count": 25,
   "id": "ce56cd93",
   "metadata": {},
   "outputs": [
    {
     "name": "stdout",
     "output_type": "stream",
     "text": [
      "17.8 ms ± 1.21 ms per loop (mean ± std. dev. of 7 runs, 100 loops each)\n"
     ]
    }
   ],
   "source": [
    "%%timeit\n",
    "x = la.solve(A, b)"
   ]
  },
  {
   "cell_type": "code",
   "execution_count": 27,
   "id": "21300088",
   "metadata": {},
   "outputs": [],
   "source": [
    "#%%timeit\n",
    "#x = la.inv(A) @ b"
   ]
  },
  {
   "cell_type": "code",
   "execution_count": 28,
   "id": "0b5b3253",
   "metadata": {},
   "outputs": [
    {
     "name": "stdout",
     "output_type": "stream",
     "text": [
      "\n",
      "lambda_1 = 7.0, eigvec_1 = [0. 1. 0.]\n",
      "\n",
      "lambda_2 = 5.449489742783178, eigvec_2 = [ 0.34299717 -0.42008403  0.84016805]\n",
      "\n",
      "lambda_3 = 0.5505102572168217, eigvec_3 = [-0.34299717 -0.42008403  0.84016805]\n",
      "\n"
     ]
    }
   ],
   "source": [
    "A = [\n",
    "    [ 3, 0, 1],\n",
    "    [-3, 7, 2],\n",
    "    [ 6, 0, 3]\n",
    "]\n",
    "w, v = la.eig(A)\n",
    "v1, v2, v3 = v.T\n",
    "\n",
    "print(f\"\"\"\n",
    "lambda_1 = {w[0]}, eigvec_1 = {v1}\n",
    "\n",
    "lambda_2 = {w[1]}, eigvec_2 = {v2}\n",
    "\n",
    "lambda_3 = {w[2]}, eigvec_3 = {v3}\n",
    "\"\"\")"
   ]
  }
 ],
 "metadata": {
  "kernelspec": {
   "display_name": "Python 3 (ipykernel)",
   "language": "python",
   "name": "python3"
  },
  "language_info": {
   "codemirror_mode": {
    "name": "ipython",
    "version": 3
   },
   "file_extension": ".py",
   "mimetype": "text/x-python",
   "name": "python",
   "nbconvert_exporter": "python",
   "pygments_lexer": "ipython3",
   "version": "3.9.13"
  }
 },
 "nbformat": 4,
 "nbformat_minor": 5
}
