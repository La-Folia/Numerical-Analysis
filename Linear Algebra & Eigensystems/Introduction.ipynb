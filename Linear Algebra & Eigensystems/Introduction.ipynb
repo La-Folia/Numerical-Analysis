{
 "cells": [
  {
   "cell_type": "code",
   "execution_count": 2,
   "id": "ee16b271",
   "metadata": {},
   "outputs": [],
   "source": [
    "import numpy as np\n",
    "from numpy import linalg as la"
   ]
  },
  {
   "cell_type": "code",
   "execution_count": 6,
   "id": "d111a3df",
   "metadata": {},
   "outputs": [
    {
     "data": {
      "text/plain": [
       "array([[-4.4408921e-16,  0.0000000e+00],\n",
       "       [ 0.0000000e+00, -4.4408921e-16]])"
      ]
     },
     "execution_count": 6,
     "metadata": {},
     "output_type": "execute_result"
    }
   ],
   "source": [
    "A = np.array([\n",
    "    [1, 2],\n",
    "    [3, 4]\n",
    "])\n",
    "\n",
    "trA = np.trace(A)\n",
    "detA = la.det(A)\n",
    "I = np.eye(2)\n",
    "\n",
    "pA = A@A - trA*A + detA*I\n",
    "pA"
   ]
  },
  {
   "cell_type": "code",
   "execution_count": 7,
   "id": "1aa44a02",
   "metadata": {},
   "outputs": [
    {
     "data": {
      "text/plain": [
       "array([[0., 0.],\n",
       "       [0., 0.]])"
      ]
     },
     "execution_count": 7,
     "metadata": {},
     "output_type": "execute_result"
    }
   ],
   "source": [
    "def CH_theorem(A):\n",
    "    trA = np.trace(A)\n",
    "    detA = la.det(A)\n",
    "    I = np.eye(2)\n",
    "\n",
    "    pA = A@A - trA*A + detA*I\n",
    "    return pA\n",
    "\n",
    "A = np.random.randint(0, 10, [2, 2]) # 2x2 matrix with random int between 0 and 10\n",
    "CH_theorem(A)"
   ]
  },
  {
   "cell_type": "code",
   "execution_count": 13,
   "id": "3203633e",
   "metadata": {},
   "outputs": [
    {
     "data": {
      "text/plain": [
       "[array([[-2.13162821e-14,  0.00000000e+00],\n",
       "        [ 0.00000000e+00, -2.13162821e-14]]),\n",
       " array([[-1.42108547e-14,  0.00000000e+00],\n",
       "        [ 0.00000000e+00, -1.42108547e-14]]),\n",
       " array([[7.10542736e-15, 0.00000000e+00],\n",
       "        [0.00000000e+00, 7.10542736e-15]])]"
      ]
     },
     "execution_count": 13,
     "metadata": {},
     "output_type": "execute_result"
    }
   ],
   "source": [
    "list(map(CH_theorem, np.random.randint(0, 10, [3, 2, 2])))"
   ]
  },
  {
   "cell_type": "code",
   "execution_count": null,
   "id": "511e7d94",
   "metadata": {},
   "outputs": [],
   "source": []
  }
 ],
 "metadata": {
  "kernelspec": {
   "display_name": "Python 3 (ipykernel)",
   "language": "python",
   "name": "python3"
  },
  "language_info": {
   "codemirror_mode": {
    "name": "ipython",
    "version": 3
   },
   "file_extension": ".py",
   "mimetype": "text/x-python",
   "name": "python",
   "nbconvert_exporter": "python",
   "pygments_lexer": "ipython3",
   "version": "3.9.13"
  }
 },
 "nbformat": 4,
 "nbformat_minor": 5
}
