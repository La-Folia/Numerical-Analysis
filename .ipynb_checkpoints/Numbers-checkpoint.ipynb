{
 "cells": [
  {
   "cell_type": "markdown",
   "id": "f8316c08",
   "metadata": {},
   "source": [
    "Numerical Analysis and Practice"
   ]
  },
  {
   "cell_type": "markdown",
   "id": "8d39835d",
   "metadata": {},
   "source": [
    "Integers"
   ]
  },
  {
   "cell_type": "code",
   "execution_count": 16,
   "id": "6c657eab",
   "metadata": {},
   "outputs": [
    {
     "name": "stdout",
     "output_type": "stream",
     "text": [
      "a = 20, type of a = <class 'int'>\n",
      "b = 25.0, type of b = <class 'float'>\n",
      "c = 25, type of c = <class 'int'>\n"
     ]
    }
   ],
   "source": [
    "a = 8 + 12\n",
    "print(f\"a = {a}, type of a = {type(a)}\")\n",
    "\n",
    "b = 100 / 4\n",
    "print(f\"b = {b}, type of b = {type(b)}\")\n",
    "\n",
    "c = 100// 4\n",
    "print(f\"c = {c}, type of c = {type(c)}\")"
   ]
  },
  {
   "cell_type": "markdown",
   "id": "e2864a4c",
   "metadata": {},
   "source": [
    "Floats"
   ]
  },
  {
   "cell_type": "code",
   "execution_count": 18,
   "id": "07eebf70",
   "metadata": {},
   "outputs": [
    {
     "data": {
      "text/plain": [
       "1.0"
      ]
     },
     "execution_count": 18,
     "metadata": {},
     "output_type": "execute_result"
    }
   ],
   "source": [
    "float(1)"
   ]
  },
  {
   "cell_type": "code",
   "execution_count": 20,
   "id": "1dee97e4",
   "metadata": {},
   "outputs": [
    {
     "data": {
      "text/plain": [
       "1.0"
      ]
     },
     "execution_count": 20,
     "metadata": {},
     "output_type": "execute_result"
    }
   ],
   "source": [
    "1.0"
   ]
  },
  {
   "cell_type": "code",
   "execution_count": 22,
   "id": "b0c29da9",
   "metadata": {},
   "outputs": [
    {
     "data": {
      "text/plain": [
       "1.4142135623730951"
      ]
     },
     "execution_count": 22,
     "metadata": {},
     "output_type": "execute_result"
    }
   ],
   "source": [
    "2**0.5"
   ]
  },
  {
   "cell_type": "code",
   "execution_count": 24,
   "id": "68ce6d08",
   "metadata": {},
   "outputs": [
    {
     "data": {
      "text/plain": [
       "1.41423423"
      ]
     },
     "execution_count": 24,
     "metadata": {},
     "output_type": "execute_result"
    }
   ],
   "source": [
    "1.41423423"
   ]
  },
  {
   "cell_type": "code",
   "execution_count": 29,
   "id": "66175881",
   "metadata": {},
   "outputs": [
    {
     "data": {
      "text/plain": [
       "1.5000000000000002e-09"
      ]
     },
     "execution_count": 29,
     "metadata": {},
     "output_type": "execute_result"
    }
   ],
   "source": [
    "5e-10 * 3"
   ]
  },
  {
   "cell_type": "markdown",
   "id": "1d1c7790",
   "metadata": {},
   "source": [
    "Complex Numbers j = root(-1)"
   ]
  },
  {
   "cell_type": "code",
   "execution_count": 32,
   "id": "486e1d53",
   "metadata": {},
   "outputs": [
    {
     "data": {
      "text/plain": [
       "(1+2j)"
      ]
     },
     "execution_count": 32,
     "metadata": {},
     "output_type": "execute_result"
    }
   ],
   "source": [
    "complex(1,2)"
   ]
  },
  {
   "cell_type": "code",
   "execution_count": 34,
   "id": "29655338",
   "metadata": {},
   "outputs": [
    {
     "data": {
      "text/plain": [
       "(1+2j)"
      ]
     },
     "execution_count": 34,
     "metadata": {},
     "output_type": "execute_result"
    }
   ],
   "source": [
    "1 + 2j"
   ]
  },
  {
   "cell_type": "code",
   "execution_count": 36,
   "id": "3c55d68e",
   "metadata": {},
   "outputs": [
    {
     "data": {
      "text/plain": [
       "(-2+1j)"
      ]
     },
     "execution_count": 36,
     "metadata": {},
     "output_type": "execute_result"
    }
   ],
   "source": [
    "1j * (1 + 2j)"
   ]
  },
  {
   "cell_type": "markdown",
   "id": "4710efeb",
   "metadata": {},
   "source": [
    "Exercises"
   ]
  },
  {
   "cell_type": "markdown",
   "id": "d1eb61b8",
   "metadata": {},
   "source": [
    "Taylor Approximation"
   ]
  },
  {
   "cell_type": "code",
   "execution_count": 40,
   "id": "ce05811e",
   "metadata": {},
   "outputs": [
    {
     "data": {
      "text/plain": [
       "1.6486979166666667"
      ]
     },
     "execution_count": 40,
     "metadata": {},
     "output_type": "execute_result"
    }
   ],
   "source": [
    "1 + 0.5 + 0.5 **2 / 2 + 0.5 **3 / (3 * 2) + 0.5 ** 4 / (4 * 3 * 2) + 0.5 ** 5 / (5 * 4 * 3 * 2 * 1)"
   ]
  },
  {
   "cell_type": "code",
   "execution_count": 41,
   "id": "c4928af3",
   "metadata": {},
   "outputs": [
    {
     "data": {
      "text/plain": [
       "1.4137931034482758"
      ]
     },
     "execution_count": 41,
     "metadata": {},
     "output_type": "execute_result"
    }
   ],
   "source": [
    "1 + 1/ (2+ 1/(2 + 1/(2+ 1 / 2)))"
   ]
  }
 ],
 "metadata": {
  "kernelspec": {
   "display_name": "Python 3 (ipykernel)",
   "language": "python",
   "name": "python3"
  },
  "language_info": {
   "codemirror_mode": {
    "name": "ipython",
    "version": 3
   },
   "file_extension": ".py",
   "mimetype": "text/x-python",
   "name": "python",
   "nbconvert_exporter": "python",
   "pygments_lexer": "ipython3",
   "version": "3.9.13"
  }
 },
 "nbformat": 4,
 "nbformat_minor": 5
}
