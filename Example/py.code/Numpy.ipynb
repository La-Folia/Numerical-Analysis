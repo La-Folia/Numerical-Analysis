{
 "cells": [
  {
   "cell_type": "markdown",
   "id": "90687a53",
   "metadata": {},
   "source": [
    "# NumPy"
   ]
  },
  {
   "cell_type": "markdown",
   "id": "464441e5",
   "metadata": {},
   "source": [
    "### Numpy Arrays"
   ]
  },
  {
   "cell_type": "code",
   "execution_count": 1,
   "id": "fbf97b27",
   "metadata": {},
   "outputs": [],
   "source": [
    "import numpy as np"
   ]
  },
  {
   "cell_type": "code",
   "execution_count": 2,
   "id": "d8bd9fae",
   "metadata": {},
   "outputs": [
    {
     "name": "stdout",
     "output_type": "stream",
     "text": [
      "[1 2 3 4 5]\n"
     ]
    }
   ],
   "source": [
    "a = np.array([1, 2, 3, 4, 5])\n",
    "print(a)"
   ]
  },
  {
   "cell_type": "code",
   "execution_count": 3,
   "id": "8882535b",
   "metadata": {},
   "outputs": [
    {
     "name": "stdout",
     "output_type": "stream",
     "text": [
      "[1, 2, 3, 4, 5]\n"
     ]
    }
   ],
   "source": [
    "print([1, 2, 3, 4, 5])"
   ]
  },
  {
   "cell_type": "code",
   "execution_count": 4,
   "id": "0a3f4f24",
   "metadata": {},
   "outputs": [
    {
     "data": {
      "text/plain": [
       "array([1, 2, 3, 4, 5])"
      ]
     },
     "execution_count": 4,
     "metadata": {},
     "output_type": "execute_result"
    }
   ],
   "source": [
    "a"
   ]
  },
  {
   "cell_type": "code",
   "execution_count": 5,
   "id": "3ead6e7f",
   "metadata": {},
   "outputs": [
    {
     "data": {
      "text/plain": [
       "numpy.ndarray"
      ]
     },
     "execution_count": 5,
     "metadata": {},
     "output_type": "execute_result"
    }
   ],
   "source": [
    "type(a)"
   ]
  },
  {
   "cell_type": "code",
   "execution_count": 6,
   "id": "ee8e571f",
   "metadata": {},
   "outputs": [
    {
     "name": "stdout",
     "output_type": "stream",
     "text": [
      "[[1 2 3]\n",
      " [4 5 6]]\n"
     ]
    }
   ],
   "source": [
    "M = np.array([\n",
    "    [1, 2, 3],\n",
    "    [4, 5, 6]\n",
    "    \n",
    "])\n",
    "print(M)"
   ]
  },
  {
   "cell_type": "code",
   "execution_count": 7,
   "id": "bac1831b",
   "metadata": {},
   "outputs": [
    {
     "name": "stdout",
     "output_type": "stream",
     "text": [
      "10\n"
     ]
    }
   ],
   "source": [
    "print(np.array(10))"
   ]
  },
  {
   "cell_type": "code",
   "execution_count": 8,
   "id": "502570f1",
   "metadata": {},
   "outputs": [
    {
     "name": "stdout",
     "output_type": "stream",
     "text": [
      "[9 8 7 6 5 4 3 2 1 0]\n"
     ]
    }
   ],
   "source": [
    "a = np.fromiter(reversed(range(10)), int)\n",
    "print(a)"
   ]
  },
  {
   "cell_type": "code",
   "execution_count": 9,
   "id": "cba6fb85",
   "metadata": {},
   "outputs": [
    {
     "data": {
      "text/plain": [
       "array([9, 8, 7, 6, 5, 4, 3, 2, 1, 0])"
      ]
     },
     "execution_count": 9,
     "metadata": {},
     "output_type": "execute_result"
    }
   ],
   "source": [
    "np.fromiter(reversed(range(10)), int)"
   ]
  },
  {
   "cell_type": "code",
   "execution_count": 10,
   "id": "dc5f3566",
   "metadata": {},
   "outputs": [
    {
     "data": {
      "text/plain": [
       "array([10, 15, 20, 25])"
      ]
     },
     "execution_count": 10,
     "metadata": {},
     "output_type": "execute_result"
    }
   ],
   "source": [
    "np.arange(10, 30, 5)"
   ]
  },
  {
   "cell_type": "code",
   "execution_count": 11,
   "id": "5da9780f",
   "metadata": {},
   "outputs": [
    {
     "data": {
      "text/plain": [
       "array([0. , 0.3, 0.6, 0.9, 1.2, 1.5, 1.8])"
      ]
     },
     "execution_count": 11,
     "metadata": {},
     "output_type": "execute_result"
    }
   ],
   "source": [
    "np.arange(0, 2, 0.3)"
   ]
  },
  {
   "cell_type": "code",
   "execution_count": 12,
   "id": "5b190e14",
   "metadata": {},
   "outputs": [
    {
     "data": {
      "text/plain": [
       "array([0, 0, 0, 0])"
      ]
     },
     "execution_count": 12,
     "metadata": {},
     "output_type": "execute_result"
    }
   ],
   "source": [
    "np.zeros(4, int)"
   ]
  },
  {
   "cell_type": "code",
   "execution_count": 13,
   "id": "09cf35b7",
   "metadata": {},
   "outputs": [
    {
     "name": "stdout",
     "output_type": "stream",
     "text": [
      "[[0. 0. 0. 0.]\n",
      " [0. 0. 0. 0.]\n",
      " [0. 0. 0. 0.]]\n"
     ]
    }
   ],
   "source": [
    "print(np.zeros((3,4)))"
   ]
  },
  {
   "cell_type": "code",
   "execution_count": 14,
   "id": "ee7ebbeb",
   "metadata": {},
   "outputs": [
    {
     "name": "stdout",
     "output_type": "stream",
     "text": [
      "[[1. 1. 1.]\n",
      " [1. 1. 1.]]\n"
     ]
    }
   ],
   "source": [
    "print(np.ones((2,3)))"
   ]
  },
  {
   "cell_type": "code",
   "execution_count": 15,
   "id": "a4ebd439",
   "metadata": {},
   "outputs": [
    {
     "name": "stdout",
     "output_type": "stream",
     "text": [
      "[[1 0 0 0 0 0 0 0 0 0]\n",
      " [0 1 0 0 0 0 0 0 0 0]\n",
      " [0 0 1 0 0 0 0 0 0 0]\n",
      " [0 0 0 1 0 0 0 0 0 0]\n",
      " [0 0 0 0 1 0 0 0 0 0]\n",
      " [0 0 0 0 0 1 0 0 0 0]\n",
      " [0 0 0 0 0 0 1 0 0 0]\n",
      " [0 0 0 0 0 0 0 1 0 0]\n",
      " [0 0 0 0 0 0 0 0 1 0]\n",
      " [0 0 0 0 0 0 0 0 0 1]]\n"
     ]
    }
   ],
   "source": [
    "print(np.eye(10, dtype = int))"
   ]
  },
  {
   "cell_type": "markdown",
   "id": "a742e333",
   "metadata": {},
   "source": [
    "### Array Datatype"
   ]
  },
  {
   "cell_type": "code",
   "execution_count": 16,
   "id": "64a65573",
   "metadata": {},
   "outputs": [
    {
     "name": "stdout",
     "output_type": "stream",
     "text": [
      "[[1 2 3]\n",
      " [4 5 6]]\n"
     ]
    }
   ],
   "source": [
    "A = np.array([\n",
    "    [1, 2, 3],\n",
    "    [4, 5, 6]\n",
    "])\n",
    "print(A)"
   ]
  },
  {
   "cell_type": "code",
   "execution_count": 17,
   "id": "ac3352a2",
   "metadata": {},
   "outputs": [
    {
     "data": {
      "text/plain": [
       "dtype('int64')"
      ]
     },
     "execution_count": 17,
     "metadata": {},
     "output_type": "execute_result"
    }
   ],
   "source": [
    "A.dtype"
   ]
  },
  {
   "cell_type": "code",
   "execution_count": 18,
   "id": "10c9fa04",
   "metadata": {},
   "outputs": [
    {
     "name": "stdout",
     "output_type": "stream",
     "text": [
      "[0.   0.25 0.5  0.75 1.  ]\n"
     ]
    }
   ],
   "source": [
    "u = np.linspace(0, 1, 5)\n",
    "print(u)"
   ]
  },
  {
   "cell_type": "code",
   "execution_count": 19,
   "id": "5ca311bb",
   "metadata": {},
   "outputs": [
    {
     "data": {
      "text/plain": [
       "dtype('float64')"
      ]
     },
     "execution_count": 19,
     "metadata": {},
     "output_type": "execute_result"
    }
   ],
   "source": [
    "u.dtype"
   ]
  },
  {
   "cell_type": "code",
   "execution_count": 20,
   "id": "4c4c807d",
   "metadata": {},
   "outputs": [
    {
     "data": {
      "text/plain": [
       "2"
      ]
     },
     "execution_count": 20,
     "metadata": {},
     "output_type": "execute_result"
    }
   ],
   "source": [
    "A = np.array([\n",
    "    [1, 2],\n",
    "    [3, 4],\n",
    "    [5, 6]\n",
    "])\n",
    "A.ndim"
   ]
  },
  {
   "cell_type": "code",
   "execution_count": 21,
   "id": "de284e06",
   "metadata": {},
   "outputs": [
    {
     "data": {
      "text/plain": [
       "(3, 2)"
      ]
     },
     "execution_count": 21,
     "metadata": {},
     "output_type": "execute_result"
    }
   ],
   "source": [
    "A.shape"
   ]
  },
  {
   "cell_type": "code",
   "execution_count": 22,
   "id": "b7dd9b3e",
   "metadata": {},
   "outputs": [
    {
     "name": "stdout",
     "output_type": "stream",
     "text": [
      "[0 1 2 3 4 5 6 7 8 9]\n"
     ]
    }
   ],
   "source": [
    "r = np.array(range(10))\n",
    "print(r)"
   ]
  },
  {
   "cell_type": "code",
   "execution_count": 23,
   "id": "32388a94",
   "metadata": {},
   "outputs": [
    {
     "data": {
      "text/plain": [
       "1"
      ]
     },
     "execution_count": 23,
     "metadata": {},
     "output_type": "execute_result"
    }
   ],
   "source": [
    "r.ndim"
   ]
  },
  {
   "cell_type": "code",
   "execution_count": 24,
   "id": "b6f4770e",
   "metadata": {},
   "outputs": [
    {
     "data": {
      "text/plain": [
       "(10,)"
      ]
     },
     "execution_count": 24,
     "metadata": {},
     "output_type": "execute_result"
    }
   ],
   "source": [
    "r.shape"
   ]
  },
  {
   "cell_type": "code",
   "execution_count": 25,
   "id": "3e3706f9",
   "metadata": {},
   "outputs": [
    {
     "data": {
      "text/plain": [
       "10"
      ]
     },
     "execution_count": 25,
     "metadata": {},
     "output_type": "execute_result"
    }
   ],
   "source": [
    "r.size"
   ]
  },
  {
   "cell_type": "markdown",
   "id": "63d8a4d1",
   "metadata": {},
   "source": [
    "## Slicing and Indexing"
   ]
  },
  {
   "cell_type": "code",
   "execution_count": 26,
   "id": "841dc89f",
   "metadata": {},
   "outputs": [
    {
     "data": {
      "text/plain": [
       "3"
      ]
     },
     "execution_count": 26,
     "metadata": {},
     "output_type": "execute_result"
    }
   ],
   "source": [
    "v = np.arange(10)\n",
    "v[3]"
   ]
  },
  {
   "cell_type": "code",
   "execution_count": 27,
   "id": "258768ae",
   "metadata": {},
   "outputs": [
    {
     "data": {
      "text/plain": [
       "4"
      ]
     },
     "execution_count": 27,
     "metadata": {},
     "output_type": "execute_result"
    }
   ],
   "source": [
    "B = np.array([\n",
    "    [6, 5, 3, 1, 1],\n",
    "    [1, 0, 4, 0, 1],\n",
    "    [5, 9, 2, 2, 9]\n",
    "])\n",
    "B[1, 2]"
   ]
  },
  {
   "cell_type": "code",
   "execution_count": 28,
   "id": "20401306",
   "metadata": {},
   "outputs": [
    {
     "data": {
      "text/plain": [
       "4"
      ]
     },
     "execution_count": 28,
     "metadata": {},
     "output_type": "execute_result"
    }
   ],
   "source": [
    "B[1][2]"
   ]
  },
  {
   "cell_type": "code",
   "execution_count": 29,
   "id": "646bd1b8",
   "metadata": {},
   "outputs": [
    {
     "data": {
      "text/plain": [
       "array([[4, 0, 1],\n",
       "       [2, 2, 9]])"
      ]
     },
     "execution_count": 29,
     "metadata": {},
     "output_type": "execute_result"
    }
   ],
   "source": [
    "B[1:3, 2:5]"
   ]
  },
  {
   "cell_type": "code",
   "execution_count": 30,
   "id": "3f872083",
   "metadata": {},
   "outputs": [
    {
     "data": {
      "text/plain": [
       "2"
      ]
     },
     "execution_count": 30,
     "metadata": {},
     "output_type": "execute_result"
    }
   ],
   "source": [
    "B[-1, -2]"
   ]
  },
  {
   "cell_type": "code",
   "execution_count": 31,
   "id": "82d2c5c1",
   "metadata": {},
   "outputs": [
    {
     "data": {
      "text/plain": [
       "array([5, 9, 2, 2, 9])"
      ]
     },
     "execution_count": 31,
     "metadata": {},
     "output_type": "execute_result"
    }
   ],
   "source": [
    "B[2, :]"
   ]
  },
  {
   "cell_type": "code",
   "execution_count": 32,
   "id": "a3f815e6",
   "metadata": {},
   "outputs": [
    {
     "data": {
      "text/plain": [
       "array([5, 9, 2, 2, 9])"
      ]
     },
     "execution_count": 32,
     "metadata": {},
     "output_type": "execute_result"
    }
   ],
   "source": [
    "B[2]"
   ]
  },
  {
   "cell_type": "code",
   "execution_count": 33,
   "id": "25cdcd6b",
   "metadata": {},
   "outputs": [
    {
     "data": {
      "text/plain": [
       "array([1, 0, 2])"
      ]
     },
     "execution_count": 33,
     "metadata": {},
     "output_type": "execute_result"
    }
   ],
   "source": [
    "B[:, 3]"
   ]
  },
  {
   "cell_type": "code",
   "execution_count": 34,
   "id": "ff957df5",
   "metadata": {},
   "outputs": [
    {
     "name": "stdout",
     "output_type": "stream",
     "text": [
      "[[4 0 1]\n",
      " [2 2 9]]\n"
     ]
    }
   ],
   "source": [
    "subB = B[1:3, 2:5]\n",
    "print(subB)"
   ]
  },
  {
   "cell_type": "code",
   "execution_count": 35,
   "id": "6db974ee",
   "metadata": {},
   "outputs": [
    {
     "data": {
      "text/plain": [
       "2"
      ]
     },
     "execution_count": 35,
     "metadata": {},
     "output_type": "execute_result"
    }
   ],
   "source": [
    "subB.ndim"
   ]
  },
  {
   "cell_type": "code",
   "execution_count": 36,
   "id": "8540125c",
   "metadata": {},
   "outputs": [
    {
     "data": {
      "text/plain": [
       "(2, 3)"
      ]
     },
     "execution_count": 36,
     "metadata": {},
     "output_type": "execute_result"
    }
   ],
   "source": [
    "subB.shape"
   ]
  },
  {
   "cell_type": "code",
   "execution_count": 37,
   "id": "3bc4d83c",
   "metadata": {},
   "outputs": [
    {
     "data": {
      "text/plain": [
       "6"
      ]
     },
     "execution_count": 37,
     "metadata": {},
     "output_type": "execute_result"
    }
   ],
   "source": [
    "subB.size"
   ]
  },
  {
   "cell_type": "code",
   "execution_count": 38,
   "id": "99382fc2",
   "metadata": {},
   "outputs": [
    {
     "name": "stdout",
     "output_type": "stream",
     "text": [
      "[3 4 2]\n"
     ]
    }
   ],
   "source": [
    "colB = B[:, 2]\n",
    "print(colB)"
   ]
  },
  {
   "cell_type": "code",
   "execution_count": 39,
   "id": "a8da7c26",
   "metadata": {},
   "outputs": [
    {
     "data": {
      "text/plain": [
       "1"
      ]
     },
     "execution_count": 39,
     "metadata": {},
     "output_type": "execute_result"
    }
   ],
   "source": [
    "colB.ndim"
   ]
  },
  {
   "cell_type": "code",
   "execution_count": 40,
   "id": "6f137598",
   "metadata": {},
   "outputs": [
    {
     "data": {
      "text/plain": [
       "(3,)"
      ]
     },
     "execution_count": 40,
     "metadata": {},
     "output_type": "execute_result"
    }
   ],
   "source": [
    "colB.shape"
   ]
  },
  {
   "cell_type": "code",
   "execution_count": 41,
   "id": "ef7791f0",
   "metadata": {},
   "outputs": [
    {
     "data": {
      "text/plain": [
       "3"
      ]
     },
     "execution_count": 41,
     "metadata": {},
     "output_type": "execute_result"
    }
   ],
   "source": [
    "colB.size"
   ]
  },
  {
   "cell_type": "markdown",
   "id": "e6bfaf06",
   "metadata": {},
   "source": [
    "## Staking"
   ]
  },
  {
   "cell_type": "code",
   "execution_count": 42,
   "id": "af1284a0",
   "metadata": {},
   "outputs": [
    {
     "name": "stdout",
     "output_type": "stream",
     "text": [
      "[[1 1 1]\n",
      " [2 2 2]\n",
      " [3 3 3]]\n"
     ]
    }
   ],
   "source": [
    "x = np.array([1, 1, 1])\n",
    "y = np.array([2, 2, 2])\n",
    "z = np.array([3, 3, 3])\n",
    "vstacked = np.vstack([x, y, z])\n",
    "print(vstacked)"
   ]
  },
  {
   "cell_type": "code",
   "execution_count": 43,
   "id": "be3c418b",
   "metadata": {},
   "outputs": [
    {
     "name": "stdout",
     "output_type": "stream",
     "text": [
      "[1 1 1 2 2 2 3 3 3]\n"
     ]
    }
   ],
   "source": [
    "hstacked = np.hstack([x, y, z])\n",
    "print(hstacked)"
   ]
  },
  {
   "cell_type": "code",
   "execution_count": 44,
   "id": "a77e25a0",
   "metadata": {},
   "outputs": [],
   "source": [
    "A = 1 * np.ones((2, 2))\n",
    "B = 2 * np.ones((2, 2))\n",
    "C = 3 * np.ones((2, 2))\n",
    "D = 4 * np.ones((2, 2))"
   ]
  },
  {
   "cell_type": "code",
   "execution_count": 45,
   "id": "48903391",
   "metadata": {},
   "outputs": [
    {
     "name": "stdout",
     "output_type": "stream",
     "text": [
      "[[1. 1. 2. 2.]\n",
      " [1. 1. 2. 2.]\n",
      " [3. 3. 4. 4.]\n",
      " [3. 3. 4. 4.]]\n"
     ]
    }
   ],
   "source": [
    "print(np.vstack([\n",
    "    np.hstack([A, B]),\n",
    "    np.hstack([C,D])\n",
    "]))"
   ]
  },
  {
   "cell_type": "code",
   "execution_count": 46,
   "id": "488dcdd5",
   "metadata": {},
   "outputs": [
    {
     "name": "stdout",
     "output_type": "stream",
     "text": [
      "[[1. 1. 2. 2.]\n",
      " [1. 1. 2. 2.]\n",
      " [3. 3. 4. 4.]\n",
      " [3. 3. 4. 4.]]\n"
     ]
    }
   ],
   "source": [
    "print(np.vstack([np.hstack([A, B]), np.hstack([C, D])]))"
   ]
  },
  {
   "cell_type": "markdown",
   "id": "790be10f",
   "metadata": {},
   "source": [
    "## Numpy 배열 복사 대 보기"
   ]
  },
  {
   "cell_type": "code",
   "execution_count": 47,
   "id": "b1a07cf5",
   "metadata": {},
   "outputs": [
    {
     "name": "stdout",
     "output_type": "stream",
     "text": [
      "[42  2  3  4  5]\n",
      "[1 2 3 4 5]\n"
     ]
    }
   ],
   "source": [
    "arr = np.array([1, 2, 3, 4, 5])\n",
    "x = arr.copy()\n",
    "arr[0] = 42\n",
    "print(arr)\n",
    "print(x)"
   ]
  },
  {
   "cell_type": "code",
   "execution_count": 48,
   "id": "494ab6e6",
   "metadata": {},
   "outputs": [
    {
     "name": "stdout",
     "output_type": "stream",
     "text": [
      "[42  2  3  4  5]\n",
      "[42  2  3  4  5]\n"
     ]
    }
   ],
   "source": [
    "arr = np.array([1, 2, 3, 4, 5])\n",
    "x = arr.view()\n",
    "arr[0] = 42\n",
    "print(arr)\n",
    "print(x)"
   ]
  },
  {
   "cell_type": "code",
   "execution_count": 49,
   "id": "bb26018e",
   "metadata": {},
   "outputs": [
    {
     "name": "stdout",
     "output_type": "stream",
     "text": [
      "[31  2  3  4  5]\n",
      "[31  2  3  4  5]\n"
     ]
    }
   ],
   "source": [
    "x[0] = 31\n",
    "print(arr)\n",
    "print(x)"
   ]
  },
  {
   "cell_type": "code",
   "execution_count": 50,
   "id": "49f64f06",
   "metadata": {},
   "outputs": [
    {
     "name": "stdout",
     "output_type": "stream",
     "text": [
      "None\n",
      "[1 2 3 4 5]\n"
     ]
    }
   ],
   "source": [
    "arr = np.array([1, 2, 3, 4, 5])\n",
    "\n",
    "x = arr.copy()\n",
    "y = arr.view()\n",
    "\n",
    "print(x.base)\n",
    "print(y.base)"
   ]
  },
  {
   "cell_type": "markdown",
   "id": "12b4bb72",
   "metadata": {},
   "source": [
    "## Operations and Functions"
   ]
  },
  {
   "cell_type": "markdown",
   "id": "4a2a9f60",
   "metadata": {},
   "source": [
    "### Array Operations"
   ]
  },
  {
   "cell_type": "code",
   "execution_count": 51,
   "id": "a935d169",
   "metadata": {},
   "outputs": [
    {
     "data": {
      "text/plain": [
       "array([2, 2, 2])"
      ]
     },
     "execution_count": 51,
     "metadata": {},
     "output_type": "execute_result"
    }
   ],
   "source": [
    "v = np.array([1, 2, 3])\n",
    "w = np.array([1, 0, -1])\n",
    "\n",
    "v + w"
   ]
  },
  {
   "cell_type": "code",
   "execution_count": 52,
   "id": "d50f5a25",
   "metadata": {},
   "outputs": [
    {
     "data": {
      "text/plain": [
       "array([0, 2, 4])"
      ]
     },
     "execution_count": 52,
     "metadata": {},
     "output_type": "execute_result"
    }
   ],
   "source": [
    "v - w"
   ]
  },
  {
   "cell_type": "code",
   "execution_count": 53,
   "id": "6e5a7563",
   "metadata": {},
   "outputs": [
    {
     "data": {
      "text/plain": [
       "array([ 1,  0, -3])"
      ]
     },
     "execution_count": 53,
     "metadata": {},
     "output_type": "execute_result"
    }
   ],
   "source": [
    "v * w"
   ]
  },
  {
   "cell_type": "code",
   "execution_count": 54,
   "id": "00f2199e",
   "metadata": {},
   "outputs": [
    {
     "data": {
      "text/plain": [
       "array([ 1.        ,  0.        , -0.33333333])"
      ]
     },
     "execution_count": 54,
     "metadata": {},
     "output_type": "execute_result"
    }
   ],
   "source": [
    "w / v"
   ]
  },
  {
   "cell_type": "code",
   "execution_count": 55,
   "id": "bb0c9ca2",
   "metadata": {},
   "outputs": [
    {
     "data": {
      "text/plain": [
       "array([ 1,  0, -1])"
      ]
     },
     "execution_count": 55,
     "metadata": {},
     "output_type": "execute_result"
    }
   ],
   "source": [
    "w // v"
   ]
  },
  {
   "cell_type": "code",
   "execution_count": 56,
   "id": "c4e38ea7",
   "metadata": {},
   "outputs": [
    {
     "name": "stdout",
     "output_type": "stream",
     "text": [
      "[ 1  0 -1]\n",
      "[1 4 9]\n"
     ]
    }
   ],
   "source": [
    "print( w ** v)\n",
    "print( v ** 2)"
   ]
  },
  {
   "cell_type": "code",
   "execution_count": 57,
   "id": "7846da1f",
   "metadata": {},
   "outputs": [
    {
     "ename": "ValueError",
     "evalue": "Integers to negative integer powers are not allowed.",
     "output_type": "error",
     "traceback": [
      "\u001b[0;31m---------------------------------------------------------------------------\u001b[0m",
      "\u001b[0;31mValueError\u001b[0m                                Traceback (most recent call last)",
      "\u001b[0;32m/var/folders/kk/2pj93ygs67nbx9_42r_c6_3c0000gn/T/ipykernel_17968/3545925085.py\u001b[0m in \u001b[0;36m<module>\u001b[0;34m\u001b[0m\n\u001b[1;32m      1\u001b[0m \u001b[0ma\u001b[0m \u001b[0;34m=\u001b[0m \u001b[0mnp\u001b[0m\u001b[0;34m.\u001b[0m\u001b[0marray\u001b[0m\u001b[0;34m(\u001b[0m\u001b[0;34m[\u001b[0m\u001b[0;36m1\u001b[0m\u001b[0;34m,\u001b[0m\u001b[0;36m1\u001b[0m\u001b[0;34m]\u001b[0m\u001b[0;34m)\u001b[0m\u001b[0;34m\u001b[0m\u001b[0;34m\u001b[0m\u001b[0m\n\u001b[0;32m----> 2\u001b[0;31m \u001b[0ma\u001b[0m \u001b[0;34m**\u001b[0m \u001b[0;34m-\u001b[0m\u001b[0;36m1\u001b[0m\u001b[0;34m\u001b[0m\u001b[0;34m\u001b[0m\u001b[0m\n\u001b[0m",
      "\u001b[0;31mValueError\u001b[0m: Integers to negative integer powers are not allowed."
     ]
    }
   ],
   "source": [
    "a = np.array([1,1])\n",
    "a ** -1"
   ]
  },
  {
   "cell_type": "code",
   "execution_count": null,
   "id": "1dfcbe05",
   "metadata": {},
   "outputs": [],
   "source": [
    "A = np.array([\n",
    "    [3,1],\n",
    "    [2, -1]\n",
    "])\n",
    "B = np.array([\n",
    "    [2, -2],\n",
    "    [5, 1]\n",
    "])"
   ]
  },
  {
   "cell_type": "code",
   "execution_count": null,
   "id": "9a2b9be7",
   "metadata": {},
   "outputs": [],
   "source": [
    "A + B"
   ]
  },
  {
   "cell_type": "code",
   "execution_count": null,
   "id": "e92bc4cb",
   "metadata": {},
   "outputs": [],
   "source": [
    "A - B "
   ]
  },
  {
   "cell_type": "code",
   "execution_count": null,
   "id": "eb343094",
   "metadata": {},
   "outputs": [],
   "source": [
    "A / B"
   ]
  },
  {
   "cell_type": "code",
   "execution_count": null,
   "id": "ab949130",
   "metadata": {},
   "outputs": [],
   "source": [
    "A * B"
   ]
  },
  {
   "cell_type": "code",
   "execution_count": null,
   "id": "1b4645e3",
   "metadata": {},
   "outputs": [],
   "source": [
    "A ** 2"
   ]
  },
  {
   "cell_type": "code",
   "execution_count": null,
   "id": "facb456e",
   "metadata": {},
   "outputs": [],
   "source": [
    "A @ B #행렬의 곱을 의미함****"
   ]
  },
  {
   "cell_type": "markdown",
   "id": "457f4634",
   "metadata": {},
   "source": [
    "## 행렬 거듭제곱은 함수에 의해 수행된다. Numpy.linalg.matrix_power을 이용함."
   ]
  },
  {
   "cell_type": "code",
   "execution_count": null,
   "id": "fae27cee",
   "metadata": {},
   "outputs": [],
   "source": [
    "from numpy.linalg import matrix_power as mpow\n",
    "mpow(A, 3)"
   ]
  },
  {
   "cell_type": "code",
   "execution_count": null,
   "id": "f2e837dd",
   "metadata": {},
   "outputs": [],
   "source": [
    "A @ A @ A"
   ]
  },
  {
   "cell_type": "markdown",
   "id": "b85c9094",
   "metadata": {},
   "source": [
    "# BroadCasting!!!!"
   ]
  },
  {
   "cell_type": "code",
   "execution_count": 58,
   "id": "4a7400c7",
   "metadata": {},
   "outputs": [
    {
     "name": "stdout",
     "output_type": "stream",
     "text": [
      "[1.     1.0625 1.25   1.5625 2.    ]\n"
     ]
    }
   ],
   "source": [
    "x = np.linspace(0, 1, 5)\n",
    "y = x **2 + 1\n",
    "print(y)"
   ]
  },
  {
   "cell_type": "code",
   "execution_count": 59,
   "id": "a3bd8efe",
   "metadata": {},
   "outputs": [
    {
     "name": "stdout",
     "output_type": "stream",
     "text": [
      "[[2 3 4 5]\n",
      " [3 4 5 6]\n",
      " [4 5 6 7]]\n",
      "[[1 1 1 1]\n",
      " [2 2 2 2]\n",
      " [3 3 3 3]]\n"
     ]
    }
   ],
   "source": [
    "u = np.array([1, 2, 3, 4])\n",
    "A = np.array([\n",
    "    [1, 1, 1, 1],\n",
    "    [2, 2, 2, 2],\n",
    "    [3, 3, 3, 3]\n",
    "])\n",
    "result = A + u\n",
    "print(result)\n",
    "print(A)"
   ]
  },
  {
   "cell_type": "code",
   "execution_count": 60,
   "id": "7f178ec5",
   "metadata": {},
   "outputs": [
    {
     "ename": "ValueError",
     "evalue": "operands could not be broadcast together with shapes (4,3) (4,) ",
     "output_type": "error",
     "traceback": [
      "\u001b[0;31m---------------------------------------------------------------------------\u001b[0m",
      "\u001b[0;31mValueError\u001b[0m                                Traceback (most recent call last)",
      "\u001b[0;32m/var/folders/kk/2pj93ygs67nbx9_42r_c6_3c0000gn/T/ipykernel_17968/2957726820.py\u001b[0m in \u001b[0;36m<module>\u001b[0;34m\u001b[0m\n\u001b[0;32m----> 1\u001b[0;31m \u001b[0mA\u001b[0m\u001b[0;34m.\u001b[0m\u001b[0mtranspose\u001b[0m\u001b[0;34m(\u001b[0m\u001b[0;34m)\u001b[0m \u001b[0;34m+\u001b[0m \u001b[0mu\u001b[0m\u001b[0;34m\u001b[0m\u001b[0;34m\u001b[0m\u001b[0m\n\u001b[0m",
      "\u001b[0;31mValueError\u001b[0m: operands could not be broadcast together with shapes (4,3) (4,) "
     ]
    }
   ],
   "source": [
    "A.transpose() + u"
   ]
  },
  {
   "cell_type": "code",
   "execution_count": 61,
   "id": "2505a6c2",
   "metadata": {},
   "outputs": [
    {
     "name": "stdout",
     "output_type": "stream",
     "text": [
      "[[[1 1 1 1]]\n",
      "\n",
      " [[2 2 2 2]]\n",
      "\n",
      " [[3 3 3 3]]]\n",
      "[[[2 3 4 5]]\n",
      "\n",
      " [[3 4 5 6]]\n",
      "\n",
      " [[4 5 6 7]]]\n"
     ]
    }
   ],
   "source": [
    "A.shape = (3, 1, 4)\n",
    "print(A)\n",
    "print(A + u)"
   ]
  },
  {
   "cell_type": "code",
   "execution_count": 62,
   "id": "ae57bfd1",
   "metadata": {},
   "outputs": [
    {
     "data": {
      "text/plain": [
       "array([[[2, 3, 4, 5],\n",
       "        [3, 4, 5, 6],\n",
       "        [4, 5, 6, 7]]])"
      ]
     },
     "execution_count": 62,
     "metadata": {},
     "output_type": "execute_result"
    }
   ],
   "source": [
    "A.shape = (1, 3, 4)\n",
    "A + u"
   ]
  },
  {
   "cell_type": "code",
   "execution_count": 64,
   "id": "733a5ea7",
   "metadata": {},
   "outputs": [
    {
     "ename": "ValueError",
     "evalue": "operands could not be broadcast together with shapes (1,3,4) (4,1) ",
     "output_type": "error",
     "traceback": [
      "\u001b[0;31m---------------------------------------------------------------------------\u001b[0m",
      "\u001b[0;31mValueError\u001b[0m                                Traceback (most recent call last)",
      "\u001b[0;32m/var/folders/kk/2pj93ygs67nbx9_42r_c6_3c0000gn/T/ipykernel_17968/350583683.py\u001b[0m in \u001b[0;36m<module>\u001b[0;34m\u001b[0m\n\u001b[1;32m      1\u001b[0m \u001b[0mu\u001b[0m\u001b[0;34m.\u001b[0m\u001b[0mshape\u001b[0m \u001b[0;34m=\u001b[0m \u001b[0;36m4\u001b[0m\u001b[0;34m,\u001b[0m \u001b[0;36m1\u001b[0m\u001b[0;34m\u001b[0m\u001b[0;34m\u001b[0m\u001b[0m\n\u001b[0;32m----> 2\u001b[0;31m \u001b[0mA\u001b[0m \u001b[0;34m+\u001b[0m \u001b[0mu\u001b[0m\u001b[0;34m\u001b[0m\u001b[0;34m\u001b[0m\u001b[0m\n\u001b[0m",
      "\u001b[0;31mValueError\u001b[0m: operands could not be broadcast together with shapes (1,3,4) (4,1) "
     ]
    }
   ],
   "source": [
    "u.shape = 4, 1\n",
    "A + u"
   ]
  },
  {
   "cell_type": "markdown",
   "id": "baaccd1a",
   "metadata": {},
   "source": [
    "## 배열 함수"
   ]
  },
  {
   "attachments": {
    "%E1%84%89%E1%85%B3%E1%84%8F%E1%85%B3%E1%84%85%E1%85%B5%E1%86%AB%E1%84%89%E1%85%A3%E1%86%BA%202022-12-27%20%E1%84%8B%E1%85%A9%E1%84%8C%E1%85%A5%E1%86%AB%209.56.34.png": {
     "image/png": "[encoded data removed]"
    }
   },
   "cell_type": "markdown",
   "id": "73c43102",
   "metadata": {},
   "source": [
    "![%E1%84%89%E1%85%B3%E1%84%8F%E1%85%B3%E1%84%85%E1%85%B5%E1%86%AB%E1%84%89%E1%85%A3%E1%86%BA%202022-12-27%20%E1%84%8B%E1%85%A9%E1%84%8C%E1%85%A5%E1%86%AB%209.56.34.png](attachment:%E1%84%89%E1%85%B3%E1%84%8F%E1%85%B3%E1%84%85%E1%85%B5%E1%86%AB%E1%84%89%E1%85%A3%E1%86%BA%202022-12-27%20%E1%84%8B%E1%85%A9%E1%84%8C%E1%85%A5%E1%86%AB%209.56.34.png)"
   ]
  },
  {
   "cell_type": "code",
   "execution_count": 66,
   "id": "283bb35a",
   "metadata": {},
   "outputs": [
    {
     "name": "stdout",
     "output_type": "stream",
     "text": [
      "[ 8 -2  4  7 -3]\n"
     ]
    }
   ],
   "source": [
    "arr = np.array([8, -2, 4, 7, -3])\n",
    "print(arr)"
   ]
  },
  {
   "cell_type": "code",
   "execution_count": 68,
   "id": "812d4f7b",
   "metadata": {},
   "outputs": [
    {
     "data": {
      "text/plain": [
       "2.8"
      ]
     },
     "execution_count": 68,
     "metadata": {},
     "output_type": "execute_result"
    }
   ],
   "source": [
    "arr.mean()"
   ]
  },
  {
   "cell_type": "code",
   "execution_count": 71,
   "id": "25aa1b12",
   "metadata": {},
   "outputs": [
    {
     "name": "stdout",
     "output_type": "stream",
     "text": [
      "max element = 8, its index = 0\n"
     ]
    }
   ],
   "source": [
    "print(f\"max element = {arr.max()}, its index = {arr.argmax()}\")"
   ]
  },
  {
   "cell_type": "code",
   "execution_count": 73,
   "id": "1e6e76ed",
   "metadata": {},
   "outputs": [
    {
     "name": "stdout",
     "output_type": "stream",
     "text": [
      "[[2 4 2]\n",
      " [2 1 1]\n",
      " [3 2 0]\n",
      " [0 6 2]]\n"
     ]
    }
   ],
   "source": [
    "M = np.array([\n",
    "    [2, 4, 2],\n",
    "    [2, 1, 1],\n",
    "    [3, 2, 0],\n",
    "    [0, 6,2 ]\n",
    "])\n",
    "print(M)"
   ]
  },
  {
   "cell_type": "code",
   "execution_count": 75,
   "id": "8f6e5a16",
   "metadata": {},
   "outputs": [
    {
     "data": {
      "text/plain": [
       "25"
      ]
     },
     "execution_count": 75,
     "metadata": {},
     "output_type": "execute_result"
    }
   ],
   "source": [
    "M.sum()"
   ]
  },
  {
   "cell_type": "code",
   "execution_count": 77,
   "id": "8c0150ee",
   "metadata": {},
   "outputs": [
    {
     "data": {
      "text/plain": [
       "array([ 7, 13,  5])"
      ]
     },
     "execution_count": 77,
     "metadata": {},
     "output_type": "execute_result"
    }
   ],
   "source": [
    "M.sum(axis = 0)"
   ]
  },
  {
   "cell_type": "code",
   "execution_count": 79,
   "id": "e299bd28",
   "metadata": {},
   "outputs": [
    {
     "data": {
      "text/plain": [
       "array([8, 4, 5, 8])"
      ]
     },
     "execution_count": 79,
     "metadata": {},
     "output_type": "execute_result"
    }
   ],
   "source": [
    "M.sum(axis = 1)"
   ]
  },
  {
   "cell_type": "markdown",
   "id": "b4d61b76",
   "metadata": {},
   "source": [
    "## Math Function"
   ]
  },
  {
   "attachments": {
    "%E1%84%89%E1%85%B3%E1%84%8F%E1%85%B3%E1%84%85%E1%85%B5%E1%86%AB%E1%84%89%E1%85%A3%E1%86%BA%202022-12-27%20%E1%84%8B%E1%85%A9%E1%84%8C%E1%85%A5%E1%86%AB%2010.43.13.png": {
     "image/png": "[encoded data removed]"
    }
   },
   "cell_type": "markdown",
   "id": "eacaa425",
   "metadata": {},
   "source": [
    "![%E1%84%89%E1%85%B3%E1%84%8F%E1%85%B3%E1%84%85%E1%85%B5%E1%86%AB%E1%84%89%E1%85%A3%E1%86%BA%202022-12-27%20%E1%84%8B%E1%85%A9%E1%84%8C%E1%85%A5%E1%86%AB%2010.43.13.png](attachment:%E1%84%89%E1%85%B3%E1%84%8F%E1%85%B3%E1%84%85%E1%85%B5%E1%86%AB%E1%84%89%E1%85%A3%E1%86%BA%202022-12-27%20%E1%84%8B%E1%85%A9%E1%84%8C%E1%85%A5%E1%86%AB%2010.43.13.png)"
   ]
  },
  {
   "cell_type": "code",
   "execution_count": 97,
   "id": "eb25e7d4",
   "metadata": {},
   "outputs": [
    {
     "data": {
      "text/plain": [
       "array([ 0.0000000e+00,  1.0000000e+00,  1.2246468e-16, -1.0000000e+00,\n",
       "       -2.4492936e-16])"
      ]
     },
     "execution_count": 97,
     "metadata": {},
     "output_type": "execute_result"
    }
   ],
   "source": [
    "x = np.arange(0, 1.01, 0.25)\n",
    "np.sin(2 * np.pi * x)"
   ]
  },
  {
   "cell_type": "code",
   "execution_count": 173,
   "id": "1750d796",
   "metadata": {},
   "outputs": [
    {
     "data": {
      "text/plain": [
       "[0.0,\n",
       " 0.03950765069885453,\n",
       " 0.07895361162317313,\n",
       " 0.1182762893247824,\n",
       " 0.15741428285782372,\n",
       " 0.19630647965412024,\n",
       " 0.23489215094825233,\n",
       " 0.27311104660333907,\n",
       " 0.31090348918945815,\n",
       " 0.3482104671678049,\n",
       " 0.38497372703508576,\n",
       " 0.42113586428426747,\n",
       " 0.45664041303964786,\n",
       " 0.491431934226289,\n",
       " 0.525456102136137,\n",
       " 0.5586597892556595,\n",
       " 0.590991149222546,\n",
       " 0.6223996977819368,\n",
       " 0.6528363916157693,\n",
       " 0.6822537049221541,\n",
       " 0.7106057036252038,\n",
       " 0.7378481170994402,\n",
       " 0.763938407296781,\n",
       " 0.7888358351681714,\n",
       " 0.8125015242761432,\n",
       " 0.8348985214989725,\n",
       " 0.8559918547316487,\n",
       " 0.8757485874935583,\n",
       " 0.8941378703576134,\n",
       " 0.9111309891205215,\n",
       " 0.9267014096389815,\n",
       " 0.9408248192617923,\n",
       " 0.9534791647931831,\n",
       " 0.9646446869280844,\n",
       " 0.9743039511055721,\n",
       " 0.9824418747323069,\n",
       " 0.9890457507334602,\n",
       " 0.9941052673943548,\n",
       " 0.9976125244618359,\n",
       " 0.9995620454802322,\n",
       " 0.9999507863426441,\n",
       " 0.9987781400442073,\n",
       " 0.9960459376299086,\n",
       " 0.9917584453354757,\n",
       " 0.9859223579258033,\n",
       " 0.9785467882413187,\n",
       " 0.9696432529686092,\n",
       " 0.9592256546575314,\n",
       " 0.9473102600128789,\n",
       " 0.9339156744945091,\n",
       " 0.9190628132655871,\n",
       " 0.902774868534311,\n",
       " 0.8850772733401134,\n",
       " 0.8659976618408867,\n",
       " 0.8455658261632389,\n",
       " 0.823813669883162,\n",
       " 0.8007751582097438,\n",
       " 0.7764862649497196,\n",
       " 0.7509849163356652,\n",
       " 0.7243109318055507,\n",
       " 0.6965059618261221,\n",
       " 0.6676134228571964,\n",
       " 0.6376784295584209,\n",
       " 0.6067477243443578,\n",
       " 0.5748696043978846,\n",
       " 0.5420938462558839,\n",
       " 0.5084716280849705,\n",
       " 0.4740554497686265,\n",
       " 0.438899050930525,\n",
       " 0.4030573270220379,\n",
       " 0.36658624360496933,\n",
       " 0.32954274896334274,\n",
       " 0.29198468518070414,\n",
       " 0.2539706978217937,\n",
       " 0.21556014435960413,\n",
       " 0.17681300149082466,\n",
       " 0.13778977148438842,\n",
       " 0.09855138770935681,\n",
       " 0.05915911948965563,\n",
       " 0.019674476434232667,\n",
       " -0.01984088760798369,\n",
       " -0.05932527081834861,\n",
       " -0.0987170197536733,\n",
       " -0.1379546256158521,\n",
       " -0.17697682029564202,\n",
       " -0.21572267204060927,\n",
       " -0.25413168059786223,\n",
       " -0.2921438716830257,\n",
       " -0.3296998906279236,\n",
       " -0.3667410950607564,\n",
       " -0.40320964647405627,\n",
       " -0.4390486005374329,\n",
       " -0.4742019960140972,\n",
       " -0.5086149421423148,\n",
       " -0.5422337043453601,\n",
       " -0.57500578813612,\n",
       " -0.6068800210853466,\n",
       " -0.6378066327255644,\n",
       " -0.6677373322658641,\n",
       " -0.6966253839962318,\n",
       " -0.7244256802636816,\n",
       " -0.7510948119062307,\n",
       " -0.7765911360347416,\n",
       " -0.800874841056798,\n",
       " -0.8239080088410703,\n",
       " -0.8456546739251151,\n",
       " -0.8660808796741477,\n",
       " -0.8851547313031082,\n",
       " -0.9028464456792187,\n",
       " -0.919128397827272,\n",
       " -0.9339751640650386,\n",
       " -0.9473635617014301,\n",
       " -0.959272685235436,\n",
       " -0.9696839389993126,\n",
       " -0.9785810661950483,\n",
       " -0.9859501742787684,\n",
       " -0.9917797566534422,\n",
       " -0.9960607106360206,\n",
       " -0.9987863516709475,\n",
       " -0.9999524237678531,\n",
       " -0.9995571061471292,\n",
       " -0.9976010160830119,\n",
       " -0.994087207939729,\n",
       " -0.9890211684022211,\n",
       " -0.9824108079088799,\n",
       " -0.9742664482996838,\n",
       " -0.9646008066990162,\n",
       " -0.9534289756583331,\n",
       " -0.9407683995896884,\n",
       " -0.926638847526911,\n",
       " -0.91106238225697,\n",
       " -0.8940633258697293,\n",
       " -0.8756682217798766,\n",
       " -0.855905793280338,\n",
       " -0.8348068986918916,\n",
       " -0.8124044831790082,\n",
       " -0.788733527307162,\n",
       " -0.7638309924219393,\n",
       " -0.7377357629352277,\n",
       " -0.7104885856086037,\n",
       " -0.6821320059287329,\n",
       " -0.6527103016741258,\n",
       " -0.6222694137769764,\n",
       " -0.5908568745880522,\n",
       " -0.5585217336566417,\n",
       " -0.5253144811414441,\n",
       " -0.4912869689720067,\n",
       " -0.4564923298838028,\n",
       " -0.4209848944533774,\n",
       " -0.3848201062631069,\n",
       " -0.3480544353280441,\n",
       " -0.31074528992001704,\n",
       " -0.2729509269266818,\n",
       " -0.2347303608854916,\n",
       " -0.19614327183461555,\n",
       " -0.1572499121247108,\n",
       " -0.11811101233704466,\n",
       " -0.07878768645487799,\n",
       " -0.039341336436179986,\n",
       " 0.0001664436633199323,\n",
       " 0.03967396386702963,\n",
       " 0.07911953460417755,\n",
       " 0.11844156303585347,\n",
       " 0.15757864923001047,\n",
       " 0.19646968203525036,\n",
       " 0.23505393450368028,\n",
       " 0.27327115871386626,\n",
       " 0.311061679845787,\n",
       " 0.3483664893609185,\n",
       " 0.38512733714194647,\n",
       " 0.42128682244822385,\n",
       " 0.456788483544959,\n",
       " 0.4915768858661904,\n",
       " 0.5255977085738602,\n",
       " 0.558797829377849,\n",
       " 0.5911254074845198,\n",
       " 0.6225299645442519,\n",
       " 0.6529624634715643,\n",
       " 0.682375385014764,\n",
       " 0.710722801955544,\n",
       " 0.7379604508226825,\n",
       " 0.7640458010078597,\n",
       " 0.7889381211756723,\n",
       " 0.8125985428641486,\n",
       " 0.8349901211764479,\n",
       " 0.8560778924689949,\n",
       " 0.8758289289459452,\n",
       " 0.8942123900747547,\n",
       " 0.9111995707425615,\n",
       " 0.926763946078186,\n",
       " 0.9408812128697622,\n",
       " 0.9535293275133293,\n",
       " 0.964688540433125,\n",
       " 0.9743414269198376,\n",
       " 0.982472914338662,\n",
       " 0.9890703056646769,\n",
       " 0.9941232993087921,\n",
       " 0.9976240052033082,\n",
       " 0.9995669571219749,\n",
       " 0.9999491212153053,\n",
       " 0.9987699007478235,\n",
       " 0.9960311370298447,\n",
       " 0.9917371065423357,\n",
       " 0.9858945142593448,\n",
       " 0.9785124831784248,\n",
       " 0.9696025400754006,\n",
       " 0.9591785975057256,\n",
       " 0.9472569320805245,\n",
       " 0.9338561590512536,\n",
       " 0.9189972032426516,\n",
       " 0.9027032663793858,\n",
       " 0.8849997908573857,\n",
       " 0.8659144200164651,\n",
       " 0.8454769549762355,\n",
       " 0.8237193081027371,\n",
       " 0.8006754531784204,\n",
       " 0.7763813723533151,\n",
       " 0.7508749999601944,\n",
       " 0.7241961632814766,\n",
       " 0.6963865203603656,\n",
       " 0.6674894949533055,\n",
       " 0.6375502087253567,\n",
       " 0.6066154107943359,\n",
       " 0.5747334047337529,\n",
       " 0.541953973148514,\n",
       " 0.5083282999411862,\n",
       " 0.4739088903901643,\n",
       " 0.4387494891645799,\n",
       " 0.40290499640392324,\n",
       " 0.36643138199346237,\n",
       " 0.32938559816927704,\n",
       " 0.2918254905893869,\n",
       " 0.25380970800985053,\n",
       " 0.21539761070683003,\n",
       " 0.17664917778766864,\n",
       " 0.13762491353566636,\n",
       " 0.09838575293482306,\n",
       " 0.05899296652204883,\n",
       " 0.019508064715429478,\n",
       " -0.020007298232071927,\n",
       " -0.05949142050352612,\n",
       " -0.09888264906318261,\n",
       " -0.13811947592549068,\n",
       " -0.17714063419758364,\n",
       " -0.2158851937453428,\n",
       " -0.2542926563335946,\n",
       " -0.2923030500919414,\n",
       " -0.32985702315866616,\n",
       " -0.3668959363565336,\n",
       " -0.4033619547557597,\n",
       " -0.4391981379811612,\n",
       " -0.47434852912251524,\n",
       " -0.5087582421092474,\n",
       " -0.5423735474130696,\n",
       " -0.5751419559446865,\n",
       " -0.6070123010136399,\n",
       " -0.6379348182232364,\n",
       " -0.6678612231758747,\n",
       " -0.6967447868673837,\n",
       " -0.7245404086526906,\n",
       " -0.7512046866688465,\n",
       " -0.7766959856054767,\n",
       " -0.8009745017168222,\n",
       " -0.8240023249738493,\n",
       " -0.8457434982594028,\n",
       " -0.8661640735139428,\n",
       " -0.885232164744226,\n",
       " -0.9029179978121259,\n",
       " -0.9191939569258897,\n",
       " -0.9340346277611935,\n",
       " -0.9474168371447006,\n",
       " -0.9593196892381358,\n",
       " -0.969724598166383,\n",
       " -0.9786153170386642,\n",
       " -0.9859779633174695,\n",
       " -0.9918010404956451,\n",
       " -0.9960754560477715,\n",
       " -0.9987945356278168,\n",
       " -0.9999540334908867,\n",
       " -0.9995521391228027,\n",
       " -0.9975894800671549,\n",
       " -0.9940691209454151,\n",
       " -0.9889965586716406,\n",
       " -0.9823797138692417,\n",
       " -0.9742289185032114,\n",
       " -0.9645568997471357,\n",
       " -0.9533787601101698,\n",
       " -0.9407119538550135,\n",
       " -0.9265762597437068,\n",
       " -0.9109937501538085,\n",
       " -0.893988756613168,\n",
       " -0.8755878318071264,\n",
       " -0.8558197081174475,\n",
       " -0.8347152527577436,\n",
       " -0.8123074195754306,\n",
       " -0.7886311975954776,\n",
       " -0.7637235563863113,\n",
       " -0.737623388333157,\n",
       " -0.7103714479089867,\n",
       " -0.6820102880378718,\n",
       " -0.6525841936501268,\n",
       " -0.6221391125329785,\n",
       " -0.59072258358476,\n",
       " -0.5583836625846226,\n",
       " -0.5251728455937043,\n",
       " -0.491141990107359,\n",
       " -0.45634423408152447,\n",
       " -0.4208339129597347,\n",
       " -0.38466647483026706,\n",
       " -0.34789839384596044,\n",
       " -0.3105870820418457,\n",
       " -0.2727907996883309,\n",
       " -0.23456856431988105,\n",
       " -0.19598005858125717,\n",
       " -0.15708553703522676,\n",
       " -0.11794573207721898,\n",
       " -0.07862175910388908,\n",
       " -0.03917502108361053,\n",
       " 0.0003328873220287937,\n",
       " 0.03984027593609842,\n",
       " 0.07928545539329486,\n",
       " 0.11860683346568099,\n",
       " 0.1577430112367189,\n",
       " 0.19663287897348236,\n",
       " 0.23521571154729082,\n",
       " 0.2734312632538264,\n",
       " 0.3112198618846187,\n",
       " 0.34852250190306594,\n",
       " 0.3852809365794379,\n",
       " 0.4214377689410631,\n",
       " 0.45693654139563383,\n",
       " 0.4917218238876947,\n",
       " 0.5257393004506917,\n",
       " 0.558935854019387,\n",
       " 0.5912596493702559,\n",
       " 0.6226602140603114,\n",
       " 0.6530885172380168,\n",
       " 0.6824970462031916,\n",
       " 0.7108398805963787,\n",
       " 0.7380727641018421,\n",
       " 0.7641531735522025,\n",
       " 0.7890403853268337,\n",
       " 0.8126955389403352,\n",
       " 0.8350816977217794,\n",
       " 0.8561639064899929,\n",
       " 0.8759092461348108,\n",
       " 0.8942868850190894,\n",
       " 0.9112681271211901,\n",
       " 0.9268264568427915,\n",
       " 0.9409375804120352,\n",
       " 0.9535794638173821,\n",
       " 0.9647323672129229,\n",
       " 0.9743788757414422,\n",
       " 0.9825039267270859,\n",
       " 0.9890948331951914,\n",
       " 0.9941413036825412,\n",
       " 0.9976354583071104,\n",
       " 0.999571841072221,\n",
       " 0.9999474283858829,\n",
       " 0.9987616337820245,\n",
       " 0.9960163088362388,\n",
       " 0.9917157402746136,\n",
       " 0.9858666432801646,\n",
       " 0.9784781510073167,\n",
       " 0.9695618003208148,\n",
       " 0.9591315137813214,\n",
       " 0.9472035779058435,\n",
       " 0.9337966177369191,\n",
       " 0.9189315677602834,\n",
       " 0.9026316392164268,\n",
       " 0.8849222838570726,\n",
       " 0.8658311542031891,\n",
       " 0.8453880603665671,\n",
       " 0.8236249235024093,\n",
       " 0.8005757259655897,\n",
       " 0.7762764582484358,\n",
       " 0.7507650627828627,\n",
       " 0.7240813746946404,\n",
       " 0.6962670596022678,\n",
       " 0.6673655485576222,\n",
       " 0.6374219702299251,\n",
       " 0.6064830804389494,\n",
       " 0.5745971891474984,\n",
       " 0.5418140850271264,\n",
       " 0.508184957714932,\n",
       " 0.4737623178827703,\n",
       " 0.43859991524374076,\n",
       " 0.40275265462393267,\n",
       " 0.3662765102305281,\n",
       " 0.32922843825007914,\n",
       " 0.2916662879134858,\n",
       " 0.2536487111664892,\n",
       " 0.21523507108678794,\n",
       " 0.17648534919071376,\n",
       " 0.13746005177425433,\n",
       " 0.09822011543466028,\n",
       " 0.05882681192012811,\n",
       " 0.019341652456184747,\n",
       " -0.020173708301891222,\n",
       " -0.059657568540580366,\n",
       " -0.09904827563329756,\n",
       " -0.1382843224087351,\n",
       " -0.17730444319210914,\n",
       " -0.21604770946930058,\n",
       " -0.25445362502453467,\n",
       " -0.2924622204030416,\n",
       " -0.3300141465512165,\n",
       " -0.3670507674880138,\n",
       " -0.40351425186292594,\n",
       " -0.4393476632575673,\n",
       " -0.47449504908982243,\n",
       " -0.508901527981802,\n",
       " -0.5425133754551331,\n",
       " -0.5752781078198103,\n",
       " -0.6071445641255698,\n",
       " -0.6380629860478854,\n",
       " -0.6679850955837938,\n",
       " -0.696864170436273,\n",
       " -0.7246551169694007,\n",
       " -0.7513145406204669,\n",
       " -0.7768008136590197,\n",
       " -0.8010741401870543,\n",
       " -0.8240966182788864,\n",
       " -0.8458322991636402,\n",
       " -0.8662472433579677,\n",
       " -0.8853095736613188,\n",
       " -0.9029895249310504,\n",
       " -0.9192594905596222,\n",
       " -0.9340940655813257,\n",
       " -0.9474700863412169,\n",
       " -0.9593666666643295,\n",
       " -0.9697652304686956,\n",
       " -0.9786495407712171,\n",
       " -0.986005725041137,\n",
       " -0.9918222968614941,\n",
       " -0.9960901738647527,\n",
       " -0.9988026919145885,\n",
       " -0.9999556155117006,\n",
       " -0.9995471444073903,\n",
       " -0.9975779164145845,\n",
       " -0.9940510064119139,\n",
       " -0.9889719215424008,\n",
       " -0.9823485926142533,\n",
       " -0.9741913617171942,\n",
       " -0.9645129660736593,\n",
       " -0.9533285181500851,\n",
       " -0.9406554820593312,\n",
       " -0.9265136462911039,\n",
       " -0.9109250928129367,\n",
       " -0.893914162589996,\n",
       " -0.8755074175775343,\n",
       " -0.855733599245361,\n",
       " -0.8346235836990672,\n",
       " -0.812210333468101,\n",
       " -0.7885288460359559,\n",
       " -0.7636160991928701,\n",
       " -0.7375109932963418,\n",
       " -0.7102542905295997,\n",
       " -0.681888551252944,\n",
       " -0.6524580675472648,\n",
       " -0.6220087940535561,\n",
       " -0.5905882762163882,\n",
       " -0.5582455760434226,\n",
       " -0.525031195496843,\n",
       " -0.4909969976363641,\n",
       " -0.4561961256369191,\n",
       " -0.42068291980752254,\n",
       " -0.38451283274082204,\n",
       " -0.34774234272587345,\n",
       " -0.31042886555932553,\n",
       " -0.27263066489272014,\n",
       " -0.23440676125590093,\n",
       " -0.1958168398985665,\n",
       " -0.15692115759392197,\n",
       " -0.11778044854988627,\n",
       " -0.07845582957480192,\n",
       " -0.039008704645759694,\n",
       " 0.0004993309715155134,\n",
       " 0.04000658690144796,\n",
       " 0.0794513739859263,\n",
       " 0.11877210060968575,\n",
       " 0.15790736887339496,\n",
       " 0.1967960704642976,\n",
       " 0.23537748207460796,\n",
       " 0.273591360218788,\n",
       " 0.3113780353015748,\n",
       " 0.3486785047899193,\n",
       " 0.38543452534329753,\n",
       " 0.4215887037586041,\n",
       " 0.4570845865875664,\n",
       " 0.4918667482867851,\n",
       " 0.5258808777627056,\n",
       " 0.5590738631764491,\n",
       " 0.5913938748760336,\n",
       " 0.6227904463265098,\n",
       " 0.6532145529116398,\n",
       " 0.6826186884840675,\n",
       " 0.7109569395444681,\n",
       " 0.7381850569338096,\n",
       " 0.7642605249268317,\n",
       " 0.7891426276188163,\n",
       " 0.8127925125020155,\n",
       " 0.8351732511324312,\n",
       " 0.8562498967922597,\n",
       " 0.87598953905793,\n",
       " 0.8943613551885525,\n",
       " 0.9113366582545102,\n",
       " 0.9268889419310667,\n",
       " 0.9409939218870516,\n",
       " 0.9536295737039534,\n",
       " 0.9647761672662655,\n",
       " 0.9744162975693477,\n",
       " 0.9825349118967182,\n",
       " 0.9891193333243237,\n",
       " 0.9941592805151034,\n",
       " 0.9976468837729254,\n",
       " 0.9995766973308353,\n",
       " 0.9999457078544235,\n",
       " 0.9987533391470395,\n",
       " 0.9960014530495017,\n",
       " 0.9916943465329009,\n",
       " 0.9858387449890336,\n",
       " 0.9784437917289458,\n",
       " 0.9695210337059795,\n",
       " 0.9590844034856243,\n",
       " 0.947150197490315,\n",
       " 0.9337370505531575,\n",
       " 0.9188659068203016,\n",
       " 0.9025599870474182,\n",
       " 0.884844752341321,\n",
       " 0.8657478644033665,\n",
       " 0.8452991423366971,\n",
       " 0.8235305160847922,\n",
       " 0.8004759765740148,\n",
       " 0.7761715226379846,\n",
       " 0.750655104806715,\n",
       " 0.7239665660482171,\n",
       " 0.6961475795551425,\n",
       " 0.6672415836735845,\n",
       " 0.6372937140756781,\n",
       " 0.6063507332818656,\n",
       " 0.5744609576428957,\n",
       " 0.5416741818955974,\n",
       " 0.5080416014101792,\n",
       " 0.4736157322505083,\n",
       " 0.43845032917215027,\n",
       " 0.402600301686285,\n",
       " 0.36612162832045336,\n",
       " 0.32907126921010343,\n",
       " 0.29150707715740626,\n",
       " 0.25348770729617426,\n",
       " 0.2150725255039877,\n",
       " 0.17632151570449997,\n",
       " 0.13729518620472042,\n",
       " 0.09805447521345718,\n",
       " 0.05866065568850454,\n",
       " 0.019175239661110455,\n",
       " -0.020340117812828323,\n",
       " -0.059823714924913333,\n",
       " -0.09921389945942927,\n",
       " -0.13844916506102423,\n",
       " -0.17746824727468746,\n",
       " -0.2162102192079838,\n",
       " -0.25461458666621706,\n",
       " -0.2926213826119166,\n",
       " -0.3301712608012222,\n",
       " -0.36720558845090057,\n",
       " -0.40366653779133943,\n",
       " -0.4394971763625084,\n",
       " -0.4746415559119593,\n",
       " -0.5090447997560051,\n",
       " -0.5426531884676871,\n",
       " -0.5754142437577252,\n",
       " -0.607276810417476,\n",
       " -0.6381911361959608,\n",
       " -0.6681089494861976,\n",
       " -0.6969835346995893,\n",
       " -0.7247698052106287,\n",
       " -0.7514243737580513,\n",
       " -0.7769056201924666,\n",
       " -0.8011737564647342,\n",
       " -0.8241908887535654,\n",
       " -0.8459210766353692,\n",
       " -0.8663303892039198,\n",
       " -0.8853869580522447,\n",
       " -0.9030610270340108,\n",
       " -0.9193249987266583,\n",
       " -0.9341534775237912,\n",
       " -0.9475233092894997,\n",
       " -0.959413617512715,\n",
       " -0.969805835905123,\n",
       " -0.9786837373917591,\n",
       " -0.9860334594490007,\n",
       " -0.9918435257504011,\n",
       " -0.9961048640865565,\n",
       " -0.9988108205310365,\n",
       " -0.9999571698302508,\n",
       " -0.9995421220010301,\n",
       " -0.9975663251256207,\n",
       " -0.9940328643397273,\n",
       " -0.9889472570151839,\n",
       " -0.9823174441447777,\n",
       " -0.9741537779426737,\n",
       " -0.964469005679806,\n",
       " -0.9532782497794697,\n",
       " -0.9405989842042063,\n",
       " -0.9264510071708377,\n",
       " -0.9108564102362597,\n",
       " -0.8938395438022767,\n",
       " -0.8754269790933266,\n",
       " -0.8556474666664645,\n",
       " -0.8345318915184021,\n",
       " -0.8121132248597047,\n",
       " -0.7884264726314294,\n",
       " -0.7635086208446,\n",
       " -0.7373985778278958,\n",
       " -0.7101371134736878,\n",
       " -0.6817667955773239,\n",
       " -0.652331923369039,\n",
       " -0.6218784583423158,\n",
       " -0.5904539524866579,\n",
       " -0.5581074740368714,\n",
       " -0.5248895308547833,\n",
       " -0.4908519915630325,\n",
       " -0.45604800455408584,\n",
       " -0.420531915000924,\n",
       " -0.3843591799990284,\n",
       " -0.3475862819721105,\n",
       " -0.31027064047684644,\n",
       " -0.27247052254429277,\n",
       " -0.23424495169803475,\n",
       " -0.19565361579106538,\n",
       " -0.1567567738053582,\n",
       " -0.11761516175962194,\n",
       " -0.07828989787221069,\n",
       " -0.03884238712722969,\n",
       " 0.000665774607169021,\n",
       " 0.04017289675847885,\n",
       " 0.07961729037748247,\n",
       " 0.11893736446328314,\n",
       " 0.15807172213548526,\n",
       " 0.19695925650317767,\n",
       " 0.23553924608114485,\n",
       " 0.27375144960431147,\n",
       " 0.3115362000922716,\n",
       " 0.34883449801716504,\n",
       " 0.3855881034292759,\n",
       " 0.4217396268966651,\n",
       " 0.45723261911666235,\n",
       " 0.4920116590594531,\n",
       " 0.5260224405059839,\n",
       " 0.5592118568452125,\n",
       " 0.5915280839981321,\n",
       " 0.622920661339236,\n",
       " 0.6533405704889353,\n",
       " 0.6827403118540212,\n",
       " 0.7110739787965681,\n",
       " 0.7382973293154713,\n",
       " 0.7643678551287747,\n",
       " 0.7892448480487936,\n",
       " 0.812889463546507,\n",
       " 0.8352647814058665,\n",
       " 0.8563358633734134,\n",
       " 0.8760698077130799,\n",
       " 0.8944358005810842,\n",
       " 0.9114051641406182,\n",
       " 0.9269514013412805,\n",
       " 0.9410502372932495,\n",
       " 0.9536796571716537,\n",
       " 0.9648199405919371,\n",
       " 0.9744536924025181,\n",
       " 0.9825658698467021,\n",
       " 0.9891438060513946,\n",
       " 0.9941772298059807,\n",
       " 0.9976582816004368,\n",
       " 0.9995815258976836,\n",
       " 0.999943959620975,\n",
       " 0.9987450168430979,\n",
       " 0.9959865696700455,\n",
       " 0.9916729253177913,\n",
       " 0.9858108193867262,\n",
       " 0.978409405344264,\n",
       " 0.9694802402320244,\n",
       " 0.9590372666199398,\n",
       " 0.9470967908354175,\n",
       " 0.9336774575016172,\n",
       " 0.9188002204245236,\n",
       " 0.9024883098743468,\n",
       " 0.8847671963122787,\n",
       " 0.8656645506193028,\n",
       " 0.845210200889087,\n",
       " 0.8234360858525089,\n",
       " 0.8003762050064591,\n",
       " 0.7760665655248721,\n",
       " 0.7505451260348023,\n",
       " 0.7238517373453932,\n",
       " 0.6960280802222962,\n",
       " 0.6671176003046229,\n",
       " 0.6371654402661717,\n",
       " 0.6062183693267428,\n",
       " 0.5743247102237165,\n",
       " 0.5415342637577997,\n",
       " 0.5078982310309024,\n",
       " 0.4734691334974298,\n",
       " 0.4383007309539557,\n",
       " 0.4024479375952076,\n",
       " 0.3659667362675273,\n",
       " 0.3289140910537041,\n",
       " 0.29134785832556415,\n",
       " 0.25332669640336775,\n",
       " 0.21490997396292028,\n",
       " 0.1761576773335625,\n",
       " 0.13713031683162846,\n",
       " 0.09788883227580612,\n",
       " 0.058494497831768785,\n",
       " 0.019008826334813267,\n",
       " -0.02050652676026778,\n",
       " -0.059989859651923966,\n",
       " -0.0993795205369894,\n",
       " -0.1386140038777861,\n",
       " -0.1776320464407684,\n",
       " -0.2163727229568922,\n",
       " -0.2547755412541876,\n",
       " -0.2927805367141571,\n",
       " -0.3303283659043272,\n",
       " -0.36736039924091635,\n",
       " -0.4038188125367797,\n",
       " -0.43964667729184237,\n",
       " -0.47478804958486376,\n",
       " -0.5091880574278891,\n",
       " -0.542792986446849,\n",
       " -0.5755503637546497,\n",
       " -0.607409039885696,\n",
       " -0.6383192686639124,\n",
       " -0.668232784879647,\n",
       " -0.6971028796540244,\n",
       " -0.7248844733732064,\n",
       " -0.7515341860785554,\n",
       " -0.7770104052029139,\n",
       " -0.8012733505471004,\n",
       " -0.8242851363952817,\n",
       " -0.8460098306721293,\n",
       " -0.8664135110494902,\n",
       " -0.8854643179148606,\n",
       " -0.9031325041190261,\n",
       " -0.9193904814251792,\n",
       " -0.9342128635869396,\n",
       " -0.9475765059880791,\n",
       " -0.959460541781992,\n",
       " -0.9698464144745411,\n",
       " -0.978717906899342,\n",
       " -0.9860611665402943,\n",
       " -0.9918647271617778,\n",
       " -0.9961195267127759,\n",
       " -0.9988189214769355,\n",
       " -0.9999586964464944,\n",
       " -0.9995370719038617,\n",
       " -0.9975547062005854,\n",
       " -0.9940146947293576,\n",
       " -0.9889225650906733,\n",
       " -0.9822862684616773,\n",
       " -0.9741161671806913,\n",
       " -0.9644250185667902,\n",
       " -0.9532279549997169,\n",
       " -0.9405424602912036,\n",
       " -0.926388342384641,\n",
       " -0.9107877024256756,\n",
       " -0.8937649002520828,\n",
       " -0.8753465163567368,\n",
       " -0.8555613103831424,\n",
       " -0.8344401762182883,\n",
       " -0.8120160937529373,\n",
       " -0.7883240773847354,\n",
       " -0.7634011213444694,\n",
       " -0.7372861419309332,\n",
       " -0.710019916744497,\n",
       " -0.6816450210143794,\n",
       " -0.6522057611189348,\n",
       " -0.6217481054028698,\n",
       " -0.5903196123992904,\n",
       " -0.5579693565687965,\n",
       " -0.5247478516714501,\n",
       " -0.4907069718913891,\n",
       " -0.45589987083712974,\n",
       " -0.4203808985441191,\n",
       " -0.3842055166091428,\n",
       " -0.34743021158899334,\n",
       " -0.3101124067987834,\n",
       " -0.27231037264747326,\n",
       " -0.2340831356507651,\n",
       " -0.1954903862632756,\n",
       " -0.15659238567408074,\n",
       " -0.11744987171100324,\n",
       " -0.07812396400072286,\n",
       " -0.038676068532629886,\n",
       " 0.0008322182243817989,\n",
       " 0.04033920550258371,\n",
       " 0.07978320456335804,\n",
       " 0.1191026250219036,\n",
       " 0.15823607101844014,\n",
       " 0.19712243708559135,\n",
       " 0.23570100356242182,\n",
       " 0.27391153140596014,\n",
       " 0.3116943562523308,\n",
       " 0.34899048158046664,\n",
       " 0.385741670833117,\n",
       " 0.4218905383510621,\n",
       " 0.4573806389788207,\n",
       " 0.4921565562016763,\n",
       " 0.526163988676603,\n",
       " 0.5593498350218538,\n",
       " 0.5916622767328421,\n",
       " 0.6230508590948838,\n",
       " 0.6534665699664093,\n",
       " 0.6828619163096858,\n",
       " 0.7111909983494272,\n",
       " 0.7384095812437154,\n",
       " 0.7644751641550557,\n",
       " 0.7893470466139314,\n",
       " 0.8129863920711166,\n",
       " 0.8353562885395495,\n",
       " 0.8564218062310722,\n",
       " 0.8761500520980373,\n",
       " 0.8945102211946182,\n",
       " 0.9114736447776196,\n",
       " 0.9270138350717037,\n",
       " 0.9411065266290652,\n",
       " 0.953729714219095,\n",
       " 0.9648636871887252,\n",
       " 0.9744910602399173,\n",
       " 0.9825968005761778,\n",
       " 0.989168251375728,\n",
       " 0.994195151554675,\n",
       " 0.997669651789329,\n",
       " 0.9995863267726316,\n",
       " 0.9999421836855859,\n",
       " 0.9987366668704304,\n",
       " 0.9959716586982819,\n",
       " 0.991651476629877,\n",
       " 0.9857828664740159,\n",
       " 0.9783749918542237,\n",
       " 0.9694394199000816,\n",
       " 0.9589901031855708,\n",
       " 0.9470433579426327,\n",
       " 0.9336178385839486,\n",
       " 0.9187345085747685,\n",
       " 0.902416607699195,\n",
       " 0.8846896157720928,\n",
       " 0.8655812128533072,\n",
       " 0.8451212360262019,\n",
       " 0.8233416328081637,\n",
       " 0.8002764112656867,\n",
       " 0.7759615869120047,\n",
       " 0.7504351264701631,\n",
       " 0.7237368885893525,\n",
       " 0.6959085616070382,\n",
       " 0.6669935984541758,\n",
       " 0.6370371488049542,\n",
       " 0.6060859885772535,\n",
       " 0.5741884468937364,\n",
       " 0.5413943306176113,\n",
       " 0.5077548465810642,\n",
       " 0.47332252162760546,\n",
       " 0.4381511205932997,\n",
       " 0.4022955623549099,\n",
       " 0.36581183407605405,\n",
       " 0.32875690378523204,\n",
       " 0.2911886314223719,\n",
       " 0.2531656784925234,\n",
       " 0.21474741646810278,\n",
       " 0.17599383408244199,\n",
       " 0.13696544365954774,\n",
       " 0.0977231866262854,\n",
       " 0.05832833835453465,\n",
       " 0.01884241248190163,\n",
       " -0.020672935139611916,\n",
       " -0.06015600271699529,\n",
       " -0.09954513886139317,\n",
       " -0.13877883885445233,\n",
       " -0.17779584068582463,\n",
       " -0.21653522071151335,\n",
       " -0.2549364887839857,\n",
       " -0.29293968270535403,\n",
       " -0.33048546185618927,\n",
       " -0.3675151998537625,\n",
       " -0.4039710760950315,\n",
       " -0.43979616604143085,\n",
       " -0.47493453010448394,\n",
       " -0.5093313009934882,\n",
       " -0.5429327693887462,\n",
       " -0.5756864678068215,\n",
       " -0.607541252526558,\n",
       " -0.6384473834481905,\n",
       " -0.668356601760714,\n",
       " -0.6972222052962797,\n",
       " -0.7249991214539444,\n",
       " -0.7516439775789396,\n",
       " -0.7771151686874608,\n",
       " -0.8013729224313976,\n",
       " -0.8243793612014202,\n",
       " -0.8460985612714618,\n",
       " -0.8664966088923814,\n",
       " -0.8855416532470184,\n",
       " -0.9032039561841163,\n",
       " -0.919455938653372,\n",
       " -0.9342722237691307,\n",
       " -0.9476296764354759,\n",
       " -0.9595074394708614,\n",
       " -0.9698869661758247,\n",
       " -0.9787520492930207,\n",
       " -0.986088846314249,\n",
       " -0.9918859010950366,\n",
       " -0.9961341617430048,\n",
       " -0.9988269947520617,\n",
       " -0.9999601953603888,\n",
       " -0.9995319941160247,\n",
       " -0.9975430596397996,\n",
       " -0.9939964975813097,\n",
       " -0.9888978457695528,\n",
       " -0.9822550655658167,\n",
       " -0.9740785294322875,\n",
       " -0.9643810047358343,\n",
       " -0.9531776338122198,\n",
       " -0.9404859103218893,\n",
       " -0.9263256519342498,\n",
       " -0.9107189693830919,\n",
       " -0.8936902319414758,\n",
       " -0.8752660293699874,\n",
       " -0.855475130397789,\n",
       " -0.8343484378012648,\n",
       " -0.8119189401504896,\n",
       " -0.7882216602987109,\n",
       " -0.7632936006954657,\n",
       " -0.7371736856085691,\n",
       " -0.7099027003452745,\n",
       " -0.6815232275674841,\n",
       " -0.6520795808004554,\n",
       " -0.6216177352388267,\n",
       " -0.5901852559580048,\n",
       " -0.5578312236430184,\n",
       " -0.5246061579507654,\n",
       " -0.49056193862545155,\n",
       " -0.45575172449015466,\n",
       " -0.4202298704413013,\n",
       " -0.38405184257542224,\n",
       " -0.3472741315808523,\n",
       " -0.30995416452951996,\n",
       " -0.2721502152067154,\n",
       " -0.23392131311857833,\n",
       " -0.19532715131971579,\n",
       " -0.15642799320464715,\n",
       " -0.11728457840861282,\n",
       " -0.07795802796492479,\n",
       " -0.038509748866567876,\n",
       " 0.0009986618185321193,\n",
       " 0.0405055131291481,\n",
       " 0.07994911653895304,\n",
       " 0.1192678822809688,\n",
       " 0.1584004155176926,\n",
       " 0.19728561220702495,\n",
       " 0.2358627545139611,\n",
       " 0.27407160561930594,\n",
       " 0.31185250377736073,\n",
       " 0.34914645547552275,\n",
       " 0.38589522755056627,\n",
       " 0.42204143811762385,\n",
       " 0.45752864616993444,\n",
       " 0.4923014397094375,\n",
       " 0.5263055222706445,\n",
       " 0.5594877977025479,\n",
       " 0.5917964530764346,\n",
       " 0.6231810395898436,\n",
       " 0.6535925513405847,\n",
       " 0.6829835018476847,\n",
       " 0.7113079981998189,\n",
       " 0.7385218127154394,\n",
       " 0.7645824520027087,\n",
       " 0.789449223311401,\n",
       " 0.8130832980731632,\n",
       " 0.8354477725309472,\n",
       " 0.8565077253628535,\n",
       " 0.8762302722105744,\n",
       " 0.8945846170270927,\n",
       " 0.9115421001636199,\n",
       " 0.9270762431206026,\n",
       " 0.9411627898929461,\n",
       " 0.9537797448448938,\n",
       " 0.9649074070554203,\n",
       " 0.9745284010805108,\n",
       " 0.9826277040842897,\n",
       " 0.9891926692966453,\n",
       " 0.9942130457606918,\n",
       " 0.9976809943392861,\n",
       " 0.9995910999555465,\n",
       " 0.999940380048305,\n",
       " 0.9987282892292687,\n",
       " 0.9959567201346238,\n",
       " 0.991630000469753,\n",
       " 0.9857548862516755,\n",
       " 0.9783405512597778]"
      ]
     },
     "execution_count": 173,
     "metadata": {},
     "output_type": "execute_result"
    }
   ],
   "source": [
    "b = map(np.sin, 2 * np.pi * x) \n",
    "# map(a, b)에서 리스트 [b1, b2, b3] 의 x값을 \n",
    "# function인 f(y)에 대입하여 \n",
    "# [f(b1), f(b2), f(b3)]로 만들어줌.\n",
    "list(b)"
   ]
  },
  {
   "attachments": {
    "%E1%84%89%E1%85%B3%E1%84%8F%E1%85%B3%E1%84%85%E1%85%B5%E1%86%AB%E1%84%89%E1%85%A3%E1%86%BA%202022-12-27%20%E1%84%8B%E1%85%A9%E1%84%8C%E1%85%A5%E1%86%AB%2011.43.54.png": {
     "image/png": "[encoded data removed]"
    }
   },
   "cell_type": "markdown",
   "id": "d43e3ea3",
   "metadata": {},
   "source": [
    "![%E1%84%89%E1%85%B3%E1%84%8F%E1%85%B3%E1%84%85%E1%85%B5%E1%86%AB%E1%84%89%E1%85%A3%E1%86%BA%202022-12-27%20%E1%84%8B%E1%85%A9%E1%84%8C%E1%85%A5%E1%86%AB%2011.43.54.png](attachment:%E1%84%89%E1%85%B3%E1%84%8F%E1%85%B3%E1%84%85%E1%85%B5%E1%86%AB%E1%84%89%E1%85%A3%E1%86%BA%202022-12-27%20%E1%84%8B%E1%85%A9%E1%84%8C%E1%85%A5%E1%86%AB%2011.43.54.png)"
   ]
  },
  {
   "cell_type": "code",
   "execution_count": 110,
   "id": "c1d15483",
   "metadata": {},
   "outputs": [
    {
     "data": {
      "text/plain": [
       "array([0., 1., 2., 3., 4.])"
      ]
     },
     "execution_count": 110,
     "metadata": {},
     "output_type": "execute_result"
    }
   ],
   "source": [
    "x = 10 ** np.array(range(5))\n",
    "np.log10(x)"
   ]
  },
  {
   "cell_type": "code",
   "execution_count": 112,
   "id": "05503025",
   "metadata": {},
   "outputs": [
    {
     "data": {
      "text/plain": [
       "3.141592653589793"
      ]
     },
     "execution_count": 112,
     "metadata": {},
     "output_type": "execute_result"
    }
   ],
   "source": [
    "np.pi"
   ]
  },
  {
   "cell_type": "code",
   "execution_count": 114,
   "id": "df081151",
   "metadata": {},
   "outputs": [
    {
     "data": {
      "text/plain": [
       "2.718281828459045"
      ]
     },
     "execution_count": 114,
     "metadata": {},
     "output_type": "execute_result"
    }
   ],
   "source": [
    "np.e"
   ]
  },
  {
   "cell_type": "markdown",
   "id": "9ea7e92e",
   "metadata": {},
   "source": [
    "## 난수 생성기"
   ]
  },
  {
   "attachments": {
    "%E1%84%89%E1%85%B3%E1%84%8F%E1%85%B3%E1%84%85%E1%85%B5%E1%86%AB%E1%84%89%E1%85%A3%E1%86%BA%202022-12-27%20%E1%84%8B%E1%85%A9%E1%84%8C%E1%85%A5%E1%86%AB%2010.49.25.png": {
     "image/png": "[encoded data removed]"
    }
   },
   "cell_type": "markdown",
   "id": "3f0938d3",
   "metadata": {},
   "source": [
    "![%E1%84%89%E1%85%B3%E1%84%8F%E1%85%B3%E1%84%85%E1%85%B5%E1%86%AB%E1%84%89%E1%85%A3%E1%86%BA%202022-12-27%20%E1%84%8B%E1%85%A9%E1%84%8C%E1%85%A5%E1%86%AB%2010.49.25.png](attachment:%E1%84%89%E1%85%B3%E1%84%8F%E1%85%B3%E1%84%85%E1%85%B5%E1%86%AB%E1%84%89%E1%85%A3%E1%86%BA%202022-12-27%20%E1%84%8B%E1%85%A9%E1%84%8C%E1%85%A5%E1%86%AB%2010.49.25.png)"
   ]
  },
  {
   "cell_type": "markdown",
   "id": "193b157e",
   "metadata": {},
   "source": [
    "### 균일 분포에서의 난수"
   ]
  },
  {
   "cell_type": "code",
   "execution_count": 116,
   "id": "2a3f8510",
   "metadata": {},
   "outputs": [
    {
     "data": {
      "text/plain": [
       "0.10531701411295125"
      ]
     },
     "execution_count": 116,
     "metadata": {},
     "output_type": "execute_result"
    }
   ],
   "source": [
    "np.random.rand()"
   ]
  },
  {
   "cell_type": "code",
   "execution_count": 118,
   "id": "afc2942e",
   "metadata": {},
   "outputs": [
    {
     "data": {
      "text/plain": [
       "array([0.84319285, 0.01710942, 0.70470043])"
      ]
     },
     "execution_count": 118,
     "metadata": {},
     "output_type": "execute_result"
    }
   ],
   "source": [
    "np.random.rand(3)"
   ]
  },
  {
   "cell_type": "code",
   "execution_count": 134,
   "id": "be5d1d96",
   "metadata": {},
   "outputs": [
    {
     "data": {
      "text/plain": [
       "array([[0.72593289, 0.5821258 , 0.84481756, 0.66385012],\n",
       "       [0.92323255, 0.19373327, 0.96232293, 0.99177908]])"
      ]
     },
     "execution_count": 134,
     "metadata": {},
     "output_type": "execute_result"
    }
   ],
   "source": [
    "np.random.rand(2, 4)"
   ]
  },
  {
   "cell_type": "markdown",
   "id": "3e35c6c8",
   "metadata": {},
   "source": [
    "### 표준 정규 분포에서의 임의의 표본"
   ]
  },
  {
   "cell_type": "code",
   "execution_count": 123,
   "id": "9a3fc8cc",
   "metadata": {},
   "outputs": [
    {
     "data": {
      "text/plain": [
       "-0.46991721630857436"
      ]
     },
     "execution_count": 123,
     "metadata": {},
     "output_type": "execute_result"
    }
   ],
   "source": [
    "np.random.randn()"
   ]
  },
  {
   "cell_type": "code",
   "execution_count": 125,
   "id": "481fcb5f",
   "metadata": {},
   "outputs": [
    {
     "data": {
      "text/plain": [
       "array([ 0.00752594, -1.06493652, -1.29642271])"
      ]
     },
     "execution_count": 125,
     "metadata": {},
     "output_type": "execute_result"
    }
   ],
   "source": [
    "np.random.randn(3)"
   ]
  },
  {
   "cell_type": "code",
   "execution_count": 135,
   "id": "7958188f",
   "metadata": {},
   "outputs": [
    {
     "data": {
      "text/plain": [
       "array([[ 1.88729156,  0.40240609, -0.02524739],\n",
       "       [ 0.26693193,  0.10864715, -0.46519065]])"
      ]
     },
     "execution_count": 135,
     "metadata": {},
     "output_type": "execute_result"
    }
   ],
   "source": [
    "np.random.randn(2, 3)"
   ]
  },
  {
   "cell_type": "markdown",
   "id": "6125d963",
   "metadata": {},
   "source": [
    "### 다양한 간격에서 균일하게 샘플링된 무작위 정수"
   ]
  },
  {
   "cell_type": "code",
   "execution_count": 129,
   "id": "893cb962",
   "metadata": {},
   "outputs": [
    {
     "data": {
      "text/plain": [
       "-6"
      ]
     },
     "execution_count": 129,
     "metadata": {},
     "output_type": "execute_result"
    }
   ],
   "source": [
    "np.random.randint(-10, 10)"
   ]
  },
  {
   "cell_type": "code",
   "execution_count": 131,
   "id": "4355dcba",
   "metadata": {},
   "outputs": [
    {
     "data": {
      "text/plain": [
       "array([[0, 0, 0, 1, 1, 1, 0, 1],\n",
       "       [1, 1, 1, 1, 1, 1, 0, 1],\n",
       "       [0, 0, 0, 1, 0, 0, 1, 0],\n",
       "       [1, 1, 1, 0, 1, 1, 1, 0]])"
      ]
     },
     "execution_count": 131,
     "metadata": {},
     "output_type": "execute_result"
    }
   ],
   "source": [
    "np.random.randint(0, 2, (4, 8))"
   ]
  },
  {
   "cell_type": "code",
   "execution_count": 136,
   "id": "bd54ebbb",
   "metadata": {},
   "outputs": [
    {
     "data": {
      "text/plain": [
       "array([[4, 2],\n",
       "       [5, 0],\n",
       "       [3, 6],\n",
       "       [9, 2],\n",
       "       [9, 9]])"
      ]
     },
     "execution_count": 136,
     "metadata": {},
     "output_type": "execute_result"
    }
   ],
   "source": [
    "np.random.randint(-9, 10, (5, 2))"
   ]
  },
  {
   "cell_type": "markdown",
   "id": "55fcb8e6",
   "metadata": {},
   "source": [
    "# 운동"
   ]
  },
  {
   "cell_type": "markdown",
   "id": "07d3be8c",
   "metadata": {},
   "source": [
    "## 무차별 대입 최적화"
   ]
  },
  {
   "attachments": {
    "%E1%84%89%E1%85%B3%E1%84%8F%E1%85%B3%E1%84%85%E1%85%B5%E1%86%AB%E1%84%89%E1%85%A3%E1%86%BA%202022-12-27%20%E1%84%8B%E1%85%A9%E1%84%8C%E1%85%A5%E1%86%AB%2011.14.28.png": {
     "image/png": "[encoded data removed]"
    }
   },
   "cell_type": "markdown",
   "id": "b4c2b1a4",
   "metadata": {},
   "source": [
    "![%E1%84%89%E1%85%B3%E1%84%8F%E1%85%B3%E1%84%85%E1%85%B5%E1%86%AB%E1%84%89%E1%85%A3%E1%86%BA%202022-12-27%20%E1%84%8B%E1%85%A9%E1%84%8C%E1%85%A5%E1%86%AB%2011.14.28.png](attachment:%E1%84%89%E1%85%B3%E1%84%8F%E1%85%B3%E1%84%85%E1%85%B5%E1%86%AB%E1%84%89%E1%85%A3%E1%86%BA%202022-12-27%20%E1%84%8B%E1%85%A9%E1%84%8C%E1%85%A5%E1%86%AB%2011.14.28.png)"
   ]
  },
  {
   "cell_type": "code",
   "execution_count": 157,
   "id": "cbfa4c3e",
   "metadata": {},
   "outputs": [
    {
     "name": "stdout",
     "output_type": "stream",
     "text": [
      "Absolute maximum value is y = 2.5992628729728913 at x = 1.6289739685280407\n",
      "Absolute minimum value is y = -5.1297121490639395 at x = 5.339764089885354\n"
     ]
    }
   ],
   "source": [
    "N = 1000\n",
    "x = np.linspace(0, 2 * np.pi, N)\n",
    "y = x * np.sin(x) + np.cos(4 * x)\n",
    "\n",
    "i_minmax = [f(y) for f in (np.argmin, np.argmax)]\n",
    "x_minmax = x[i_minmax]\n",
    "y_minmax = y[i_minmax]\n",
    "\n",
    "print(f'Absolute maximum value is y = {y_minmax[1]} at x = {x_minmax[1]}')\n",
    "print(f'Absolute minimum value is y = {y_minmax[0]} at x = {x_minmax[0]}')"
   ]
  },
  {
   "cell_type": "code",
   "execution_count": 159,
   "id": "8696e76b",
   "metadata": {},
   "outputs": [
    {
     "data": {
      "text/plain": [
       "array([-5.12971215,  2.59926287])"
      ]
     },
     "execution_count": 159,
     "metadata": {},
     "output_type": "execute_result"
    }
   ],
   "source": [
    "i_minmax = [f(y) for f in (np.argmin, np.argmax)]\n",
    "y[i_minmax]"
   ]
  },
  {
   "cell_type": "code",
   "execution_count": 198,
   "id": "910c1673",
   "metadata": {},
   "outputs": [],
   "source": [
    "b = map(np.sin, 2 * np.pi * x) "
   ]
  },
  {
   "cell_type": "markdown",
   "id": "c887f99c",
   "metadata": {},
   "source": [
    "# 리만 합계"
   ]
  },
  {
   "attachments": {
    "%E1%84%89%E1%85%B3%E1%84%8F%E1%85%B3%E1%84%85%E1%85%B5%E1%86%AB%E1%84%89%E1%85%A3%E1%86%BA%202022-12-27%20%E1%84%8B%E1%85%A9%E1%84%8C%E1%85%A5%E1%86%AB%2011.58.37.png": {
     "image/png": "[encoded data removed]"
    }
   },
   "cell_type": "markdown",
   "id": "cb29f07f",
   "metadata": {},
   "source": [
    "![%E1%84%89%E1%85%B3%E1%84%8F%E1%85%B3%E1%84%85%E1%85%B5%E1%86%AB%E1%84%89%E1%85%A3%E1%86%BA%202022-12-27%20%E1%84%8B%E1%85%A9%E1%84%8C%E1%85%A5%E1%86%AB%2011.58.37.png](attachment:%E1%84%89%E1%85%B3%E1%84%8F%E1%85%B3%E1%84%85%E1%85%B5%E1%86%AB%E1%84%89%E1%85%A3%E1%86%BA%202022-12-27%20%E1%84%8B%E1%85%A9%E1%84%8C%E1%85%A5%E1%86%AB%2011.58.37.png)"
   ]
  },
  {
   "cell_type": "code",
   "execution_count": 200,
   "id": "12d39abb",
   "metadata": {},
   "outputs": [],
   "source": [
    "def midpoint_rule(f, xs):\n",
    "    assert (len(xs) > 1)\n",
    "    \n",
    "    xi = (xs[:-1] + xs[1:]) / 2\n",
    "    dx = -(xs[:-1] - xs[1:])\n",
    "    \n",
    "    return np.sum(f(xi) * dx)"
   ]
  },
  {
   "cell_type": "code",
   "execution_count": 202,
   "id": "5970e1f8",
   "metadata": {},
   "outputs": [
    {
     "data": {
      "text/plain": [
       "0.886226925452758"
      ]
     },
     "execution_count": 202,
     "metadata": {},
     "output_type": "execute_result"
    }
   ],
   "source": [
    "midpoint_rule(lambda x: np.exp(-(x * x)), \n",
    "             np.linspace(0, 100, 100000))"
   ]
  },
  {
   "cell_type": "markdown",
   "id": "18d45b05",
   "metadata": {},
   "source": [
    "# 무한 제품"
   ]
  },
  {
   "attachments": {
    "%E1%84%89%E1%85%B3%E1%84%8F%E1%85%B3%E1%84%85%E1%85%B5%E1%86%AB%E1%84%89%E1%85%A3%E1%86%BA%202022-12-27%20%E1%84%8B%E1%85%A9%E1%84%8C%E1%85%A5%E1%86%AB%2011.58.53.png": {
     "image/png": "[encoded data removed]"
    }
   },
   "cell_type": "markdown",
   "id": "f10cd4be",
   "metadata": {},
   "source": [
    "![%E1%84%89%E1%85%B3%E1%84%8F%E1%85%B3%E1%84%85%E1%85%B5%E1%86%AB%E1%84%89%E1%85%A3%E1%86%BA%202022-12-27%20%E1%84%8B%E1%85%A9%E1%84%8C%E1%85%A5%E1%86%AB%2011.58.53.png](attachment:%E1%84%89%E1%85%B3%E1%84%8F%E1%85%B3%E1%84%85%E1%85%B5%E1%86%AB%E1%84%89%E1%85%A3%E1%86%BA%202022-12-27%20%E1%84%8B%E1%85%A9%E1%84%8C%E1%85%A5%E1%86%AB%2011.58.53.png)"
   ]
  },
  {
   "cell_type": "code",
   "execution_count": 205,
   "id": "d20da3af",
   "metadata": {},
   "outputs": [],
   "source": [
    "def cos_product(x, N):\n",
    "    n = np.arange(N) + 1\n",
    "    second_term = ((2 * x) / (np.pi * (2 * n - 1))) ** 2\n",
    "    return np.prod(1 - second_term)"
   ]
  },
  {
   "cell_type": "code",
   "execution_count": 207,
   "id": "34891585",
   "metadata": {},
   "outputs": [
    {
     "data": {
      "text/plain": [
       "1.0"
      ]
     },
     "execution_count": 207,
     "metadata": {},
     "output_type": "execute_result"
    }
   ],
   "source": [
    "cos_product(0, 10)"
   ]
  },
  {
   "cell_type": "code",
   "execution_count": 210,
   "id": "8608ae8a",
   "metadata": {},
   "outputs": [
    {
     "data": {
      "text/plain": [
       "-1.0001000050002433"
      ]
     },
     "execution_count": 210,
     "metadata": {},
     "output_type": "execute_result"
    }
   ],
   "source": [
    "cos_product(np.pi, 10000)"
   ]
  },
  {
   "cell_type": "code",
   "execution_count": 211,
   "id": "893bfe07",
   "metadata": {},
   "outputs": [
    {
     "data": {
      "text/plain": [
       "(0.7071067856245614, 0.7071067811865475)"
      ]
     },
     "execution_count": 211,
     "metadata": {},
     "output_type": "execute_result"
    }
   ],
   "source": [
    "(cos_product(np.pi / 4, 10000000), 1 / 2 ** 0.5)"
   ]
  }
 ],
 "metadata": {
  "kernelspec": {
   "display_name": "Python 3 (ipykernel)",
   "language": "python",
   "name": "python3"
  },
  "language_info": {
   "codemirror_mode": {
    "name": "ipython",
    "version": 3
   },
   "file_extension": ".py",
   "mimetype": "text/x-python",
   "name": "python",
   "nbconvert_exporter": "python",
   "pygments_lexer": "ipython3",
   "version": "3.9.13"
  }
 },
 "nbformat": 4,
 "nbformat_minor": 5
}
