{
 "cells": [
  {
   "cell_type": "code",
   "execution_count": 5,
   "id": "1dd685f1",
   "metadata": {},
   "outputs": [],
   "source": [
    "import numpy as np\n",
    "import matplotlib.pyplot as plt\n",
    "plt.rcParams.update({'font.size': 15})"
   ]
  },
  {
   "cell_type": "markdown",
   "id": "3a225f54",
   "metadata": {},
   "source": [
    "Secant Method"
   ]
  },
  {
   "cell_type": "markdown",
   "id": "e2c403a0",
   "metadata": {},
   "source": [
    "- 해의 근처에서 매끄러운 함수의 경우, 할선법으로 알려진 방법이 이분법보다 빠르게 해가 구해진다.\n",
    "- 이 방법에서 함수는 주어진 영역에서 선형이라고 가정하고, 근의 다음 개선은 근사선이 축을 가로지르는 점으로 간주한다. 각 반복 후 가장 오래된 경계점은 루트의 최신 추정치를 위해 삭제됩니다.\n",
    "- 시퀀트 방법은 충분히 연속적인 함수의 해 근처에서 더 빠르게 수렴한다. 그러나 해가 반드시 괄호로 묶인 채로 남아 있지는 않다는 단점이 있다."
   ]
  },
  {
   "cell_type": "code",
   "execution_count": null,
   "id": "a9fbeb7c",
   "metadata": {},
   "outputs": [],
   "source": []
  }
 ],
 "metadata": {
  "kernelspec": {
   "display_name": "Python 3 (ipykernel)",
   "language": "python",
   "name": "python3"
  },
  "language_info": {
   "codemirror_mode": {
    "name": "ipython",
    "version": 3
   },
   "file_extension": ".py",
   "mimetype": "text/x-python",
   "name": "python",
   "nbconvert_exporter": "python",
   "pygments_lexer": "ipython3",
   "version": "3.9.13"
  }
 },
 "nbformat": 4,
 "nbformat_minor": 5
}
