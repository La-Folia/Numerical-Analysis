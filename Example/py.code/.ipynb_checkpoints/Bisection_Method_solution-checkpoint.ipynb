{
 "cells": [
  {
   "cell_type": "code",
   "execution_count": null,
   "id": "b65661c5",
   "metadata": {},
   "outputs": [],
   "source": [
    "import numpy as np\n",
    "import matplotlib.pyplot as plt\n",
    "plt.rcParams.update({'font.size': 15})\n",
    "#%config InlineBackend.figure_format='retina'"
   ]
  },
  {
   "cell_type": "markdown",
   "id": "9e4cfbcb",
   "metadata": {
    "pycharm": {
     "name": "#%% md\n"
    }
   },
   "source": [
    "# Bisection Method\n",
    "\n",
    "The simplest root finding algorithm is the [bisection method](https://en.wikipedia.org/wiki/Bisection_method).\n",
    "The algorithm applies to any continuous function $f(x)$.\n",
    "\n",
    "<center><figure>\n",
    "  <img src=\"https://upload.wikimedia.org/wikipedia/commons/thumb/8/8c/Bisection_method.svg/250px-Bisection_method.svg.png\">\n",
    "  <figcaption>From Wikipedia (https://en.wikipedia.org/wiki/Bisection_method)</figcaption>\n",
    "</figure></center>\n",
    "\n",
    "Suppose the value of $f(x)$ changes sign from $a$ to $b$.\n",
    "A solution of the equation $f(x) = 0$ in the interval $[a, b]$ is guaranteed by the [intermediate value theorem](https://en.wikipedia.org/wiki/Intermediate_value_theorem), provided that $f(x)$ is continuous on $[a, b]$.\n",
    "In other words, the function changes sign over the interval $[a, b]$ and therefore must equal $0$ at some point in the interval.\n",
    "\n",
    "The idea of the bisection method is simple:\n",
    "\n",
    "- Divide the interval in two, a solution must exist within one subinterval\n",
    "- Select the subinterval where the sign of $f(x)$ changes\n",
    "- Repeat until a solution is found (within the desired accuracy)"
   ]
  },
  {
   "cell_type": "markdown",
   "id": "596d2598",
   "metadata": {
    "pycharm": {
     "name": "#%% md\n"
    }
   },
   "source": [
    "## Algorithm\n",
    "\n",
    "The bisection method procedure is:\n",
    "\n",
    "1. Choose a starting interval $[a_0, b_0]$ within which we know a root is (i.e., $f(a_0) f(b_0) < 0$).\n",
    "2. Compute $f(m_0)$ where $m_0 = (a_0 + b_0)/2$ is the midpoint.\n",
    "3. Determine the next subinterval $[a_1, b_1]$:\n",
    "\n",
    "    - If $f(a_0) f(m_0) < 0$, then let $[a_1, b_1]$ with $a_1 = a_0$ and $b_1 = m_0$ be the next interval.\n",
    "    - If $f(m_0) f(b_0) < 0$, then let $[a_1, b_1]$ with $a_1 = m_0$ and $b_1 = b_0$ be the next interval.\n",
    "    \n",
    "4. Repeat (2) and (3) until the interval $[a_n, b_n]$ reaches some predetermined criterion.\n",
    "5. Return the midpoint value $m_n = (a_n + b_n)/2$.\n",
    "It is this value that is our approximate solution $f(m_n) \\approx 0$.\n",
    "\n",
    "The bisection method is one that *cannot* fail:\n",
    "\n",
    "- If the interval happens to contain more than one root, bisection will find one of them.\n",
    "- If the interval contains no roots and merely straddles a singularity, it will converge on the singularity."
   ]
  },
  {
   "cell_type": "markdown",
   "id": "562653d4",
   "metadata": {
    "pycharm": {
     "name": "#%% md\n"
    }
   },
   "source": [
    "## Absolute Error\n",
    "\n",
    "It is clear from the algorithm that after each iteration, the bounds containing the root decrease by a factor of two.\n",
    "That is, if after $n$ iterations, the root is known to be within an interval of size $\\epsilon_n$, \n",
    "then after the next iteration it will be bracketed within an interval of size\n",
    "\n",
    "$$\n",
    "\\epsilon_{n + 1} = \\epsilon_n/2\n",
    "$$\n",
    "\n",
    "Thus, we know in advance the number of iterations required to achieve a given tolerance in the solution:\n",
    "\n",
    "$$\n",
    "n = \\log_2 \\frac{\\epsilon_0}{\\epsilon}\n",
    "$$\n",
    "\n",
    "where $\\epsilon_0$ is the size of the initially bracketing interval (i.e., $|b - a|$) and $\\epsilon$ is the desired ending tolerance.\n",
    "\n",
    "Let $x_{\\rm true}$ be the exact solution and $x_n$ the approximate one after $n$ iterations.\n",
    "Then, the absolute error after $n$ iterations is\n",
    "\n",
    "$$\n",
    "|x_{\\rm true} - x_n| \\le \\epsilon = \\frac{\\epsilon_0}{2^{n + 1}}\n",
    "$$\n",
    "\n",
    "(The extra factor $1/2$ comes from the fact that we are returning the midpoint of the subinterval after $n$ iterations.)"
   ]
  },
  {
   "cell_type": "markdown",
   "id": "291a743e",
   "metadata": {
    "pycharm": {
     "name": "#%% md\n"
    }
   },
   "source": [
    "## Implementation\n",
    "\n",
    "Write a function called `bisection_by` which takes four input parameters `f`, `a`, `b` and `N` and returns the approximation of a solution of $f(x) = 0$ given by $n$ iterations of the bisection method.\n",
    "If $f(a_n) f(b_n) \\ge 0$ at any point in the iteration, then print `\"Bisection method fails.\"` and return `None`."
   ]
  },
  {
   "cell_type": "code",
   "execution_count": null,
   "id": "cc511479",
   "metadata": {
    "pycharm": {
     "name": "#%%\n"
    }
   },
   "outputs": [],
   "source": [
    "def bisection_by(f, a, b, n):\n",
    "    \"\"\"Approximate solution of f(x) = 0 on interval [a, b] by bisection method.\n",
    "\n",
    "    Parameters\n",
    "    ----------\n",
    "    f : function\n",
    "        The function for which we are trying to approximate a solution f(x) = 0.\n",
    "    a, b : numbers\n",
    "        The interval in which to search for a solution. The function returns\n",
    "        None if f(a)*f(b) >= 0 since a solution is not guaranteed.\n",
    "    n : (positive) integer\n",
    "        The number of iterations to implement.\n",
    "\n",
    "    Returns\n",
    "    -------\n",
    "    x_n : number\n",
    "        The midpoint of the nth interval computed by the bisection method. The\n",
    "        initial interval [a_0, b_0] is given by [a, b]. If f(m_n) == 0 for some\n",
    "        midpoint m_n = (a_n + b_n)/2, then the function returns this solution.\n",
    "        If all signs of values f(a_n), f(b_n) and f(m_n) are the same at any\n",
    "        iteration, the bisection method fails and return None.\n",
    "    \"\"\"\n",
    "\n",
    "    a_n = a\n",
    "    f_of_a_n = f(a_n)\n",
    "    b_n = b\n",
    "    f_of_b_n = f(b_n)\n",
    "\n",
    "    # validity check\n",
    "    if f_of_a_n * f_of_b_n >= 0:\n",
    "        print(\"Bisection method fails.\")\n",
    "        return None\n",
    "\n",
    "    # iterations\n",
    "    m_n = 0.5 * (a_n + b_n)\n",
    "    f_of_m_n = f(m_n)\n",
    "\n",
    "    for _ in range(n):\n",
    "        if f_of_m_n == 0:\n",
    "            print(\"Found exact solution.\")\n",
    "            return m_n\n",
    "\n",
    "        elif f_of_a_n * f_of_m_n < 0:\n",
    "            b_n = m_n\n",
    "            f_of_b_n = f_of_m_n\n",
    "\n",
    "        elif f_of_b_n * f_of_m_n < 0:\n",
    "            a_n = m_n\n",
    "            f_of_a_n = f_of_m_n\n",
    "\n",
    "        else:\n",
    "            print(\"Bisection method fails.\")\n",
    "            return None\n",
    "\n",
    "        m_n = 0.5 * (a_n + b_n)\n",
    "        f_of_m_n = f(m_n)\n",
    "\n",
    "    return m_n"
   ]
  },
  {
   "cell_type": "markdown",
   "id": "59c4005b",
   "metadata": {
    "pycharm": {
     "name": "#%% md\n"
    }
   },
   "source": [
    "It is often useful to monitor iterations from outside by supplying a monitor function.\n",
    "Furthermore, you may want to decide when to terminate the iteration by observing the intermediate values.\n",
    "\n",
    "Let's define a function called `bisection_while`:"
   ]
  },
  {
   "cell_type": "code",
   "execution_count": null,
   "id": "f7168000",
   "metadata": {
    "pycharm": {
     "name": "#%%\n"
    }
   },
   "outputs": [],
   "source": [
    "def bisection_while(f, xinit, predicate):\n",
    "    \"\"\"Approximate solution of f(x) = 0 on interval xinit = [a, b] by bisection method.\n",
    "\n",
    "    Parameters\n",
    "    ----------\n",
    "    f : function\n",
    "        The function for which we are trying to approximate a solution f(x) = 0.\n",
    "    xinit : a pair of numbers\n",
    "        The interval in which to search for a solution. The function returns\n",
    "        None if f(a)*f(b) >= 0 since a solution is not guaranteed.\n",
    "    predicate : callable\n",
    "        A function that takes three arguments:\n",
    "            - i : the iteration count\n",
    "            - xy : a pair of the midpoint and the function value in the current iteration\n",
    "            - dx : the change of the x value\n",
    "        and should return boolean:\n",
    "            - If True, the search continues.\n",
    "            - If False, the search terminates.\n",
    "\n",
    "    Returns\n",
    "    -------\n",
    "    x_n : number\n",
    "        The midpoint of the nth interval computed by the bisection method. The\n",
    "        initial interval [a_0, b_0] is given by [a, b]. If f(m_n) == 0 for some\n",
    "        midpoint m_n = (a_n + b_n)/2, then the function returns this solution.\n",
    "        If all signs of values f(a_n), f(b_n) and f(m_n) are the same at any\n",
    "        iteration, the bisection method fails and return None.\n",
    "    \"\"\"\n",
    "\n",
    "    a_n, b_n = xinit\n",
    "    f_1st = f(a_n)\n",
    "\n",
    "    # check if initial interval is valid\n",
    "    if f(a_n) * f(b_n) >= 0:\n",
    "        print(\"Bisection method fails.\")\n",
    "        return None\n",
    "\n",
    "    # iterations\n",
    "    i = 1\n",
    "    x_mid = 0.5 * (a_n + b_n)\n",
    "    f_mid = f(x_mid)\n",
    "    while predicate(i, (x_mid, f_mid), 0.5 * abs(a_n - b_n)):\n",
    "        if f_1st * f_mid > 0:\n",
    "            a_n = x_mid\n",
    "            f_1st = f_mid\n",
    "        else:\n",
    "            b_n = x_mid\n",
    "\n",
    "        i = i + 1\n",
    "        x_mid = 0.5 * (a_n + b_n)\n",
    "        f_mid = f(x_mid)\n",
    "\n",
    "    return x_mid"
   ]
  },
  {
   "cell_type": "markdown",
   "id": "e22a76a6",
   "metadata": {
    "pycharm": {
     "name": "#%% md\n"
    }
   },
   "source": [
    "## Exercises"
   ]
  },
  {
   "cell_type": "markdown",
   "id": "a0317312",
   "metadata": {},
   "source": [
    "### CubeRoot\n",
    "\n",
    "Approximate $\\sqrt[3]{2}$ by solving\n",
    "\n",
    "$$\n",
    "x^3 - 2 = 0\n",
    "$$"
   ]
  },
  {
   "cell_type": "code",
   "execution_count": null,
   "id": "ea5cf94e",
   "metadata": {},
   "outputs": [],
   "source": [
    "cuberoot2_approx = bisection_while(lambda x: x*x*x - 2, (1, 2),\n",
    "                                   lambda i, xy, dx: abs(dx) > 1e-10)\n",
    "(cuberoot2_approx, abs(2**(1/3) - cuberoot2_approx))"
   ]
  },
  {
   "cell_type": "markdown",
   "id": "3fcb9159",
   "metadata": {
    "pycharm": {
     "name": "#%% md\n"
    }
   },
   "source": [
    "### Golden Ratio\n",
    "\n",
    "The [golden ratio](https://en.wikipedia.org/wiki/Golden_ratio) is given by\n",
    "\n",
    "$$\n",
    "\\phi = \\frac{1 + \\sqrt 5}{2} \\approx 1.6180339887498948482\n",
    "$$\n",
    "\n",
    "which is one solution of $f(x) \\equiv x^2 - x - 1 = 0$.\n",
    "\n",
    "Use the bisection implementation with $N = 25$ iterations on $[1, 2]$ to approximate $\\phi$."
   ]
  },
  {
   "cell_type": "code",
   "execution_count": null,
   "id": "3b5de91d",
   "metadata": {
    "pycharm": {
     "name": "#%%\n"
    }
   },
   "outputs": [],
   "source": [
    "approx_phi = bisection_by(lambda x: x*(x - 1) - 1, 1, 2, 25)\n",
    "approx_phi"
   ]
  },
  {
   "cell_type": "markdown",
   "id": "0e5ec33f",
   "metadata": {
    "pycharm": {
     "name": "#%% md\n"
    }
   },
   "source": [
    "The absolute error is guaranteed to be less than $(2 - 1)/2^{26}$:"
   ]
  },
  {
   "cell_type": "code",
   "execution_count": null,
   "id": "5c5c41f9",
   "metadata": {
    "pycharm": {
     "name": "#%%\n"
    }
   },
   "outputs": [],
   "source": [
    "error_bound = 2 ** (-26)\n",
    "abs((1 + 5 ** 0.5) / 2 - approx_phi) < error_bound"
   ]
  },
  {
   "cell_type": "markdown",
   "id": "08b52ad2",
   "metadata": {
    "pycharm": {
     "name": "#%% md\n"
    }
   },
   "source": [
    "Let's do the same thing with `bisection_while`:"
   ]
  },
  {
   "cell_type": "code",
   "execution_count": null,
   "id": "3bd70efe",
   "metadata": {
    "pycharm": {
     "name": "#%%\n"
    }
   },
   "outputs": [],
   "source": [
    "approx_phi == bisection_while(lambda x: x*(x - 1) - 1, (1, 2),\n",
    "                              lambda i, xy, dx: i <= 25)"
   ]
  },
  {
   "cell_type": "markdown",
   "id": "3bed12d4",
   "metadata": {
    "pycharm": {
     "name": "#%% md\n"
    }
   },
   "source": [
    "Let's visualize how the bisection method searches for the solution using `bisection_while`:"
   ]
  },
  {
   "cell_type": "code",
   "execution_count": null,
   "id": "6305977f",
   "metadata": {
    "pycharm": {
     "name": "#%%\n"
    }
   },
   "outputs": [],
   "source": [
    "ix_pairs  = []\n",
    "iy_pairs  = []\n",
    "idx_pairs = []\n",
    "\n",
    "\n",
    "def intercept(i, xy, dx):\n",
    "    ix_pairs.append([i, xy[0]])\n",
    "    iy_pairs.append([i, abs(xy[1])])\n",
    "    idx_pairs.append([i, abs(dx)])\n",
    "    return i <= 11\n",
    "\n",
    "\n",
    "bisection_while(lambda x: x*(x - 1) - 1, (1, 2), intercept)"
   ]
  },
  {
   "cell_type": "code",
   "execution_count": null,
   "id": "551081a5",
   "metadata": {
    "pycharm": {
     "name": "#%%\n"
    }
   },
   "outputs": [],
   "source": [
    "plt.figure(figsize=(11, 4))\n",
    "\n",
    "plt.subplot(1, 3, 1)\n",
    "plt.plot(*zip(*ix_pairs), 'o:k', label=\"bisection\")\n",
    "plt.plot([1, len(ix_pairs)], (1 + 5 ** 0.5) / 2 * np.ones((2,)), '--r',\n",
    "         label=\"solution\")\n",
    "plt.title(\"$x$ approximation\")\n",
    "plt.xlabel(\"iteration count\")\n",
    "plt.ylim([1, 2])\n",
    "plt.legend()\n",
    "\n",
    "plt.subplot(1, 3, 2)\n",
    "plt.semilogy(*zip(*iy_pairs), 'o:k')\n",
    "plt.title(\"$|f(x_n)|$\")\n",
    "plt.xlabel(\"iteration count\")\n",
    "plt.grid()\n",
    "\n",
    "plt.subplot(1, 3, 3)\n",
    "plt.semilogy(*zip(*idx_pairs), 'o:k', label=\"$\\Delta x_n$\")\n",
    "plt.semilogy(*zip(*[(idx[0], 2/2**idx[0]) for idx in idx_pairs]),\n",
    "             'r--', label=\"$\\Delta x \\propto 2^{-n}$\")\n",
    "plt.xlabel(\"iteration count\")\n",
    "plt.title(\"|$\\Delta x$|\")\n",
    "plt.grid()\n",
    "plt.legend()\n",
    "\n",
    "plt.tight_layout()\n",
    "plt.show()"
   ]
  },
  {
   "cell_type": "markdown",
   "id": "41dcf52f",
   "metadata": {
    "pycharm": {
     "name": "#%% md\n"
    }
   },
   "source": [
    "### Zeros of Bessel Functions\n",
    "\n",
    "Let's find the zeros of Bessel functions, $J_0(x) = 0$.\n",
    "\n",
    "First, we need to know the intervals bracketing the solutions."
   ]
  },
  {
   "cell_type": "code",
   "execution_count": null,
   "id": "905011b7",
   "metadata": {
    "pycharm": {
     "name": "#%%\n"
    }
   },
   "outputs": [],
   "source": [
    "from scipy import special\n",
    "\n",
    "x = np.linspace(0, 30, 200)\n",
    "y = special.jn(0, x)\n",
    "\n",
    "plt.figure()\n",
    "plt.plot(x, y, '-r', label=\"$J_0(x)$\")\n",
    "plt.xlabel(\"$x$\")\n",
    "plt.ylabel(\"$J_0(x)$\")\n",
    "plt.grid()\n",
    "plt.show()"
   ]
  },
  {
   "cell_type": "markdown",
   "id": "7ba29144",
   "metadata": {
    "pycharm": {
     "name": "#%% md\n"
    }
   },
   "source": [
    "From the figure above, the first zero is bracketed by $[0, 5]$, the second by $[5, 7]$, and so on.\n",
    "Using this information we can apply our implementation of the bisection method."
   ]
  },
  {
   "cell_type": "code",
   "execution_count": null,
   "id": "556b0ad4",
   "metadata": {
    "pycharm": {
     "name": "#%%\n"
    }
   },
   "outputs": [],
   "source": [
    "intervals = (0, 5, 7, 10, 13, 16, 20, 23, 25, 28)\n",
    "x_zeros = [\n",
    "    bisection_while(lambda x: special.jn(0, x), ab,\n",
    "                    lambda i, xy, dx: abs(xy[1]) >= 1e-10)\n",
    "    for ab in zip(intervals[:-1], intervals[1:])\n",
    "]\n",
    "\n",
    "plt.figure()\n",
    "plt.plot(x, y, '-r')\n",
    "plt.plot(x_zeros, np.zeros_like(x_zeros), 'ok',\n",
    "         label=\"$J_0=0$ points\")\n",
    "plt.xlabel(\"$x$\")\n",
    "plt.ylabel(\"$J_0(x)$\")\n",
    "plt.grid()\n",
    "plt.legend()\n",
    "plt.show()"
   ]
  },
  {
   "cell_type": "markdown",
   "id": "58ae4973",
   "metadata": {
    "pycharm": {
     "name": "#%% md\n"
    }
   },
   "source": [
    "Let's compare how close our solutions are to the exact values."
   ]
  },
  {
   "cell_type": "code",
   "execution_count": null,
   "id": "192cd668",
   "metadata": {
    "pycharm": {
     "name": "#%%\n"
    }
   },
   "outputs": [],
   "source": [
    "abs_err = [abs(x - y) for x, y in zip(x_zeros, special.jn_zeros(0, len(x_zeros)))]\n",
    "abs_err"
   ]
  }
 ],
 "metadata": {
  "kernelspec": {
   "display_name": "Python 3 (ipykernel)",
   "language": "python",
   "name": "python3"
  },
  "language_info": {
   "codemirror_mode": {
    "name": "ipython",
    "version": 3
   },
   "file_extension": ".py",
   "mimetype": "text/x-python",
   "name": "python",
   "nbconvert_exporter": "python",
   "pygments_lexer": "ipython3",
   "version": "3.9.13"
  }
 },
 "nbformat": 4,
 "nbformat_minor": 5
}
