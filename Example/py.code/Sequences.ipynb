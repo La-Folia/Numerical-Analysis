{
 "cells": [
  {
   "cell_type": "code",
   "execution_count": 4,
   "id": "445f488c",
   "metadata": {},
   "outputs": [
    {
     "data": {
      "text/plain": [
       "[1, 4, 9, 16, 25]"
      ]
     },
     "execution_count": 4,
     "metadata": {},
     "output_type": "execute_result"
    }
   ],
   "source": [
    "squares = [1, 4, 9, 16, 25]\n",
    "squares"
   ]
  },
  {
   "cell_type": "code",
   "execution_count": 8,
   "id": "e7010857",
   "metadata": {},
   "outputs": [
    {
     "data": {
      "text/plain": [
       "[[0, 0], [0, 1], [1, 1], [0, 1]]"
      ]
     },
     "execution_count": 8,
     "metadata": {},
     "output_type": "execute_result"
    }
   ],
   "source": [
    "points = [[0,0], [0,1], [1, 1], [0,1]]\n",
    "points"
   ]
  },
  {
   "cell_type": "code",
   "execution_count": 11,
   "id": "8bbb2f42",
   "metadata": {},
   "outputs": [
    {
     "data": {
      "text/plain": [
       "[[0, 0], [], [1], [0, '1']]"
      ]
     },
     "execution_count": 11,
     "metadata": {},
     "output_type": "execute_result"
    }
   ],
   "source": [
    "heterogeneous_list = [[0,0], [], [1], [0,\"1\"]]\n",
    "heterogeneous_list"
   ]
  },
  {
   "cell_type": "code",
   "execution_count": 13,
   "id": "74c0f472",
   "metadata": {},
   "outputs": [
    {
     "data": {
      "text/plain": [
       "2"
      ]
     },
     "execution_count": 13,
     "metadata": {},
     "output_type": "execute_result"
    }
   ],
   "source": [
    "primes = [2, 3, 5, 7, 9, 11, 13, 17, 19, 23, 29]\n",
    "primes[0]"
   ]
  },
  {
   "cell_type": "code",
   "execution_count": 15,
   "id": "b1d84ac4",
   "metadata": {},
   "outputs": [
    {
     "data": {
      "text/plain": [
       "29"
      ]
     },
     "execution_count": 15,
     "metadata": {},
     "output_type": "execute_result"
    }
   ],
   "source": [
    "primes[-1]"
   ]
  },
  {
   "cell_type": "code",
   "execution_count": 18,
   "id": "18943283",
   "metadata": {},
   "outputs": [
    {
     "data": {
      "text/plain": [
       "[-1, 3, 5, 7, 9, 11, 13, 17, 19, 23, 29]"
      ]
     },
     "execution_count": 18,
     "metadata": {},
     "output_type": "execute_result"
    }
   ],
   "source": [
    "primes[0] = -1\n",
    "primes"
   ]
  },
  {
   "cell_type": "code",
   "execution_count": 22,
   "id": "3a9f404d",
   "metadata": {},
   "outputs": [
    {
     "data": {
      "text/plain": [
       "5"
      ]
     },
     "execution_count": 22,
     "metadata": {},
     "output_type": "execute_result"
    }
   ],
   "source": [
    "pairs = [[0,1], [2, 3], [4, 5], [6, 7]]\n",
    "pairs[2][1]"
   ]
  },
  {
   "cell_type": "code",
   "execution_count": 24,
   "id": "5312520a",
   "metadata": {},
   "outputs": [
    {
     "data": {
      "text/plain": [
       "[5, 8, 13]"
      ]
     },
     "execution_count": 24,
     "metadata": {},
     "output_type": "execute_result"
    }
   ],
   "source": [
    "fibonacci = [1, 1, 2, 3, 5, 8, 13, 21, 34, 55, 89, 144]\n",
    "fibonacci[4:7]"
   ]
  },
  {
   "cell_type": "code",
   "execution_count": 26,
   "id": "68c808cd",
   "metadata": {},
   "outputs": [
    {
     "data": {
      "text/plain": [
       "[13, 21, 34, 55, 89, 144]"
      ]
     },
     "execution_count": 26,
     "metadata": {},
     "output_type": "execute_result"
    }
   ],
   "source": [
    "fibonacci[6:]"
   ]
  },
  {
   "cell_type": "code",
   "execution_count": 27,
   "id": "624c4369",
   "metadata": {},
   "outputs": [
    {
     "data": {
      "text/plain": [
       "[1, 1, 2, 3, 5, 8, 13, 21, 34, 55]"
      ]
     },
     "execution_count": 27,
     "metadata": {},
     "output_type": "execute_result"
    }
   ],
   "source": [
    "fibonacci[:-2]"
   ]
  },
  {
   "cell_type": "code",
   "execution_count": 29,
   "id": "96eeddf1",
   "metadata": {},
   "outputs": [
    {
     "data": {
      "text/plain": [
       "[1, 3, 13, 55]"
      ]
     },
     "execution_count": 29,
     "metadata": {},
     "output_type": "execute_result"
    }
   ],
   "source": [
    "fibonacci[0:11:3]"
   ]
  },
  {
   "cell_type": "code",
   "execution_count": 31,
   "id": "dab1c255",
   "metadata": {},
   "outputs": [
    {
     "data": {
      "text/plain": [
       "[1, 2, 2, 3, 3, 3]"
      ]
     },
     "execution_count": 31,
     "metadata": {},
     "output_type": "execute_result"
    }
   ],
   "source": [
    "one = [1]\n",
    "two = [2, 2]\n",
    "three = [3, 3, 3]\n",
    "numbers = one + two + three\n",
    "numbers"
   ]
  },
  {
   "cell_type": "code",
   "execution_count": 33,
   "id": "ca9f1aa5",
   "metadata": {},
   "outputs": [
    {
     "data": {
      "text/plain": [
       "[1, 2, 2, 1, 2, 2, 1, 2, 2]"
      ]
     },
     "execution_count": 33,
     "metadata": {},
     "output_type": "execute_result"
    }
   ],
   "source": [
    "(one + two) * 3"
   ]
  },
  {
   "cell_type": "code",
   "execution_count": 35,
   "id": "889a226c",
   "metadata": {},
   "outputs": [
    {
     "data": {
      "text/plain": [
       "[1, 4, 9, 16, 25, 36]"
      ]
     },
     "execution_count": 35,
     "metadata": {},
     "output_type": "execute_result"
    }
   ],
   "source": [
    "squares = [1, 4, 9, 16, 25]\n",
    "squares.append(36)\n",
    "squares"
   ]
  },
  {
   "cell_type": "code",
   "execution_count": 37,
   "id": "bf63b4e3",
   "metadata": {},
   "outputs": [
    {
     "data": {
      "text/plain": [
       "(2019, 7, 11)"
      ]
     },
     "execution_count": 37,
     "metadata": {},
     "output_type": "execute_result"
    }
   ],
   "source": [
    "today = (2019, 7, 11)\n",
    "today"
   ]
  },
  {
   "cell_type": "code",
   "execution_count": 38,
   "id": "40964c9e",
   "metadata": {},
   "outputs": [
    {
     "data": {
      "text/plain": [
       "int"
      ]
     },
     "execution_count": 38,
     "metadata": {},
     "output_type": "execute_result"
    }
   ],
   "source": [
    "type((1))"
   ]
  },
  {
   "cell_type": "code",
   "execution_count": 40,
   "id": "da48a1cc",
   "metadata": {},
   "outputs": [
    {
     "data": {
      "text/plain": [
       "(1, 2, 3)"
      ]
     },
     "execution_count": 40,
     "metadata": {},
     "output_type": "execute_result"
    }
   ],
   "source": [
    "(1,) + (2,3)"
   ]
  },
  {
   "cell_type": "code",
   "execution_count": 43,
   "id": "5046d95b",
   "metadata": {},
   "outputs": [
    {
     "ename": "TypeError",
     "evalue": "'tuple' object does not support item assignment",
     "output_type": "error",
     "traceback": [
      "\u001b[0;31m---------------------------------------------------------------------------\u001b[0m",
      "\u001b[0;31mTypeError\u001b[0m                                 Traceback (most recent call last)",
      "\u001b[0;32m/var/folders/kk/2pj93ygs67nbx9_42r_c6_3c0000gn/T/ipykernel_83423/160936360.py\u001b[0m in \u001b[0;36m<module>\u001b[0;34m\u001b[0m\n\u001b[0;32m----> 1\u001b[0;31m \u001b[0mtoday\u001b[0m\u001b[0;34m[\u001b[0m\u001b[0;36m0\u001b[0m\u001b[0;34m]\u001b[0m \u001b[0;34m=\u001b[0m \u001b[0;36m2022\u001b[0m\u001b[0;34m\u001b[0m\u001b[0;34m\u001b[0m\u001b[0m\n\u001b[0m",
      "\u001b[0;31mTypeError\u001b[0m: 'tuple' object does not support item assignment"
     ]
    }
   ],
   "source": [
    "today[0] = 2022"
   ]
  },
  {
   "cell_type": "markdown",
   "id": "8a403a13",
   "metadata": {},
   "source": [
    "Range Objects"
   ]
  },
  {
   "cell_type": "code",
   "execution_count": 45,
   "id": "7442f880",
   "metadata": {},
   "outputs": [
    {
     "data": {
      "text/plain": [
       "range(0, 10)"
      ]
     },
     "execution_count": 45,
     "metadata": {},
     "output_type": "execute_result"
    }
   ],
   "source": [
    "digits_range = range(0, 10)\n",
    "digits_range"
   ]
  },
  {
   "cell_type": "code",
   "execution_count": 46,
   "id": "ee53ff4a",
   "metadata": {},
   "outputs": [
    {
     "data": {
      "text/plain": [
       "(0, 1, 2, 3, 4, 5, 6, 7, 8, 9)"
      ]
     },
     "execution_count": 46,
     "metadata": {},
     "output_type": "execute_result"
    }
   ],
   "source": [
    "tuple(digits_range)"
   ]
  },
  {
   "cell_type": "code",
   "execution_count": 48,
   "id": "59893f4c",
   "metadata": {},
   "outputs": [
    {
     "data": {
      "text/plain": [
       "[0, 2, 4, 6, 8]"
      ]
     },
     "execution_count": 48,
     "metadata": {},
     "output_type": "execute_result"
    }
   ],
   "source": [
    "even_list = list(range(0, 10, 2))\n",
    "even_list"
   ]
  },
  {
   "cell_type": "markdown",
   "id": "54a41f49",
   "metadata": {},
   "source": [
    "Unpacking a Sequence"
   ]
  },
  {
   "cell_type": "code",
   "execution_count": 50,
   "id": "52add325",
   "metadata": {},
   "outputs": [
    {
     "name": "stdout",
     "output_type": "stream",
     "text": [
      "Date: 2019/7/11\n"
     ]
    }
   ],
   "source": [
    "today  = (2019, 7, 11)\n",
    "year, month, day = today\n",
    "print(f\"Date: {year}/{month}/{day}\")"
   ]
  },
  {
   "cell_type": "code",
   "execution_count": 53,
   "id": "ab689c12",
   "metadata": {},
   "outputs": [
    {
     "name": "stdout",
     "output_type": "stream",
     "text": [
      "range(1, 4 ) => 1, 2, and 3\n"
     ]
    }
   ],
   "source": [
    "(one, two, three) = range(1, 4)\n",
    "print(f\"range(1, 4 ) => {one}, {two}, and {three}\")"
   ]
  },
  {
   "cell_type": "code",
   "execution_count": 56,
   "id": "b65d73ed",
   "metadata": {},
   "outputs": [
    {
     "data": {
      "text/plain": [
       "[0, 2, 4, 6, 8]"
      ]
     },
     "execution_count": 56,
     "metadata": {},
     "output_type": "execute_result"
    }
   ],
   "source": [
    "args = 0, 10, 2\n",
    "list(range(*args))"
   ]
  },
  {
   "cell_type": "code",
   "execution_count": 58,
   "id": "2d8fad6c",
   "metadata": {},
   "outputs": [
    {
     "name": "stdout",
     "output_type": "stream",
     "text": [
      "range(1, 4) => 1, 2, and 3\n"
     ]
    }
   ],
   "source": [
    "print(\"range(1, 4) => {}, {}, and {}\".format(*range(1, 4)))"
   ]
  },
  {
   "cell_type": "code",
   "execution_count": 60,
   "id": "e97fe1b0",
   "metadata": {},
   "outputs": [
    {
     "data": {
      "text/plain": [
       "(0, 2, 4, 6, 8)"
      ]
     },
     "execution_count": 60,
     "metadata": {},
     "output_type": "execute_result"
    }
   ],
   "source": [
    "args = range(0, 10, 2)\n",
    "(*args,)"
   ]
  },
  {
   "cell_type": "markdown",
   "id": "ceb2ddbd",
   "metadata": {},
   "source": [
    "List Comprehensions"
   ]
  },
  {
   "cell_type": "markdown",
   "id": "ae9329b8",
   "metadata": {},
   "source": [
    "[expression for item in iterable]"
   ]
  },
  {
   "cell_type": "code",
   "execution_count": 62,
   "id": "3918b606",
   "metadata": {},
   "outputs": [
    {
     "data": {
      "text/plain": [
       "[0, 1, 4, 9, 16, 25, 36, 49, 64, 81]"
      ]
     },
     "execution_count": 62,
     "metadata": {},
     "output_type": "execute_result"
    }
   ],
   "source": [
    "squares = []\n",
    "for x in range(10):\n",
    "    squares.append(x**2)\n",
    "    \n",
    "squares"
   ]
  },
  {
   "cell_type": "code",
   "execution_count": 64,
   "id": "871b6984",
   "metadata": {},
   "outputs": [
    {
     "data": {
      "text/plain": [
       "[0, 1, 4, 9, 16, 25, 36, 49, 64, 81]"
      ]
     },
     "execution_count": 64,
     "metadata": {},
     "output_type": "execute_result"
    }
   ],
   "source": [
    "squares = [y ** 2 for y in range(10)]\n",
    "squares"
   ]
  },
  {
   "cell_type": "code",
   "execution_count": 67,
   "id": "b91bbafb",
   "metadata": {},
   "outputs": [
    {
     "name": "stdout",
     "output_type": "stream",
     "text": [
      "9\n"
     ]
    }
   ],
   "source": [
    "print(x)\n",
    "#print(y)"
   ]
  },
  {
   "cell_type": "code",
   "execution_count": 72,
   "id": "e607beba",
   "metadata": {},
   "outputs": [
    {
     "data": {
      "text/plain": [
       "[0, 2, 4, 6, 8]"
      ]
     },
     "execution_count": 72,
     "metadata": {},
     "output_type": "execute_result"
    }
   ],
   "source": [
    "even_list = [x for x in range(10) if x % 2 ==0]\n",
    "even_list"
   ]
  },
  {
   "cell_type": "code",
   "execution_count": 81,
   "id": "9f24cb6e",
   "metadata": {},
   "outputs": [
    {
     "data": {
      "text/plain": [
       "[[1, 5, 9], [2, 6, 10], [3, 7, 11], [4, 8, 12]]"
      ]
     },
     "execution_count": 81,
     "metadata": {},
     "output_type": "execute_result"
    }
   ],
   "source": [
    "matrix = [\n",
    "    [1, 2, 3, 4],\n",
    "    [5, 6, 7, 8],\n",
    "    [9, 10, 11, 12],\n",
    "]\n",
    "\n",
    "transposed = [\n",
    "    [row[i] for row in matrix]\n",
    "    for i in range(len(matrix[0]))\n",
    "]\n",
    "transposed"
   ]
  },
  {
   "cell_type": "code",
   "execution_count": 87,
   "id": "235e9ab8",
   "metadata": {},
   "outputs": [
    {
     "name": "stdout",
     "output_type": "stream",
     "text": [
      "1\n",
      "5\n",
      "9\n",
      "2\n",
      "6\n",
      "10\n",
      "3\n",
      "7\n",
      "11\n",
      "4\n",
      "8\n",
      "12\n"
     ]
    }
   ],
   "source": [
    "for i in range(len(matrix[0])): \n",
    "    for row in matrix:\n",
    "        print(row[i])\n",
    "        \n"
   ]
  },
  {
   "cell_type": "code",
   "execution_count": null,
   "id": "0e34dd61",
   "metadata": {},
   "outputs": [],
   "source": []
  },
  {
   "cell_type": "code",
   "execution_count": null,
   "id": "746d09cd",
   "metadata": {},
   "outputs": [],
   "source": []
  },
  {
   "cell_type": "code",
   "execution_count": null,
   "id": "a547598b",
   "metadata": {},
   "outputs": [],
   "source": []
  },
  {
   "cell_type": "code",
   "execution_count": 77,
   "id": "97f9351b",
   "metadata": {},
   "outputs": [
    {
     "data": {
      "text/plain": [
       "[[1, 5, 9], [2, 6, 10], [3, 7, 11], [4, 8, 12]]"
      ]
     },
     "execution_count": 77,
     "metadata": {},
     "output_type": "execute_result"
    }
   ],
   "source": [
    "transposed = [list(entry) for entry in zip(*matrix)]\n",
    "transposed"
   ]
  },
  {
   "cell_type": "code",
   "execution_count": 80,
   "id": "379afb6e",
   "metadata": {},
   "outputs": [
    {
     "data": {
      "text/plain": [
       "[[1, 5, 9], [2, 6, 10], [3, 7, 11], [4, 8, 12]]"
      ]
     },
     "execution_count": 80,
     "metadata": {},
     "output_type": "execute_result"
    }
   ],
   "source": [
    "list(map(list, zip(*matrix)))"
   ]
  },
  {
   "cell_type": "markdown",
   "id": "952f6e63",
   "metadata": {},
   "source": [
    "https://www.daleseo.com/python-zip/ zip function?"
   ]
  },
  {
   "cell_type": "markdown",
   "id": "1e338b5f",
   "metadata": {},
   "source": [
    "Generator Expressions"
   ]
  },
  {
   "cell_type": "markdown",
   "id": "1942c086",
   "metadata": {},
   "source": [
    "(expression for item in iterable)"
   ]
  },
  {
   "cell_type": "code",
   "execution_count": 92,
   "id": "967f3224",
   "metadata": {},
   "outputs": [
    {
     "data": {
      "text/plain": [
       "385"
      ]
     },
     "execution_count": 92,
     "metadata": {},
     "output_type": "execute_result"
    }
   ],
   "source": [
    "sum(i ** 2 for i in range(1, 11))"
   ]
  },
  {
   "cell_type": "markdown",
   "id": "c8cf4eb2",
   "metadata": {},
   "source": [
    "Built- in Functions for Sequences"
   ]
  },
  {
   "cell_type": "code",
   "execution_count": 91,
   "id": "580eac52",
   "metadata": {},
   "outputs": [
    {
     "data": {
      "text/plain": [
       "3"
      ]
     },
     "execution_count": 91,
     "metadata": {},
     "output_type": "execute_result"
    }
   ],
   "source": [
    "len([1, 2, 3])"
   ]
  },
  {
   "cell_type": "code",
   "execution_count": 97,
   "id": "dce81e57",
   "metadata": {},
   "outputs": [
    {
     "name": "stdout",
     "output_type": "stream",
     "text": [
      "sum = 12\n",
      "max = 8\n",
      "min = -5\n"
     ]
    }
   ],
   "source": [
    "random = [3, -5, 7, 8, -1]\n",
    "print(f\"sum = {sum(random)}\")\n",
    "print(f\"max = {max(random)}\")\n",
    "print(f\"min = {min(random)}\")"
   ]
  },
  {
   "cell_type": "code",
   "execution_count": 99,
   "id": "4ae715d3",
   "metadata": {},
   "outputs": [
    {
     "data": {
      "text/plain": [
       "[-5, -1, 3, 7, 8]"
      ]
     },
     "execution_count": 99,
     "metadata": {},
     "output_type": "execute_result"
    }
   ],
   "source": [
    "sorted(random)"
   ]
  },
  {
   "cell_type": "code",
   "execution_count": 100,
   "id": "ad69d6c6",
   "metadata": {},
   "outputs": [
    {
     "data": {
      "text/plain": [
       "5050"
      ]
     },
     "execution_count": 100,
     "metadata": {},
     "output_type": "execute_result"
    }
   ],
   "source": [
    "one_to_hundred = range(1, 101)\n",
    "sum(one_to_hundred)"
   ]
  },
  {
   "cell_type": "markdown",
   "id": "afdb9e1c",
   "metadata": {},
   "source": [
    "Exercies"
   ]
  },
  {
   "cell_type": "code",
   "execution_count": 102,
   "id": "1cc64669",
   "metadata": {},
   "outputs": [
    {
     "data": {
      "text/plain": [
       "True"
      ]
     },
     "execution_count": 102,
     "metadata": {},
     "output_type": "execute_result"
    }
   ],
   "source": [
    "N = 1000\n",
    "rhs = N * (N + 1) // 2\n",
    "lhs = sum(i + 1 for i in range(N))\n",
    "rhs == lhs"
   ]
  },
  {
   "cell_type": "markdown",
   "id": "9b5da2f0",
   "metadata": {},
   "source": [
    "Riemann Zeta Function"
   ]
  },
  {
   "cell_type": "code",
   "execution_count": 104,
   "id": "c518d0a1",
   "metadata": {},
   "outputs": [
    {
     "data": {
      "text/plain": [
       "1.6439345666815615"
      ]
     },
     "execution_count": 104,
     "metadata": {},
     "output_type": "execute_result"
    }
   ],
   "source": [
    "N = 1000\n",
    "approx_zeta_2 = sum(1 / n ** 2 for n in range(N+1)[1:])\n",
    "approx_zeta_2"
   ]
  },
  {
   "cell_type": "markdown",
   "id": "a5463a14",
   "metadata": {},
   "source": [
    "Maclaurin Series"
   ]
  },
  {
   "cell_type": "code",
   "execution_count": 106,
   "id": "9dd9d42a",
   "metadata": {},
   "outputs": [
    {
     "data": {
      "text/plain": [
       "0.7854481533989477"
      ]
     },
     "execution_count": 106,
     "metadata": {},
     "output_type": "execute_result"
    }
   ],
   "source": [
    "N = 5000\n",
    "x = 1\n",
    "approx_actran_1 = sum(\n",
    "    (pow(-1, n) * pow(x, 2 * n + 1)) / (2 * n + 1)\n",
    "    for n in range(N + 1)\n",
    ")\n",
    "approx_actran_1"
   ]
  }
 ],
 "metadata": {
  "kernelspec": {
   "display_name": "Python 3 (ipykernel)",
   "language": "python",
   "name": "python3"
  },
  "language_info": {
   "codemirror_mode": {
    "name": "ipython",
    "version": 3
   },
   "file_extension": ".py",
   "mimetype": "text/x-python",
   "name": "python",
   "nbconvert_exporter": "python",
   "pygments_lexer": "ipython3",
   "version": "3.9.13"
  }
 },
 "nbformat": 4,
 "nbformat_minor": 5
}
