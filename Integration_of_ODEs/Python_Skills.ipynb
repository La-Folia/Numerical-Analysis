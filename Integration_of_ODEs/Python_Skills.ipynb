{
 "cells": [
  {
   "cell_type": "code",
   "execution_count": 3,
   "id": "51a1b3cf",
   "metadata": {},
   "outputs": [],
   "source": [
    "import numpy as np\n",
    "from matplotlib import pyplot as plt\n",
    "plt.rcParams.update({'font.size': 15})\n",
    "#%config InlineBackend.figure_format='retina'"
   ]
  },
  {
   "cell_type": "markdown",
   "id": "e2d8203b",
   "metadata": {},
   "source": [
    "enumerate() 함수와 zip의 이용 "
   ]
  },
  {
   "cell_type": "code",
   "execution_count": 5,
   "id": "b2ae1d61",
   "metadata": {},
   "outputs": [
    {
     "name": "stdout",
     "output_type": "stream",
     "text": [
      "0 (1.0, 2.0)\n",
      "1 (2.0, 3.0)\n",
      "2 (3.0, 4.0)\n",
      "3 (4.0, 5.0)\n",
      "4 (5.0, 6.0)\n",
      "5 (6.0, 7.0)\n",
      "6 (7.0, 8.0)\n",
      "7 (8.0, 9.0)\n",
      "8 (9.0, 10.0)\n"
     ]
    }
   ],
   "source": [
    "x = np.linspace(1, 10, 10)\n",
    "\n",
    "for i, (x_curr, x_next) in enumerate(zip(x[:-1], x[1:])):\n",
    "    print(i, (x_curr, x_next))"
   ]
  },
  {
   "cell_type": "markdown",
   "id": "540a2810",
   "metadata": {},
   "source": []
  }
 ],
 "metadata": {
  "kernelspec": {
   "display_name": "Python 3 (ipykernel)",
   "language": "python",
   "name": "python3"
  },
  "language_info": {
   "codemirror_mode": {
    "name": "ipython",
    "version": 3
   },
   "file_extension": ".py",
   "mimetype": "text/x-python",
   "name": "python",
   "nbconvert_exporter": "python",
   "pygments_lexer": "ipython3",
   "version": "3.9.13"
  }
 },
 "nbformat": 4,
 "nbformat_minor": 5
}
