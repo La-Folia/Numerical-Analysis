{
 "cells": [
  {
   "cell_type": "markdown",
   "id": "2ff13d10",
   "metadata": {},
   "source": [
    "# Homework 2\n",
    "\n",
    "**주의사항**\n",
    "\n",
    "- 제출한 과제는 적절한 실험 보고서 양식을 갖출 것 (커버 페이지 포함)\n",
    "- 손글씨는 읽을 수 있도록, 모든 그래프는 레이블 포함 (타이틀, $x$ 축, $y$ 축, 레전드 등)\n",
    "- 프로그램 코드는 직접 실행할 수 있도록 문제 당 한 파일에, 주석을 적당히 넣어 로직을 이해할 수 있도록 준비\n",
    "- 또한 과제 확인시간에 프로그램을 실행하여 보여줄 수 있도록 준비 (랩탑 준비 등)\n",
    "\n",
    "**다음 문제 중 세 문제를 선택**"
   ]
  },
  {
   "cell_type": "markdown",
   "id": "11450329",
   "metadata": {},
   "source": [
    "## 1. Table of Gauss-Legendre Quadrature Coefficients\n",
    "\n",
    "Complete the table of Gauss-Legendre coefficients, $x_i$ and $w_i$, for $n$ up to $20$.\n",
    "\n",
    "- Legendre polynomials $P_n(x)$ are available from [`scipy.special.legendre`](https://docs.scipy.org/doc/scipy/reference/generated/scipy.special.legendre.html).\n",
    "- To find the roots of $P_n(x) = 0$ in $x \\in (-1, 1)$, use one of the root finding algorithms we have implemented (or `scipy.optimize.root_scalar`).\n",
    "- Make use of the fact that\n",
    "\n",
    "    - The roots for even $n$ contains zero.\n",
    "    - The roots in the negative $x$ domain is minus of the roots in the positive domain (i.e., symmetric about $y$ axis).\n",
    "    - The roots for a given $n$ (denoted by $x_i^{(n)}$) are bracketed by $\\{-1, \\dots, x_i^{(n-1)}, \\dots, 1\\}$.\n",
    "    That is, $x_1^{(n)} \\in (-1, x_1^{(n-1)})$, $x_2^{(n)} \\in (x_1^{(n-1)}, x_2^{(n-1)})$, and so on.\n",
    "    \n",
    "- For weights, use the formula\n",
    "\n",
    "    $$\n",
    "    w_i = \\frac{2(1 - x_i^2)}{n^2 P_{n - 1}^2(x_i)}\n",
    "    $$\n",
    "    \n",
    "The SciPy function [`scipy.special.roots_legendre`](https://docs.scipy.org/doc/scipy/reference/generated/scipy.special.roots_legendre.html) returns the Gauss-Legendre coefficients.\n",
    "Verify your calculation."
   ]
  },
  {
   "cell_type": "markdown",
   "id": "33b9b969",
   "metadata": {},
   "source": [
    "## 2. Implement Your Own `fixed_quad`\n",
    "\n",
    "Implement your own `fixed_quad` using either your table or the SciPy function `scipy.special.roots_legendre`.\n",
    "Apply your implementation to the exercise problems."
   ]
  },
  {
   "cell_type": "markdown",
   "id": "1a1d5a61",
   "metadata": {},
   "source": [
    "## 3. Chapman Function\n",
    "\n",
    "A [Chapman function](https://en.wikipedia.org/wiki/Chapman_function) describes the integration of atmospheric absorption along a slant path on a spherical earth, relative to the vertical case.\n",
    "It applies to any quantity with a concentration decreasing exponentially with increasing altitude.\n",
    "\n",
    "Among a number of different integral representations have been developed in the literature,\n",
    "Huestis' representation does not suffer from numerical singularities:\n",
    "\n",
    "$$\n",
    "\\mathrm{ch}(x, z) = 1 + x\\sin z\n",
    "\\int_0^z \\frac{\\exp\\left(x (1 - \\sin z/\\sin \\lambda)\\right)}{1 + \\cos\\lambda} d\\lambda\n",
    "$$\n",
    "\n",
    "1. For $z = \\pi/2$ (horizontal incidence), the Chapman function reduces to\n",
    "\n",
    "    $$\n",
    "    \\mathrm{ch}\\left(x, \\frac{\\pi}{2}\\right) = x e^x K_1(x)\n",
    "    $$\n",
    "    \n",
    "    where $K_1(x)$ refers to the [modified Bessel function](https://en.wikipedia.org/wiki/Bessel_function#Modified_Bessel_functions:_Iα,_Kα) of the second kind of the first order, which is available from the SciPy function [`scipy.special.kn`](https://docs.scipy.org/doc/scipy/reference/generated/scipy.special.kn.html#scipy.special.kn).\n",
    "    \n",
    "    What is the minimum $N$ for the trapezoid and Simpson's rules and $n$ for the Gauss-Legendre quadrature needed to achieve an approximation of $\\mathrm{ch}\\left(1, \\frac{\\pi}{2}\\right)$ to within $10^{-10}$ relative accuracy?\n",
    "    \n",
    "2. Using one of the numerical integration algorithms you have implemented, draw a figure similar to the one below:\n",
    "\n",
    "    <center><figure>\n",
    "        <img src=https://upload.wikimedia.org/wikipedia/commons/thumb/c/c1/Chapman_function.svg/300px-Chapman_function.svg.png>\n",
    "        <figcaption>From Wikipedia (https://en.wikipedia.org/wiki/Chapman_function)</figcaption>\n",
    "    </figure></center>"
   ]
  },
  {
   "cell_type": "markdown",
   "id": "55c68b4d",
   "metadata": {},
   "source": [
    "## 4. Orthogonality of Functions\n",
    "\n",
    "1. Confirm the [orthogonality of Legendre polynomials](https://en.wikipedia.org/wiki/Legendre_polynomials#Orthogonality_and_completeness):\n",
    "\n",
    "    $$\n",
    "    \\int_{-1}^1 P_m(x) P_n(x) dx = \\frac{2}{2n + 1} \\delta_{mn}\n",
    "    .\n",
    "    $$\n",
    "    \n",
    "2. Confirm the [orthogonality of Bessel functions](https://cnu-teaching.gitlab.io/math-2/week-15/#1219-orthogonality-of-bessel-functions):\n",
    "\n",
    "    $$\n",
    "    \\begin{aligned}\n",
    "    \\int_0^1 &J_p(\\alpha x) J_p(\\beta x) x dx\n",
    "    \\\\\n",
    "    &=\n",
    "    \\left\\{\n",
    "    \\begin{array}{c}\n",
    "    0, & \\alpha \\ne \\beta \\\\\n",
    "    \\displaystyle \\frac{1}{2} J_{p + 1}^2(\\alpha) = \\frac{1}{2} J_{p - 1}^2(\\alpha) = \\frac{1}{2} (J_p')^2(\\alpha),\n",
    "    & \\alpha = \\beta\n",
    "    \\end{array}\n",
    "    \\right.\n",
    "    \\end{aligned}\n",
    "    $$\n",
    "    \n",
    "    where $\\alpha$ and $\\beta$ are such that $J_p(\\alpha) = J_p(\\beta) = 0$.\n",
    "    (You already know how to find the solutions of Bessel functions!)"
   ]
  }
 ],
 "metadata": {
  "kernelspec": {
   "display_name": "Python 3 (ipykernel)",
   "language": "python",
   "name": "python3"
  },
  "language_info": {
   "codemirror_mode": {
    "name": "ipython",
    "version": 3
   },
   "file_extension": ".py",
   "mimetype": "text/x-python",
   "name": "python",
   "nbconvert_exporter": "python",
   "pygments_lexer": "ipython3",
   "version": "3.9.13"
  }
 },
 "nbformat": 4,
 "nbformat_minor": 5
}
