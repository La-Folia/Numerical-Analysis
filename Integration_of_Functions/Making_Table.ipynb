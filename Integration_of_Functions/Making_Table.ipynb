{
 "cells": [
  {
   "cell_type": "code",
   "execution_count": 1,
   "id": "8b18fb99",
   "metadata": {},
   "outputs": [],
   "source": [
    "import numpy as np\n",
    "from scipy.integrate import fixed_quad\n",
    "from matplotlib import pyplot as plt\n",
    "from scipy.special import legendre\n",
    "from scipy import optimize\n",
    "from scipy import special\n",
    "plt.rcParams.update({'font.size': 15})\n",
    "#%config InlineBackend.figure_format='retina'\n",
    "\n"
   ]
  },
  {
   "cell_type": "code",
   "execution_count": 2,
   "id": "f1c69b0c",
   "metadata": {},
   "outputs": [
    {
     "name": "stdout",
     "output_type": "stream",
     "text": [
      "[0.9841831, 0.9175984, 0.8015781, 0.4484928, 0.6423493, 0.2304583, 0, -0.9841831, -0.9175984, -0.8015781, -0.4484928, -0.6423493, -0.2304583] 13\n"
     ]
    }
   ],
   "source": [
    "import random\n",
    "N = 13\n",
    "partition = np.linspace(-5, 5, 100)\n",
    "sollist = []\n",
    "sollist_1 = []\n",
    "a = []\n",
    "wlist = []\n",
    "\n",
    "for (l, r) in zip(partition[:-1], partition[1:]):\n",
    "        sol = optimize.root_scalar(legendre(N), x0 = l, x1 = r,\n",
    "                                  method = 'secant')\n",
    "                           \n",
    "        sollist.append(abs(round(sol.root, 7)))\n",
    "    \n",
    "sollist_1 = [i for i in sollist if abs(i) > 10e-5 and abs(i) < 1 and abs(i) > 0.0617]\n",
    "\n",
    "for i in range(len(sollist_1)):\n",
    "        for j in sollist_1:\n",
    "            if j - sollist[i] < 0.01 and j * sollist[i] > (sollist[i])**2:\n",
    "                if j == sollist[i]:\n",
    "                    continue\n",
    "                sollist_1.remove(j)\n",
    "\n",
    "a = list(set(sollist_1))\n",
    "a2 = []\n",
    "if N % 2 != 0:\n",
    "    a.append(0)\n",
    "\n",
    "for x in a:\n",
    "    if x != 0:\n",
    "        a2.append(-1 * x)\n",
    "\n",
    "b = a + a2\n",
    "for x in b:\n",
    "    w = (2 * (1 - x**2)) / (N**2 * legendre(N-1)**2)\n",
    "    wlist.append(w)\n",
    "\n",
    "\n",
    "\n",
    "    \n",
    "print(b, len(b))\n"
   ]
  },
  {
   "cell_type": "code",
   "execution_count": 3,
   "id": "39acacbe",
   "metadata": {},
   "outputs": [],
   "source": [
    "import random\n",
    "\n",
    "def frank(n, x):\n",
    "    leg = legendre(n)\n",
    "    p_n = leg(x)\n",
    "    return p_n\n",
    "\n",
    "\n",
    "def N(n):\n",
    "    N = n\n",
    "    partition = np.linspace(-1, 1, n+10)\n",
    "    sollist = []\n",
    "    sollist_1 = []\n",
    "    a = []\n",
    "    wlist = []\n",
    "\n",
    "    for (l, r) in zip(partition[:-1], partition[1:]):\n",
    "        sol = optimize.root_scalar(legendre(N), x0 = l, x1 = r,\n",
    "                                  method = 'secant')\n",
    "                           \n",
    "        sollist.append(abs(round(sol.root, 7)))\n",
    "    \n",
    "    sollist_1 = [i for i in sollist if abs(i) > 10e-5 and abs(i) < 1 and abs(i) > 0.0617]\n",
    "\n",
    "    for i in range(len(sollist_1)):\n",
    "        for j in sollist_1:\n",
    "            if j - sollist[i] < 0.01 and  j * sollist[i] > (sollist[i])**2:\n",
    "                if j == sollist[i]:\n",
    "                    continue\n",
    "                sollist_1.remove(j)\n",
    "\n",
    "    a = list(set(sollist_1))\n",
    "    a2 = []\n",
    "    if N % 2 != 0:\n",
    "        a.append(0)\n",
    "\n",
    "    for x in a:\n",
    "        if x != 0:\n",
    "            a2.append(-1 * x)\n",
    "\n",
    "    b = a + a2\n",
    "    for x in b:\n",
    "        w = (2 * (1 - x**2)) / (N**2 * frank(N-1, x)**2)\n",
    "        wlist.append(w)\n",
    "\n",
    "\n",
    "\n",
    "    \n",
    "    return(b, wlist , len(b))\n"
   ]
  },
  {
   "cell_type": "code",
   "execution_count": 4,
   "id": "6cb33349",
   "metadata": {},
   "outputs": [
    {
     "data": {
      "text/plain": [
       "([0.9122344,\n",
       "  0.839117,\n",
       "  0.6360537,\n",
       "  0.7463319,\n",
       "  0.4436109,\n",
       "  0.510867,\n",
       "  0.3737061,\n",
       "  0.2277859,\n",
       "  0.0765265,\n",
       "  -0.9122344,\n",
       "  -0.839117,\n",
       "  -0.6360537,\n",
       "  -0.7463319,\n",
       "  -0.4436109,\n",
       "  -0.510867,\n",
       "  -0.3737061,\n",
       "  -0.2277859,\n",
       "  -0.0765265],\n",
       " [0.06267245254242511,\n",
       "  0.08327646207685989,\n",
       "  0.11819442975809738,\n",
       "  0.10193016641167287,\n",
       "  0.5619873869287483,\n",
       "  0.13168864590801288,\n",
       "  0.14209608006508162,\n",
       "  0.1491729129292063,\n",
       "  0.15275339756771986,\n",
       "  0.06267245254242489,\n",
       "  0.08327646207686057,\n",
       "  0.118194429758097,\n",
       "  0.10193016641167345,\n",
       "  0.5619873869287483,\n",
       "  0.13168864590801257,\n",
       "  0.14209608006508156,\n",
       "  0.14917291292920637,\n",
       "  0.1527533975677196],\n",
       " 18)"
      ]
     },
     "execution_count": 4,
     "metadata": {},
     "output_type": "execute_result"
    }
   ],
   "source": [
    "N(20)"
   ]
  },
  {
   "cell_type": "code",
   "execution_count": 143,
   "id": "11f81e7e",
   "metadata": {},
   "outputs": [
    {
     "data": {
      "text/plain": [
       "1.0"
      ]
     },
     "execution_count": 143,
     "metadata": {},
     "output_type": "execute_result"
    }
   ],
   "source": []
  },
  {
   "cell_type": "code",
   "execution_count": 5,
   "id": "46f0231b",
   "metadata": {},
   "outputs": [
    {
     "data": {
      "text/plain": [
       "(array([-0.94910791, -0.74153119, -0.40584515,  0.        ,  0.40584515,\n",
       "         0.74153119,  0.94910791]),\n",
       " array([0.12948497, 0.27970539, 0.38183005, 0.41795918, 0.38183005,\n",
       "        0.27970539, 0.12948497]))"
      ]
     },
     "execution_count": 5,
     "metadata": {},
     "output_type": "execute_result"
    }
   ],
   "source": [
    "a, c =special.roots_legendre(7)\n",
    "a, c"
   ]
  },
  {
   "cell_type": "code",
   "execution_count": null,
   "id": "9333a1be",
   "metadata": {},
   "outputs": [],
   "source": []
  }
 ],
 "metadata": {
  "kernelspec": {
   "display_name": "Python 3 (ipykernel)",
   "language": "python",
   "name": "python3"
  },
  "language_info": {
   "codemirror_mode": {
    "name": "ipython",
    "version": 3
   },
   "file_extension": ".py",
   "mimetype": "text/x-python",
   "name": "python",
   "nbconvert_exporter": "python",
   "pygments_lexer": "ipython3",
   "version": "3.9.13"
  }
 },
 "nbformat": 4,
 "nbformat_minor": 5
}
