{
 "cells": [
  {
   "cell_type": "code",
   "execution_count": 1,
   "id": "55ada1bb",
   "metadata": {},
   "outputs": [],
   "source": [
    "import numpy as np\n",
    "from scipy.integrate import fixed_quad\n",
    "from matplotlib import pyplot as plt\n",
    "from scipy.special import legendre\n",
    "plt.rcParams.update({'font.size': 15})\n",
    "#%config InlineBackend.figure_format='retina'\n",
    "import numpy as np\n",
    "from scipy.special import roots_legendre, eval_legendre"
   ]
  },
  {
   "cell_type": "code",
   "execution_count": 2,
   "id": "0c9116e3",
   "metadata": {},
   "outputs": [],
   "source": [
    "def f(x):\n",
    "    return np.exp(x)\n",
    "\n",
    "\n",
    "\n",
    "def min_fixed_any_range(f, a, b, n):\n",
    "    g = lambda x: (b - a)/2 * f((b-a)/2*x + (a+b)/2) \n",
    "    roots, weights = roots_legendre(n)\n",
    "    xi = roots\n",
    "    wi = weights\n",
    "    return sum(w*(g(x)) for w, x in zip(wi, xi))"
   ]
  },
  {
   "cell_type": "code",
   "execution_count": 3,
   "id": "08709681",
   "metadata": {},
   "outputs": [
    {
     "name": "stdout",
     "output_type": "stream",
     "text": [
      "n = 3, m = 3\n",
      "     3\n",
      "2.5 x - 1.5 x -1.1796119636642288e-16\n"
     ]
    }
   ],
   "source": [
    "import random\n",
    "n, m = random.randint(0,10), random.randint(0,10)\n",
    "print(f\"n = {n}, m = {m}\")\n",
    "\n",
    "def P_m(m): #-1~1까지의 범위의 르장드르 적분은 항상 0이다. 단 p_0인 경우 2이다.\n",
    "    return min_fixed_any_range(legendre(m), -1, 1, 10)\n",
    "print(legendre(m),P_m(m) )"
   ]
  },
  {
   "cell_type": "code",
   "execution_count": 4,
   "id": "ce2bd951",
   "metadata": {},
   "outputs": [
    {
     "data": {
      "text/plain": [
       "1.391484384819778e-32"
      ]
     },
     "execution_count": 4,
     "metadata": {},
     "output_type": "execute_result"
    }
   ],
   "source": [
    "def P_m(m): #-1~1까지의 범위의 르장드르 적분은 항상 0이다. 단 p_0인 경우 2이다.\n",
    "    return min_fixed_any_range(legendre(m), -1, 1, 10)\n",
    "def P_n(n): #-1~1까지의 범위의 르장드르 적분은 항상 0이다. 단 p_0인 경우 2이다.\n",
    "    return min_fixed_any_range(legendre(n), -1, 1, 10)\n",
    "\n",
    "P_m(m) * P_n(n)"
   ]
  },
  {
   "cell_type": "markdown",
   "id": "36acfa12",
   "metadata": {},
   "source": [
    "같을 때 수렴하는 지 확인"
   ]
  },
  {
   "cell_type": "code",
   "execution_count": 5,
   "id": "ac670f6d",
   "metadata": {},
   "outputs": [
    {
     "name": "stderr",
     "output_type": "stream",
     "text": [
      "/Users/kang0/opt/anaconda3/lib/python3.9/site-packages/numpy/lib/polynomial.py:1329: FutureWarning: In the future extra properties will not be copied across when constructing one poly1d from another\n",
      "  other = poly1d(other)\n"
     ]
    },
    {
     "data": {
      "text/plain": [
       "1.5543122344752192e-15"
      ]
     },
     "execution_count": 5,
     "metadata": {},
     "output_type": "execute_result"
    }
   ],
   "source": [
    "m = 1\n",
    "n = 1\n",
    "\n",
    "def P_m_P_M(m,n):\n",
    "    return legendre(m) * legendre(n)\n",
    "\n",
    "(2 / 3) - min_fixed_any_range(P_m_P_M(m,n), -1, 1, 10)"
   ]
  },
  {
   "cell_type": "markdown",
   "id": "45dfea6d",
   "metadata": {},
   "source": [
    "모든 n, m에서 위 식이 맞는 지 확인"
   ]
  },
  {
   "cell_type": "code",
   "execution_count": 6,
   "id": "640b06a2",
   "metadata": {},
   "outputs": [
    {
     "name": "stdout",
     "output_type": "stream",
     "text": [
      "n = 0, m = 0\n"
     ]
    },
    {
     "data": {
      "text/plain": [
       "0.0"
      ]
     },
     "execution_count": 6,
     "metadata": {},
     "output_type": "execute_result"
    }
   ],
   "source": [
    "#만약 n = m = 0인 경우\n",
    "#만약 n != m인 경우 (n>m)\n",
    "n, m = 0, 0\n",
    "print(f\"n = {n}, m = {m}\")\n",
    "\n",
    "def P_m_P_M(m,n):\n",
    "    return legendre(m) * legendre(n)\n",
    "\n",
    "2 - min_fixed_any_range(P_m_P_M(m,n), -1, 1, 30)"
   ]
  },
  {
   "cell_type": "code",
   "execution_count": 7,
   "id": "7c3139fb",
   "metadata": {},
   "outputs": [
    {
     "name": "stdout",
     "output_type": "stream",
     "text": [
      "n = 11, m = 11\n"
     ]
    },
    {
     "data": {
      "text/plain": [
       "-3.3885491634855214e-11"
      ]
     },
     "execution_count": 7,
     "metadata": {},
     "output_type": "execute_result"
    }
   ],
   "source": [
    "#만약 n = m인 경우\n",
    "import random\n",
    "n = random.randint(0,11)\n",
    "m = n\n",
    "print(f\"n = {n}, m = {m}\")\n",
    "\n",
    "def P_m_P_M(m,n):\n",
    "    return legendre(m) * legendre(n)\n",
    "\n",
    "(2 / (2 * n + 1)) - min_fixed_any_range(P_m_P_M(m,n), -1, 1, 30)"
   ]
  },
  {
   "cell_type": "code",
   "execution_count": 8,
   "id": "7dd71f3e",
   "metadata": {},
   "outputs": [
    {
     "name": "stdout",
     "output_type": "stream",
     "text": [
      "n = 0, m = 1\n"
     ]
    },
    {
     "data": {
      "text/plain": [
       "-7.632783294297951e-17"
      ]
     },
     "execution_count": 8,
     "metadata": {},
     "output_type": "execute_result"
    }
   ],
   "source": [
    "#만약 n != m인 경우 (n < m)\n",
    "import random\n",
    "n = random.randint(0,11)\n",
    "m = random.randint(1,12) - 1\n",
    "print(f\"n = {n}, m = {m}\")\n",
    "\n",
    "def P_m_P_M(m,n):\n",
    "    return legendre(m) * legendre(n)\n",
    "\n",
    "min_fixed_any_range(P_m_P_M(m,n), -1, 1, 30)"
   ]
  },
  {
   "cell_type": "code",
   "execution_count": 9,
   "id": "eec0ee5c",
   "metadata": {},
   "outputs": [
    {
     "name": "stdout",
     "output_type": "stream",
     "text": [
      "n = 8, m = 2\n"
     ]
    },
    {
     "data": {
      "text/plain": [
       "1.7833824694779565e-14"
      ]
     },
     "execution_count": 9,
     "metadata": {},
     "output_type": "execute_result"
    }
   ],
   "source": [
    "#만약 n != m인 경우 (n < m)\n",
    "import random\n",
    "n = random.randint(0,11)\n",
    "m = random.randint(1,12) - 1\n",
    "print(f\"n = {n}, m = {m}\")\n",
    "\n",
    "def P_m_P_M(m,n):\n",
    "    return legendre(m) * legendre(n)\n",
    "\n",
    "min_fixed_any_range(P_m_P_M(m,n), -1, 1, 30)"
   ]
  },
  {
   "cell_type": "markdown",
   "id": "0ad07891",
   "metadata": {},
   "source": [
    "Bessel Function 증명"
   ]
  },
  {
   "cell_type": "code",
   "execution_count": 346,
   "id": "7d4804c7",
   "metadata": {},
   "outputs": [],
   "source": [
    "def f(x):\n",
    "    return x\n",
    "\n",
    "\n",
    "\n",
    "def min_fixed_any_range(f, a, b, n):\n",
    "    g = lambda x: (b - a)/2 * f((b-a)/2*x + (a+b)/2) \n",
    "    roots, weights = roots_legendre(n)\n",
    "    xi = roots\n",
    "    wi = weights\n",
    "    return sum(w*(g(x)) for w, x in zip(wi, xi))"
   ]
  },
  {
   "cell_type": "markdown",
   "id": "1f2bfc57",
   "metadata": {},
   "source": [
    "a = b인 경우"
   ]
  },
  {
   "cell_type": "code",
   "execution_count": 145,
   "id": "290509bd",
   "metadata": {},
   "outputs": [
    {
     "name": "stdout",
     "output_type": "stream",
     "text": [
      "(0, 5)\n",
      "(5, 7)\n",
      "(7, 10)\n",
      "(10, 13)\n",
      "(13, 16)\n",
      "(16, 20)\n",
      "(20, 23)\n",
      "(23, 25)\n",
      "(25, 28)\n",
      "a = 8.653727912910199, b = 24.352471530748517, p = 0, result = -1.1120804261850312e-15\n"
     ]
    }
   ],
   "source": [
    "import numpy as np\n",
    "import matplotlib.pyplot as plt\n",
    "plt.rcParams.update({'font.size': 15})\n",
    "from scipy import optimize\n",
    "\n",
    "n = 0\n",
    "x_zeros = []\n",
    "\n",
    "intervals = (0, 5, 7, 10, 13, 16, 20, 23, 25, 28)\n",
    "\n",
    "#solution 구하는 것만 잘 구하자.\n",
    "for ab in zip(intervals[:-1], intervals[1:]):\n",
    "    sol = optimize.root_scalar(lambda x: special.jn(n, x), bracket=ab, method='bisect')\n",
    "    print(ab)\n",
    "    x_zeros.append(sol.root)\n",
    "    \n",
    "a = random.choice(x_zeros)\n",
    "b = random.choice(x_zeros)\n",
    "\n",
    "result = min_fixed_any_range(lambda x: x * special.jn(n, a * x) * special.jn(n, b * x) \n",
    "                    , 0, 1, 100)\n",
    "\n",
    "print(f\"a = {a}, b = {b}, p = {n}, result = {result}\")"
   ]
  },
  {
   "cell_type": "code",
   "execution_count": 345,
   "id": "be0ff01a",
   "metadata": {},
   "outputs": [
    {
     "name": "stdout",
     "output_type": "stream",
     "text": [
      "a = b = 27.19908776598125,\n",
      "p = 4,\n",
      "1st hand - 2nd hand = 1.3877787807814457e-17, \n",
      "2nd hand - 3rd hand = 5.204170427930421e-18\n"
     ]
    }
   ],
   "source": [
    "import numpy as np\n",
    "import matplotlib.pyplot as plt\n",
    "plt.rcParams.update({'font.size': 15})\n",
    "from scipy import optimize\n",
    "from sympy import *\n",
    "from scipy.special import jn_zeros #베셀 함수 근 구하는 모듈\n",
    "\n",
    "x_zeros = []\n",
    "n = random.randint(0,11)\n",
    "\n",
    "#0~1 Solution\n",
    "x_zeros.append(jn_zeros(n, 10))\n",
    "\n",
    "\n",
    "a = random.choice(jn_zeros(n, 10))\n",
    "b = random.choice(jn_zeros(n, 10))\n",
    "\n",
    "result = min_fixed_any_range(lambda x: x * special.jn(n, a * x) * special.jn(n, b * x) \n",
    "                    , 0, 1, 100)\n",
    "\n",
    "#j'p(a) used by Recursion Relations \n",
    "third_hand = (special.jn(n - 1, a) - special.jn(n + 1, a)) / 2\n",
    "\n",
    "d1 = 1/2 * (special.jn(n + 1, a))**2 - (1/2 * (special.jn(n - 1, a))**2)# 1st hand - 2nd hand\n",
    "d2 = 1/2 * (special.jn(n + 1, a))**2 - (1/2 * (third_hand)**2) #2nd hand - 3rd hand\n",
    "\n",
    "\n",
    "\n",
    "if a == b:\n",
    "    print(f\"\"\"a = b = {a},\n",
    "p = {n},\n",
    "1st hand - 2nd hand = {d1}, \n",
    "2nd hand - 3rd hand = {d2}\"\"\")\n",
    "else:\n",
    "    print(f\"\"\"a = {a}, b = {b}, \n",
    "p = {n}, result = {result}\"\"\")\n",
    "\n"
   ]
  }
 ],
 "metadata": {
  "kernelspec": {
   "display_name": "Python 3 (ipykernel)",
   "language": "python",
   "name": "python3"
  },
  "language_info": {
   "codemirror_mode": {
    "name": "ipython",
    "version": 3
   },
   "file_extension": ".py",
   "mimetype": "text/x-python",
   "name": "python",
   "nbconvert_exporter": "python",
   "pygments_lexer": "ipython3",
   "version": "3.9.13"
  }
 },
 "nbformat": 4,
 "nbformat_minor": 5
}
