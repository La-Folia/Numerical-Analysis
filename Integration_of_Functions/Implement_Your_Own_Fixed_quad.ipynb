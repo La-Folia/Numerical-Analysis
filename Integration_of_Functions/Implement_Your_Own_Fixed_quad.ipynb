{
 "cells": [
  {
   "cell_type": "code",
   "execution_count": 175,
   "id": "d1af2816",
   "metadata": {},
   "outputs": [],
   "source": [
    "import numpy as np\n",
    "from scipy.integrate import fixed_quad\n",
    "from matplotlib import pyplot as plt\n",
    "plt.rcParams.update({'font.size': 15})\n",
    "#%config InlineBackend.figure_format='retina'\n",
    "import numpy as np\n",
    "from scipy.special import roots_legendre, eval_legendre"
   ]
  },
  {
   "cell_type": "code",
   "execution_count": 185,
   "id": "3b0ecf9c",
   "metadata": {},
   "outputs": [
    {
     "data": {
      "text/plain": [
       "(array([-0.77459667,  0.        ,  0.77459667]),\n",
       " array([0.55555556, 0.88888889, 0.55555556]))"
      ]
     },
     "execution_count": 185,
     "metadata": {},
     "output_type": "execute_result"
    }
   ],
   "source": [
    "roots, weights = roots_legendre(3)\n",
    "roots, weights"
   ]
  },
  {
   "cell_type": "code",
   "execution_count": 106,
   "id": "4154f789",
   "metadata": {},
   "outputs": [],
   "source": [
    "def min_fixed_only_quad(f, N):\n",
    "    roots, weights = roots_legendre(N)\n",
    "    xi = roots\n",
    "    wi = weights\n",
    "    return sum(w*(f(x)) for w, x in zip(wi, xi))"
   ]
  },
  {
   "cell_type": "code",
   "execution_count": 186,
   "id": "8d3b0ed1",
   "metadata": {},
   "outputs": [
    {
     "name": "stdout",
     "output_type": "stream",
     "text": [
      "\n",
      "n = 1: I ≈ 2.0, Abs error = 0.35040238728760276\n",
      "n = 2: I ≈ 2.3426960879097307, Abs error = 0.007706299377872039\n",
      "n = 3: I ≈ 2.3503369286800115, Abs error = 6.54586075912178e-05\n",
      "n = 4: I ≈ 2.3504020921563766, Abs error = 2.9513122612456755e-07\n",
      "n = 5: I ≈ 2.350402386462826, Abs error = 8.247766913882515e-10\n",
      "\n"
     ]
    }
   ],
   "source": [
    "def f(x):\n",
    "    return np.exp(x)\n",
    "\n",
    "print(f\"\"\"\n",
    "n = 1: I ≈ {min_fixed_only_quad(f, 1)}, Abs error = {(f(1) - f(-1)) - min_fixed_only_quad(f, 1)}\n",
    "n = 2: I ≈ {min_fixed_only_quad(f, 2)}, Abs error = {(f(1) - f(-1)) - min_fixed_only_quad(f, 2)}\n",
    "n = 3: I ≈ {min_fixed_only_quad(f, 3)}, Abs error = {(f(1) - f(-1)) - min_fixed_only_quad(f, 3)}\n",
    "n = 4: I ≈ {min_fixed_only_quad(f, 4)}, Abs error = {(f(1) - f(-1)) - min_fixed_only_quad(f, 4)}\n",
    "n = 5: I ≈ {min_fixed_only_quad(f, 5)}, Abs error = {(f(1) - f(-1)) - min_fixed_only_quad(f, 5)}\n",
    "\"\"\")"
   ]
  },
  {
   "cell_type": "code",
   "execution_count": 188,
   "id": "c0c66f83",
   "metadata": {},
   "outputs": [
    {
     "data": {
      "text/plain": [
       "-4.440892098500626e-16"
      ]
     },
     "execution_count": 188,
     "metadata": {},
     "output_type": "execute_result"
    }
   ],
   "source": [
    "2.3504020921563766 - 2.350402092156377"
   ]
  },
  {
   "cell_type": "markdown",
   "id": "49b5dfa5",
   "metadata": {},
   "source": [
    "적분 범위를 변환시켜 모두에게 허용되는 함수"
   ]
  },
  {
   "cell_type": "code",
   "execution_count": 193,
   "id": "d2bbca04",
   "metadata": {},
   "outputs": [],
   "source": [
    "def f(x):\n",
    "    return np.exp(x)\n",
    "\n",
    "def min_fixed_any_range(f, a, b, n):\n",
    "    g = lambda x: (b - a)/2 * f((b-a)/2*x + (a+b)/2) \n",
    "    roots, weights = roots_legendre(n)\n",
    "    xi = roots\n",
    "    wi = weights\n",
    "    return sum(w*(g(x)) for w, x in zip(wi, xi))"
   ]
  },
  {
   "cell_type": "markdown",
   "id": "0ba2c1e5",
   "metadata": {},
   "source": [
    "위의 함수와 비교 (절대 오차가 아닌, 코드내에 오차가 있는지)"
   ]
  },
  {
   "cell_type": "code",
   "execution_count": 194,
   "id": "2165c1f5",
   "metadata": {},
   "outputs": [
    {
     "name": "stdout",
     "output_type": "stream",
     "text": [
      "\n",
      "n = 1: I ≈ 2.0, Abs error = 0.35040238728760276\n",
      "n = 2: I ≈ 2.3426960879097307, Abs error = 0.007706299377872039\n",
      "n = 3: I ≈ 2.3503369286800115, Abs error = 6.54586075912178e-05\n",
      "n = 4: I ≈ 2.3504020921563766, Abs error = 2.9513122612456755e-07\n",
      "n = 5: I ≈ 2.350402386462826, Abs error = 8.247766913882515e-10\n",
      "\n"
     ]
    }
   ],
   "source": [
    "print(f\"\"\"\n",
    "n = 1: I ≈ {min_fixed_any_range(f, -1, 1, 1)}, Abs error = {(f(1) - f(-1)) - min_fixed_any_range(f, -1, 1, 1)}\n",
    "n = 2: I ≈ {min_fixed_any_range(f, -1, 1, 2)}, Abs error = {(f(1) - f(-1)) - min_fixed_any_range(f, -1, 1, 2)}\n",
    "n = 3: I ≈ {min_fixed_any_range(f, -1, 1, 3)}, Abs error = {(f(1) - f(-1)) - min_fixed_any_range(f, -1, 1, 3)}\n",
    "n = 4: I ≈ {min_fixed_any_range(f, -1, 1, 4)}, Abs error = {(f(1) - f(-1)) - min_fixed_any_range(f, -1, 1, 4)}\n",
    "n = 5: I ≈ {min_fixed_any_range(f, -1, 1, 5)}, Abs error = {(f(1) - f(-1)) - min_fixed_any_range(f, -1, 1, 5)}\n",
    "\"\"\")"
   ]
  },
  {
   "cell_type": "markdown",
   "id": "55722809",
   "metadata": {},
   "source": [
    "기존의 scipy packagescipy 의 scipy.kntegrate.fixed_quad 처럼 사용\n",
    "그러나 결과물이 리스트가 아니기 때문에, [0] 부분은 제거해준다."
   ]
  },
  {
   "cell_type": "code",
   "execution_count": 158,
   "id": "0c301f1c",
   "metadata": {},
   "outputs": [
    {
     "name": "stdout",
     "output_type": "stream",
     "text": [
      "approximate value = 3.141592639884753, number of sample points = 6\n",
      "Abs error = 1.3705040213807251e-08\n"
     ]
    }
   ],
   "source": [
    "exact_value = np.pi\n",
    "target_acc = 10**(-5)\n",
    "\n",
    "current_acc = 1\n",
    "N = 2\n",
    "result = 0\n",
    "while current_acc > target_acc and N < 20:\n",
    "    result = min_fixed_any_range(lambda x: 4/(1 + x*x), 0, 1, n=N)\n",
    "    current_acc = abs(exact_value - result)\n",
    "    N += 1\n",
    "    \n",
    "print(f\"approximate value = {result}, number of sample points = {N}\")\n",
    "print(f\"Abs error = {exact_value - result}\")"
   ]
  },
  {
   "cell_type": "code",
   "execution_count": 159,
   "id": "fea12b79",
   "metadata": {},
   "outputs": [
    {
     "name": "stdout",
     "output_type": "stream",
     "text": [
      "approximate value = 0.6931471578530402, number of sample points = 6\n",
      "Abs error = 2.270690513395124e-08\n"
     ]
    }
   ],
   "source": [
    "exact_value = np.log(2)\n",
    "target_acc = 10**(-7)\n",
    "\n",
    "current_acc = 1\n",
    "N = 2\n",
    "result = 0\n",
    "while current_acc > target_acc and N < 100:\n",
    "    result = min_fixed_any_range(lambda x: 1/x, 1, 2, n=N)\n",
    "    current_acc = abs(exact_value - result)\n",
    "    N += 1\n",
    "    \n",
    "print(f\"approximate value = {result}, number of sample points = {N}\")\n",
    "print(f\"Abs error = {exact_value - result}\")"
   ]
  },
  {
   "cell_type": "code",
   "execution_count": 245,
   "id": "353e9e41",
   "metadata": {},
   "outputs": [
    {
     "data": {
      "text/plain": [
       "<Figure size 640x480 with 0 Axes>"
      ]
     },
     "metadata": {},
     "output_type": "display_data"
    },
    {
     "data": {
      "image/png": "[encoded data removed]",
      "text/plain": [
       "<Figure size 600x300 with 1 Axes>"
      ]
     },
     "metadata": {},
     "output_type": "display_data"
    }
   ],
   "source": [
    "from scipy import special\n",
    "\n",
    "partition = np.linspace(0, 3, 31)\n",
    "partial_sums = [\n",
    "    min_fixed_any_range(lambda t: np.exp(-t*t), a, b, n=5)\n",
    "    for (a, b) in zip(partition[:-1], partition[1:])\n",
    "]\n",
    "\n",
    "xs = partition\n",
    "approx_erf = np.cumsum(partial_sums) * 2/np.sqrt(np.pi)\n",
    "approx_erf = np.hstack(([0], approx_erf)) # erf(0) = 0\n",
    "\n",
    "x_exact = np.linspace(0, 3, 200)\n",
    "y_exact = special.erf(x_exact)\n",
    "\n",
    "plt.figure()\n",
    "\n",
    "plt.figure(figsize=(6,3))\n",
    "plt.plot(x_exact, y_exact, \"-k\", label=\"exact\")\n",
    "plt.plot(xs, approx_erf, \".:r\", lw=1, label=\"approx\")\n",
    "plt.legend()\n",
    "plt.grid()\n",
    "plt.savefig(\"Error_Funcion.pdf\")"
   ]
  },
  {
   "cell_type": "code",
   "execution_count": 243,
   "id": "11b345d4",
   "metadata": {},
   "outputs": [
    {
     "data": {
      "text/plain": [
       "array([ 0.00000000e+00,  0.00000000e+00,  0.00000000e+00,  6.93889390e-18,\n",
       "        0.00000000e+00,  0.00000000e+00,  2.77555756e-17,  4.16333634e-17,\n",
       "        2.77555756e-17,  2.77555756e-17,  0.00000000e+00,  2.77555756e-17,\n",
       "        0.00000000e+00,  2.77555756e-17,  2.77555756e-17,  5.55111512e-17,\n",
       "        1.11022302e-16,  5.55111512e-17,  1.11022302e-16,  5.55111512e-17,\n",
       "        0.00000000e+00,  5.55111512e-17,  0.00000000e+00,  0.00000000e+00,\n",
       "        5.55111512e-17,  0.00000000e+00,  5.55111512e-17,  0.00000000e+00,\n",
       "        0.00000000e+00,  0.00000000e+00,  0.00000000e+00,  0.00000000e+00,\n",
       "        0.00000000e+00,  0.00000000e+00,  0.00000000e+00,  0.00000000e+00,\n",
       "        0.00000000e+00,  1.11022302e-16,  0.00000000e+00,  1.11022302e-16,\n",
       "        0.00000000e+00,  1.11022302e-16,  1.11022302e-16,  1.11022302e-16,\n",
       "        1.11022302e-16,  1.11022302e-16,  0.00000000e+00, -1.11022302e-16,\n",
       "        0.00000000e+00,  0.00000000e+00,  1.11022302e-16,  0.00000000e+00,\n",
       "        1.11022302e-16,  1.11022302e-16,  0.00000000e+00, -1.11022302e-16,\n",
       "        1.11022302e-16,  1.11022302e-16, -1.11022302e-16,  0.00000000e+00,\n",
       "        0.00000000e+00,  2.22044605e-16,  1.11022302e-16,  1.11022302e-16,\n",
       "        2.22044605e-16,  2.22044605e-16,  2.22044605e-16,  1.11022302e-16,\n",
       "        2.22044605e-16,  1.11022302e-16,  3.33066907e-16,  1.11022302e-16,\n",
       "        1.11022302e-16,  1.11022302e-16,  2.22044605e-16,  1.11022302e-16,\n",
       "        1.11022302e-16,  1.11022302e-16,  1.11022302e-16,  1.11022302e-16,\n",
       "        1.11022302e-16,  1.11022302e-16,  0.00000000e+00,  0.00000000e+00,\n",
       "        1.11022302e-16,  1.11022302e-16,  0.00000000e+00,  0.00000000e+00,\n",
       "        0.00000000e+00,  0.00000000e+00,  0.00000000e+00,  1.11022302e-16,\n",
       "        0.00000000e+00,  1.11022302e-16,  1.11022302e-16,  1.11022302e-16,\n",
       "        1.11022302e-16,  0.00000000e+00,  1.11022302e-16,  1.11022302e-16,\n",
       "        1.11022302e-16,  1.11022302e-16,  2.22044605e-16,  3.33066907e-16,\n",
       "        2.22044605e-16,  3.33066907e-16,  2.22044605e-16,  2.22044605e-16,\n",
       "        2.22044605e-16,  2.22044605e-16,  2.22044605e-16,  2.22044605e-16,\n",
       "        3.33066907e-16,  3.33066907e-16,  3.33066907e-16,  3.33066907e-16,\n",
       "        3.33066907e-16,  3.33066907e-16,  3.33066907e-16,  3.33066907e-16,\n",
       "        3.33066907e-16,  3.33066907e-16,  3.33066907e-16,  2.22044605e-16,\n",
       "        3.33066907e-16,  2.22044605e-16,  3.33066907e-16,  3.33066907e-16,\n",
       "        3.33066907e-16,  3.33066907e-16,  3.33066907e-16,  2.22044605e-16,\n",
       "        2.22044605e-16,  3.33066907e-16,  2.22044605e-16,  2.22044605e-16,\n",
       "        2.22044605e-16,  2.22044605e-16,  2.22044605e-16,  2.22044605e-16,\n",
       "        2.22044605e-16,  3.33066907e-16,  3.33066907e-16,  2.22044605e-16,\n",
       "        3.33066907e-16,  2.22044605e-16,  3.33066907e-16,  2.22044605e-16,\n",
       "        3.33066907e-16,  3.33066907e-16,  3.33066907e-16,  3.33066907e-16,\n",
       "        3.33066907e-16,  3.33066907e-16,  3.33066907e-16,  2.22044605e-16,\n",
       "        2.22044605e-16,  3.33066907e-16,  3.33066907e-16,  3.33066907e-16,\n",
       "        3.33066907e-16,  3.33066907e-16,  3.33066907e-16,  3.33066907e-16,\n",
       "        4.44089210e-16,  4.44089210e-16,  3.33066907e-16,  4.44089210e-16,\n",
       "        2.22044605e-16,  3.33066907e-16,  3.33066907e-16,  3.33066907e-16,\n",
       "        3.33066907e-16,  3.33066907e-16,  4.44089210e-16,  4.44089210e-16,\n",
       "        3.33066907e-16,  3.33066907e-16,  3.33066907e-16,  3.33066907e-16,\n",
       "        4.44089210e-16,  4.44089210e-16,  3.33066907e-16,  3.33066907e-16,\n",
       "        4.44089210e-16,  3.33066907e-16,  3.33066907e-16,  3.33066907e-16,\n",
       "        3.33066907e-16,  3.33066907e-16,  2.22044605e-16,  1.11022302e-16,\n",
       "        1.11022302e-16,  1.11022302e-16,  1.11022302e-16,  1.11022302e-16,\n",
       "        1.11022302e-16,  2.22044605e-16,  1.11022302e-16,  2.22044605e-16])"
      ]
     },
     "execution_count": 243,
     "metadata": {},
     "output_type": "execute_result"
    }
   ],
   "source": [
    "approx_erf - y_exact"
   ]
  },
  {
   "cell_type": "code",
   "execution_count": null,
   "id": "bf605a55",
   "metadata": {},
   "outputs": [],
   "source": []
  },
  {
   "cell_type": "code",
   "execution_count": 238,
   "id": "9b06030d",
   "metadata": {},
   "outputs": [
    {
     "data": {
      "image/png": "[encoded data removed]",
      "text/plain": [
       "<Figure size 640x480 with 4 Axes>"
      ]
     },
     "metadata": {},
     "output_type": "display_data"
    }
   ],
   "source": [
    "from scipy import special\n",
    "\n",
    "partition = np.linspace(0, 20, 10)\n",
    "partial_sums = [\n",
    "    min_fixed_any_range(lambda t: np.exp(-t*t), a, b, n=1)\n",
    "    for (a, b) in zip(partition[:-1], partition[1:])\n",
    "]\n",
    "\n",
    "xs = partition\n",
    "approx_erf = np.cumsum(partial_sums) * 2/np.sqrt(np.pi)\n",
    "approx_erf = np.hstack(([0], approx_erf)) # erf(0) = 0\n",
    "\n",
    "x_exact = np.linspace(0, 20, 200)\n",
    "y_exact = special.erf(x_exact)\n",
    "\n",
    "plt.subplot(221)\n",
    "plt.plot(x_exact, y_exact, \"-k\", label=\"exact\")\n",
    "plt.plot(xs, approx_erf, \".:r\", lw=1, label=\"approx\")\n",
    "plt.legend()\n",
    "plt.grid()\n",
    "\n",
    "\n",
    "\n",
    "\n",
    "\n",
    "\n",
    "\n",
    "partition = np.linspace(0, 20, 10)\n",
    "partial_sums = [\n",
    "    min_fixed_any_range(lambda t: np.exp(-t*t), a, b, n=2)\n",
    "    for (a, b) in zip(partition[:-1], partition[1:])\n",
    "]\n",
    "\n",
    "xs = partition\n",
    "approx_erf = np.cumsum(partial_sums) * 2/np.sqrt(np.pi)\n",
    "approx_erf = np.hstack(([0], approx_erf)) # erf(0) = 0\n",
    "\n",
    "x_exact = np.linspace(0, 20, 200)\n",
    "y_exact = special.erf(x_exact)\n",
    "\n",
    "plt.subplot(222)\n",
    "plt.plot(x_exact, y_exact, \"-k\", label=\"exact\")\n",
    "plt.plot(xs, approx_erf, \".:r\", lw=1, label=\"approx\")\n",
    "plt.legend()\n",
    "plt.grid()\n",
    "\n",
    "\n",
    "\n",
    "\n",
    "\n",
    "\n",
    "\n",
    "partition = np.linspace(0, 20, 10)\n",
    "partial_sums = [\n",
    "    min_fixed_any_range(lambda t: np.exp(-t*t), a, b, n=3)\n",
    "    for (a, b) in zip(partition[:-1], partition[1:])\n",
    "]\n",
    "\n",
    "xs = partition\n",
    "approx_erf = np.cumsum(partial_sums) * 2/np.sqrt(np.pi)\n",
    "approx_erf = np.hstack(([0], approx_erf)) # erf(0) = 0\n",
    "\n",
    "x_exact = np.linspace(0, 20, 200)\n",
    "y_exact = special.erf(x_exact)\n",
    "\n",
    "plt.subplot(223)\n",
    "plt.plot(x_exact, y_exact, \"-k\", label=\"exact\")\n",
    "plt.plot(xs, approx_erf, \".:r\", lw=1, label=\"approx\")\n",
    "plt.legend()\n",
    "plt.grid()\n",
    "\n",
    "\n",
    "\n",
    "\n",
    "\n",
    "\n",
    "\n",
    "\n",
    "\n",
    "\n",
    "partition = np.linspace(0, 20, 10)\n",
    "partial_sums = [\n",
    "    min_fixed_any_range(lambda t: np.exp(-t*t), a, b, n=4)\n",
    "    for (a, b) in zip(partition[:-1], partition[1:])\n",
    "]\n",
    "\n",
    "xs = partition\n",
    "approx_erf = np.cumsum(partial_sums) * 2/np.sqrt(np.pi)\n",
    "approx_erf = np.hstack(([0], approx_erf)) # erf(0) = 0\n",
    "\n",
    "x_exact = np.linspace(0, 20, 200)\n",
    "y_exact = special.erf(x_exact)\n",
    "\n",
    "plt.subplot(224)\n",
    "plt.plot(x_exact, y_exact, \"-k\", label=\"exact\")\n",
    "plt.plot(xs, approx_erf, \".:r\", lw=1, label=\"approx\")\n",
    "\n",
    "\n",
    "plt.legend()\n",
    "plt.grid()\n",
    "plt.savefig(\"Error_Funcion1.pdf\")"
   ]
  },
  {
   "cell_type": "code",
   "execution_count": 170,
   "id": "100ba4e9",
   "metadata": {},
   "outputs": [
    {
     "name": "stdout",
     "output_type": "stream",
     "text": [
      "approximatio = 1.229274134361613, absolute error = 7.354716835550335e-11\n"
     ]
    }
   ],
   "source": [
    "def inner_sum(y):\n",
    "    return min_fixed_any_range(lambda x: y**x, 0, 1, 11)\n",
    "    \n",
    "outer_sum = min_fixed_any_range(inner_sum, 1, 2, 11)\n",
    "\n",
    "print(\"approximatio = {}, absolute error = {}\"\n",
    "      .format(outer_sum, abs(outer_sum - 1.2292741342880657562)))"
   ]
  },
  {
   "cell_type": "code",
   "execution_count": null,
   "id": "e260d8ba",
   "metadata": {},
   "outputs": [],
   "source": []
  }
 ],
 "metadata": {
  "kernelspec": {
   "display_name": "Python 3 (ipykernel)",
   "language": "python",
   "name": "python3"
  },
  "language_info": {
   "codemirror_mode": {
    "name": "ipython",
    "version": 3
   },
   "file_extension": ".py",
   "mimetype": "text/x-python",
   "name": "python",
   "nbconvert_exporter": "python",
   "pygments_lexer": "ipython3",
   "version": "3.9.13"
  }
 },
 "nbformat": 4,
 "nbformat_minor": 5
}
