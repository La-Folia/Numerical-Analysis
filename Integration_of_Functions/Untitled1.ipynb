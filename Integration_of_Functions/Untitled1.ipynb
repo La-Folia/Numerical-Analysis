{
 "cells": [
  {
   "cell_type": "code",
   "execution_count": 7,
   "id": "aa8c1c11",
   "metadata": {},
   "outputs": [],
   "source": [
    "from sympy import *\n",
    "import numpy as np\n",
    "from scipy.integrate import fixed_quad\n",
    "from matplotlib import pyplot as plt\n",
    "from scipy.special import legendre\n",
    "plt.rcParams.update({'font.size': 15})\n",
    "#%config InlineBackend.figure_format='retina'\n",
    "import numpy as np\n",
    "from scipy.special import roots_legendre, eval_legendre\n",
    "          \n",
    "x, y, z, t = symbols('x y z t')\n",
    "f, g, h = symbols('f, g, h', cls=Function)\n",
    "\n",
    "init_printing()\n",
    "%matplotlib inline "
   ]
  },
  {
   "cell_type": "code",
   "execution_count": 4,
   "id": "c2e66831",
   "metadata": {},
   "outputs": [
    {
     "data": {
      "image/png": "[encoded data removed]",
      "text/latex": [
       "$\\displaystyle J_{0}\\left(x\\right)$"
      ],
      "text/plain": [
       "besselj(0, x)"
      ]
     },
     "execution_count": 4,
     "metadata": {},
     "output_type": "execute_result"
    }
   ],
   "source": [
    "besselj(0,x)"
   ]
  },
  {
   "cell_type": "code",
   "execution_count": 8,
   "id": "77585653",
   "metadata": {},
   "outputs": [],
   "source": [
    "def f(x):\n",
    "    return np.exp(x)\n",
    "\n",
    "\n",
    "\n",
    "def min_fixed_any_range(f, a, b, n):\n",
    "    g = lambda x: (b - a)/2 * f((b-a)/2*x + (a+b)/2) \n",
    "    roots, weights = roots_legendre(n)\n",
    "    xi = roots\n",
    "    wi = weights\n",
    "    return sum(w*(g(x)) for w, x in zip(wi, xi))"
   ]
  },
  {
   "cell_type": "code",
   "execution_count": 14,
   "id": "d2df96f9",
   "metadata": {},
   "outputs": [
    {
     "data": {
      "image/png": "[encoded data removed]",
      "text/latex": [
       "$\\displaystyle J^{2}_{0}\\left(3\\right)$"
      ],
      "text/plain": [
       "       2      \n",
       "besselj (0, 3)"
      ]
     },
     "execution_count": 14,
     "metadata": {},
     "output_type": "execute_result"
    }
   ],
   "source": [
    "besselj(0,3) * besselj(0,3)"
   ]
  }
 ],
 "metadata": {
  "kernelspec": {
   "display_name": "Python 3 (ipykernel)",
   "language": "python",
   "name": "python3"
  },
  "language_info": {
   "codemirror_mode": {
    "name": "ipython",
    "version": 3
   },
   "file_extension": ".py",
   "mimetype": "text/x-python",
   "name": "python",
   "nbconvert_exporter": "python",
   "pygments_lexer": "ipython3",
   "version": "3.9.13"
  }
 },
 "nbformat": 4,
 "nbformat_minor": 5
}
