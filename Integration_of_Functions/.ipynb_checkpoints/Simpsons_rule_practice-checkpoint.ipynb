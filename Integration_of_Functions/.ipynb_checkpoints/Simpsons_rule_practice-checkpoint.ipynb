{
 "cells": [
  {
   "cell_type": "code",
   "execution_count": 2,
   "id": "8e4d632a",
   "metadata": {},
   "outputs": [],
   "source": [
    "import numpy as np\n",
    "import matplotlib.pyplot as plt\n",
    "plt.rcParams.update({'font.size': 15})\n",
    "#%config InlineBackend.figure_format='retina'"
   ]
  },
  {
   "cell_type": "code",
   "execution_count": 3,
   "id": "6986123e",
   "metadata": {},
   "outputs": [],
   "source": [
    "def simson_sum(f, partition):\n",
    "    fx = [f(x) for x in partition]\n",
    "    fmid_dx = [(f(0.5 * (r + l)), r - l) for (l, r) in zip(partition[:-1], partition[1:])]\n",
    "    # 모양을 잘 분석하면 어렵지 않다.\n",
    "    # 원래 공식의 여기서는 아래의 c, d 값을 구해야 하기 때문에  튜플의 형태로 구해주는데,\n",
    "    # 각 구간마다 r-l은 곧 dx(b-a)의 의미이고, 아래의 d를 의미.\n",
    "    # (x_i-1 + x_i) / 2 의 값은 4f((x_i-1 + x_i) / 2) 에 들어갈 c 를 의미.\n",
    "    return sum((a + b + 4*c) * d for (a, b, (c, d)) in zip(fx[:-1], fx[1:], fmid_dx)) / 6\n",
    "    # a, b는 그냥 (1,2)/(2,3) 처럼 각 부분을 나타내면 되니까, \n",
    "    # zip을 이용하여 a, b, c, d 구현\n"
   ]
  },
  {
   "cell_type": "code",
   "execution_count": 5,
   "id": "c0764f77",
   "metadata": {},
   "outputs": [
    {
     "name": "stdout",
     "output_type": "stream",
     "text": [
      "simps_sum = 1.0000000000211395, error = 2.113953456728e-11\n"
     ]
    }
   ],
   "source": [
    "result = simson_sum(np.sin, np.linspace(0, np.pi/2, 101))\n",
    "print(\"simps_sum = {}, error = {:.12e}\".format(result, abs(result - 1)))"
   ]
  },
  {
   "cell_type": "code",
   "execution_count": null,
   "id": "6eac7011",
   "metadata": {},
   "outputs": [],
   "source": []
  }
 ],
 "metadata": {
  "kernelspec": {
   "display_name": "Python 3 (ipykernel)",
   "language": "python",
   "name": "python3"
  },
  "language_info": {
   "codemirror_mode": {
    "name": "ipython",
    "version": 3
   },
   "file_extension": ".py",
   "mimetype": "text/x-python",
   "name": "python",
   "nbconvert_exporter": "python",
   "pygments_lexer": "ipython3",
   "version": "3.9.13"
  }
 },
 "nbformat": 4,
 "nbformat_minor": 5
}
