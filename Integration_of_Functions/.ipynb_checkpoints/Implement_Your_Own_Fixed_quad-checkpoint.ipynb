{
 "cells": [
  {
   "cell_type": "code",
   "execution_count": 32,
   "id": "7f1991f1",
   "metadata": {},
   "outputs": [],
   "source": [
    "import numpy as np\n",
    "from scipy.integrate import fixed_quad\n",
    "from matplotlib import pyplot as plt\n",
    "plt.rcParams.update({'font.size': 15})\n",
    "#%config InlineBackend.figure_format='retina'\n",
    "import numpy as np\n",
    "from scipy.special import roots_legendre, eval_legendre"
   ]
  },
  {
   "cell_type": "code",
   "execution_count": 106,
   "id": "80ac4910",
   "metadata": {},
   "outputs": [],
   "source": [
    "def min_fixed_only_quad(f, N):\n",
    "    roots, weights = roots_legendre(N)\n",
    "    xi = roots\n",
    "    wi = weights\n",
    "    return sum(w*(f(x)) for w, x in zip(wi, xi))"
   ]
  },
  {
   "cell_type": "code",
   "execution_count": 153,
   "id": "eeccddf1",
   "metadata": {},
   "outputs": [
    {
     "name": "stdout",
     "output_type": "stream",
     "text": [
      "\n",
      "n = 1: I ≈ 2.0, Abs error = 0.35040238728760276\n",
      "n = 2: I ≈ 2.3426960879097307, Abs error = 0.007706299377872039\n",
      "n = 3: I ≈ 2.3503369286800115, Abs error = 6.54586075912178e-05\n",
      "n = 4: I ≈ 2.3504020921563766, Abs error = 2.9513122612456755e-07\n",
      "n = 5: I ≈ 2.350402386462826, Abs error = 8.247766913882515e-10\n",
      "\n"
     ]
    }
   ],
   "source": [
    "def f(x):\n",
    "    return np.exp(x)\n",
    "\n",
    "print(f\"\"\"\n",
    "n = 1: I ≈ {min_fixed_only_quad(f, 1)}, Abs error = {(f(1) - f(-1)) - min_fixed_only_quad(f, 1)}\n",
    "n = 2: I ≈ {min_fixed_only_quad(f, 2)}, Abs error = {(f(1) - f(-1)) - min_fixed_only_quad(f, 2)}\n",
    "n = 3: I ≈ {min_fixed_only_quad(f, 3)}, Abs error = {(f(1) - f(-1)) - min_fixed_only_quad(f, 3)}\n",
    "n = 4: I ≈ {min_fixed_only_quad(f, 4)}, Abs error = {(f(1) - f(-1)) - min_fixed_only_quad(f, 4)}\n",
    "n = 5: I ≈ {min_fixed_only_quad(f, 5)}, Abs error = {(f(1) - f(-1)) - min_fixed_only_quad(f, 5)}\n",
    "\"\"\")"
   ]
  },
  {
   "cell_type": "markdown",
   "id": "789409e9",
   "metadata": {},
   "source": [
    "적분 범위를 변환시켜 모두에게 허용되는 함수"
   ]
  },
  {
   "cell_type": "code",
   "execution_count": 145,
   "id": "f8d35c48",
   "metadata": {},
   "outputs": [
    {
     "data": {
      "text/plain": [
       "2.3503369286800115"
      ]
     },
     "execution_count": 145,
     "metadata": {},
     "output_type": "execute_result"
    }
   ],
   "source": [
    "def f(x):\n",
    "    return np.exp(x)\n",
    "\n",
    "\n",
    "\n",
    "def min_fixed_any_range(f, a, b, n):\n",
    "    g = lambda x: (b - a)/2 * f((b-a)/2*x + (a+b)/2) \n",
    "    roots, weights = roots_legendre(n)\n",
    "    xi = roots\n",
    "    wi = weights\n",
    "    return sum(w*(g(x)) for w, x in zip(wi, xi))\n",
    "\n",
    "min_fixed_any_range(f, -1, 1, 3)\n",
    "#def integral(f, a, b, N) :\n",
    "    \n",
    "    "
   ]
  },
  {
   "cell_type": "markdown",
   "id": "41070f56",
   "metadata": {},
   "source": [
    "위의 함수와 비교 (절대 오차가 아닌, 코드내에 오차가 있는지)"
   ]
  },
  {
   "cell_type": "code",
   "execution_count": 154,
   "id": "79f62a5a",
   "metadata": {},
   "outputs": [
    {
     "name": "stdout",
     "output_type": "stream",
     "text": [
      "\n",
      "n = 1: I ≈ 2.0, Abs error = 0.35040238728760276\n",
      "n = 2: I ≈ 2.3426960879097307, Abs error = 0.007706299377872039\n",
      "n = 3: I ≈ 2.3503369286800115, Abs error = 6.54586075912178e-05\n",
      "n = 4: I ≈ 2.3504020921563766, Abs error = 2.9513122612456755e-07\n",
      "n = 5: I ≈ 2.350402386462826, Abs error = 8.247766913882515e-10\n",
      "\n"
     ]
    }
   ],
   "source": [
    "print(f\"\"\"\n",
    "n = 1: I ≈ {min_fixed_any_range(f, -1, 1, 1)}, Abs error = {(f(1) - f(-1)) - min_fixed_any_range(f, -1, 1, 1)}\n",
    "n = 2: I ≈ {min_fixed_any_range(f, -1, 1, 2)}, Abs error = {(f(1) - f(-1)) - min_fixed_any_range(f, -1, 1, 2)}\n",
    "n = 3: I ≈ {min_fixed_any_range(f, -1, 1, 3)}, Abs error = {(f(1) - f(-1)) - min_fixed_any_range(f, -1, 1, 3)}\n",
    "n = 4: I ≈ {min_fixed_any_range(f, -1, 1, 4)}, Abs error = {(f(1) - f(-1)) - min_fixed_any_range(f, -1, 1, 4)}\n",
    "n = 5: I ≈ {min_fixed_any_range(f, -1, 1, 5)}, Abs error = {(f(1) - f(-1)) - min_fixed_any_range(f, -1, 1, 5)}\n",
    "\"\"\")"
   ]
  },
  {
   "cell_type": "markdown",
   "id": "1ad6d364",
   "metadata": {},
   "source": [
    "기존의 scipy packagescipy 의 scipy.kntegrate.fixed_quad 처럼 사용\n",
    "그러나 결과물이 리스트가 아니기 때문에, [0] 부분은 제거해준다."
   ]
  },
  {
   "cell_type": "code",
   "execution_count": 158,
   "id": "5539e494",
   "metadata": {},
   "outputs": [
    {
     "name": "stdout",
     "output_type": "stream",
     "text": [
      "approximate value = 3.141592639884753, number of sample points = 6\n",
      "Abs error = 1.3705040213807251e-08\n"
     ]
    }
   ],
   "source": [
    "exact_value = np.pi\n",
    "target_acc = 10**(-5)\n",
    "\n",
    "current_acc = 1\n",
    "N = 2\n",
    "result = 0\n",
    "while current_acc > target_acc and N < 20:\n",
    "    result = min_fixed_any_range(lambda x: 4/(1 + x*x), 0, 1, n=N)\n",
    "    current_acc = abs(exact_value - result)\n",
    "    N += 1\n",
    "    \n",
    "print(f\"approximate value = {result}, number of sample points = {N}\")\n",
    "print(f\"Abs error = {exact_value - result}\")"
   ]
  },
  {
   "cell_type": "code",
   "execution_count": 159,
   "id": "34d8b91c",
   "metadata": {},
   "outputs": [
    {
     "name": "stdout",
     "output_type": "stream",
     "text": [
      "approximate value = 0.6931471578530402, number of sample points = 6\n",
      "Abs error = 2.270690513395124e-08\n"
     ]
    }
   ],
   "source": [
    "exact_value = np.log(2)\n",
    "target_acc = 10**(-7)\n",
    "\n",
    "current_acc = 1\n",
    "N = 2\n",
    "result = 0\n",
    "while current_acc > target_acc and N < 100:\n",
    "    result = min_fixed_any_range(lambda x: 1/x, 1, 2, n=N)\n",
    "    current_acc = abs(exact_value - result)\n",
    "    N += 1\n",
    "    \n",
    "print(f\"approximate value = {result}, number of sample points = {N}\")\n",
    "print(f\"Abs error = {exact_value - result}\")"
   ]
  },
  {
   "cell_type": "code",
   "execution_count": 169,
   "id": "29bb36cc",
   "metadata": {},
   "outputs": [
    {
     "data": {
      "image/png": "[encoded data removed]",
      "text/plain": [
       "<Figure size 640x480 with 1 Axes>"
      ]
     },
     "metadata": {},
     "output_type": "display_data"
    }
   ],
   "source": [
    "from scipy import special\n",
    "\n",
    "partition = np.linspace(0, 3, 31)\n",
    "partial_sums = [\n",
    "    min_fixed_any_range(lambda t: np.exp(-t*t), a, b, n=5)\n",
    "    for (a, b) in zip(partition[:-1], partition[1:])\n",
    "]\n",
    "\n",
    "xs = partition\n",
    "approx_erf = np.cumsum(partial_sums) * 2/np.sqrt(np.pi)\n",
    "approx_erf = np.hstack(([0], approx_erf)) # erf(0) = 0\n",
    "\n",
    "x_exact = np.linspace(0, 3, 200)\n",
    "y_exact = special.erf(x_exact)\n",
    "\n",
    "plt.figure()\n",
    "\n",
    "plt.plot(x_exact, y_exact, \"-k\", label=\"exact\")\n",
    "plt.plot(xs, approx_erf, \".:r\", lw=1, label=\"approx\")\n",
    "plt.legend()\n",
    "\n",
    "plt.show()"
   ]
  },
  {
   "cell_type": "code",
   "execution_count": 170,
   "id": "f426e29a",
   "metadata": {},
   "outputs": [
    {
     "name": "stdout",
     "output_type": "stream",
     "text": [
      "approximatio = 1.229274134361613, absolute error = 7.354716835550335e-11\n"
     ]
    }
   ],
   "source": [
    "def inner_sum(y):\n",
    "    return min_fixed_any_range(lambda x: y**x, 0, 1, 11)\n",
    "    \n",
    "outer_sum = min_fixed_any_range(inner_sum, 1, 2, 11)\n",
    "\n",
    "print(\"approximatio = {}, absolute error = {}\"\n",
    "      .format(outer_sum, abs(outer_sum - 1.2292741342880657562)))"
   ]
  },
  {
   "cell_type": "code",
   "execution_count": null,
   "id": "78288c91",
   "metadata": {},
   "outputs": [],
   "source": []
  }
 ],
 "metadata": {
  "kernelspec": {
   "display_name": "Python 3 (ipykernel)",
   "language": "python",
   "name": "python3"
  },
  "language_info": {
   "codemirror_mode": {
    "name": "ipython",
    "version": 3
   },
   "file_extension": ".py",
   "mimetype": "text/x-python",
   "name": "python",
   "nbconvert_exporter": "python",
   "pygments_lexer": "ipython3",
   "version": "3.9.13"
  }
 },
 "nbformat": 4,
 "nbformat_minor": 5
}
