{
 "cells": [
  {
   "cell_type": "code",
   "execution_count": 4,
   "id": "f031d0e8",
   "metadata": {},
   "outputs": [],
   "source": [
    "import numpy as np\n",
    "from scipy.integrate import fixed_quad\n",
    "from matplotlib import pyplot as plt\n",
    "from scipy.special import legendre\n",
    "from scipy import optimize\n",
    "plt.rcParams.update({'font.size': 15})\n",
    "#%config InlineBackend.figure_format='retina'\n",
    "\n"
   ]
  },
  {
   "cell_type": "code",
   "execution_count": 2,
   "id": "1911fcfd",
   "metadata": {},
   "outputs": [
    {
     "ename": "NameError",
     "evalue": "name 'symbols' is not defined",
     "output_type": "error",
     "traceback": [
      "\u001b[0;31m---------------------------------------------------------------------------\u001b[0m",
      "\u001b[0;31mNameError\u001b[0m                                 Traceback (most recent call last)",
      "\u001b[0;32m/var/folders/kk/2pj93ygs67nbx9_42r_c6_3c0000gn/T/ipykernel_22213/3274915100.py\u001b[0m in \u001b[0;36m<module>\u001b[0;34m\u001b[0m\n\u001b[0;32m----> 1\u001b[0;31m \u001b[0mx\u001b[0m \u001b[0;34m=\u001b[0m \u001b[0msymbols\u001b[0m\u001b[0;34m(\u001b[0m\u001b[0;34m\"x\"\u001b[0m\u001b[0;34m)\u001b[0m\u001b[0;34m\u001b[0m\u001b[0;34m\u001b[0m\u001b[0m\n\u001b[0m\u001b[1;32m      2\u001b[0m \u001b[0mp_a\u001b[0m \u001b[0;34m=\u001b[0m \u001b[0;34m[\u001b[0m\u001b[0;34m]\u001b[0m\u001b[0;34m\u001b[0m\u001b[0;34m\u001b[0m\u001b[0m\n\u001b[1;32m      3\u001b[0m \u001b[0;34m\u001b[0m\u001b[0m\n\u001b[1;32m      4\u001b[0m \u001b[0mn\u001b[0m \u001b[0;34m=\u001b[0m \u001b[0;36m3\u001b[0m\u001b[0;34m\u001b[0m\u001b[0;34m\u001b[0m\u001b[0m\n\u001b[1;32m      5\u001b[0m \u001b[0;31m# 방정식 분배, 회귀 법칙에 넣기 위해\u001b[0m\u001b[0;34m\u001b[0m\u001b[0;34m\u001b[0m\u001b[0m\n",
      "\u001b[0;31mNameError\u001b[0m: name 'symbols' is not defined"
     ]
    }
   ],
   "source": [
    "x = symbols(\"x\")\n",
    "p_a = []\n",
    "\n",
    "n = 3\n",
    "# 방정식 분배, 회귀 법칙에 넣기 위해\n",
    "#legendre(n+1, x) #p_n+1\n",
    "#legendre(n, x) #p_n   \n",
    "#legendre(n-1, x) #p_n-1\n",
    "\n",
    "def f(x):# 회귀 법칙에 대입하여 해를 구하기\n",
    "    return (n + 1) * legendre(n+1, x) - ((2 * n + 1) * x * legendre(n, x) - n * legendre(n-1, x))        \n",
    "\n",
    "def fprime(x): #뉴턴의 방식으로 해를 얻기 위해서 도함수를 구해준다.\n",
    "    return Derivative(f(x), x).doit()\n",
    "\n",
    "sol = optimize.root_scalar(f, x0=0.001, fprime=fprime, method='newton')\n",
    "sol\n",
    "\n",
    "#sol_list.append(sol)\n",
    "#list1 = []   \n",
    "#sol_list\n",
    "\n",
    "#    return p_n2, p_n1, p_n0\n",
    "#def P(x): #p를 정의하게 만드는 함수\n",
    "#    p_a[n][0]"
   ]
  },
  {
   "cell_type": "code",
   "execution_count": null,
   "id": "6740e00e",
   "metadata": {},
   "outputs": [],
   "source": [
    "(n + 1) * legendre(n+1, x) - ((2 * n + 1) * x * legendre(n, x) - n * legendre(n-1, x))"
   ]
  },
  {
   "cell_type": "code",
   "execution_count": null,
   "id": "e56a972d",
   "metadata": {},
   "outputs": [],
   "source": [
    "sol = optimize.root_scalar(legendre(1, x), bracket = [-1,1], method='bisect')\n",
    "sol"
   ]
  },
  {
   "cell_type": "code",
   "execution_count": null,
   "id": "30244c00",
   "metadata": {},
   "outputs": [],
   "source": [
    "for i in legendre(2):\n",
    "    def f(x) :\n",
    "        i * x ** len(legendre(2))\n",
    "print(f(3))"
   ]
  },
  {
   "cell_type": "code",
   "execution_count": null,
   "id": "20fd96cc",
   "metadata": {},
   "outputs": [],
   "source": [
    "gas = legendre(3)\n",
    "for i in range(len(gas)):\n",
    "    a = gas[len(gas)] * x ** (len(gas)-i)\n",
    "print(a)\n",
    "\n",
    "\n",
    "def f(x):\n",
    "    for i in range(n):\n",
    "        list2.append(x**len(range(i)))\n",
    "    print(sorted(list2))\n",
    "    return sum(sorted(list2, reverse = True)) "
   ]
  },
  {
   "cell_type": "code",
   "execution_count": null,
   "id": "b109585c",
   "metadata": {},
   "outputs": [],
   "source": [
    "legendre(2)"
   ]
  },
  {
   "cell_type": "code",
   "execution_count": 36,
   "id": "9189a67b",
   "metadata": {},
   "outputs": [
    {
     "data": {
      "text/plain": [
       "[-0.53846931,\n",
       " -0.90617985,\n",
       " 0.28899997,\n",
       " 0.2884781046270601,\n",
       " 0.28899997102334335,\n",
       " 0.2884781,\n",
       " 0.2904503980229395,\n",
       " 0.2904504,\n",
       " 0.5384693101056831,\n",
       " 0.53846931,\n",
       " 0.5384693101056862,\n",
       " 0.5384693101056827,\n",
       " 0.9061798459386524,\n",
       " 0.5384693101056828,\n",
       " 0.5384693101056829,\n",
       " 0.5384693101056864,\n",
       " 0.538469310105683,\n",
       " 0.7672010488645786,\n",
       " 0.9061798459386616,\n",
       " 0.5384693101056813,\n",
       " 0.9061798459386866,\n",
       " 0.5384693101056779,\n",
       " 0.5384693101056832,\n",
       " 0.9061798459386718,\n",
       " 0.5384693101056833,\n",
       " 0.538469310105694,\n",
       " 0.5384693101056817,\n",
       " 0.5384693101056994,\n",
       " 0.90617985,\n",
       " 0.9061798459386301,\n",
       " 0.76909284,\n",
       " 0.906179845938664,\n",
       " 0.9061798459386551,\n",
       " 0.9061798459390139,\n",
       " 0.9061798459386641,\n",
       " 0.5384693101056589,\n",
       " 0.76720105,\n",
       " 0.9061798459387761,\n",
       " 0.5384693101056803,\n",
       " 0.7690928372983428,\n",
       " 0.5384693101058403,\n",
       " 0.5384693101056858,\n",
       " 0.9061798459386644,\n",
       " 0.5384693101056788,\n",
       " 0.5384693101056965,\n",
       " 0.5384693101054976,\n",
       " 0.5384693101056841,\n",
       " 0.9061798459386663,\n",
       " 0.9061798459381905,\n",
       " 0.9061798459386451]"
      ]
     },
     "execution_count": 36,
     "metadata": {},
     "output_type": "execute_result"
    }
   ],
   "source": [
    "partition = np.linspace(0.1, 1, 101)\n",
    "sollist = []\n",
    "for (l, r) in zip(partition[:-1], partition[1:]):\n",
    "        sol = optimize.root_scalar(legendre(5),x0 = l, x1 =r\n",
    "                           ,method='secant')\n",
    "        if sol.root > 0:\n",
    "            sollist.append(sol.root)\n",
    "        sollist.append(round(sol.root,8))\n",
    "        #for i in len(partition):\n",
    "        #    if sollist[i] - sollist[i+1] < 1e10:\n",
    "        #        del sollist[i]\n",
    "\n",
    "sollist_1 = [i for i in sollist if abs(i) > 0.01]\n",
    "list(set(sollist_1))"
   ]
  },
  {
   "cell_type": "code",
   "execution_count": 65,
   "id": "5e9265d2",
   "metadata": {},
   "outputs": [],
   "source": [
    "def secant_while(f, xinit, predicate):\n",
    "    \"\"\"Return the root calculated using the secant method.\n",
    "\n",
    "    :param f:\n",
    "        A function to solve.\n",
    "    :param xinit:\n",
    "        A pair of initial values for x.\n",
    "    :param predicate:\n",
    "        A callable that takes three arguments\n",
    "            - i : the iteration count\n",
    "            - xy : a pair of the midpoint and the function value in the current iteration\n",
    "            - dx : the change of the x value\n",
    "        and returns boolean:\n",
    "            - If True, the search continues.\n",
    "            - If False, the search terminates.\n",
    "    \"\"\"\n",
    "\n",
    "    x0, x1 = map(float, xinit)\n",
    "    f0, f1 = f(x0), f(x1)\n",
    "    i, x2, f2 = 0, float(\"nan\"), float(\"nan\")\n",
    "    \n",
    "    def secant_root():\n",
    "        nonlocal i, x2, f2\n",
    "        x2 = x1 - f1 * (x1 - x0) / (f1 - f0)\n",
    "        f2 = f(x2)\n",
    "        i += 1\n",
    "        return i, (x2, f2), x2 - x1\n",
    "\n",
    "    while predicate(*secant_root()):\n",
    "        x0, x1 = x1, x2\n",
    "        f0, f1 = f1, f2\n",
    "        \n",
    "    return x2"
   ]
  },
  {
   "cell_type": "code",
   "execution_count": 6,
   "id": "24927379",
   "metadata": {},
   "outputs": [
    {
     "data": {
      "text/plain": [
       "[-0.77459667, 0.77459667, 0]"
      ]
     },
     "execution_count": 6,
     "metadata": {},
     "output_type": "execute_result"
    }
   ],
   "source": [
    "partition = np.linspace(-1, 1, 100)\n",
    "sollist = []\n",
    "sollist_1 = []\n",
    "a = []\n",
    "\n",
    "for (l, r) in zip(partition[:-1], partition[1:]):\n",
    "        sol = secant_while(legendre(3), (l, r),\n",
    "                           lambda i, xy, dx: abs(dx) > 1e-30)\n",
    "        sollist.append(round(sol,8))\n",
    "\n",
    "\n",
    "    \n",
    "sollist_1 = [i for i in sollist if abs(i) > 1e-5]\n",
    "a = list(set(sollist_1))\n",
    "if 0 in sollist:\n",
    "    a.append(0)\n",
    "a"
   ]
  },
  {
   "cell_type": "code",
   "execution_count": 64,
   "id": "7c0c75d6",
   "metadata": {},
   "outputs": [
    {
     "name": "stderr",
     "output_type": "stream",
     "text": [
      "/var/folders/kk/2pj93ygs67nbx9_42r_c6_3c0000gn/T/ipykernel_22213/1262795712.py:24: RuntimeWarning: overflow encountered in double_scalars\n",
      "  x2 = x1 - f1 * (x1 - x0) / (f1 - f0)\n"
     ]
    },
    {
     "data": {
      "text/plain": [
       "8"
      ]
     },
     "execution_count": 64,
     "metadata": {},
     "output_type": "execute_result"
    }
   ],
   "source": [
    "partition = np.linspace(-1, 1, 10)\n",
    "sollist = []\n",
    "sollist_1 = []\n",
    "a = []\n",
    "N = 20\n",
    "for (l, r) in zip(partition[:-1], partition[1:]):\n",
    "        sol = secant_while(legendre(N), (l, r),\n",
    "                           lambda i, xy, dx: abs(dx) > 1e-10)\n",
    "        sollist.append(round(sol,8))\n",
    "\n",
    "\n",
    "    \n",
    "sollist_1 = [i for i in sollist if abs(i) > 1e-30]\n",
    "a = list(set(sollist_1))\n",
    "if N % 2 != 0:\n",
    "    a.append(0)\n",
    "\n",
    "len(a)"
   ]
  },
  {
   "cell_type": "code",
   "execution_count": 60,
   "id": "fe140bd9",
   "metadata": {},
   "outputs": [
    {
     "data": {
      "text/plain": [
       "array([-0.90617985, -0.53846931,  0.        ,  0.53846931,  0.90617985])"
      ]
     },
     "execution_count": 60,
     "metadata": {},
     "output_type": "execute_result"
    }
   ],
   "source": [
    "import numpy as np\n",
    "from scipy.special import roots_legendre, eval_legendre\n",
    "roots, weights = roots_legendre(5)\n",
    "roots"
   ]
  }
 ],
 "metadata": {
  "kernelspec": {
   "display_name": "Python 3 (ipykernel)",
   "language": "python",
   "name": "python3"
  },
  "language_info": {
   "codemirror_mode": {
    "name": "ipython",
    "version": 3
   },
   "file_extension": ".py",
   "mimetype": "text/x-python",
   "name": "python",
   "nbconvert_exporter": "python",
   "pygments_lexer": "ipython3",
   "version": "3.9.13"
  }
 },
 "nbformat": 4,
 "nbformat_minor": 5
}
