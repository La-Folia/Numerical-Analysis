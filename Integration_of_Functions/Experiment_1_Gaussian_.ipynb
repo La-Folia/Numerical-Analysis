{
 "cells": [
  {
   "cell_type": "code",
   "execution_count": 57,
   "id": "b39ff77c",
   "metadata": {},
   "outputs": [],
   "source": [
    "import numpy as np\n",
    "\n",
    "from scipy.integrate import fixed_quad\n",
    "from matplotlib import pyplot as plt\n",
    "plt.rcParams.update({'font.size': 15})\n",
    "#%config InlineBackend.figure_format='retina'\n",
    "import numpy as np\n",
    "from scipy.special import roots_legendre, eval_legendre\n",
    "\n",
    "import numpy as np\n",
    "import matplotlib.pyplot as plt\n",
    "plt.rcParams.update({'font.size': 15})\n",
    "#%config InlineBackend.figure_format='retina'"
   ]
  },
  {
   "cell_type": "code",
   "execution_count": 58,
   "id": "7a1964d9",
   "metadata": {},
   "outputs": [],
   "source": [
    "def riemann_sum(f, partition, method = 0):\n",
    "    \"\"\"Compute the {left|middle|right} Reimann sum of f(x) given the partition.\n",
    "    \n",
    "    :param f:\n",
    "        A function of one variable \n",
    "    :param partition:\n",
    "        A sequence of x partition points; the length must be greater than or equal to 2\n",
    "    :param method:\n",
    "        Either -1 (left sum), 0 (middle sum), or 1 (right sum)\n",
    "        The default is 0.\n",
    "    \"\"\"\n",
    "    assert method == 0 or method == -1 or method == 1, f'Unrecognized method={method}'\n",
    "    #assert가 false 가 되면 Unrecognized method가 뜨게 하여, 함수 내의 오류가 아님을 보여준다. \n",
    "        \n",
    "    dx = [r - l for (l, r) in zip(partition[:-1], partition[1:])]\n",
    "    N  = len(partition) - 1\n",
    "    \n",
    "    li = 0 + int(method > 0) #left\n",
    "    ri = 1 - int(method < 0) #right\n",
    "    \n",
    "    \n",
    "    #이해가 안되는 부분...\n",
    "    xi = [0.5 * (r + l) for (l, r) in\n",
    "          zip(partition[li:(li+N)], \n",
    "              partition[ri:(ri+N)])\n",
    "         ] #mid\n",
    "    \n",
    "    return sum(f(x) * d for (x, d) in zip(xi, dx))"
   ]
  },
  {
   "cell_type": "code",
   "execution_count": 65,
   "id": "e4d74a84",
   "metadata": {},
   "outputs": [],
   "source": [
    "def simpson_sum(f, partition):\n",
    "    fx = [f(x) for x in partition]\n",
    "    fmid_dx = [(f(0.5 * (r + l)), r - l) for (l, r) in zip(partition[:-1], partition[1:])]\n",
    "    # 모양을 잘 분석하면 어렵지 않다.\n",
    "    # 원래 공식의 여기서는 아래의 c, d 값을 구해야 하기 때문에  튜플의 형태로 구해주는데,\n",
    "    # 각 구간마다 r-l은 곧 dx(b-a)의 의미이고, 아래의 d를 의미.\n",
    "    # (x_i-1 + x_i) / 2 의 값은 4f((x_i-1 + x_i) / 2) 에 들어갈 c 를 의미.\n",
    "    return sum((a + b + 4*c) * d for (a, b, (c, d)) in zip(fx[:-1], fx[1:], fmid_dx)) / 6\n",
    "    # a, b는 그냥 (1,2)/(2,3) 처럼 각 부분을 나타내면 되니까, \n",
    "    # zip을 이용하여 a, b, c, d 구현\n",
    "    "
   ]
  },
  {
   "cell_type": "code",
   "execution_count": 66,
   "id": "a05dee82",
   "metadata": {},
   "outputs": [],
   "source": [
    "def trapezoid_sum(f, partition):\n",
    "    \"\"\"Compute the integral of f(x) given the partition using the trapezoid rule.\n",
    "    \n",
    "    :param f:\n",
    "        A function of one variable\n",
    "    :param partition:\n",
    "        A sequence of x partition points; the length must be greater than or equal to 2\n",
    "    \"\"\"\n",
    "    \n",
    "    fx = [f(x) for x in partition] # linspace로 x값들을 분할해서 리스트에 저장\n",
    "    dx = [r - l for (l, r) in zip(partition[:-1], partition[1:])] #,(2 - 1)/(3 - 2) ...이렇게 나타남\n",
    "    return 0.5 * sum((a + b) * d for (a, b, d) in zip(fx[:-1], fx[1:], dx)) #공식 그대로 대입"
   ]
  },
  {
   "cell_type": "code",
   "execution_count": 4,
   "id": "db02f1f2",
   "metadata": {},
   "outputs": [],
   "source": [
    "def min_fixed_only_quad(f, N):\n",
    "    roots, weights = roots_legendre(N)\n",
    "    xi = roots\n",
    "    wi = weights\n",
    "    return sum(w*(f(x)) for w, x in zip(wi, xi))"
   ]
  },
  {
   "cell_type": "code",
   "execution_count": 38,
   "id": "fa946ab7",
   "metadata": {},
   "outputs": [],
   "source": [
    "def f(x):\n",
    "    return np.exp(x)"
   ]
  },
  {
   "cell_type": "markdown",
   "id": "8ff327dc",
   "metadata": {},
   "source": [
    "## 불연속성인데도 계산이 된다. 근데 trapezoid-sum은 왜 정확도를 이룰까??"
   ]
  },
  {
   "cell_type": "code",
   "execution_count": 165,
   "id": "2a7fcb53",
   "metadata": {},
   "outputs": [],
   "source": [
    "def f(x):\n",
    "    return 1 / x"
   ]
  },
  {
   "cell_type": "code",
   "execution_count": 189,
   "id": "0ac18147",
   "metadata": {},
   "outputs": [
    {
     "name": "stdout",
     "output_type": "stream",
     "text": [
      "\n",
      "Gaussian-legendre method: -9.877081791342945e-17,\n",
      "Riemann-sum method.     : 363927242615797.8,\n",
      "Simson-sum method.      : 242618161743865.6,\n",
      "Trapezoid-sum method.   : -2.5830032557294658e-14\n"
     ]
    }
   ],
   "source": [
    "a = min_fixed_any_range(f, -1, 1, 100)\n",
    "b = riemann_sum(f, np.linspace(-1, 1, 100), method=0)\n",
    "c = simpson_sum(f, np.linspace(-1, 1, 100))\n",
    "d = trapezoid_sum(f, np.linspace(-1, 1, 100))\n",
    "\n",
    "print(f\"\"\"\n",
    "Gaussian-legendre method: {a},\n",
    "Riemann-sum method.     : {b},\n",
    "Simson-sum method.      : {c},\n",
    "Trapezoid-sum method.   : {d}\"\"\")"
   ]
  },
  {
   "cell_type": "markdown",
   "id": "eb10a37a",
   "metadata": {},
   "source": [
    "## 단위 계단 함수(Heaviside steop function) \n",
    "#### 실제 적분 값은 라플라스 변환을 통해서 구해야 할듯.\n",
    "https://m.blog.naver.com/PostView.naver?isHttpsRedirect=true&blogId=leesu52&logNo=90189504569"
   ]
  },
  {
   "cell_type": "code",
   "execution_count": 205,
   "id": "2861d323",
   "metadata": {},
   "outputs": [],
   "source": [
    "def g(x):\n",
    "    if isinstance(x, np.ndarray):\n",
    "        return np.where(x >= 0, 1, 0.0)\n",
    "    else:\n",
    "        return 1.0 if x > 0 else 0.0"
   ]
  },
  {
   "cell_type": "code",
   "execution_count": 206,
   "id": "3181491e",
   "metadata": {},
   "outputs": [
    {
     "data": {
      "text/plain": [
       "<Figure size 640x480 with 0 Axes>"
      ]
     },
     "metadata": {},
     "output_type": "display_data"
    },
    {
     "data": {
      "image/png": "[encoded data removed]",
      "text/plain": [
       "<Figure size 1000x300 with 1 Axes>"
      ]
     },
     "metadata": {},
     "output_type": "display_data"
    }
   ],
   "source": [
    "x = np.linspace(-1, 1, 10000)\n",
    "y = g(x)\n",
    "\"\"\"\n",
    "from scipy import special\n",
    "\n",
    "partition = np.linspace(0, 3, 31)\n",
    "partial_sums = [\n",
    "    min_fixed_any_range(lambda t: np.exp(-t*t), a, b, n=5)\n",
    "    for (a, b) in zip(partition[:-1], partition[1:])\n",
    "]\n",
    "\n",
    "xs = partition\n",
    "approx_erf = np.cumsum(partial_sums) * 2/np.sqrt(np.pi)\n",
    "print(np.sum(partial_sums) * 2/np.sqrt(np.pi))\n",
    "approx_erf = np.hstack(([0], approx_erf)) # erf(0) = 0\n",
    "\n",
    "x_exact = np.linspace(0, 3, 200)\n",
    "y_exact = special.erf(x_exact)\n",
    "\"\"\"\n",
    "plt.figure()\n",
    "\n",
    "plt.figure(figsize=(10,3))\n",
    "plt.plot(x, y, \"-k\", label=\"exact\")\n",
    "#plt.plot(xs, approx_erf, \".:r\", lw=1, label=\"approx\")\n",
    "plt.legend()\n",
    "plt.grid()\n",
    "plt.savefig(\"Error_Funcion.pdf\")"
   ]
  },
  {
   "cell_type": "code",
   "execution_count": 207,
   "id": "22985cf9",
   "metadata": {},
   "outputs": [
    {
     "name": "stdout",
     "output_type": "stream",
     "text": [
      "\n",
      "Gaussian-legendre method: 1.0,\n",
      "Riemann-sum method.     : 0.8888888888888888,\n",
      "Simson-sum method.      : 0.9259259259259259,\n",
      "Trapezoid-sum method.   : 1.0\n"
     ]
    }
   ],
   "source": [
    "a = min_fixed_any_range(g, -1, 1, 10)\n",
    "b = riemann_sum(g, np.linspace(-1, 1, 10), method=0)\n",
    "c = simpson_sum(g, np.linspace(-1, 1, 10))\n",
    "d = trapezoid_sum(g, np.linspace(-1, 1, 10))\n",
    "\n",
    "print(f\"\"\"\n",
    "Gaussian-legendre method: {a},\n",
    "Riemann-sum method.     : {b},\n",
    "Simson-sum method.      : {c},\n",
    "Trapezoid-sum method.   : {d}\"\"\")"
   ]
  },
  {
   "cell_type": "code",
   "execution_count": 177,
   "id": "a82ad8f6",
   "metadata": {},
   "outputs": [],
   "source": [
    "def h(x):\n",
    "    return np.exp(x) + x**3 + np.sin(x)"
   ]
  },
  {
   "cell_type": "code",
   "execution_count": 190,
   "id": "eaa1ae29",
   "metadata": {},
   "outputs": [
    {
     "name": "stdout",
     "output_type": "stream",
     "text": [
      "\n",
      "Gaussian-legendre method: 11.727625800174474, abs error :1.5987211554602254e-14\n",
      "Riemann-sum method.     : 11.658001117537395, abs error :0.06962468263709454\n",
      "Simson-sum method.      : 11.727659912174076, abs error :-3.4111999585917374e-05\n",
      "Trapezoid-sum method.   : 11.866977501447437 abs error :-0.13935170127294683\n"
     ]
    }
   ],
   "source": [
    "a = min_fixed_any_range(h, -1, 2, 10)\n",
    "b = riemann_sum(h, np.linspace(-1, 2, 10), method=0)\n",
    "c = simpson_sum(h, np.linspace(-1, 2, 10))\n",
    "d = trapezoid_sum(h, np.linspace(-1, 2, 10))\n",
    "real = 11.727625800174490010033408527357285739232815631213546608004538249\n",
    "print(f\"\"\"\n",
    "Gaussian-legendre method: {a}, abs error :{real - a}\n",
    "Riemann-sum method.     : {b}, abs error :{real - b}\n",
    "Simson-sum method.      : {c}, abs error :{real - c}\n",
    "Trapezoid-sum method.   : {d} abs error :{real - d}\"\"\")"
   ]
  }
 ],
 "metadata": {
  "kernelspec": {
   "display_name": "Python 3 (ipykernel)",
   "language": "python",
   "name": "python3"
  },
  "language_info": {
   "codemirror_mode": {
    "name": "ipython",
    "version": 3
   },
   "file_extension": ".py",
   "mimetype": "text/x-python",
   "name": "python",
   "nbconvert_exporter": "python",
   "pygments_lexer": "ipython3",
   "version": "3.9.13"
  }
 },
 "nbformat": 4,
 "nbformat_minor": 5
}
