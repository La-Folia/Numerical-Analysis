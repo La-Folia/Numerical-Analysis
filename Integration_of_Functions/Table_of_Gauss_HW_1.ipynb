{
 "cells": [
  {
   "cell_type": "code",
   "execution_count": 1,
   "id": "8e211c53",
   "metadata": {},
   "outputs": [],
   "source": [
    "import numpy as np\n",
    "from scipy.integrate import fixed_quad\n",
    "from matplotlib import pyplot as plt\n",
    "from scipy.special import legendre\n",
    "from scipy import optimize\n",
    "plt.rcParams.update({'font.size': 15})\n",
    "#%config InlineBackend.figure_format='retina'\n",
    "\n"
   ]
  },
  {
   "cell_type": "code",
   "execution_count": 437,
   "id": "aa2dee4d",
   "metadata": {},
   "outputs": [
    {
     "data": {
      "text/plain": [
       "8"
      ]
     },
     "execution_count": 437,
     "metadata": {},
     "output_type": "execute_result"
    }
   ],
   "source": [
    "def secant_while(f, xinit, predicate):\n",
    "    \"\"\"Return the root calculated using the secant method.\n",
    "\n",
    "    :param f:\n",
    "        A function to solve.\n",
    "    :param xinit:\n",
    "        A pair of initial values for x.\n",
    "    :param predicate:\n",
    "        A callable that takes three arguments\n",
    "            - i : the iteration count\n",
    "            - xy : a pair of the midpoint and the function value in the current iteration\n",
    "            - dx : the change of the x value\n",
    "        and returns boolean:\n",
    "            - If True, the search continues.\n",
    "            - If False, the search terminates.\n",
    "    \"\"\"\n",
    "\n",
    "    x0, x1 = map(float, xinit)\n",
    "    f0, f1 = f(x0), f(x1)\n",
    "    i, x2, f2 = 0, float(\"nan\"), float(\"nan\")\n",
    "    \n",
    "    def secant_root():\n",
    "        nonlocal i, x2, f2\n",
    "        x2 = x1 - f1 * (x1 - x0) / (f1 - f0)\n",
    "        f2 = f(x2)\n",
    "        i += 1\n",
    "        return i, (x2, f2), x2 - x1\n",
    "\n",
    "    while predicate(*secant_root()):\n",
    "        x0, x1 = x1, x2\n",
    "        f0, f1 = f1, f2\n",
    "        \n",
    "    return x2\n",
    "\n",
    "N = 5\n",
    "partition = np.linspace(-1, 1, 100)\n",
    "sollist = []\n",
    "sollist_1 = []\n",
    "b = []\n",
    "\n",
    "for (l, r) in zip(partition[:-1], partition[1:]):\n",
    "        sol = secant_while(legendre(N), (l, r),\n",
    "                           lambda i, xy, dx: abs(dx) > 1e-10)\n",
    "        sollist.append(round(sol,8))\n",
    "\n",
    "\n",
    "    \n",
    "sollist_1 = [i for i in sollist if abs(i) > 0.1 and abs(i) < 1]\n",
    "# 1보단 작으면서 오차 범위를 만족하는 중복된 범위의 요소들을 제거.\n",
    "b = list(set(sollist_1))\n",
    "if N % 2 != 0:\n",
    "    b.append(0)\n",
    "len(b)"
   ]
  },
  {
   "cell_type": "markdown",
   "id": "89b12e2d",
   "metadata": {},
   "source": [
    "실험중"
   ]
  },
  {
   "cell_type": "code",
   "execution_count": 490,
   "id": "5cb1aad8",
   "metadata": {},
   "outputs": [
    {
     "name": "stdout",
     "output_type": "stream",
     "text": [
      "5 5\n",
      "[-0.906, -0.538, 0.906, 0.538, 0] [array([ 7.48832392e-04,  3.37244128e+12, -4.36818895e-04, -9.44283559e+12,\n",
      "        8.26414126e-04, -9.83628707e+12, -5.09622044e-03,  7.86902966e+13,\n",
      "        1.01924409e-01]), array([ 2.96983406e-03,  1.33749436e+13, -1.73240320e-03, -3.74498419e+13,\n",
      "        3.27751957e-03, -3.90102520e+13, -2.02113707e-02,  3.12082016e+14,\n",
      "        4.04227413e-01]), array([ 7.48832392e-04,  3.37244128e+12, -4.36818895e-04, -9.44283559e+12,\n",
      "        8.26414126e-04, -9.83628707e+12, -5.09622044e-03,  7.86902966e+13,\n",
      "        1.01924409e-01]), array([ 2.96983406e-03,  1.33749436e+13, -1.73240320e-03, -3.74498419e+13,\n",
      "        3.27751957e-03, -3.90102520e+13, -2.02113707e-02,  3.12082016e+14,\n",
      "        4.04227413e-01]), poly1d([ 4.17959184e-03,  1.88232082e+13, -2.43809524e-03, -5.27049831e+13,\n",
      "        4.61261261e-03, -5.49010240e+13, -2.84444444e-02,  4.39208192e+14,\n",
      "        5.68888889e-01])]\n"
     ]
    }
   ],
   "source": [
    "N = 5\n",
    "partition = np.linspace(-1., 1., 20)\n",
    "sollist = []\n",
    "sollist_1 = []\n",
    "a = []\n",
    "wlist = []\n",
    "\n",
    "\n",
    "for (l, r) in zip(partition[:-1], partition[1:]):\n",
    "        sol = optimize.root_scalar(legendre(N), x0 = l, x1 = r,\n",
    "                                  method = 'secant')\n",
    "                           \n",
    "        sollist.append(round(sol.root,3))\n",
    "\n",
    "    \n",
    "\n",
    "    \n",
    "sollist_1 = [i for i in sollist if abs(i) > 10e-30 and abs(i) < 1]\n",
    "#sollist_2 = [i for i in sollist_1 if abs(i) in sollist_1.remove(i)]\n",
    "# 1보단 작으면서 오차 범위를 만족하는 중복된 범위의 요소들을 제거.\n",
    "\n",
    "a = list(set(sollist_1))\n",
    "\n",
    "if N % 2 != 0:\n",
    "    a.append(0)\n",
    "\n",
    "for x in a:\n",
    "    w = (2 * (1 - x**2)) / (N**2 * legendre(N-1)**2)\n",
    "    wlist.append(w)\n",
    "    \n",
    "    \n",
    "print(len(a), len(wlist))\n",
    "print(a, wlist)"
   ]
  },
  {
   "cell_type": "code",
   "execution_count": 487,
   "id": "8640e4b0",
   "metadata": {},
   "outputs": [
    {
     "data": {
      "text/plain": [
       "poly1d([ 7.87500000e+00,  0.00000000e+00, -8.75000000e+00, -4.37150316e-16,\n",
       "        1.87500000e+00,  0.00000000e+00])"
      ]
     },
     "execution_count": 487,
     "metadata": {},
     "output_type": "execute_result"
    }
   ],
   "source": [
    "legendre(5)"
   ]
  },
  {
   "cell_type": "code",
   "execution_count": 432,
   "id": "0a0991eb",
   "metadata": {},
   "outputs": [
    {
     "ename": "IndexError",
     "evalue": "invalid index to scalar variable.",
     "output_type": "error",
     "traceback": [
      "\u001b[0;31m---------------------------------------------------------------------------\u001b[0m",
      "\u001b[0;31mIndexError\u001b[0m                                Traceback (most recent call last)",
      "\u001b[0;32m/var/folders/kk/2pj93ygs67nbx9_42r_c6_3c0000gn/T/ipykernel_22363/1578285242.py\u001b[0m in \u001b[0;36m<module>\u001b[0;34m\u001b[0m\n\u001b[1;32m      8\u001b[0m \u001b[0;34m\u001b[0m\u001b[0m\n\u001b[1;32m      9\u001b[0m \u001b[0;32mfor\u001b[0m \u001b[0;34m(\u001b[0m\u001b[0ml\u001b[0m\u001b[0;34m,\u001b[0m \u001b[0mr\u001b[0m\u001b[0;34m)\u001b[0m \u001b[0;32min\u001b[0m \u001b[0mzip\u001b[0m\u001b[0;34m(\u001b[0m\u001b[0mpartition\u001b[0m\u001b[0;34m[\u001b[0m\u001b[0;34m:\u001b[0m\u001b[0;34m-\u001b[0m\u001b[0;36m1\u001b[0m\u001b[0;34m]\u001b[0m\u001b[0;34m,\u001b[0m \u001b[0mpartition\u001b[0m\u001b[0;34m[\u001b[0m\u001b[0;36m1\u001b[0m\u001b[0;34m:\u001b[0m\u001b[0;34m]\u001b[0m\u001b[0;34m)\u001b[0m\u001b[0;34m:\u001b[0m\u001b[0;34m\u001b[0m\u001b[0;34m\u001b[0m\u001b[0m\n\u001b[0;32m---> 10\u001b[0;31m         sol = optimize.root_scalar(legendre(N), x0 = 1,fprime = True,\n\u001b[0m\u001b[1;32m     11\u001b[0m                               fprime2 = True, method = 'halley')\n\u001b[1;32m     12\u001b[0m \u001b[0;34m\u001b[0m\u001b[0m\n",
      "\u001b[0;32m~/opt/anaconda3/lib/python3.9/site-packages/scipy/optimize/_root_scalar.py\u001b[0m in \u001b[0;36mroot_scalar\u001b[0;34m(f, args, method, bracket, fprime, fprime2, x0, x1, xtol, rtol, maxiter, options)\u001b[0m\n\u001b[1;32m    275\u001b[0m         \u001b[0;32mif\u001b[0m \u001b[0;34m'xtol'\u001b[0m \u001b[0;32min\u001b[0m \u001b[0mkwargs\u001b[0m\u001b[0;34m:\u001b[0m\u001b[0;34m\u001b[0m\u001b[0;34m\u001b[0m\u001b[0m\n\u001b[1;32m    276\u001b[0m             \u001b[0mkwargs\u001b[0m\u001b[0;34m[\u001b[0m\u001b[0;34m'tol'\u001b[0m\u001b[0;34m]\u001b[0m \u001b[0;34m=\u001b[0m \u001b[0mkwargs\u001b[0m\u001b[0;34m.\u001b[0m\u001b[0mpop\u001b[0m\u001b[0;34m(\u001b[0m\u001b[0;34m'xtol'\u001b[0m\u001b[0;34m)\u001b[0m\u001b[0;34m\u001b[0m\u001b[0;34m\u001b[0m\u001b[0m\n\u001b[0;32m--> 277\u001b[0;31m         \u001b[0mr\u001b[0m\u001b[0;34m,\u001b[0m \u001b[0msol\u001b[0m \u001b[0;34m=\u001b[0m \u001b[0mmethodc\u001b[0m\u001b[0;34m(\u001b[0m\u001b[0mf\u001b[0m\u001b[0;34m,\u001b[0m \u001b[0mx0\u001b[0m\u001b[0;34m,\u001b[0m \u001b[0margs\u001b[0m\u001b[0;34m=\u001b[0m\u001b[0margs\u001b[0m\u001b[0;34m,\u001b[0m \u001b[0mfprime\u001b[0m\u001b[0;34m=\u001b[0m\u001b[0mfprime\u001b[0m\u001b[0;34m,\u001b[0m \u001b[0mfprime2\u001b[0m\u001b[0;34m=\u001b[0m\u001b[0mfprime2\u001b[0m\u001b[0;34m,\u001b[0m \u001b[0;34m**\u001b[0m\u001b[0mkwargs\u001b[0m\u001b[0;34m)\u001b[0m\u001b[0;34m\u001b[0m\u001b[0;34m\u001b[0m\u001b[0m\n\u001b[0m\u001b[1;32m    278\u001b[0m     \u001b[0;32melse\u001b[0m\u001b[0;34m:\u001b[0m\u001b[0;34m\u001b[0m\u001b[0;34m\u001b[0m\u001b[0m\n\u001b[1;32m    279\u001b[0m         \u001b[0;32mraise\u001b[0m \u001b[0mValueError\u001b[0m\u001b[0;34m(\u001b[0m\u001b[0;34m'Unknown solver %s'\u001b[0m \u001b[0;34m%\u001b[0m \u001b[0mmethod\u001b[0m\u001b[0;34m)\u001b[0m\u001b[0;34m\u001b[0m\u001b[0;34m\u001b[0m\u001b[0m\n",
      "\u001b[0;32m~/opt/anaconda3/lib/python3.9/site-packages/scipy/optimize/_zeros_py.py\u001b[0m in \u001b[0;36mnewton\u001b[0;34m(func, x0, fprime, args, tol, maxiter, fprime2, x1, rtol, full_output, disp)\u001b[0m\n\u001b[1;32m    285\u001b[0m         \u001b[0;32mfor\u001b[0m \u001b[0mitr\u001b[0m \u001b[0;32min\u001b[0m \u001b[0mrange\u001b[0m\u001b[0;34m(\u001b[0m\u001b[0mmaxiter\u001b[0m\u001b[0;34m)\u001b[0m\u001b[0;34m:\u001b[0m\u001b[0;34m\u001b[0m\u001b[0;34m\u001b[0m\u001b[0m\n\u001b[1;32m    286\u001b[0m             \u001b[0;31m# first evaluate fval\u001b[0m\u001b[0;34m\u001b[0m\u001b[0;34m\u001b[0m\u001b[0m\n\u001b[0;32m--> 287\u001b[0;31m             \u001b[0mfval\u001b[0m \u001b[0;34m=\u001b[0m \u001b[0mfunc\u001b[0m\u001b[0;34m(\u001b[0m\u001b[0mp0\u001b[0m\u001b[0;34m,\u001b[0m \u001b[0;34m*\u001b[0m\u001b[0margs\u001b[0m\u001b[0;34m)\u001b[0m\u001b[0;34m\u001b[0m\u001b[0;34m\u001b[0m\u001b[0m\n\u001b[0m\u001b[1;32m    288\u001b[0m             \u001b[0mfuncalls\u001b[0m \u001b[0;34m+=\u001b[0m \u001b[0;36m1\u001b[0m\u001b[0;34m\u001b[0m\u001b[0;34m\u001b[0m\u001b[0m\n\u001b[1;32m    289\u001b[0m             \u001b[0;31m# If fval is 0, a root has been found, then terminate\u001b[0m\u001b[0;34m\u001b[0m\u001b[0;34m\u001b[0m\u001b[0m\n",
      "\u001b[0;32m~/opt/anaconda3/lib/python3.9/site-packages/scipy/optimize/_root_scalar.py\u001b[0m in \u001b[0;36m__call__\u001b[0;34m(self, x, *args)\u001b[0m\n\u001b[1;32m     40\u001b[0m             \u001b[0mself\u001b[0m\u001b[0;34m.\u001b[0m\u001b[0mx\u001b[0m \u001b[0;34m=\u001b[0m \u001b[0mx\u001b[0m\u001b[0;34m\u001b[0m\u001b[0;34m\u001b[0m\u001b[0m\n\u001b[1;32m     41\u001b[0m             \u001b[0mself\u001b[0m\u001b[0;34m.\u001b[0m\u001b[0mn_calls\u001b[0m \u001b[0;34m+=\u001b[0m \u001b[0;36m1\u001b[0m\u001b[0;34m\u001b[0m\u001b[0;34m\u001b[0m\u001b[0m\n\u001b[0;32m---> 42\u001b[0;31m             \u001b[0mself\u001b[0m\u001b[0;34m.\u001b[0m\u001b[0mvals\u001b[0m \u001b[0;34m=\u001b[0m \u001b[0mfg\u001b[0m\u001b[0;34m[\u001b[0m\u001b[0;34m:\u001b[0m\u001b[0;34m]\u001b[0m\u001b[0;34m\u001b[0m\u001b[0;34m\u001b[0m\u001b[0m\n\u001b[0m\u001b[1;32m     43\u001b[0m         \u001b[0;32mreturn\u001b[0m \u001b[0mself\u001b[0m\u001b[0;34m.\u001b[0m\u001b[0mvals\u001b[0m\u001b[0;34m[\u001b[0m\u001b[0;36m0\u001b[0m\u001b[0;34m]\u001b[0m\u001b[0;34m\u001b[0m\u001b[0;34m\u001b[0m\u001b[0m\n\u001b[1;32m     44\u001b[0m \u001b[0;34m\u001b[0m\u001b[0m\n",
      "\u001b[0;31mIndexError\u001b[0m: invalid index to scalar variable."
     ]
    }
   ],
   "source": [
    "N = 4\n",
    "partition = np.linspace(-1., 1., 100)\n",
    "sollist = []\n",
    "sollist_1 = []\n",
    "a = []\n",
    "wlist = []\n",
    "\n",
    "\n",
    "for (l, r) in zip(partition[:-1], partition[1:]):\n",
    "        sol = optimize.root_scalar(legendre(N), x0 = 1,fprime = True,\n",
    "                              fprime2 = True, method = 'halley')\n",
    "                           \n",
    "        sollist.append(round(sol.root,8))\n",
    "\n",
    "    \n",
    "\n",
    "    \n",
    "sollist_1 = [i for i in sollist if abs(i) > 10e-3 and abs(i) < 1]\n",
    "#sollist_2 = [i for i in sollist_1 if abs(i) in sollist_1.remove(i)]\n",
    "# 1보단 작으면서 오차 범위를 만족하는 중복된 범위의 요소들을 제거.\n",
    "\n",
    "a = list(set(sollist_1))\n",
    "\n",
    "if N % 2 != 0:\n",
    "    a.append(0)\n",
    "\n",
    "for x in a:\n",
    "    w = (2 * (1 - x**2)) / (N**2 * legendre(N-1)**2)\n",
    "    wlist.append(w)\n",
    "    \n",
    "    \n",
    "print(len(a), len(wlist))\n",
    "print(a)"
   ]
  },
  {
   "cell_type": "markdown",
   "id": "2b6e2b46",
   "metadata": {},
   "source": [
    "그나마 젤 나은 솔루션.."
   ]
  },
  {
   "cell_type": "code",
   "execution_count": 415,
   "id": "80afaf30",
   "metadata": {},
   "outputs": [
    {
     "name": "stdout",
     "output_type": "stream",
     "text": [
      "8 10\n"
     ]
    }
   ],
   "source": [
    "N = 5\n",
    "partition = np.linspace(-1., 1., 100)\n",
    "sollist = []\n",
    "sollist_1 = []\n",
    "b = []\n",
    "wlist = []\n",
    "\n",
    "\n",
    "for (l, r) in zip(partition[:-1], partition[1:]):\n",
    "        sol = optimize.root_scalar(legendre(N), x0 = l, x1 = r,\n",
    "                                  method = 'secant')\n",
    "                           \n",
    "        sollist.append(round(sol.root,8))\n",
    "\n",
    "    \n",
    "\n",
    "    \n",
    "sollist_1 = [i for i in sollist if abs(i) > 10e-3 and abs(i) < 1]\n",
    "#sollist_2 = [i for i in sollist_1 if abs(i) in sollist_1.remove(i)]\n",
    "# 1보단 작으면서 오차 범위를 만족하는 중복된 범위의 요소들을 제거.\n",
    "\n",
    "b = list(set(sollist_1))\n",
    "\n",
    "if N % 2 != 0:\n",
    "    a.append(0)\n",
    "\n",
    "for x in a:\n",
    "    w = (2 * (1 - x**2)) / (N**2 * legendre(N-1)**2)\n",
    "    wlist.append(w)\n",
    "    \n",
    "    \n",
    "print(len(b), len(wlist))\n",
    "\n",
    "\n"
   ]
  },
  {
   "cell_type": "code",
   "execution_count": 361,
   "id": "4a7c615f",
   "metadata": {},
   "outputs": [
    {
     "ename": "NameError",
     "evalue": "name 'Newton_while' is not defined",
     "output_type": "error",
     "traceback": [
      "\u001b[0;31m---------------------------------------------------------------------------\u001b[0m",
      "\u001b[0;31mNameError\u001b[0m                                 Traceback (most recent call last)",
      "\u001b[0;32m/var/folders/kk/2pj93ygs67nbx9_42r_c6_3c0000gn/T/ipykernel_22363/1642999974.py\u001b[0m in \u001b[0;36m<module>\u001b[0;34m\u001b[0m\n\u001b[1;32m     39\u001b[0m \u001b[0;34m\u001b[0m\u001b[0m\n\u001b[1;32m     40\u001b[0m \u001b[0;32mfor\u001b[0m \u001b[0;34m(\u001b[0m\u001b[0ml\u001b[0m\u001b[0;34m,\u001b[0m \u001b[0mr\u001b[0m\u001b[0;34m)\u001b[0m \u001b[0;32min\u001b[0m \u001b[0mzip\u001b[0m\u001b[0;34m(\u001b[0m\u001b[0mpartition\u001b[0m\u001b[0;34m[\u001b[0m\u001b[0;34m:\u001b[0m\u001b[0;34m-\u001b[0m\u001b[0;36m1\u001b[0m\u001b[0;34m]\u001b[0m\u001b[0;34m,\u001b[0m \u001b[0mpartition\u001b[0m\u001b[0;34m[\u001b[0m\u001b[0;36m1\u001b[0m\u001b[0;34m:\u001b[0m\u001b[0;34m]\u001b[0m\u001b[0;34m)\u001b[0m\u001b[0;34m:\u001b[0m\u001b[0;34m\u001b[0m\u001b[0;34m\u001b[0m\u001b[0m\n\u001b[0;32m---> 41\u001b[0;31m         sol = Newton_while(legendre(3), (l, r),\n\u001b[0m\u001b[1;32m     42\u001b[0m                            lambda i, xy, dx: abs(dx) > 1e-10)\n\u001b[1;32m     43\u001b[0m         \u001b[0msollist\u001b[0m\u001b[0;34m.\u001b[0m\u001b[0mappend\u001b[0m\u001b[0;34m(\u001b[0m\u001b[0mround\u001b[0m\u001b[0;34m(\u001b[0m\u001b[0msol\u001b[0m\u001b[0;34m,\u001b[0m\u001b[0;36m8\u001b[0m\u001b[0;34m)\u001b[0m\u001b[0;34m)\u001b[0m\u001b[0;34m\u001b[0m\u001b[0;34m\u001b[0m\u001b[0m\n",
      "\u001b[0;31mNameError\u001b[0m: name 'Newton_while' is not defined"
     ]
    }
   ],
   "source": [
    "def newton_while(f_and_df, xinit, predicate):\n",
    "    \"\"\"Return the root calculated using Newton's method.\n",
    "    \n",
    "    :param f_and_df:\n",
    "        A function that returns a pair of numbers containing f(x) and f'(x)\n",
    "    :param xinit:\n",
    "        A trial guess\n",
    "    :param predicate:\n",
    "        A predicate function which takes three arguments\n",
    "            - i : the iteration count\n",
    "            - xy : a pair of the midpoint and the function value in the current iteration\n",
    "            - dx : the change of the x value\n",
    "        and returns boolean:\n",
    "            - If True, the search continues.\n",
    "            - If False, the search terminates.\n",
    "    \"\"\"\n",
    "    \n",
    "    x = xinit\n",
    "    i = 0\n",
    "\n",
    "    def netwon_root():\n",
    "        nonlocal i, x\n",
    "        f, df = f_and_df(x)\n",
    "        dx = -f / df\n",
    "        x_old = x\n",
    "        x += dx\n",
    "        i += 1\n",
    "        return i, (x_old, f), dx\n",
    "    \n",
    "    while predicate(*netwon_root()):\n",
    "        pass\n",
    "        \n",
    "    return x\n",
    "\n",
    "partition = np.linspace(-1.5, 1.5, 10)\n",
    "sollist = []\n",
    "sollist_1 = []\n",
    "a = []\n",
    "\n",
    "for (l, r) in zip(partition[:-1], partition[1:]):\n",
    "        sol = Newton_while(legendre(3), (l, r),\n",
    "                           lambda i, xy, dx: abs(dx) > 1e-10)\n",
    "        sollist.append(round(sol,8))\n",
    "\n",
    "\n",
    "    \n",
    "sollist_1 = [i for i in sollist if abs(i) > 1e-30 and abs(i) < 1]\n",
    "# 1보단 작으면서 오차 범위를 만족하는 중복된 범위의 요소들을 제거.\n",
    "\n",
    "a = list(set(sollist_1))\n",
    "if 0 in sollist:\n",
    "    a.append(0)\n",
    "a"
   ]
  },
  {
   "cell_type": "code",
   "execution_count": 25,
   "id": "bb4e1b09",
   "metadata": {},
   "outputs": [
    {
     "name": "stderr",
     "output_type": "stream",
     "text": [
      "/var/folders/kk/2pj93ygs67nbx9_42r_c6_3c0000gn/T/ipykernel_22363/2787976081.py:24: RuntimeWarning: divide by zero encountered in double_scalars\n",
      "  x2 = x1 - f1 * (x1 - x0) / (f1 - f0)\n",
      "/var/folders/kk/2pj93ygs67nbx9_42r_c6_3c0000gn/T/ipykernel_22363/2787976081.py:24: RuntimeWarning: invalid value encountered in double_scalars\n",
      "  x2 = x1 - f1 * (x1 - x0) / (f1 - f0)\n"
     ]
    }
   ],
   "source": [
    "for x in range(20):\n",
    "    for (l, r) in zip(partition[:-1], partition[1:]):\n",
    "        sol = secant_while(legendre(x), (l, r),\n",
    "                           lambda i, xy, dx: abs(dx) > 1e-10)\n",
    "        sollist.append(round(sol,8))\n",
    "\n",
    "\n",
    "    \n",
    "    sollist_1 = [i for i in sollist if abs(i) > 1e-30 and abs(i) < 1]\n",
    "# 1보단 작으면서 오차 범위를 만족하는 중복된 범위의 요소들을 제거.\n",
    "\n",
    "    a = list(set(sollist_1))\n",
    "    if 0 in sollist:\n",
    "        a.append(0)\n",
    "    "
   ]
  }
 ],
 "metadata": {
  "kernelspec": {
   "display_name": "Python 3 (ipykernel)",
   "language": "python",
   "name": "python3"
  },
  "language_info": {
   "codemirror_mode": {
    "name": "ipython",
    "version": 3
   },
   "file_extension": ".py",
   "mimetype": "text/x-python",
   "name": "python",
   "nbconvert_exporter": "python",
   "pygments_lexer": "ipython3",
   "version": "3.9.13"
  }
 },
 "nbformat": 4,
 "nbformat_minor": 5
}
