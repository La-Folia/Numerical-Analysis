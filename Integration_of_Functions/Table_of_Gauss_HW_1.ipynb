{
 "cells": [
  {
   "cell_type": "code",
   "execution_count": 567,
   "id": "8e211c53",
   "metadata": {},
   "outputs": [],
   "source": [
    "import numpy as np\n",
    "from scipy.integrate import fixed_quad\n",
    "from matplotlib import pyplot as plt\n",
    "from scipy.special import legendre\n",
    "from scipy import optimize\n",
    "from scipy import special\n",
    "plt.rcParams.update({'font.size': 15})\n",
    "#%config InlineBackend.figure_format='retina'\n",
    "\n"
   ]
  },
  {
   "cell_type": "markdown",
   "id": "89b12e2d",
   "metadata": {},
   "source": [
    "실험중"
   ]
  },
  {
   "cell_type": "code",
   "execution_count": 639,
   "id": "5cb1aad8",
   "metadata": {},
   "outputs": [
    {
     "name": "stdout",
     "output_type": "stream",
     "text": [
      "[0.9931, 0.8391, 0.7463, 0.1285, 0.6361, 0.0765]\n"
     ]
    },
    {
     "name": "stderr",
     "output_type": "stream",
     "text": [
      "/var/folders/kk/2pj93ygs67nbx9_42r_c6_3c0000gn/T/ipykernel_22363/954013936.py:38: RuntimeWarning: divide by zero encountered in true_divide\n",
      "  w = (2 * (1 - x**2)) / (N**2 * legendre(N-1)**2)\n"
     ]
    }
   ],
   "source": [
    "import random\n",
    "N = 20\n",
    "partition = np.linspace(-1.5, 1.5, 15)\n",
    "sollist = []\n",
    "sollist_1 = []\n",
    "a = []\n",
    "wlist = []\n",
    " \n",
    "    \n",
    "\n",
    "for (l, r) in zip(partition[:-1], partition[1:]):\n",
    "        sol = optimize.root_scalar(legendre(N), x0 = l, x1 = r,\n",
    "                                  method = 'secant')\n",
    "                           \n",
    "        sollist.append(abs(round(sol.root, 4)))\n",
    "\n",
    "        \n",
    "sollist_1 = [i for i in sollist if abs(i) > 10e-5 and abs(i) < 1 and abs(i) > 0.01]\n",
    "\n",
    "\n",
    "\n",
    "                \n",
    "        \n",
    "\n",
    "\n",
    "\n",
    "\n",
    "\n",
    "#sollist_2 = [i for i in sollist_1 if abs(i) in sollist_1.remove(i)]\n",
    "# 1보단 작으면서 오차 범위를 만족하는 중복된 범위의 요소들을 제거.\n",
    "\n",
    "a = list(set(sollist_1))\n",
    "\n",
    "if N % 2 != 0:\n",
    "    a.append(0)\n",
    "\n",
    "for x in a:\n",
    "    w = (2 * (1 - x**2)) / (N**2 * legendre(N-1)**2)\n",
    "    wlist.append(w)\n",
    "    \n",
    "    \n",
    "print(a)\n"
   ]
  },
  {
   "cell_type": "markdown",
   "id": "d76b549d",
   "metadata": {},
   "source": [
    "n = 30일때, N은 11까지만 정확함."
   ]
  },
  {
   "cell_type": "code",
   "execution_count": 665,
   "id": "89d9b4b0",
   "metadata": {},
   "outputs": [
    {
     "name": "stdout",
     "output_type": "stream",
     "text": [
      "[0.9491079, 0.7415312, 0.4058452, 0] 4\n"
     ]
    },
    {
     "name": "stderr",
     "output_type": "stream",
     "text": [
      "/var/folders/kk/2pj93ygs67nbx9_42r_c6_3c0000gn/T/ipykernel_22363/2380155550.py:48: RuntimeWarning: divide by zero encountered in true_divide\n",
      "  w = (2 * (1 - x**2)) / (N**2 * legendre(N-1)**2)\n"
     ]
    }
   ],
   "source": [
    "import random\n",
    "N = 7\n",
    "partition = np.linspace(-1.5, 1.5, 30)\n",
    "sollist = []\n",
    "sollist_1 = []\n",
    "a = []\n",
    "wlist = []\n",
    " \n",
    "    \n",
    "\n",
    "for (l, r) in zip(partition[:-1], partition[1:]):\n",
    "        sol = optimize.root_scalar(legendre(N), x0 = l, x1 = r,\n",
    "                                  method = 'secant')\n",
    "                           \n",
    "        sollist.append(abs(round(sol.root, 7)))\n",
    "\n",
    "    \n",
    "\n",
    "    \n",
    "sollist_1 = [i for i in sollist if abs(i) > 10e-5 and abs(i) < 1 and abs(i) > 0.0617]\n",
    "\n",
    "\n",
    "\"\"\"\n",
    "for i in range(len(sollist_1)):\n",
    "        for j in sollist_1:\n",
    "            if j - sollist[i] < 0.01 and j * sollist[i] > (sollist[i])**2:\n",
    "                if j == sollist[i]:\n",
    "                    continue\n",
    "                print(1)\n",
    "                sollist_1.remove(j)\n",
    "\"\"\"\n",
    "                \n",
    "        \n",
    "\n",
    "\n",
    "\n",
    "\n",
    "\n",
    "#sollist_2 = [i for i in sollist_1 if abs(i) in sollist_1.remove(i)]\n",
    "# 1보단 작으면서 오차 범위를 만족하는 중복된 범위의 요소들을 제거.\n",
    "\n",
    "a = list(set(sollist_1))\n",
    "\n",
    "if N % 2 != 0:\n",
    "    a.append(0)\n",
    "\n",
    "for x in a:\n",
    "    w = (2 * (1 - x**2)) / (N**2 * legendre(N-1)**2)\n",
    "    wlist.append(w)\n",
    "\n",
    "    \n",
    "print(a, len(a))\n"
   ]
  },
  {
   "cell_type": "markdown",
   "id": "25d0fcb0",
   "metadata": {},
   "source": [
    "(-2, 2, 40) n = 40일때, N은 13까지만 정확함."
   ]
  },
  {
   "cell_type": "code",
   "execution_count": 672,
   "id": "1f6b96f1",
   "metadata": {},
   "outputs": [
    {
     "name": "stdout",
     "output_type": "stream",
     "text": [
      "[0.9841831, 0.9175984, 0.8015781, 0.4484928, 0.6423493, 0.2304583, 0] 7\n"
     ]
    }
   ],
   "source": [
    "import random\n",
    "N = 13\n",
    "partition = np.linspace(-2, 2, 40)\n",
    "sollist = []\n",
    "sollist_1 = []\n",
    "a = []\n",
    "wlist = []\n",
    " \n",
    "    \n",
    "\n",
    "for (l, r) in zip(partition[:-1], partition[1:]):\n",
    "        sol = optimize.root_scalar(legendre(N), x0 = l, x1 = r,\n",
    "                                  method = 'secant')\n",
    "                           \n",
    "        sollist.append(abs(round(sol.root, 7)))\n",
    "\n",
    "    \n",
    "\n",
    "    \n",
    "sollist_1 = [i for i in sollist if abs(i) > 10e-5 and abs(i) < 1 and abs(i) > 0.0617]\n",
    "\n",
    "\n",
    "\n",
    "\n",
    "                \n",
    "        \n",
    "\n",
    "\n",
    "\n",
    "\n",
    "\n",
    "#sollist_2 = [i for i in sollist_1 if abs(i) in sollist_1.remove(i)]\n",
    "# 1보단 작으면서 오차 범위를 만족하는 중복된 범위의 요소들을 제거.\n",
    "\n",
    "a = list(set(sollist_1))\n",
    "\n",
    "if N % 2 != 0:\n",
    "    a.append(0)\n",
    "\n",
    "for x in a:\n",
    "    w = (2 * (1 - x**2)) / (N**2 * legendre(N-1)**2)\n",
    "    wlist.append(w)\n",
    "    \n",
    "    \n",
    "print(a, len(a))\n"
   ]
  },
  {
   "cell_type": "code",
   "execution_count": null,
   "id": "d8a9417a",
   "metadata": {},
   "outputs": [],
   "source": [
    "import random\n",
    "N = 16\n",
    "partition = np.linspace(-5, 5, 100)\n",
    "sollist = []\n",
    "sollist_1 = []\n",
    "a = []\n",
    "wlist = []\n",
    " \n",
    "    \n",
    "\n",
    "for (l, r) in zip(partition[:-1], partition[1:]):\n",
    "        sol = optimize.root_scalar(legendre(N), x0 = l, x1 = r,\n",
    "                                  method = 'secant')\n",
    "                           \n",
    "        sollist.append(abs(round(sol.root, 7)))\n",
    "\n",
    "    \n",
    "\n",
    "    \n",
    "sollist_1 = [i for i in sollist if abs(i) > 10e-5 and abs(i) < 1 and abs(i) > 0.0617]\n",
    "\n",
    "\n",
    "\n",
    "\n",
    "\n",
    "for i in range(len(sollist_1)):\n",
    "        for j in sollist_1:\n",
    "            if j - sollist[i] < 0.01 and j * sollist[i] > (sollist[i])**2:\n",
    "                if j == sollist[i]:\n",
    "                    continue\n",
    "                sollist_1.remove(j)\n",
    "\n",
    "                \n",
    "        \n",
    "\n",
    "\n",
    "\n",
    "\n",
    "\n",
    "#sollist_2 = [i for i in sollist_1 if abs(i) in sollist_1.remove(i)]\n",
    "# 1보단 작으면서 오차 범위를 만족하는 중복된 범위의 요소들을 제거.\n",
    "\n",
    "a = list(set(sollist_1))\n",
    "\n",
    "if N % 2 != 0:\n",
    "    a.append(0)\n",
    "\n",
    "for x in a:\n",
    "    a.append(-x)\n",
    "      \n",
    "for x in set(a):\n",
    "    w = (2 * (1 - x**2)) / (N**2 * legendre(N-1)**2)\n",
    "    wlist.append(w)\n",
    "\n",
    "\n",
    "    \n",
    "    \n",
    "print(a, len(a))\n"
   ]
  },
  {
   "cell_type": "code",
   "execution_count": 697,
   "id": "83ee6a17",
   "metadata": {},
   "outputs": [
    {
     "name": "stdout",
     "output_type": "stream",
     "text": [
      "[]\n"
     ]
    }
   ],
   "source": [
    "a = [1,2]\n",
    "print(-1 * a)"
   ]
  },
  {
   "cell_type": "code",
   "execution_count": 689,
   "id": "7f6ade24",
   "metadata": {},
   "outputs": [
    {
     "data": {
      "text/plain": [
       "array([0.90617985, 0.53846931, 0.        , 0.53846931, 0.90617985])"
      ]
     },
     "execution_count": 689,
     "metadata": {},
     "output_type": "execute_result"
    }
   ],
   "source": [
    "a, b =special.roots_legendre(5)\n",
    "abs(a)"
   ]
  },
  {
   "cell_type": "code",
   "execution_count": 597,
   "id": "2c7c2705",
   "metadata": {},
   "outputs": [
    {
     "data": {
      "text/plain": [
       "0.010202400000000056"
      ]
     },
     "execution_count": 597,
     "metadata": {},
     "output_type": "execute_result"
    }
   ],
   "source": [
    "0.9931286 - 0.9829262"
   ]
  },
  {
   "cell_type": "code",
   "execution_count": 487,
   "id": "8640e4b0",
   "metadata": {},
   "outputs": [
    {
     "data": {
      "text/plain": [
       "poly1d([ 7.87500000e+00,  0.00000000e+00, -8.75000000e+00, -4.37150316e-16,\n",
       "        1.87500000e+00,  0.00000000e+00])"
      ]
     },
     "execution_count": 487,
     "metadata": {},
     "output_type": "execute_result"
    }
   ],
   "source": [
    "legendre(5)"
   ]
  },
  {
   "cell_type": "code",
   "execution_count": 640,
   "id": "0a0991eb",
   "metadata": {},
   "outputs": [
    {
     "ename": "IndexError",
     "evalue": "invalid index to scalar variable.",
     "output_type": "error",
     "traceback": [
      "\u001b[0;31m---------------------------------------------------------------------------\u001b[0m",
      "\u001b[0;31mIndexError\u001b[0m                                Traceback (most recent call last)",
      "\u001b[0;32m/var/folders/kk/2pj93ygs67nbx9_42r_c6_3c0000gn/T/ipykernel_22363/1578285242.py\u001b[0m in \u001b[0;36m<module>\u001b[0;34m\u001b[0m\n\u001b[1;32m      8\u001b[0m \u001b[0;34m\u001b[0m\u001b[0m\n\u001b[1;32m      9\u001b[0m \u001b[0;32mfor\u001b[0m \u001b[0;34m(\u001b[0m\u001b[0ml\u001b[0m\u001b[0;34m,\u001b[0m \u001b[0mr\u001b[0m\u001b[0;34m)\u001b[0m \u001b[0;32min\u001b[0m \u001b[0mzip\u001b[0m\u001b[0;34m(\u001b[0m\u001b[0mpartition\u001b[0m\u001b[0;34m[\u001b[0m\u001b[0;34m:\u001b[0m\u001b[0;34m-\u001b[0m\u001b[0;36m1\u001b[0m\u001b[0;34m]\u001b[0m\u001b[0;34m,\u001b[0m \u001b[0mpartition\u001b[0m\u001b[0;34m[\u001b[0m\u001b[0;36m1\u001b[0m\u001b[0;34m:\u001b[0m\u001b[0;34m]\u001b[0m\u001b[0;34m)\u001b[0m\u001b[0;34m:\u001b[0m\u001b[0;34m\u001b[0m\u001b[0;34m\u001b[0m\u001b[0m\n\u001b[0;32m---> 10\u001b[0;31m         sol = optimize.root_scalar(legendre(N), x0 = 1,fprime = True,\n\u001b[0m\u001b[1;32m     11\u001b[0m                               fprime2 = True, method = 'halley')\n\u001b[1;32m     12\u001b[0m \u001b[0;34m\u001b[0m\u001b[0m\n",
      "\u001b[0;32m~/opt/anaconda3/lib/python3.9/site-packages/scipy/optimize/_root_scalar.py\u001b[0m in \u001b[0;36mroot_scalar\u001b[0;34m(f, args, method, bracket, fprime, fprime2, x0, x1, xtol, rtol, maxiter, options)\u001b[0m\n\u001b[1;32m    275\u001b[0m         \u001b[0;32mif\u001b[0m \u001b[0;34m'xtol'\u001b[0m \u001b[0;32min\u001b[0m \u001b[0mkwargs\u001b[0m\u001b[0;34m:\u001b[0m\u001b[0;34m\u001b[0m\u001b[0;34m\u001b[0m\u001b[0m\n\u001b[1;32m    276\u001b[0m             \u001b[0mkwargs\u001b[0m\u001b[0;34m[\u001b[0m\u001b[0;34m'tol'\u001b[0m\u001b[0;34m]\u001b[0m \u001b[0;34m=\u001b[0m \u001b[0mkwargs\u001b[0m\u001b[0;34m.\u001b[0m\u001b[0mpop\u001b[0m\u001b[0;34m(\u001b[0m\u001b[0;34m'xtol'\u001b[0m\u001b[0;34m)\u001b[0m\u001b[0;34m\u001b[0m\u001b[0;34m\u001b[0m\u001b[0m\n\u001b[0;32m--> 277\u001b[0;31m         \u001b[0mr\u001b[0m\u001b[0;34m,\u001b[0m \u001b[0msol\u001b[0m \u001b[0;34m=\u001b[0m \u001b[0mmethodc\u001b[0m\u001b[0;34m(\u001b[0m\u001b[0mf\u001b[0m\u001b[0;34m,\u001b[0m \u001b[0mx0\u001b[0m\u001b[0;34m,\u001b[0m \u001b[0margs\u001b[0m\u001b[0;34m=\u001b[0m\u001b[0margs\u001b[0m\u001b[0;34m,\u001b[0m \u001b[0mfprime\u001b[0m\u001b[0;34m=\u001b[0m\u001b[0mfprime\u001b[0m\u001b[0;34m,\u001b[0m \u001b[0mfprime2\u001b[0m\u001b[0;34m=\u001b[0m\u001b[0mfprime2\u001b[0m\u001b[0;34m,\u001b[0m \u001b[0;34m**\u001b[0m\u001b[0mkwargs\u001b[0m\u001b[0;34m)\u001b[0m\u001b[0;34m\u001b[0m\u001b[0;34m\u001b[0m\u001b[0m\n\u001b[0m\u001b[1;32m    278\u001b[0m     \u001b[0;32melse\u001b[0m\u001b[0;34m:\u001b[0m\u001b[0;34m\u001b[0m\u001b[0;34m\u001b[0m\u001b[0m\n\u001b[1;32m    279\u001b[0m         \u001b[0;32mraise\u001b[0m \u001b[0mValueError\u001b[0m\u001b[0;34m(\u001b[0m\u001b[0;34m'Unknown solver %s'\u001b[0m \u001b[0;34m%\u001b[0m \u001b[0mmethod\u001b[0m\u001b[0;34m)\u001b[0m\u001b[0;34m\u001b[0m\u001b[0;34m\u001b[0m\u001b[0m\n",
      "\u001b[0;32m~/opt/anaconda3/lib/python3.9/site-packages/scipy/optimize/_zeros_py.py\u001b[0m in \u001b[0;36mnewton\u001b[0;34m(func, x0, fprime, args, tol, maxiter, fprime2, x1, rtol, full_output, disp)\u001b[0m\n\u001b[1;32m    285\u001b[0m         \u001b[0;32mfor\u001b[0m \u001b[0mitr\u001b[0m \u001b[0;32min\u001b[0m \u001b[0mrange\u001b[0m\u001b[0;34m(\u001b[0m\u001b[0mmaxiter\u001b[0m\u001b[0;34m)\u001b[0m\u001b[0;34m:\u001b[0m\u001b[0;34m\u001b[0m\u001b[0;34m\u001b[0m\u001b[0m\n\u001b[1;32m    286\u001b[0m             \u001b[0;31m# first evaluate fval\u001b[0m\u001b[0;34m\u001b[0m\u001b[0;34m\u001b[0m\u001b[0m\n\u001b[0;32m--> 287\u001b[0;31m             \u001b[0mfval\u001b[0m \u001b[0;34m=\u001b[0m \u001b[0mfunc\u001b[0m\u001b[0;34m(\u001b[0m\u001b[0mp0\u001b[0m\u001b[0;34m,\u001b[0m \u001b[0;34m*\u001b[0m\u001b[0margs\u001b[0m\u001b[0;34m)\u001b[0m\u001b[0;34m\u001b[0m\u001b[0;34m\u001b[0m\u001b[0m\n\u001b[0m\u001b[1;32m    288\u001b[0m             \u001b[0mfuncalls\u001b[0m \u001b[0;34m+=\u001b[0m \u001b[0;36m1\u001b[0m\u001b[0;34m\u001b[0m\u001b[0;34m\u001b[0m\u001b[0m\n\u001b[1;32m    289\u001b[0m             \u001b[0;31m# If fval is 0, a root has been found, then terminate\u001b[0m\u001b[0;34m\u001b[0m\u001b[0;34m\u001b[0m\u001b[0m\n",
      "\u001b[0;32m~/opt/anaconda3/lib/python3.9/site-packages/scipy/optimize/_root_scalar.py\u001b[0m in \u001b[0;36m__call__\u001b[0;34m(self, x, *args)\u001b[0m\n\u001b[1;32m     40\u001b[0m             \u001b[0mself\u001b[0m\u001b[0;34m.\u001b[0m\u001b[0mx\u001b[0m \u001b[0;34m=\u001b[0m \u001b[0mx\u001b[0m\u001b[0;34m\u001b[0m\u001b[0;34m\u001b[0m\u001b[0m\n\u001b[1;32m     41\u001b[0m             \u001b[0mself\u001b[0m\u001b[0;34m.\u001b[0m\u001b[0mn_calls\u001b[0m \u001b[0;34m+=\u001b[0m \u001b[0;36m1\u001b[0m\u001b[0;34m\u001b[0m\u001b[0;34m\u001b[0m\u001b[0m\n\u001b[0;32m---> 42\u001b[0;31m             \u001b[0mself\u001b[0m\u001b[0;34m.\u001b[0m\u001b[0mvals\u001b[0m \u001b[0;34m=\u001b[0m \u001b[0mfg\u001b[0m\u001b[0;34m[\u001b[0m\u001b[0;34m:\u001b[0m\u001b[0;34m]\u001b[0m\u001b[0;34m\u001b[0m\u001b[0;34m\u001b[0m\u001b[0m\n\u001b[0m\u001b[1;32m     43\u001b[0m         \u001b[0;32mreturn\u001b[0m \u001b[0mself\u001b[0m\u001b[0;34m.\u001b[0m\u001b[0mvals\u001b[0m\u001b[0;34m[\u001b[0m\u001b[0;36m0\u001b[0m\u001b[0;34m]\u001b[0m\u001b[0;34m\u001b[0m\u001b[0;34m\u001b[0m\u001b[0m\n\u001b[1;32m     44\u001b[0m \u001b[0;34m\u001b[0m\u001b[0m\n",
      "\u001b[0;31mIndexError\u001b[0m: invalid index to scalar variable."
     ]
    }
   ],
   "source": [
    "N = 4\n",
    "partition = np.linspace(-1., 1., 100)\n",
    "sollist = []\n",
    "sollist_1 = []\n",
    "a = []\n",
    "wlist = []\n",
    "\n",
    "\n",
    "for (l, r) in zip(partition[:-1], partition[1:]):\n",
    "        sol = optimize.root_scalar(legendre(N), x0 = 1,fprime = True,\n",
    "                              fprime2 = True, method = 'halley')\n",
    "                           \n",
    "        sollist.append(round(sol.root,8))\n",
    "\n",
    "    \n",
    "\n",
    "    \n",
    "sollist_1 = [i for i in sollist if abs(i) > 10e-3 and abs(i) < 1]\n",
    "#sollist_2 = [i for i in sollist_1 if abs(i) in sollist_1.remove(i)]\n",
    "# 1보단 작으면서 오차 범위를 만족하는 중복된 범위의 요소들을 제거.\n",
    "\n",
    "a = list(set(sollist_1))\n",
    "\n",
    "if N % 2 != 0:\n",
    "    a.append(0)\n",
    "\n",
    "for x in a:\n",
    "    w = (2 * (1 - x**2)) / (N**2 * legendre(N-1)**2)\n",
    "    wlist.append(w)\n",
    "    \n",
    "    \n",
    "print(len(a), len(wlist))\n",
    "print(a)"
   ]
  },
  {
   "cell_type": "markdown",
   "id": "2b6e2b46",
   "metadata": {},
   "source": [
    "그나마 젤 나은 솔루션.."
   ]
  },
  {
   "cell_type": "code",
   "execution_count": 644,
   "id": "80afaf30",
   "metadata": {},
   "outputs": [
    {
     "name": "stdout",
     "output_type": "stream",
     "text": [
      "25 2\n"
     ]
    }
   ],
   "source": [
    "N = 18\n",
    "partition = np.linspace(-1., 1., 100)\n",
    "sollist = []\n",
    "sollist_1 = []\n",
    "b = []\n",
    "wlist = []\n",
    "\n",
    "\n",
    "for (l, r) in zip(partition[:-1], partition[1:]):\n",
    "        sol = optimize.root_scalar(legendre(N), x0 = l, x1 = r,\n",
    "                                  method = 'secant')\n",
    "                           \n",
    "        sollist.append(round(sol.root,8))\n",
    "\n",
    "    \n",
    "\n",
    "    \n",
    "sollist_1 = [i for i in sollist if abs(i) > 10e-3 and abs(i) < 1]\n",
    "#sollist_2 = [i for i in sollist_1 if abs(i) in sollist_1.remove(i)]\n",
    "# 1보단 작으면서 오차 범위를 만족하는 중복된 범위의 요소들을 제거.\n",
    "\n",
    "b = list(set(sollist_1))\n",
    "\n",
    "if N % 2 != 0:\n",
    "    a.append(0)\n",
    "\n",
    "for x in a:\n",
    "    w = (2 * (1 - x**2)) / (N**2 * legendre(N-1)**2)\n",
    "    wlist.append(w)\n",
    "    \n",
    "    \n",
    "print(len(b), len(wlist))\n",
    "\n",
    "\n"
   ]
  },
  {
   "cell_type": "code",
   "execution_count": 361,
   "id": "4a7c615f",
   "metadata": {},
   "outputs": [
    {
     "ename": "NameError",
     "evalue": "name 'Newton_while' is not defined",
     "output_type": "error",
     "traceback": [
      "\u001b[0;31m---------------------------------------------------------------------------\u001b[0m",
      "\u001b[0;31mNameError\u001b[0m                                 Traceback (most recent call last)",
      "\u001b[0;32m/var/folders/kk/2pj93ygs67nbx9_42r_c6_3c0000gn/T/ipykernel_22363/1642999974.py\u001b[0m in \u001b[0;36m<module>\u001b[0;34m\u001b[0m\n\u001b[1;32m     39\u001b[0m \u001b[0;34m\u001b[0m\u001b[0m\n\u001b[1;32m     40\u001b[0m \u001b[0;32mfor\u001b[0m \u001b[0;34m(\u001b[0m\u001b[0ml\u001b[0m\u001b[0;34m,\u001b[0m \u001b[0mr\u001b[0m\u001b[0;34m)\u001b[0m \u001b[0;32min\u001b[0m \u001b[0mzip\u001b[0m\u001b[0;34m(\u001b[0m\u001b[0mpartition\u001b[0m\u001b[0;34m[\u001b[0m\u001b[0;34m:\u001b[0m\u001b[0;34m-\u001b[0m\u001b[0;36m1\u001b[0m\u001b[0;34m]\u001b[0m\u001b[0;34m,\u001b[0m \u001b[0mpartition\u001b[0m\u001b[0;34m[\u001b[0m\u001b[0;36m1\u001b[0m\u001b[0;34m:\u001b[0m\u001b[0;34m]\u001b[0m\u001b[0;34m)\u001b[0m\u001b[0;34m:\u001b[0m\u001b[0;34m\u001b[0m\u001b[0;34m\u001b[0m\u001b[0m\n\u001b[0;32m---> 41\u001b[0;31m         sol = Newton_while(legendre(3), (l, r),\n\u001b[0m\u001b[1;32m     42\u001b[0m                            lambda i, xy, dx: abs(dx) > 1e-10)\n\u001b[1;32m     43\u001b[0m         \u001b[0msollist\u001b[0m\u001b[0;34m.\u001b[0m\u001b[0mappend\u001b[0m\u001b[0;34m(\u001b[0m\u001b[0mround\u001b[0m\u001b[0;34m(\u001b[0m\u001b[0msol\u001b[0m\u001b[0;34m,\u001b[0m\u001b[0;36m8\u001b[0m\u001b[0;34m)\u001b[0m\u001b[0;34m)\u001b[0m\u001b[0;34m\u001b[0m\u001b[0;34m\u001b[0m\u001b[0m\n",
      "\u001b[0;31mNameError\u001b[0m: name 'Newton_while' is not defined"
     ]
    }
   ],
   "source": [
    "def newton_while(f_and_df, xinit, predicate):\n",
    "    \"\"\"Return the root calculated using Newton's method.\n",
    "    \n",
    "    :param f_and_df:\n",
    "        A function that returns a pair of numbers containing f(x) and f'(x)\n",
    "    :param xinit:\n",
    "        A trial guess\n",
    "    :param predicate:\n",
    "        A predicate function which takes three arguments\n",
    "            - i : the iteration count\n",
    "            - xy : a pair of the midpoint and the function value in the current iteration\n",
    "            - dx : the change of the x value\n",
    "        and returns boolean:\n",
    "            - If True, the search continues.\n",
    "            - If False, the search terminates.\n",
    "    \"\"\"\n",
    "    \n",
    "    x = xinit\n",
    "    i = 0\n",
    "\n",
    "    def netwon_root():\n",
    "        nonlocal i, x\n",
    "        f, df = f_and_df(x)\n",
    "        dx = -f / df\n",
    "        x_old = x\n",
    "        x += dx\n",
    "        i += 1\n",
    "        return i, (x_old, f), dx\n",
    "    \n",
    "    while predicate(*netwon_root()):\n",
    "        pass\n",
    "        \n",
    "    return x\n",
    "\n",
    "partition = np.linspace(-1.5, 1.5, 10)\n",
    "sollist = []\n",
    "sollist_1 = []\n",
    "a = []\n",
    "\n",
    "for (l, r) in zip(partition[:-1], partition[1:]):\n",
    "        sol = Newton_while(legendre(3), (l, r),\n",
    "                           lambda i, xy, dx: abs(dx) > 1e-10)\n",
    "        sollist.append(round(sol,8))\n",
    "\n",
    "\n",
    "    \n",
    "sollist_1 = [i for i in sollist if abs(i) > 1e-30 and abs(i) < 1]\n",
    "# 1보단 작으면서 오차 범위를 만족하는 중복된 범위의 요소들을 제거.\n",
    "\n",
    "a = list(set(sollist_1))\n",
    "if 0 in sollist:\n",
    "    a.append(0)\n",
    "a"
   ]
  },
  {
   "cell_type": "code",
   "execution_count": 25,
   "id": "bb4e1b09",
   "metadata": {},
   "outputs": [
    {
     "name": "stderr",
     "output_type": "stream",
     "text": [
      "/var/folders/kk/2pj93ygs67nbx9_42r_c6_3c0000gn/T/ipykernel_22363/2787976081.py:24: RuntimeWarning: divide by zero encountered in double_scalars\n",
      "  x2 = x1 - f1 * (x1 - x0) / (f1 - f0)\n",
      "/var/folders/kk/2pj93ygs67nbx9_42r_c6_3c0000gn/T/ipykernel_22363/2787976081.py:24: RuntimeWarning: invalid value encountered in double_scalars\n",
      "  x2 = x1 - f1 * (x1 - x0) / (f1 - f0)\n"
     ]
    }
   ],
   "source": [
    "for x in range(20):\n",
    "    for (l, r) in zip(partition[:-1], partition[1:]):\n",
    "        sol = secant_while(legendre(x), (l, r),\n",
    "                           lambda i, xy, dx: abs(dx) > 1e-10)\n",
    "        sollist.append(round(sol,8))\n",
    "\n",
    "\n",
    "    \n",
    "    sollist_1 = [i for i in sollist if abs(i) > 1e-30 and abs(i) < 1]\n",
    "# 1보단 작으면서 오차 범위를 만족하는 중복된 범위의 요소들을 제거.\n",
    "\n",
    "    a = list(set(sollist_1))\n",
    "    if 0 in sollist:\n",
    "        a.append(0)\n",
    "    "
   ]
  }
 ],
 "metadata": {
  "kernelspec": {
   "display_name": "Python 3 (ipykernel)",
   "language": "python",
   "name": "python3"
  },
  "language_info": {
   "codemirror_mode": {
    "name": "ipython",
    "version": 3
   },
   "file_extension": ".py",
   "mimetype": "text/x-python",
   "name": "python",
   "nbconvert_exporter": "python",
   "pygments_lexer": "ipython3",
   "version": "3.9.13"
  }
 },
 "nbformat": 4,
 "nbformat_minor": 5
}
